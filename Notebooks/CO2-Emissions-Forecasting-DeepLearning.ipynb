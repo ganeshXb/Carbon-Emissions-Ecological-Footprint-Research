{
 "cells": [
  {
   "cell_type": "code",
   "execution_count": 1,
   "id": "50ab3db2",
   "metadata": {},
   "outputs": [],
   "source": [
    "#rebuild tensorflow with comiler flags\n",
    "import os\n",
    "os.environ['TF_CPP_MIN_LOG_LEVEL'] = '2'\n",
    "\n",
    "# Import necessary libraries and packages\n",
    "import numpy as np\n",
    "import pandas as pd\n",
    "import matplotlib.pyplot as plt\n",
    "import seaborn as sns\n",
    "\n",
    "import statsmodels.api as sm\n",
    "from scipy import stats\n",
    "from statsmodels.graphics.tsaplots import plot_acf, plot_pacf\n",
    "from statsmodels.tsa.stattools import acf, pacf\n",
    "\n",
    "import tensorflow as tf\n",
    "from tensorflow import keras\n",
    "from keras.utils.vis_utils import plot_model\n",
    "from keras.models import Sequential\n",
    "from keras.layers import Dense\n",
    "from keras.layers import LSTM, GRU\n",
    "from keras.layers import Dropout\n",
    "from tensorflow.python.keras.metrics import Metric\n",
    "\n",
    "from sklearn.preprocessing import MinMaxScaler\n",
    "from sklearn.metrics import mean_absolute_error\n",
    "from sklearn.metrics import mean_squared_error\n"
   ]
  },
  {
   "cell_type": "code",
   "execution_count": 2,
   "id": "3196455c",
   "metadata": {},
   "outputs": [
    {
     "name": "stdout",
     "output_type": "stream",
     "text": [
      "(25204, 58)\n"
     ]
    }
   ],
   "source": [
    "#Import CO2 emissions data - OWID\n",
    "data = pd.read_csv('../Data/carbon-emissions/owid-co2-data.csv')\n",
    "\n",
    "#Observe data shape and head\n",
    "print(data.shape)"
   ]
  },
  {
   "cell_type": "code",
   "execution_count": 3,
   "id": "fac13c87",
   "metadata": {},
   "outputs": [
    {
     "data": {
      "text/html": [
       "<div>\n",
       "<style scoped>\n",
       "    .dataframe tbody tr th:only-of-type {\n",
       "        vertical-align: middle;\n",
       "    }\n",
       "\n",
       "    .dataframe tbody tr th {\n",
       "        vertical-align: top;\n",
       "    }\n",
       "\n",
       "    .dataframe thead th {\n",
       "        text-align: right;\n",
       "    }\n",
       "</style>\n",
       "<table border=\"1\" class=\"dataframe\">\n",
       "  <thead>\n",
       "    <tr style=\"text-align: right;\">\n",
       "      <th></th>\n",
       "      <th>iso_code</th>\n",
       "      <th>country</th>\n",
       "      <th>year</th>\n",
       "      <th>co2</th>\n",
       "      <th>consumption_co2</th>\n",
       "      <th>co2_growth_prct</th>\n",
       "      <th>co2_growth_abs</th>\n",
       "      <th>trade_co2</th>\n",
       "      <th>co2_per_capita</th>\n",
       "      <th>consumption_co2_per_capita</th>\n",
       "      <th>...</th>\n",
       "      <th>ghg_per_capita</th>\n",
       "      <th>methane</th>\n",
       "      <th>methane_per_capita</th>\n",
       "      <th>nitrous_oxide</th>\n",
       "      <th>nitrous_oxide_per_capita</th>\n",
       "      <th>population</th>\n",
       "      <th>gdp</th>\n",
       "      <th>primary_energy_consumption</th>\n",
       "      <th>energy_per_capita</th>\n",
       "      <th>energy_per_gdp</th>\n",
       "    </tr>\n",
       "  </thead>\n",
       "  <tbody>\n",
       "    <tr>\n",
       "      <th>0</th>\n",
       "      <td>AFG</td>\n",
       "      <td>Afghanistan</td>\n",
       "      <td>1949</td>\n",
       "      <td>0.015</td>\n",
       "      <td>NaN</td>\n",
       "      <td>NaN</td>\n",
       "      <td>NaN</td>\n",
       "      <td>NaN</td>\n",
       "      <td>0.002</td>\n",
       "      <td>NaN</td>\n",
       "      <td>...</td>\n",
       "      <td>NaN</td>\n",
       "      <td>NaN</td>\n",
       "      <td>NaN</td>\n",
       "      <td>NaN</td>\n",
       "      <td>NaN</td>\n",
       "      <td>7624058.0</td>\n",
       "      <td>NaN</td>\n",
       "      <td>NaN</td>\n",
       "      <td>NaN</td>\n",
       "      <td>NaN</td>\n",
       "    </tr>\n",
       "    <tr>\n",
       "      <th>1</th>\n",
       "      <td>AFG</td>\n",
       "      <td>Afghanistan</td>\n",
       "      <td>1950</td>\n",
       "      <td>0.084</td>\n",
       "      <td>NaN</td>\n",
       "      <td>475.0</td>\n",
       "      <td>0.070</td>\n",
       "      <td>NaN</td>\n",
       "      <td>0.011</td>\n",
       "      <td>NaN</td>\n",
       "      <td>...</td>\n",
       "      <td>NaN</td>\n",
       "      <td>NaN</td>\n",
       "      <td>NaN</td>\n",
       "      <td>NaN</td>\n",
       "      <td>NaN</td>\n",
       "      <td>7752117.0</td>\n",
       "      <td>9.421400e+09</td>\n",
       "      <td>NaN</td>\n",
       "      <td>NaN</td>\n",
       "      <td>NaN</td>\n",
       "    </tr>\n",
       "    <tr>\n",
       "      <th>2</th>\n",
       "      <td>AFG</td>\n",
       "      <td>Afghanistan</td>\n",
       "      <td>1951</td>\n",
       "      <td>0.092</td>\n",
       "      <td>NaN</td>\n",
       "      <td>8.7</td>\n",
       "      <td>0.007</td>\n",
       "      <td>NaN</td>\n",
       "      <td>0.012</td>\n",
       "      <td>NaN</td>\n",
       "      <td>...</td>\n",
       "      <td>NaN</td>\n",
       "      <td>NaN</td>\n",
       "      <td>NaN</td>\n",
       "      <td>NaN</td>\n",
       "      <td>NaN</td>\n",
       "      <td>7840151.0</td>\n",
       "      <td>9.692280e+09</td>\n",
       "      <td>NaN</td>\n",
       "      <td>NaN</td>\n",
       "      <td>NaN</td>\n",
       "    </tr>\n",
       "    <tr>\n",
       "      <th>3</th>\n",
       "      <td>AFG</td>\n",
       "      <td>Afghanistan</td>\n",
       "      <td>1952</td>\n",
       "      <td>0.092</td>\n",
       "      <td>NaN</td>\n",
       "      <td>0.0</td>\n",
       "      <td>0.000</td>\n",
       "      <td>NaN</td>\n",
       "      <td>0.012</td>\n",
       "      <td>NaN</td>\n",
       "      <td>...</td>\n",
       "      <td>NaN</td>\n",
       "      <td>NaN</td>\n",
       "      <td>NaN</td>\n",
       "      <td>NaN</td>\n",
       "      <td>NaN</td>\n",
       "      <td>7935996.0</td>\n",
       "      <td>1.001732e+10</td>\n",
       "      <td>NaN</td>\n",
       "      <td>NaN</td>\n",
       "      <td>NaN</td>\n",
       "    </tr>\n",
       "    <tr>\n",
       "      <th>4</th>\n",
       "      <td>AFG</td>\n",
       "      <td>Afghanistan</td>\n",
       "      <td>1953</td>\n",
       "      <td>0.106</td>\n",
       "      <td>NaN</td>\n",
       "      <td>16.0</td>\n",
       "      <td>0.015</td>\n",
       "      <td>NaN</td>\n",
       "      <td>0.013</td>\n",
       "      <td>NaN</td>\n",
       "      <td>...</td>\n",
       "      <td>NaN</td>\n",
       "      <td>NaN</td>\n",
       "      <td>NaN</td>\n",
       "      <td>NaN</td>\n",
       "      <td>NaN</td>\n",
       "      <td>8039684.0</td>\n",
       "      <td>1.063052e+10</td>\n",
       "      <td>NaN</td>\n",
       "      <td>NaN</td>\n",
       "      <td>NaN</td>\n",
       "    </tr>\n",
       "  </tbody>\n",
       "</table>\n",
       "<p>5 rows × 58 columns</p>\n",
       "</div>"
      ],
      "text/plain": [
       "  iso_code      country  year    co2  consumption_co2  co2_growth_prct  \\\n",
       "0      AFG  Afghanistan  1949  0.015              NaN              NaN   \n",
       "1      AFG  Afghanistan  1950  0.084              NaN            475.0   \n",
       "2      AFG  Afghanistan  1951  0.092              NaN              8.7   \n",
       "3      AFG  Afghanistan  1952  0.092              NaN              0.0   \n",
       "4      AFG  Afghanistan  1953  0.106              NaN             16.0   \n",
       "\n",
       "   co2_growth_abs  trade_co2  co2_per_capita  consumption_co2_per_capita  ...  \\\n",
       "0             NaN        NaN           0.002                         NaN  ...   \n",
       "1           0.070        NaN           0.011                         NaN  ...   \n",
       "2           0.007        NaN           0.012                         NaN  ...   \n",
       "3           0.000        NaN           0.012                         NaN  ...   \n",
       "4           0.015        NaN           0.013                         NaN  ...   \n",
       "\n",
       "   ghg_per_capita  methane  methane_per_capita  nitrous_oxide  \\\n",
       "0             NaN      NaN                 NaN            NaN   \n",
       "1             NaN      NaN                 NaN            NaN   \n",
       "2             NaN      NaN                 NaN            NaN   \n",
       "3             NaN      NaN                 NaN            NaN   \n",
       "4             NaN      NaN                 NaN            NaN   \n",
       "\n",
       "   nitrous_oxide_per_capita  population           gdp  \\\n",
       "0                       NaN   7624058.0           NaN   \n",
       "1                       NaN   7752117.0  9.421400e+09   \n",
       "2                       NaN   7840151.0  9.692280e+09   \n",
       "3                       NaN   7935996.0  1.001732e+10   \n",
       "4                       NaN   8039684.0  1.063052e+10   \n",
       "\n",
       "   primary_energy_consumption  energy_per_capita  energy_per_gdp  \n",
       "0                         NaN                NaN             NaN  \n",
       "1                         NaN                NaN             NaN  \n",
       "2                         NaN                NaN             NaN  \n",
       "3                         NaN                NaN             NaN  \n",
       "4                         NaN                NaN             NaN  \n",
       "\n",
       "[5 rows x 58 columns]"
      ]
     },
     "execution_count": 3,
     "metadata": {},
     "output_type": "execute_result"
    }
   ],
   "source": [
    "data.head()"
   ]
  },
  {
   "cell_type": "code",
   "execution_count": 4,
   "id": "7fafbef0",
   "metadata": {},
   "outputs": [
    {
     "data": {
      "text/html": [
       "<div>\n",
       "<style scoped>\n",
       "    .dataframe tbody tr th:only-of-type {\n",
       "        vertical-align: middle;\n",
       "    }\n",
       "\n",
       "    .dataframe tbody tr th {\n",
       "        vertical-align: top;\n",
       "    }\n",
       "\n",
       "    .dataframe thead th {\n",
       "        text-align: right;\n",
       "    }\n",
       "</style>\n",
       "<table border=\"1\" class=\"dataframe\">\n",
       "  <thead>\n",
       "    <tr style=\"text-align: right;\">\n",
       "      <th></th>\n",
       "      <th>iso_code</th>\n",
       "      <th>country</th>\n",
       "      <th>year</th>\n",
       "      <th>co2</th>\n",
       "      <th>consumption_co2</th>\n",
       "      <th>co2_growth_prct</th>\n",
       "      <th>co2_growth_abs</th>\n",
       "      <th>trade_co2</th>\n",
       "      <th>co2_per_capita</th>\n",
       "      <th>consumption_co2_per_capita</th>\n",
       "      <th>...</th>\n",
       "      <th>ghg_per_capita</th>\n",
       "      <th>methane</th>\n",
       "      <th>methane_per_capita</th>\n",
       "      <th>nitrous_oxide</th>\n",
       "      <th>nitrous_oxide_per_capita</th>\n",
       "      <th>population</th>\n",
       "      <th>gdp</th>\n",
       "      <th>primary_energy_consumption</th>\n",
       "      <th>energy_per_capita</th>\n",
       "      <th>energy_per_gdp</th>\n",
       "    </tr>\n",
       "  </thead>\n",
       "  <tbody>\n",
       "    <tr>\n",
       "      <th>25199</th>\n",
       "      <td>ZWE</td>\n",
       "      <td>Zimbabwe</td>\n",
       "      <td>2016</td>\n",
       "      <td>10.738</td>\n",
       "      <td>12.153</td>\n",
       "      <td>-12.17</td>\n",
       "      <td>-1.488</td>\n",
       "      <td>1.415</td>\n",
       "      <td>0.765</td>\n",
       "      <td>0.866</td>\n",
       "      <td>...</td>\n",
       "      <td>4.703</td>\n",
       "      <td>11.92</td>\n",
       "      <td>0.85</td>\n",
       "      <td>6.55</td>\n",
       "      <td>0.467</td>\n",
       "      <td>14030338.0</td>\n",
       "      <td>2.096179e+10</td>\n",
       "      <td>47.5</td>\n",
       "      <td>3385.574</td>\n",
       "      <td>1.889</td>\n",
       "    </tr>\n",
       "    <tr>\n",
       "      <th>25200</th>\n",
       "      <td>ZWE</td>\n",
       "      <td>Zimbabwe</td>\n",
       "      <td>2017</td>\n",
       "      <td>9.582</td>\n",
       "      <td>11.248</td>\n",
       "      <td>-10.77</td>\n",
       "      <td>-1.156</td>\n",
       "      <td>1.666</td>\n",
       "      <td>0.673</td>\n",
       "      <td>0.790</td>\n",
       "      <td>...</td>\n",
       "      <td>NaN</td>\n",
       "      <td>NaN</td>\n",
       "      <td>NaN</td>\n",
       "      <td>NaN</td>\n",
       "      <td>NaN</td>\n",
       "      <td>14236599.0</td>\n",
       "      <td>2.194784e+10</td>\n",
       "      <td>NaN</td>\n",
       "      <td>NaN</td>\n",
       "      <td>NaN</td>\n",
       "    </tr>\n",
       "    <tr>\n",
       "      <th>25201</th>\n",
       "      <td>ZWE</td>\n",
       "      <td>Zimbabwe</td>\n",
       "      <td>2018</td>\n",
       "      <td>11.854</td>\n",
       "      <td>13.163</td>\n",
       "      <td>23.72</td>\n",
       "      <td>2.273</td>\n",
       "      <td>1.308</td>\n",
       "      <td>0.821</td>\n",
       "      <td>0.912</td>\n",
       "      <td>...</td>\n",
       "      <td>NaN</td>\n",
       "      <td>NaN</td>\n",
       "      <td>NaN</td>\n",
       "      <td>NaN</td>\n",
       "      <td>NaN</td>\n",
       "      <td>14438812.0</td>\n",
       "      <td>2.271535e+10</td>\n",
       "      <td>NaN</td>\n",
       "      <td>NaN</td>\n",
       "      <td>NaN</td>\n",
       "    </tr>\n",
       "    <tr>\n",
       "      <th>25202</th>\n",
       "      <td>ZWE</td>\n",
       "      <td>Zimbabwe</td>\n",
       "      <td>2019</td>\n",
       "      <td>10.949</td>\n",
       "      <td>12.422</td>\n",
       "      <td>-7.64</td>\n",
       "      <td>-0.905</td>\n",
       "      <td>1.473</td>\n",
       "      <td>0.748</td>\n",
       "      <td>0.848</td>\n",
       "      <td>...</td>\n",
       "      <td>NaN</td>\n",
       "      <td>NaN</td>\n",
       "      <td>NaN</td>\n",
       "      <td>NaN</td>\n",
       "      <td>NaN</td>\n",
       "      <td>14645473.0</td>\n",
       "      <td>NaN</td>\n",
       "      <td>NaN</td>\n",
       "      <td>NaN</td>\n",
       "      <td>NaN</td>\n",
       "    </tr>\n",
       "    <tr>\n",
       "      <th>25203</th>\n",
       "      <td>ZWE</td>\n",
       "      <td>Zimbabwe</td>\n",
       "      <td>2020</td>\n",
       "      <td>10.531</td>\n",
       "      <td>NaN</td>\n",
       "      <td>-3.82</td>\n",
       "      <td>-0.418</td>\n",
       "      <td>NaN</td>\n",
       "      <td>0.709</td>\n",
       "      <td>NaN</td>\n",
       "      <td>...</td>\n",
       "      <td>NaN</td>\n",
       "      <td>NaN</td>\n",
       "      <td>NaN</td>\n",
       "      <td>NaN</td>\n",
       "      <td>NaN</td>\n",
       "      <td>14862927.0</td>\n",
       "      <td>NaN</td>\n",
       "      <td>NaN</td>\n",
       "      <td>NaN</td>\n",
       "      <td>NaN</td>\n",
       "    </tr>\n",
       "  </tbody>\n",
       "</table>\n",
       "<p>5 rows × 58 columns</p>\n",
       "</div>"
      ],
      "text/plain": [
       "      iso_code   country  year     co2  consumption_co2  co2_growth_prct  \\\n",
       "25199      ZWE  Zimbabwe  2016  10.738           12.153           -12.17   \n",
       "25200      ZWE  Zimbabwe  2017   9.582           11.248           -10.77   \n",
       "25201      ZWE  Zimbabwe  2018  11.854           13.163            23.72   \n",
       "25202      ZWE  Zimbabwe  2019  10.949           12.422            -7.64   \n",
       "25203      ZWE  Zimbabwe  2020  10.531              NaN            -3.82   \n",
       "\n",
       "       co2_growth_abs  trade_co2  co2_per_capita  consumption_co2_per_capita  \\\n",
       "25199          -1.488      1.415           0.765                       0.866   \n",
       "25200          -1.156      1.666           0.673                       0.790   \n",
       "25201           2.273      1.308           0.821                       0.912   \n",
       "25202          -0.905      1.473           0.748                       0.848   \n",
       "25203          -0.418        NaN           0.709                         NaN   \n",
       "\n",
       "       ...  ghg_per_capita  methane  methane_per_capita  nitrous_oxide  \\\n",
       "25199  ...           4.703    11.92                0.85           6.55   \n",
       "25200  ...             NaN      NaN                 NaN            NaN   \n",
       "25201  ...             NaN      NaN                 NaN            NaN   \n",
       "25202  ...             NaN      NaN                 NaN            NaN   \n",
       "25203  ...             NaN      NaN                 NaN            NaN   \n",
       "\n",
       "       nitrous_oxide_per_capita  population           gdp  \\\n",
       "25199                     0.467  14030338.0  2.096179e+10   \n",
       "25200                       NaN  14236599.0  2.194784e+10   \n",
       "25201                       NaN  14438812.0  2.271535e+10   \n",
       "25202                       NaN  14645473.0           NaN   \n",
       "25203                       NaN  14862927.0           NaN   \n",
       "\n",
       "       primary_energy_consumption  energy_per_capita  energy_per_gdp  \n",
       "25199                        47.5           3385.574           1.889  \n",
       "25200                         NaN                NaN             NaN  \n",
       "25201                         NaN                NaN             NaN  \n",
       "25202                         NaN                NaN             NaN  \n",
       "25203                         NaN                NaN             NaN  \n",
       "\n",
       "[5 rows x 58 columns]"
      ]
     },
     "execution_count": 4,
     "metadata": {},
     "output_type": "execute_result"
    }
   ],
   "source": [
    "data.tail()"
   ]
  },
  {
   "cell_type": "code",
   "execution_count": 5,
   "id": "815f7f03",
   "metadata": {},
   "outputs": [
    {
     "data": {
      "text/html": [
       "<div>\n",
       "<style scoped>\n",
       "    .dataframe tbody tr th:only-of-type {\n",
       "        vertical-align: middle;\n",
       "    }\n",
       "\n",
       "    .dataframe tbody tr th {\n",
       "        vertical-align: top;\n",
       "    }\n",
       "\n",
       "    .dataframe thead th {\n",
       "        text-align: right;\n",
       "    }\n",
       "</style>\n",
       "<table border=\"1\" class=\"dataframe\">\n",
       "  <thead>\n",
       "    <tr style=\"text-align: right;\">\n",
       "      <th></th>\n",
       "      <th>year</th>\n",
       "      <th>co2</th>\n",
       "      <th>consumption_co2</th>\n",
       "      <th>co2_growth_prct</th>\n",
       "      <th>co2_growth_abs</th>\n",
       "      <th>trade_co2</th>\n",
       "      <th>co2_per_capita</th>\n",
       "      <th>consumption_co2_per_capita</th>\n",
       "      <th>share_global_co2</th>\n",
       "      <th>cumulative_co2</th>\n",
       "      <th>...</th>\n",
       "      <th>ghg_per_capita</th>\n",
       "      <th>methane</th>\n",
       "      <th>methane_per_capita</th>\n",
       "      <th>nitrous_oxide</th>\n",
       "      <th>nitrous_oxide_per_capita</th>\n",
       "      <th>population</th>\n",
       "      <th>gdp</th>\n",
       "      <th>primary_energy_consumption</th>\n",
       "      <th>energy_per_capita</th>\n",
       "      <th>energy_per_gdp</th>\n",
       "    </tr>\n",
       "  </thead>\n",
       "  <tbody>\n",
       "    <tr>\n",
       "      <th>count</th>\n",
       "      <td>25204.000000</td>\n",
       "      <td>23949.000000</td>\n",
       "      <td>3976.000000</td>\n",
       "      <td>24931.000000</td>\n",
       "      <td>23585.000000</td>\n",
       "      <td>3976.000000</td>\n",
       "      <td>23307.000000</td>\n",
       "      <td>3976.000000</td>\n",
       "      <td>23949.000000</td>\n",
       "      <td>2.394900e+04</td>\n",
       "      <td>...</td>\n",
       "      <td>5155.000000</td>\n",
       "      <td>5211.000000</td>\n",
       "      <td>5157.000000</td>\n",
       "      <td>5211.000000</td>\n",
       "      <td>5157.000000</td>\n",
       "      <td>2.287800e+04</td>\n",
       "      <td>1.353800e+04</td>\n",
       "      <td>8690.000000</td>\n",
       "      <td>8681.000000</td>\n",
       "      <td>6803.000000</td>\n",
       "    </tr>\n",
       "    <tr>\n",
       "      <th>mean</th>\n",
       "      <td>1953.225797</td>\n",
       "      <td>267.861942</td>\n",
       "      <td>916.755170</td>\n",
       "      <td>21.098600</td>\n",
       "      <td>5.146889</td>\n",
       "      <td>-2.415624</td>\n",
       "      <td>4.170811</td>\n",
       "      <td>6.567721</td>\n",
       "      <td>4.983979</td>\n",
       "      <td>1.035710e+04</td>\n",
       "      <td>...</td>\n",
       "      <td>8.099506</td>\n",
       "      <td>82.253370</td>\n",
       "      <td>2.046923</td>\n",
       "      <td>29.308135</td>\n",
       "      <td>0.606690</td>\n",
       "      <td>7.072322e+07</td>\n",
       "      <td>2.877088e+11</td>\n",
       "      <td>1569.083895</td>\n",
       "      <td>25568.487454</td>\n",
       "      <td>1.850291</td>\n",
       "    </tr>\n",
       "    <tr>\n",
       "      <th>std</th>\n",
       "      <td>53.791369</td>\n",
       "      <td>1521.680894</td>\n",
       "      <td>3373.348275</td>\n",
       "      <td>702.565991</td>\n",
       "      <td>55.259760</td>\n",
       "      <td>182.444942</td>\n",
       "      <td>14.912201</td>\n",
       "      <td>6.927957</td>\n",
       "      <td>17.704994</td>\n",
       "      <td>6.120603e+04</td>\n",
       "      <td>...</td>\n",
       "      <td>9.387477</td>\n",
       "      <td>566.702756</td>\n",
       "      <td>3.534126</td>\n",
       "      <td>199.291118</td>\n",
       "      <td>0.844671</td>\n",
       "      <td>3.795858e+08</td>\n",
       "      <td>2.180094e+12</td>\n",
       "      <td>9066.102799</td>\n",
       "      <td>33319.956208</td>\n",
       "      <td>1.575161</td>\n",
       "    </tr>\n",
       "    <tr>\n",
       "      <th>min</th>\n",
       "      <td>1750.000000</td>\n",
       "      <td>0.000000</td>\n",
       "      <td>0.197000</td>\n",
       "      <td>-99.640000</td>\n",
       "      <td>-1895.244000</td>\n",
       "      <td>-1657.998000</td>\n",
       "      <td>0.000000</td>\n",
       "      <td>0.055000</td>\n",
       "      <td>0.000000</td>\n",
       "      <td>0.000000e+00</td>\n",
       "      <td>...</td>\n",
       "      <td>-50.487000</td>\n",
       "      <td>0.000000</td>\n",
       "      <td>0.000000</td>\n",
       "      <td>0.000000</td>\n",
       "      <td>0.000000</td>\n",
       "      <td>1.490000e+03</td>\n",
       "      <td>5.543200e+07</td>\n",
       "      <td>0.000000</td>\n",
       "      <td>0.000000</td>\n",
       "      <td>0.050000</td>\n",
       "    </tr>\n",
       "    <tr>\n",
       "      <th>25%</th>\n",
       "      <td>1925.000000</td>\n",
       "      <td>0.528000</td>\n",
       "      <td>10.319750</td>\n",
       "      <td>-0.450000</td>\n",
       "      <td>-0.011000</td>\n",
       "      <td>-0.892500</td>\n",
       "      <td>0.253000</td>\n",
       "      <td>1.240250</td>\n",
       "      <td>0.010000</td>\n",
       "      <td>6.992000e+00</td>\n",
       "      <td>...</td>\n",
       "      <td>2.514000</td>\n",
       "      <td>2.150000</td>\n",
       "      <td>0.715000</td>\n",
       "      <td>0.535000</td>\n",
       "      <td>0.228000</td>\n",
       "      <td>1.291899e+06</td>\n",
       "      <td>9.828867e+09</td>\n",
       "      <td>6.997000</td>\n",
       "      <td>3270.369000</td>\n",
       "      <td>0.856000</td>\n",
       "    </tr>\n",
       "    <tr>\n",
       "      <th>50%</th>\n",
       "      <td>1967.000000</td>\n",
       "      <td>4.857000</td>\n",
       "      <td>57.091000</td>\n",
       "      <td>3.350000</td>\n",
       "      <td>0.059000</td>\n",
       "      <td>1.953000</td>\n",
       "      <td>1.250000</td>\n",
       "      <td>4.359500</td>\n",
       "      <td>0.060000</td>\n",
       "      <td>9.131800e+01</td>\n",
       "      <td>...</td>\n",
       "      <td>5.474000</td>\n",
       "      <td>9.030000</td>\n",
       "      <td>1.111000</td>\n",
       "      <td>3.590000</td>\n",
       "      <td>0.384000</td>\n",
       "      <td>4.880320e+06</td>\n",
       "      <td>3.037019e+10</td>\n",
       "      <td>61.404500</td>\n",
       "      <td>13701.318000</td>\n",
       "      <td>1.407000</td>\n",
       "    </tr>\n",
       "    <tr>\n",
       "      <th>75%</th>\n",
       "      <td>1995.000000</td>\n",
       "      <td>42.818000</td>\n",
       "      <td>276.378750</td>\n",
       "      <td>10.460000</td>\n",
       "      <td>1.103000</td>\n",
       "      <td>9.700500</td>\n",
       "      <td>4.657500</td>\n",
       "      <td>9.848500</td>\n",
       "      <td>0.600000</td>\n",
       "      <td>1.147514e+03</td>\n",
       "      <td>...</td>\n",
       "      <td>10.299000</td>\n",
       "      <td>31.055000</td>\n",
       "      <td>1.690000</td>\n",
       "      <td>10.570000</td>\n",
       "      <td>0.607000</td>\n",
       "      <td>1.759622e+07</td>\n",
       "      <td>1.268944e+11</td>\n",
       "      <td>352.884500</td>\n",
       "      <td>35493.775000</td>\n",
       "      <td>2.351000</td>\n",
       "    </tr>\n",
       "    <tr>\n",
       "      <th>max</th>\n",
       "      <td>2020.000000</td>\n",
       "      <td>36702.503000</td>\n",
       "      <td>36702.503000</td>\n",
       "      <td>102318.510000</td>\n",
       "      <td>1736.258000</td>\n",
       "      <td>1028.487000</td>\n",
       "      <td>748.639000</td>\n",
       "      <td>57.792000</td>\n",
       "      <td>100.000000</td>\n",
       "      <td>1.696524e+06</td>\n",
       "      <td>...</td>\n",
       "      <td>86.991000</td>\n",
       "      <td>8660.010000</td>\n",
       "      <td>39.812000</td>\n",
       "      <td>3054.000000</td>\n",
       "      <td>8.239000</td>\n",
       "      <td>7.794799e+09</td>\n",
       "      <td>1.136302e+14</td>\n",
       "      <td>162194.290000</td>\n",
       "      <td>317582.498000</td>\n",
       "      <td>13.493000</td>\n",
       "    </tr>\n",
       "  </tbody>\n",
       "</table>\n",
       "<p>8 rows × 56 columns</p>\n",
       "</div>"
      ],
      "text/plain": [
       "               year           co2  consumption_co2  co2_growth_prct  \\\n",
       "count  25204.000000  23949.000000      3976.000000     24931.000000   \n",
       "mean    1953.225797    267.861942       916.755170        21.098600   \n",
       "std       53.791369   1521.680894      3373.348275       702.565991   \n",
       "min     1750.000000      0.000000         0.197000       -99.640000   \n",
       "25%     1925.000000      0.528000        10.319750        -0.450000   \n",
       "50%     1967.000000      4.857000        57.091000         3.350000   \n",
       "75%     1995.000000     42.818000       276.378750        10.460000   \n",
       "max     2020.000000  36702.503000     36702.503000    102318.510000   \n",
       "\n",
       "       co2_growth_abs    trade_co2  co2_per_capita  \\\n",
       "count    23585.000000  3976.000000    23307.000000   \n",
       "mean         5.146889    -2.415624        4.170811   \n",
       "std         55.259760   182.444942       14.912201   \n",
       "min      -1895.244000 -1657.998000        0.000000   \n",
       "25%         -0.011000    -0.892500        0.253000   \n",
       "50%          0.059000     1.953000        1.250000   \n",
       "75%          1.103000     9.700500        4.657500   \n",
       "max       1736.258000  1028.487000      748.639000   \n",
       "\n",
       "       consumption_co2_per_capita  share_global_co2  cumulative_co2  ...  \\\n",
       "count                 3976.000000      23949.000000    2.394900e+04  ...   \n",
       "mean                     6.567721          4.983979    1.035710e+04  ...   \n",
       "std                      6.927957         17.704994    6.120603e+04  ...   \n",
       "min                      0.055000          0.000000    0.000000e+00  ...   \n",
       "25%                      1.240250          0.010000    6.992000e+00  ...   \n",
       "50%                      4.359500          0.060000    9.131800e+01  ...   \n",
       "75%                      9.848500          0.600000    1.147514e+03  ...   \n",
       "max                     57.792000        100.000000    1.696524e+06  ...   \n",
       "\n",
       "       ghg_per_capita      methane  methane_per_capita  nitrous_oxide  \\\n",
       "count     5155.000000  5211.000000         5157.000000    5211.000000   \n",
       "mean         8.099506    82.253370            2.046923      29.308135   \n",
       "std          9.387477   566.702756            3.534126     199.291118   \n",
       "min        -50.487000     0.000000            0.000000       0.000000   \n",
       "25%          2.514000     2.150000            0.715000       0.535000   \n",
       "50%          5.474000     9.030000            1.111000       3.590000   \n",
       "75%         10.299000    31.055000            1.690000      10.570000   \n",
       "max         86.991000  8660.010000           39.812000    3054.000000   \n",
       "\n",
       "       nitrous_oxide_per_capita    population           gdp  \\\n",
       "count               5157.000000  2.287800e+04  1.353800e+04   \n",
       "mean                   0.606690  7.072322e+07  2.877088e+11   \n",
       "std                    0.844671  3.795858e+08  2.180094e+12   \n",
       "min                    0.000000  1.490000e+03  5.543200e+07   \n",
       "25%                    0.228000  1.291899e+06  9.828867e+09   \n",
       "50%                    0.384000  4.880320e+06  3.037019e+10   \n",
       "75%                    0.607000  1.759622e+07  1.268944e+11   \n",
       "max                    8.239000  7.794799e+09  1.136302e+14   \n",
       "\n",
       "       primary_energy_consumption  energy_per_capita  energy_per_gdp  \n",
       "count                 8690.000000        8681.000000     6803.000000  \n",
       "mean                  1569.083895       25568.487454        1.850291  \n",
       "std                   9066.102799       33319.956208        1.575161  \n",
       "min                      0.000000           0.000000        0.050000  \n",
       "25%                      6.997000        3270.369000        0.856000  \n",
       "50%                     61.404500       13701.318000        1.407000  \n",
       "75%                    352.884500       35493.775000        2.351000  \n",
       "max                 162194.290000      317582.498000       13.493000  \n",
       "\n",
       "[8 rows x 56 columns]"
      ]
     },
     "execution_count": 5,
     "metadata": {},
     "output_type": "execute_result"
    }
   ],
   "source": [
    "data.describe()"
   ]
  },
  {
   "cell_type": "markdown",
   "id": "aa91992e",
   "metadata": {},
   "source": [
    "## Data Cleaning and Preprocessing  "
   ]
  },
  {
   "cell_type": "code",
   "execution_count": 6,
   "id": "20222a4e",
   "metadata": {},
   "outputs": [
    {
     "data": {
      "text/plain": [
       "iso_code                                3256\n",
       "country                                    0\n",
       "year                                       0\n",
       "co2                                     1255\n",
       "consumption_co2                        21228\n",
       "co2_growth_prct                          273\n",
       "co2_growth_abs                          1619\n",
       "trade_co2                              21228\n",
       "co2_per_capita                          1897\n",
       "consumption_co2_per_capita             21228\n",
       "share_global_co2                        1255\n",
       "cumulative_co2                          1255\n",
       "share_global_cumulative_co2             1255\n",
       "co2_per_gdp                             9815\n",
       "consumption_co2_per_gdp                21443\n",
       "co2_per_unit_energy                    16063\n",
       "coal_co2                                8016\n",
       "cement_co2                             12956\n",
       "flaring_co2                            20822\n",
       "gas_co2                                16359\n",
       "oil_co2                                 4665\n",
       "other_industry_co2                     23205\n",
       "cement_co2_per_capita                  12986\n",
       "coal_co2_per_capita                     8344\n",
       "flaring_co2_per_capita                 20823\n",
       "gas_co2_per_capita                     16369\n",
       "oil_co2_per_capita                      5023\n",
       "other_co2_per_capita                   23205\n",
       "trade_co2_share                        21228\n",
       "share_global_cement_co2                12956\n",
       "share_global_coal_co2                   8016\n",
       "share_global_flaring_co2               20822\n",
       "share_global_gas_co2                   16359\n",
       "share_global_oil_co2                    4665\n",
       "share_global_other_co2                 23205\n",
       "cumulative_cement_co2                  12956\n",
       "cumulative_coal_co2                     8016\n",
       "cumulative_flaring_co2                 20822\n",
       "cumulative_gas_co2                     16359\n",
       "cumulative_oil_co2                      4665\n",
       "cumulative_other_co2                   23205\n",
       "share_global_cumulative_cement_co2     12956\n",
       "share_global_cumulative_coal_co2        8016\n",
       "share_global_cumulative_flaring_co2    20822\n",
       "share_global_cumulative_gas_co2        16359\n",
       "share_global_cumulative_oil_co2         4665\n",
       "share_global_cumulative_other_co2      23205\n",
       "total_ghg                              19996\n",
       "ghg_per_capita                         20049\n",
       "methane                                19993\n",
       "methane_per_capita                     20047\n",
       "nitrous_oxide                          19993\n",
       "nitrous_oxide_per_capita               20047\n",
       "population                              2326\n",
       "gdp                                    11666\n",
       "primary_energy_consumption             16514\n",
       "energy_per_capita                      16523\n",
       "energy_per_gdp                         18401\n",
       "dtype: int64"
      ]
     },
     "execution_count": 6,
     "metadata": {},
     "output_type": "execute_result"
    }
   ],
   "source": [
    "#check for null values\n",
    "data.isnull().sum()"
   ]
  },
  {
   "cell_type": "code",
   "execution_count": 7,
   "id": "4d4a3fe8",
   "metadata": {},
   "outputs": [
    {
     "name": "stdout",
     "output_type": "stream",
     "text": [
      "<class 'pandas.core.frame.DataFrame'>\n",
      "RangeIndex: 25204 entries, 0 to 25203\n",
      "Data columns (total 58 columns):\n",
      " #   Column                               Non-Null Count  Dtype  \n",
      "---  ------                               --------------  -----  \n",
      " 0   iso_code                             21948 non-null  object \n",
      " 1   country                              25204 non-null  object \n",
      " 2   year                                 25204 non-null  int64  \n",
      " 3   co2                                  23949 non-null  float64\n",
      " 4   consumption_co2                      3976 non-null   float64\n",
      " 5   co2_growth_prct                      24931 non-null  float64\n",
      " 6   co2_growth_abs                       23585 non-null  float64\n",
      " 7   trade_co2                            3976 non-null   float64\n",
      " 8   co2_per_capita                       23307 non-null  float64\n",
      " 9   consumption_co2_per_capita           3976 non-null   float64\n",
      " 10  share_global_co2                     23949 non-null  float64\n",
      " 11  cumulative_co2                       23949 non-null  float64\n",
      " 12  share_global_cumulative_co2          23949 non-null  float64\n",
      " 13  co2_per_gdp                          15389 non-null  float64\n",
      " 14  consumption_co2_per_gdp              3761 non-null   float64\n",
      " 15  co2_per_unit_energy                  9141 non-null   float64\n",
      " 16  coal_co2                             17188 non-null  float64\n",
      " 17  cement_co2                           12248 non-null  float64\n",
      " 18  flaring_co2                          4382 non-null   float64\n",
      " 19  gas_co2                              8845 non-null   float64\n",
      " 20  oil_co2                              20539 non-null  float64\n",
      " 21  other_industry_co2                   1999 non-null   float64\n",
      " 22  cement_co2_per_capita                12218 non-null  float64\n",
      " 23  coal_co2_per_capita                  16860 non-null  float64\n",
      " 24  flaring_co2_per_capita               4381 non-null   float64\n",
      " 25  gas_co2_per_capita                   8835 non-null   float64\n",
      " 26  oil_co2_per_capita                   20181 non-null  float64\n",
      " 27  other_co2_per_capita                 1999 non-null   float64\n",
      " 28  trade_co2_share                      3976 non-null   float64\n",
      " 29  share_global_cement_co2              12248 non-null  float64\n",
      " 30  share_global_coal_co2                17188 non-null  float64\n",
      " 31  share_global_flaring_co2             4382 non-null   float64\n",
      " 32  share_global_gas_co2                 8845 non-null   float64\n",
      " 33  share_global_oil_co2                 20539 non-null  float64\n",
      " 34  share_global_other_co2               1999 non-null   float64\n",
      " 35  cumulative_cement_co2                12248 non-null  float64\n",
      " 36  cumulative_coal_co2                  17188 non-null  float64\n",
      " 37  cumulative_flaring_co2               4382 non-null   float64\n",
      " 38  cumulative_gas_co2                   8845 non-null   float64\n",
      " 39  cumulative_oil_co2                   20539 non-null  float64\n",
      " 40  cumulative_other_co2                 1999 non-null   float64\n",
      " 41  share_global_cumulative_cement_co2   12248 non-null  float64\n",
      " 42  share_global_cumulative_coal_co2     17188 non-null  float64\n",
      " 43  share_global_cumulative_flaring_co2  4382 non-null   float64\n",
      " 44  share_global_cumulative_gas_co2      8845 non-null   float64\n",
      " 45  share_global_cumulative_oil_co2      20539 non-null  float64\n",
      " 46  share_global_cumulative_other_co2    1999 non-null   float64\n",
      " 47  total_ghg                            5208 non-null   float64\n",
      " 48  ghg_per_capita                       5155 non-null   float64\n",
      " 49  methane                              5211 non-null   float64\n",
      " 50  methane_per_capita                   5157 non-null   float64\n",
      " 51  nitrous_oxide                        5211 non-null   float64\n",
      " 52  nitrous_oxide_per_capita             5157 non-null   float64\n",
      " 53  population                           22878 non-null  float64\n",
      " 54  gdp                                  13538 non-null  float64\n",
      " 55  primary_energy_consumption           8690 non-null   float64\n",
      " 56  energy_per_capita                    8681 non-null   float64\n",
      " 57  energy_per_gdp                       6803 non-null   float64\n",
      "dtypes: float64(55), int64(1), object(2)\n",
      "memory usage: 11.2+ MB\n"
     ]
    }
   ],
   "source": [
    "data.info()"
   ]
  },
  {
   "cell_type": "markdown",
   "id": "4c6944b1",
   "metadata": {},
   "source": [
    "We focused on post-1950 data for our comparative analysis and global EDA since some countries are missing significant data before that time. Major carbon emitting countries' emission activites intensified post 1950 period, especially India. For our modelling process, however, focusing on India, the data form 1878 is continous, so we include all data for India from 1900. First, We'll be predicting and Forecasting the per capita CO2 emissions for India"
   ]
  },
  {
   "cell_type": "code",
   "execution_count": 8,
   "id": "6ece93c1",
   "metadata": {},
   "outputs": [
    {
     "name": "stdout",
     "output_type": "stream",
     "text": [
      "(121, 2)\n"
     ]
    }
   ],
   "source": [
    "#only include India co2 per capita data post-1900\n",
    "df_India = data\n",
    "df_India = df_India[df_India['year'] >= 1900]\n",
    "df_India = df_India[df_India['country'] == 'India']\n",
    "df_India = df_India[['year', 'co2_per_capita']]\n",
    "df_India.reset_index(drop= True, inplace=True)\n",
    "\n",
    "#observe shape of reformatted df\n",
    "print(df_India.shape)"
   ]
  },
  {
   "cell_type": "code",
   "execution_count": 9,
   "id": "d7c1ce02",
   "metadata": {},
   "outputs": [
    {
     "data": {
      "text/html": [
       "<div>\n",
       "<style scoped>\n",
       "    .dataframe tbody tr th:only-of-type {\n",
       "        vertical-align: middle;\n",
       "    }\n",
       "\n",
       "    .dataframe tbody tr th {\n",
       "        vertical-align: top;\n",
       "    }\n",
       "\n",
       "    .dataframe thead th {\n",
       "        text-align: right;\n",
       "    }\n",
       "</style>\n",
       "<table border=\"1\" class=\"dataframe\">\n",
       "  <thead>\n",
       "    <tr style=\"text-align: right;\">\n",
       "      <th></th>\n",
       "      <th>year</th>\n",
       "      <th>co2_per_capita</th>\n",
       "    </tr>\n",
       "  </thead>\n",
       "  <tbody>\n",
       "    <tr>\n",
       "      <th>0</th>\n",
       "      <td>1900</td>\n",
       "      <td>0.041</td>\n",
       "    </tr>\n",
       "    <tr>\n",
       "      <th>1</th>\n",
       "      <td>1901</td>\n",
       "      <td>0.045</td>\n",
       "    </tr>\n",
       "    <tr>\n",
       "      <th>2</th>\n",
       "      <td>1902</td>\n",
       "      <td>0.049</td>\n",
       "    </tr>\n",
       "    <tr>\n",
       "      <th>3</th>\n",
       "      <td>1903</td>\n",
       "      <td>0.050</td>\n",
       "    </tr>\n",
       "    <tr>\n",
       "      <th>4</th>\n",
       "      <td>1904</td>\n",
       "      <td>0.056</td>\n",
       "    </tr>\n",
       "    <tr>\n",
       "      <th>...</th>\n",
       "      <td>...</td>\n",
       "      <td>...</td>\n",
       "    </tr>\n",
       "    <tr>\n",
       "      <th>116</th>\n",
       "      <td>2016</td>\n",
       "      <td>1.799</td>\n",
       "    </tr>\n",
       "    <tr>\n",
       "      <th>117</th>\n",
       "      <td>2017</td>\n",
       "      <td>1.818</td>\n",
       "    </tr>\n",
       "    <tr>\n",
       "      <th>118</th>\n",
       "      <td>2018</td>\n",
       "      <td>1.922</td>\n",
       "    </tr>\n",
       "    <tr>\n",
       "      <th>119</th>\n",
       "      <td>2019</td>\n",
       "      <td>1.922</td>\n",
       "    </tr>\n",
       "    <tr>\n",
       "      <th>120</th>\n",
       "      <td>2020</td>\n",
       "      <td>1.769</td>\n",
       "    </tr>\n",
       "  </tbody>\n",
       "</table>\n",
       "<p>121 rows × 2 columns</p>\n",
       "</div>"
      ],
      "text/plain": [
       "     year  co2_per_capita\n",
       "0    1900           0.041\n",
       "1    1901           0.045\n",
       "2    1902           0.049\n",
       "3    1903           0.050\n",
       "4    1904           0.056\n",
       "..    ...             ...\n",
       "116  2016           1.799\n",
       "117  2017           1.818\n",
       "118  2018           1.922\n",
       "119  2019           1.922\n",
       "120  2020           1.769\n",
       "\n",
       "[121 rows x 2 columns]"
      ]
     },
     "execution_count": 9,
     "metadata": {},
     "output_type": "execute_result"
    }
   ],
   "source": [
    "df_India"
   ]
  },
  {
   "cell_type": "code",
   "execution_count": 10,
   "id": "4663a726",
   "metadata": {},
   "outputs": [
    {
     "data": {
      "text/plain": [
       "year              0\n",
       "co2_per_capita    0\n",
       "dtype: int64"
      ]
     },
     "execution_count": 10,
     "metadata": {},
     "output_type": "execute_result"
    }
   ],
   "source": [
    "#observe updated df\n",
    "#df_India.head()\n",
    "df_India.isnull().sum()\n"
   ]
  },
  {
   "cell_type": "code",
   "execution_count": 11,
   "id": "95cdd231",
   "metadata": {},
   "outputs": [
    {
     "data": {
      "text/plain": [
       "(121, 1)"
      ]
     },
     "execution_count": 11,
     "metadata": {},
     "output_type": "execute_result"
    }
   ],
   "source": [
    "# Filter the target column from dataset and convert the dataframe to numpy\n",
    "target = df_India.iloc[:, 1:2].values\n",
    "target.shape"
   ]
  },
  {
   "cell_type": "markdown",
   "id": "ff81ce0b",
   "metadata": {},
   "source": [
    "## Model"
   ]
  },
  {
   "cell_type": "markdown",
   "id": "d558f92c",
   "metadata": {},
   "source": [
    "**Reporducibility** is extremely important as the parameter makes sure that when code is re-run, produces similar results"
   ]
  },
  {
   "cell_type": "code",
   "execution_count": 12,
   "id": "d9716f0f",
   "metadata": {},
   "outputs": [],
   "source": [
    "#fix random seed so that our results reproducibility\n",
    "np.random.seed(42)"
   ]
  },
  {
   "cell_type": "markdown",
   "id": "0acc4f6e",
   "metadata": {},
   "source": [
    "**Normalize Input**\n",
    "\n",
    "As with other deep learning problems, we can help neural network learn more rapidly by normalizing the inputs between 0 and 1. We will use `MinMaxScaler` for normalizing the input"
   ]
  },
  {
   "cell_type": "code",
   "execution_count": 13,
   "id": "ed1e7d4d",
   "metadata": {},
   "outputs": [],
   "source": [
    "#normalize\n",
    "scaler = MinMaxScaler(feature_range=(0,1))\n",
    "scaled_dataset = scaler.fit_transform(target) #try standard scaler"
   ]
  },
  {
   "cell_type": "code",
   "execution_count": 14,
   "id": "78a7bd64",
   "metadata": {},
   "outputs": [
    {
     "data": {
      "text/plain": [
       "(121, 1)"
      ]
     },
     "execution_count": 14,
     "metadata": {},
     "output_type": "execute_result"
    }
   ],
   "source": [
    "scaled_dataset.shape"
   ]
  },
  {
   "cell_type": "markdown",
   "id": "4eb401eb",
   "metadata": {},
   "source": [
    "**Split intro train and test sets**"
   ]
  },
  {
   "cell_type": "code",
   "execution_count": 283,
   "id": "b84d6919",
   "metadata": {},
   "outputs": [
    {
     "name": "stdout",
     "output_type": "stream",
     "text": [
      "108 13\n"
     ]
    }
   ],
   "source": [
    "#split train-set\n",
    "train_size = int(len(scaled_dataset)*0.90)\n",
    "test_size = len(scaled_dataset) - train_size\n",
    "train, test = scaled_dataset[0:train_size,:], scaled_dataset[train_size:len(scaled_dataset),:]\n",
    "print(len(train), len(test))"
   ]
  },
  {
   "cell_type": "code",
   "execution_count": 16,
   "id": "f6fbfce7",
   "metadata": {},
   "outputs": [
    {
     "data": {
      "text/plain": [
       "(108, 1)"
      ]
     },
     "execution_count": 16,
     "metadata": {},
     "output_type": "execute_result"
    }
   ],
   "source": [
    "train.shape"
   ]
  },
  {
   "cell_type": "code",
   "execution_count": 17,
   "id": "b8f73ae0",
   "metadata": {},
   "outputs": [
    {
     "data": {
      "text/plain": [
       "(13, 1)"
      ]
     },
     "execution_count": 17,
     "metadata": {},
     "output_type": "execute_result"
    }
   ],
   "source": [
    "test.shape"
   ]
  },
  {
   "cell_type": "code",
   "execution_count": 18,
   "id": "aef7132a",
   "metadata": {},
   "outputs": [],
   "source": [
    "# Convert the data into a Supervised-learning data\n",
    "\n",
    "x = []\n",
    "y = []\n",
    "look_back = 4\n",
    "for i in range(look_back, len(train)):\n",
    "    x.append(train[i-look_back:i, 0])\n",
    "    y.append(train[i, 0])\n",
    "\n",
    "# Converting into numpy sequences to train the LSTM model\n",
    "trainX, trainY = np.array(x), np.array(y) "
   ]
  },
  {
   "cell_type": "markdown",
   "id": "4ad8b158",
   "metadata": {},
   "source": [
    "LSTM network should be fed with input data (X) with a specific array structure of form [Sample, time steps, features]\n",
    "\n",
    "lets restructure the train and test input data to required format"
   ]
  },
  {
   "cell_type": "code",
   "execution_count": 19,
   "id": "b6a2f24c",
   "metadata": {},
   "outputs": [],
   "source": [
    "# Reshape the training data to 3 dimensional for LSTM input.\n",
    "X_train = np.reshape(trainX, (trainX.shape[0], trainX.shape[1], 1))"
   ]
  },
  {
   "cell_type": "code",
   "execution_count": 20,
   "id": "6c88589a",
   "metadata": {},
   "outputs": [
    {
     "data": {
      "text/plain": [
       "(104, 4, 1)"
      ]
     },
     "execution_count": 20,
     "metadata": {},
     "output_type": "execute_result"
    }
   ],
   "source": [
    "X_train.shape"
   ]
  },
  {
   "cell_type": "code",
   "execution_count": 21,
   "id": "43ecff1b",
   "metadata": {},
   "outputs": [
    {
     "data": {
      "text/plain": [
       "(104,)"
      ]
     },
     "execution_count": 21,
     "metadata": {},
     "output_type": "execute_result"
    }
   ],
   "source": [
    "trainY.shape"
   ]
  },
  {
   "cell_type": "markdown",
   "id": "0a128033",
   "metadata": {},
   "source": [
    "### Building LSTM Model"
   ]
  },
  {
   "cell_type": "markdown",
   "id": "52e9276b",
   "metadata": {},
   "source": [
    "The network has a visible layer with 1 input, a hidden layer with 100 LSTM units and then gradually reducing it, and an output layer that makes a single value prediction. The relu activation function is used for the LSTM blocks.\n"
   ]
  },
  {
   "cell_type": "code",
   "execution_count": 161,
   "id": "7aefeafd",
   "metadata": {
    "scrolled": false
   },
   "outputs": [],
   "source": [
    "#create and fit the LSTM network\n",
    "modelx = Sequential()\n",
    "\n",
    "#Add first LSTM layer with 20% dropout regularisation\n",
    "modelx.add(LSTM(units = 100,\n",
    "                return_sequences = True,\n",
    "                activation = 'relu',\n",
    "                input_shape = (X_train.shape[1], 1)))\n",
    "modelx.add(Dropout(0.2))\n",
    "\n",
    "#Add Second LSTM Layer\n",
    "modelx.add(LSTM(units = 90,\n",
    "                return_sequences = True,\n",
    "                activation = 'relu'))\n",
    "modelx.add(Dropout(0.2))\n",
    "\n",
    "#Add Third LSTM Layer\n",
    "modelx.add(LSTM(units = 90,\n",
    "                activation = 'relu'))\n",
    "modelx.add(Dropout(0.2))\n",
    "\n",
    "#Add output layer\n",
    "modelx.add(Dense(1))\n",
    "\n"
   ]
  },
  {
   "cell_type": "code",
   "execution_count": 162,
   "id": "975fc190",
   "metadata": {
    "scrolled": false
   },
   "outputs": [
    {
     "name": "stdout",
     "output_type": "stream",
     "text": [
      "Model: \"sequential_3\"\n",
      "_________________________________________________________________\n",
      " Layer (type)                Output Shape              Param #   \n",
      "=================================================================\n",
      " lstm_9 (LSTM)               (None, 4, 100)            40800     \n",
      "                                                                 \n",
      " dropout_9 (Dropout)         (None, 4, 100)            0         \n",
      "                                                                 \n",
      " lstm_10 (LSTM)              (None, 4, 90)             68760     \n",
      "                                                                 \n",
      " dropout_10 (Dropout)        (None, 4, 90)             0         \n",
      "                                                                 \n",
      " lstm_11 (LSTM)              (None, 90)                65160     \n",
      "                                                                 \n",
      " dropout_11 (Dropout)        (None, 90)                0         \n",
      "                                                                 \n",
      " dense_3 (Dense)             (None, 1)                 91        \n",
      "                                                                 \n",
      "=================================================================\n",
      "Total params: 174,811\n",
      "Trainable params: 174,811\n",
      "Non-trainable params: 0\n",
      "_________________________________________________________________\n"
     ]
    }
   ],
   "source": [
    "#print model summary\n",
    "modelx.summary()\n",
    "\n",
    "#Visualize model architecture\n",
    "#plot_model(modelx, show_shapes=True)"
   ]
  },
  {
   "cell_type": "code",
   "execution_count": 253,
   "id": "6cae7026",
   "metadata": {
    "scrolled": false
   },
   "outputs": [
    {
     "name": "stdout",
     "output_type": "stream",
     "text": [
      "Epoch 1/100\n",
      "1/1 [==============================] - 5s 5s/step - loss: 1.5032e-04 - val_loss: 0.0043\n",
      "Epoch 2/100\n",
      "1/1 [==============================] - 0s 90ms/step - loss: 5.2343e-04 - val_loss: 0.0014\n",
      "Epoch 3/100\n",
      "1/1 [==============================] - 0s 81ms/step - loss: 1.9058e-04 - val_loss: 2.8278e-04\n",
      "Epoch 4/100\n",
      "1/1 [==============================] - 0s 72ms/step - loss: 2.5708e-04 - val_loss: 3.3679e-04\n",
      "Epoch 5/100\n",
      "1/1 [==============================] - 0s 70ms/step - loss: 3.6918e-04 - val_loss: 2.8695e-04\n",
      "Epoch 6/100\n",
      "1/1 [==============================] - 0s 69ms/step - loss: 3.1554e-04 - val_loss: 6.6714e-04\n",
      "Epoch 7/100\n",
      "1/1 [==============================] - 0s 69ms/step - loss: 1.5653e-04 - val_loss: 0.0016\n",
      "Epoch 8/100\n",
      "1/1 [==============================] - 0s 75ms/step - loss: 2.3340e-04 - val_loss: 0.0020\n",
      "Epoch 9/100\n",
      "1/1 [==============================] - 0s 65ms/step - loss: 2.9764e-04 - val_loss: 0.0018\n",
      "Epoch 10/100\n",
      "1/1 [==============================] - 0s 77ms/step - loss: 2.8077e-04 - val_loss: 0.0012\n",
      "Epoch 11/100\n",
      "1/1 [==============================] - 0s 69ms/step - loss: 1.7946e-04 - val_loss: 5.5048e-04\n",
      "Epoch 12/100\n",
      "1/1 [==============================] - 0s 66ms/step - loss: 1.4842e-04 - val_loss: 3.2644e-04\n",
      "Epoch 13/100\n",
      "1/1 [==============================] - 0s 82ms/step - loss: 2.2499e-04 - val_loss: 3.0432e-04\n",
      "Epoch 14/100\n",
      "1/1 [==============================] - 0s 77ms/step - loss: 2.0972e-04 - val_loss: 3.0337e-04\n",
      "Epoch 15/100\n",
      "1/1 [==============================] - 0s 70ms/step - loss: 2.3160e-04 - val_loss: 3.4623e-04\n",
      "Epoch 16/100\n",
      "1/1 [==============================] - 0s 71ms/step - loss: 2.0341e-04 - val_loss: 6.0418e-04\n",
      "Epoch 17/100\n",
      "1/1 [==============================] - 0s 71ms/step - loss: 1.9768e-04 - val_loss: 9.2085e-04\n",
      "Epoch 18/100\n",
      "1/1 [==============================] - 0s 71ms/step - loss: 1.7930e-04 - val_loss: 0.0011\n",
      "Epoch 19/100\n",
      "1/1 [==============================] - 0s 72ms/step - loss: 2.1447e-04 - val_loss: 0.0011\n",
      "Epoch 20/100\n",
      "1/1 [==============================] - 0s 75ms/step - loss: 1.7220e-04 - val_loss: 8.6691e-04\n",
      "Epoch 21/100\n",
      "1/1 [==============================] - 0s 72ms/step - loss: 1.6865e-04 - val_loss: 6.2944e-04\n",
      "Epoch 22/100\n",
      "1/1 [==============================] - 0s 68ms/step - loss: 2.1863e-04 - val_loss: 4.5602e-04\n",
      "Epoch 23/100\n",
      "1/1 [==============================] - 0s 84ms/step - loss: 1.8090e-04 - val_loss: 3.2979e-04\n",
      "Epoch 24/100\n",
      "1/1 [==============================] - 0s 71ms/step - loss: 1.3671e-04 - val_loss: 3.0575e-04\n",
      "Epoch 25/100\n",
      "1/1 [==============================] - 0s 70ms/step - loss: 1.3430e-04 - val_loss: 3.0647e-04\n",
      "Epoch 26/100\n",
      "1/1 [==============================] - 0s 78ms/step - loss: 1.5054e-04 - val_loss: 3.2338e-04\n",
      "Epoch 27/100\n",
      "1/1 [==============================] - 0s 72ms/step - loss: 2.1851e-04 - val_loss: 4.1275e-04\n",
      "Epoch 28/100\n",
      "1/1 [==============================] - 0s 73ms/step - loss: 2.1335e-04 - val_loss: 6.5121e-04\n",
      "Epoch 29/100\n",
      "1/1 [==============================] - 0s 72ms/step - loss: 1.4961e-04 - val_loss: 7.7368e-04\n",
      "Epoch 30/100\n",
      "1/1 [==============================] - 0s 73ms/step - loss: 1.6617e-04 - val_loss: 8.5563e-04\n",
      "Epoch 31/100\n",
      "1/1 [==============================] - 0s 72ms/step - loss: 1.8885e-04 - val_loss: 9.3016e-04\n",
      "Epoch 32/100\n",
      "1/1 [==============================] - 0s 72ms/step - loss: 1.6590e-04 - val_loss: 8.2623e-04\n",
      "Epoch 33/100\n",
      "1/1 [==============================] - 0s 68ms/step - loss: 1.3442e-04 - val_loss: 6.8949e-04\n",
      "Epoch 34/100\n",
      "1/1 [==============================] - 0s 68ms/step - loss: 1.8386e-04 - val_loss: 5.2592e-04\n",
      "Epoch 35/100\n",
      "1/1 [==============================] - 0s 77ms/step - loss: 1.8297e-04 - val_loss: 4.1471e-04\n",
      "Epoch 36/100\n",
      "1/1 [==============================] - 0s 69ms/step - loss: 1.6545e-04 - val_loss: 4.3136e-04\n",
      "Epoch 37/100\n",
      "1/1 [==============================] - 0s 68ms/step - loss: 2.3356e-04 - val_loss: 5.1545e-04\n",
      "Epoch 38/100\n",
      "1/1 [==============================] - 0s 77ms/step - loss: 1.5376e-04 - val_loss: 7.1512e-04\n",
      "Epoch 39/100\n",
      "1/1 [==============================] - 0s 68ms/step - loss: 1.4503e-04 - val_loss: 0.0011\n",
      "Epoch 40/100\n",
      "1/1 [==============================] - 0s 77ms/step - loss: 1.3115e-04 - val_loss: 0.0015\n",
      "Epoch 41/100\n",
      "1/1 [==============================] - 0s 74ms/step - loss: 1.8579e-04 - val_loss: 0.0017\n",
      "Epoch 42/100\n",
      "1/1 [==============================] - 0s 76ms/step - loss: 1.6757e-04 - val_loss: 0.0016\n",
      "Epoch 43/100\n",
      "1/1 [==============================] - 0s 72ms/step - loss: 1.9910e-04 - val_loss: 0.0012\n",
      "Epoch 44/100\n",
      "1/1 [==============================] - 0s 71ms/step - loss: 1.1757e-04 - val_loss: 9.5006e-04\n",
      "Epoch 45/100\n",
      "1/1 [==============================] - 0s 68ms/step - loss: 2.0426e-04 - val_loss: 8.3611e-04\n",
      "Epoch 46/100\n",
      "1/1 [==============================] - 0s 71ms/step - loss: 2.1814e-04 - val_loss: 7.9894e-04\n",
      "Epoch 47/100\n",
      "1/1 [==============================] - 0s 71ms/step - loss: 2.2011e-04 - val_loss: 9.0961e-04\n",
      "Epoch 48/100\n",
      "1/1 [==============================] - 0s 70ms/step - loss: 1.5340e-04 - val_loss: 9.6371e-04\n",
      "Epoch 49/100\n",
      "1/1 [==============================] - 0s 68ms/step - loss: 1.6105e-04 - val_loss: 8.8752e-04\n",
      "Epoch 50/100\n",
      "1/1 [==============================] - 0s 68ms/step - loss: 1.1378e-04 - val_loss: 8.6702e-04\n",
      "Epoch 51/100\n",
      "1/1 [==============================] - 0s 65ms/step - loss: 1.6221e-04 - val_loss: 7.8221e-04\n",
      "Epoch 52/100\n",
      "1/1 [==============================] - 0s 71ms/step - loss: 1.7642e-04 - val_loss: 6.5384e-04\n",
      "Epoch 53/100\n",
      "1/1 [==============================] - 0s 76ms/step - loss: 1.2639e-04 - val_loss: 5.2138e-04\n",
      "Epoch 54/100\n",
      "1/1 [==============================] - 0s 73ms/step - loss: 1.5953e-04 - val_loss: 4.8434e-04\n",
      "Epoch 55/100\n",
      "1/1 [==============================] - 0s 64ms/step - loss: 1.4458e-04 - val_loss: 4.7890e-04\n",
      "Epoch 56/100\n",
      "1/1 [==============================] - 0s 58ms/step - loss: 1.3641e-04 - val_loss: 5.5845e-04\n",
      "Epoch 57/100\n",
      "1/1 [==============================] - 0s 60ms/step - loss: 1.1001e-04 - val_loss: 6.6017e-04\n",
      "Epoch 58/100\n",
      "1/1 [==============================] - 0s 62ms/step - loss: 1.2039e-04 - val_loss: 6.8803e-04\n",
      "Epoch 59/100\n",
      "1/1 [==============================] - 0s 56ms/step - loss: 1.6777e-04 - val_loss: 6.5725e-04\n",
      "Epoch 60/100\n",
      "1/1 [==============================] - 0s 53ms/step - loss: 1.2151e-04 - val_loss: 6.8543e-04\n",
      "Epoch 61/100\n",
      "1/1 [==============================] - 0s 60ms/step - loss: 1.2361e-04 - val_loss: 6.4665e-04\n",
      "Epoch 62/100\n",
      "1/1 [==============================] - 0s 54ms/step - loss: 1.1811e-04 - val_loss: 5.4058e-04\n",
      "Epoch 63/100\n",
      "1/1 [==============================] - 0s 56ms/step - loss: 1.9276e-04 - val_loss: 5.6390e-04\n",
      "Epoch 64/100\n",
      "1/1 [==============================] - 0s 62ms/step - loss: 1.7012e-04 - val_loss: 8.5963e-04\n",
      "Epoch 65/100\n",
      "1/1 [==============================] - 0s 56ms/step - loss: 1.8452e-04 - val_loss: 0.0012\n",
      "Epoch 66/100\n",
      "1/1 [==============================] - 0s 51ms/step - loss: 1.2122e-04 - val_loss: 0.0014\n",
      "Epoch 67/100\n",
      "1/1 [==============================] - 0s 54ms/step - loss: 2.0526e-04 - val_loss: 0.0014\n",
      "Epoch 68/100\n",
      "1/1 [==============================] - 0s 53ms/step - loss: 1.3952e-04 - val_loss: 0.0012\n",
      "Epoch 69/100\n",
      "1/1 [==============================] - 0s 52ms/step - loss: 1.1809e-04 - val_loss: 0.0010\n",
      "Epoch 70/100\n",
      "1/1 [==============================] - 0s 53ms/step - loss: 1.8208e-04 - val_loss: 8.5525e-04\n",
      "Epoch 71/100\n",
      "1/1 [==============================] - 0s 52ms/step - loss: 2.0776e-04 - val_loss: 7.4957e-04\n",
      "Epoch 72/100\n",
      "1/1 [==============================] - 0s 52ms/step - loss: 1.9762e-04 - val_loss: 7.5179e-04\n",
      "Epoch 73/100\n",
      "1/1 [==============================] - 0s 50ms/step - loss: 1.3846e-04 - val_loss: 8.2991e-04\n",
      "Epoch 74/100\n",
      "1/1 [==============================] - 0s 51ms/step - loss: 1.5099e-04 - val_loss: 8.8295e-04\n",
      "Epoch 75/100\n",
      "1/1 [==============================] - 0s 51ms/step - loss: 1.7926e-04 - val_loss: 7.8878e-04\n",
      "Epoch 76/100\n",
      "1/1 [==============================] - 0s 55ms/step - loss: 1.8860e-04 - val_loss: 6.3213e-04\n",
      "Epoch 77/100\n",
      "1/1 [==============================] - 0s 50ms/step - loss: 1.5015e-04 - val_loss: 5.6009e-04\n",
      "Epoch 78/100\n",
      "1/1 [==============================] - 0s 54ms/step - loss: 2.0441e-04 - val_loss: 5.4020e-04\n",
      "Epoch 79/100\n",
      "1/1 [==============================] - 0s 51ms/step - loss: 8.1005e-05 - val_loss: 5.2822e-04\n",
      "Epoch 80/100\n",
      "1/1 [==============================] - 0s 51ms/step - loss: 1.8994e-04 - val_loss: 7.1534e-04\n",
      "Epoch 81/100\n",
      "1/1 [==============================] - 0s 53ms/step - loss: 1.6929e-04 - val_loss: 9.6138e-04\n",
      "Epoch 82/100\n",
      "1/1 [==============================] - 0s 52ms/step - loss: 1.4971e-04 - val_loss: 0.0011\n",
      "Epoch 83/100\n",
      "1/1 [==============================] - 0s 58ms/step - loss: 1.3532e-04 - val_loss: 0.0012\n",
      "Epoch 84/100\n",
      "1/1 [==============================] - 0s 52ms/step - loss: 1.6497e-04 - val_loss: 0.0010\n",
      "Epoch 85/100\n",
      "1/1 [==============================] - 0s 54ms/step - loss: 1.5929e-04 - val_loss: 0.0010\n",
      "Epoch 86/100\n",
      "1/1 [==============================] - 0s 51ms/step - loss: 1.6857e-04 - val_loss: 0.0010\n",
      "Epoch 87/100\n",
      "1/1 [==============================] - 0s 52ms/step - loss: 1.7929e-04 - val_loss: 0.0012\n",
      "Epoch 88/100\n",
      "1/1 [==============================] - 0s 51ms/step - loss: 1.4687e-04 - val_loss: 0.0015\n",
      "Epoch 89/100\n",
      "1/1 [==============================] - 0s 53ms/step - loss: 1.7576e-04 - val_loss: 0.0016\n",
      "Epoch 90/100\n",
      "1/1 [==============================] - 0s 50ms/step - loss: 2.0619e-04 - val_loss: 0.0014\n",
      "Epoch 91/100\n",
      "1/1 [==============================] - 0s 55ms/step - loss: 1.6578e-04 - val_loss: 0.0010\n",
      "Epoch 92/100\n",
      "1/1 [==============================] - 0s 56ms/step - loss: 1.6613e-04 - val_loss: 0.0011\n",
      "Epoch 93/100\n",
      "1/1 [==============================] - 0s 52ms/step - loss: 1.9635e-04 - val_loss: 0.0011\n",
      "Epoch 94/100\n",
      "1/1 [==============================] - 0s 56ms/step - loss: 1.6455e-04 - val_loss: 0.0013\n",
      "Epoch 95/100\n",
      "1/1 [==============================] - 0s 50ms/step - loss: 1.9006e-04 - val_loss: 0.0012\n",
      "Epoch 96/100\n",
      "1/1 [==============================] - 0s 54ms/step - loss: 1.7884e-04 - val_loss: 8.8355e-04\n",
      "Epoch 97/100\n",
      "1/1 [==============================] - 0s 51ms/step - loss: 1.9867e-04 - val_loss: 6.7901e-04\n",
      "Epoch 98/100\n",
      "1/1 [==============================] - 0s 49ms/step - loss: 1.3510e-04 - val_loss: 5.3971e-04\n",
      "Epoch 99/100\n",
      "1/1 [==============================] - 0s 50ms/step - loss: 1.8686e-04 - val_loss: 5.1832e-04\n",
      "Epoch 100/100\n",
      "1/1 [==============================] - 0s 63ms/step - loss: 1.9204e-04 - val_loss: 6.9232e-04\n"
     ]
    }
   ],
   "source": [
    "modelx.compile(loss='mean_squared_error', optimizer='adam')\n",
    "history = modelx.fit(X_train,\n",
    "                     trainY, \n",
    "                     epochs = 100, \n",
    "                     batch_size = 128, \n",
    "                     validation_split = 0.2, \n",
    "                     verbose = 1, \n",
    "                     shuffle = False)"
   ]
  },
  {
   "cell_type": "code",
   "execution_count": 254,
   "id": "dc702e82",
   "metadata": {},
   "outputs": [
    {
     "data": {
      "text/html": [
       "<div>\n",
       "<style scoped>\n",
       "    .dataframe tbody tr th:only-of-type {\n",
       "        vertical-align: middle;\n",
       "    }\n",
       "\n",
       "    .dataframe tbody tr th {\n",
       "        vertical-align: top;\n",
       "    }\n",
       "\n",
       "    .dataframe thead th {\n",
       "        text-align: right;\n",
       "    }\n",
       "</style>\n",
       "<table border=\"1\" class=\"dataframe\">\n",
       "  <thead>\n",
       "    <tr style=\"text-align: right;\">\n",
       "      <th></th>\n",
       "      <th>loss</th>\n",
       "      <th>val_loss</th>\n",
       "    </tr>\n",
       "  </thead>\n",
       "  <tbody>\n",
       "    <tr>\n",
       "      <th>0</th>\n",
       "      <td>0.000150</td>\n",
       "      <td>0.004280</td>\n",
       "    </tr>\n",
       "    <tr>\n",
       "      <th>1</th>\n",
       "      <td>0.000523</td>\n",
       "      <td>0.001442</td>\n",
       "    </tr>\n",
       "    <tr>\n",
       "      <th>2</th>\n",
       "      <td>0.000191</td>\n",
       "      <td>0.000283</td>\n",
       "    </tr>\n",
       "    <tr>\n",
       "      <th>3</th>\n",
       "      <td>0.000257</td>\n",
       "      <td>0.000337</td>\n",
       "    </tr>\n",
       "    <tr>\n",
       "      <th>4</th>\n",
       "      <td>0.000369</td>\n",
       "      <td>0.000287</td>\n",
       "    </tr>\n",
       "  </tbody>\n",
       "</table>\n",
       "</div>"
      ],
      "text/plain": [
       "       loss  val_loss\n",
       "0  0.000150  0.004280\n",
       "1  0.000523  0.001442\n",
       "2  0.000191  0.000283\n",
       "3  0.000257  0.000337\n",
       "4  0.000369  0.000287"
      ]
     },
     "execution_count": 254,
     "metadata": {},
     "output_type": "execute_result"
    }
   ],
   "source": [
    "#Construct Metircs for the LSTM Model\n",
    "metrics = pd.DataFrame(modelx.history.history)\n",
    "metrics.head()"
   ]
  },
  {
   "cell_type": "code",
   "execution_count": 255,
   "id": "ccb45fc3",
   "metadata": {},
   "outputs": [
    {
     "data": {
      "text/plain": [
       "Text(0, 0.5, 'Loss')"
      ]
     },
     "execution_count": 255,
     "metadata": {},
     "output_type": "execute_result"
    },
    {
     "data": {
      "image/png": "[encoded data removed]",
      "text/plain": [
       "<Figure size 864x360 with 1 Axes>"
      ]
     },
     "metadata": {
      "needs_background": "light"
     },
     "output_type": "display_data"
    }
   ],
   "source": [
    "#Plot the loss of LSTM Model\n",
    "\n",
    "metrics[['loss', 'val_loss']].plot(figsize=(12,5))\n",
    "plt.title(\"Loss vs Val_loss\")\n",
    "plt.xlabel('Epochs')\n",
    "plt.ylabel('Loss')"
   ]
  },
  {
   "cell_type": "code",
   "execution_count": 256,
   "id": "91d3eb92",
   "metadata": {},
   "outputs": [],
   "source": [
    "# Prepare the test data for validation\n",
    "test_data = scaled_dataset[train_size - look_back: , : ]\n",
    "\n",
    "#Create the x_test and y_test data sets\n",
    "X_test = []\n",
    "y_test =  target[train_size : , : ]\n",
    "for i in range(look_back, len(test_data)):\n",
    "    X_test.append(test_data[i-look_back:i,0])\n",
    "\n",
    "# Convert x_test to a numpy array\n",
    "X_test = np.array(X_test)"
   ]
  },
  {
   "cell_type": "code",
   "execution_count": 257,
   "id": "b5351cd1",
   "metadata": {},
   "outputs": [
    {
     "data": {
      "text/plain": [
       "array([[1.0960997],\n",
       "       [1.1485332],\n",
       "       [1.2168596],\n",
       "       [1.2991139],\n",
       "       [1.3853743],\n",
       "       [1.4777671],\n",
       "       [1.5486673],\n",
       "       [1.6469395],\n",
       "       [1.7574489],\n",
       "       [1.8314183],\n",
       "       [1.9212772],\n",
       "       [1.9865465],\n",
       "       [2.0567658]], dtype=float32)"
      ]
     },
     "execution_count": 257,
     "metadata": {},
     "output_type": "execute_result"
    }
   ],
   "source": [
    "# Prediction with the prepared LSTM model\n",
    "predicted_CO2 = modelx.predict(X_test)\n",
    "\n",
    "# Inverse scaling of predicted values to original scale\n",
    "predicted_CO2 = scaler.inverse_transform(predicted_CO2)\n",
    "\n",
    "predicted_CO2"
   ]
  },
  {
   "cell_type": "markdown",
   "id": "135b35ad",
   "metadata": {},
   "source": [
    "### Evaluation of LSTM Model"
   ]
  },
  {
   "cell_type": "code",
   "execution_count": 258,
   "id": "36727712",
   "metadata": {},
   "outputs": [
    {
     "name": "stdout",
     "output_type": "stream",
     "text": [
      "Mean Absoulte Error is: 0.113\n"
     ]
    }
   ],
   "source": [
    "# Determine the Mean Absoulute Error\n",
    "mae = mean_absolute_error(y_test,predicted_CO2)\n",
    "print(\"Mean Absoulte Error is:\", round(mae,3))"
   ]
  },
  {
   "cell_type": "code",
   "execution_count": 259,
   "id": "cf426ee2",
   "metadata": {},
   "outputs": [
    {
     "name": "stdout",
     "output_type": "stream",
     "text": [
      "Root Mean Absoulute Error is: 0.135\n"
     ]
    }
   ],
   "source": [
    "# Determine the Root Mean Absoulute Error\n",
    "from math import sqrt\n",
    "rmse = sqrt(mean_squared_error(y_test,predicted_CO2))\n",
    "print(\"Root Mean Absoulute Error is:\", round(rmse,3))"
   ]
  },
  {
   "cell_type": "code",
   "execution_count": 260,
   "id": "6098a430",
   "metadata": {},
   "outputs": [
    {
     "name": "stdout",
     "output_type": "stream",
     "text": [
      "Mean Absolute Percentage Error is:  7.388\n"
     ]
    }
   ],
   "source": [
    "#Creare a function to calculate MAPE for our models\n",
    "def MAPE(pred): \n",
    "    return np.mean(np.abs((y_test - pred) / y_test)) * 100\n",
    "\n",
    "print('Mean Absolute Percentage Error is: ', round(MAPE(predicted_CO2),3))\n"
   ]
  },
  {
   "cell_type": "code",
   "execution_count": 261,
   "id": "4ff56d51",
   "metadata": {},
   "outputs": [
    {
     "data": {
      "image/png": "[encoded data removed]",
      "text/plain": [
       "<Figure size 720x360 with 1 Axes>"
      ]
     },
     "metadata": {
      "needs_background": "light"
     },
     "output_type": "display_data"
    }
   ],
   "source": [
    "# Plot the train, predicted and validated data set\n",
    "\n",
    "train = df_India[:train_size+1]\n",
    "valid = df_India[train_size:]\n",
    "valid['Predictions'] = predicted_CO2\n",
    "plt.figure(figsize=(10,5))\n",
    "#plt.title('CO2 Emissions Prediction')\n",
    "plt.xlabel('Date', fontsize=12)\n",
    "plt.ylabel('CO2 emissions', fontsize=12)\n",
    "plt.plot(train['co2_per_capita'])\n",
    "plt.plot(valid[['co2_per_capita', 'Predictions']])\n",
    "plt.legend(['Train', 'Valid', 'Predictions'], loc='lower right')\n",
    "plt.show()"
   ]
  },
  {
   "cell_type": "code",
   "execution_count": 262,
   "id": "2f101138",
   "metadata": {},
   "outputs": [
    {
     "data": {
      "text/html": [
       "<div>\n",
       "<style scoped>\n",
       "    .dataframe tbody tr th:only-of-type {\n",
       "        vertical-align: middle;\n",
       "    }\n",
       "\n",
       "    .dataframe tbody tr th {\n",
       "        vertical-align: top;\n",
       "    }\n",
       "\n",
       "    .dataframe thead th {\n",
       "        text-align: right;\n",
       "    }\n",
       "</style>\n",
       "<table border=\"1\" class=\"dataframe\">\n",
       "  <thead>\n",
       "    <tr style=\"text-align: right;\">\n",
       "      <th></th>\n",
       "      <th>year</th>\n",
       "      <th>co2_per_capita</th>\n",
       "      <th>Predictions</th>\n",
       "    </tr>\n",
       "  </thead>\n",
       "  <tbody>\n",
       "    <tr>\n",
       "      <th>108</th>\n",
       "      <td>2008</td>\n",
       "      <td>1.218</td>\n",
       "      <td>1.096100</td>\n",
       "    </tr>\n",
       "    <tr>\n",
       "      <th>109</th>\n",
       "      <td>2009</td>\n",
       "      <td>1.324</td>\n",
       "      <td>1.148533</td>\n",
       "    </tr>\n",
       "    <tr>\n",
       "      <th>110</th>\n",
       "      <td>2010</td>\n",
       "      <td>1.359</td>\n",
       "      <td>1.216860</td>\n",
       "    </tr>\n",
       "    <tr>\n",
       "      <th>111</th>\n",
       "      <td>2011</td>\n",
       "      <td>1.424</td>\n",
       "      <td>1.299114</td>\n",
       "    </tr>\n",
       "    <tr>\n",
       "      <th>112</th>\n",
       "      <td>2012</td>\n",
       "      <td>1.551</td>\n",
       "      <td>1.385374</td>\n",
       "    </tr>\n",
       "    <tr>\n",
       "      <th>113</th>\n",
       "      <td>2013</td>\n",
       "      <td>1.590</td>\n",
       "      <td>1.477767</td>\n",
       "    </tr>\n",
       "    <tr>\n",
       "      <th>114</th>\n",
       "      <td>2014</td>\n",
       "      <td>1.687</td>\n",
       "      <td>1.548667</td>\n",
       "    </tr>\n",
       "    <tr>\n",
       "      <th>115</th>\n",
       "      <td>2015</td>\n",
       "      <td>1.732</td>\n",
       "      <td>1.646940</td>\n",
       "    </tr>\n",
       "    <tr>\n",
       "      <th>116</th>\n",
       "      <td>2016</td>\n",
       "      <td>1.799</td>\n",
       "      <td>1.757449</td>\n",
       "    </tr>\n",
       "    <tr>\n",
       "      <th>117</th>\n",
       "      <td>2017</td>\n",
       "      <td>1.818</td>\n",
       "      <td>1.831418</td>\n",
       "    </tr>\n",
       "    <tr>\n",
       "      <th>118</th>\n",
       "      <td>2018</td>\n",
       "      <td>1.922</td>\n",
       "      <td>1.921277</td>\n",
       "    </tr>\n",
       "    <tr>\n",
       "      <th>119</th>\n",
       "      <td>2019</td>\n",
       "      <td>1.922</td>\n",
       "      <td>1.986547</td>\n",
       "    </tr>\n",
       "    <tr>\n",
       "      <th>120</th>\n",
       "      <td>2020</td>\n",
       "      <td>1.769</td>\n",
       "      <td>2.056766</td>\n",
       "    </tr>\n",
       "  </tbody>\n",
       "</table>\n",
       "</div>"
      ],
      "text/plain": [
       "     year  co2_per_capita  Predictions\n",
       "108  2008           1.218     1.096100\n",
       "109  2009           1.324     1.148533\n",
       "110  2010           1.359     1.216860\n",
       "111  2011           1.424     1.299114\n",
       "112  2012           1.551     1.385374\n",
       "113  2013           1.590     1.477767\n",
       "114  2014           1.687     1.548667\n",
       "115  2015           1.732     1.646940\n",
       "116  2016           1.799     1.757449\n",
       "117  2017           1.818     1.831418\n",
       "118  2018           1.922     1.921277\n",
       "119  2019           1.922     1.986547\n",
       "120  2020           1.769     2.056766"
      ]
     },
     "execution_count": 262,
     "metadata": {},
     "output_type": "execute_result"
    }
   ],
   "source": [
    "valid\n"
   ]
  },
  {
   "cell_type": "markdown",
   "id": "46b96e13",
   "metadata": {},
   "source": [
    "### Forecasting CO2 Emissions"
   ]
  },
  {
   "cell_type": "markdown",
   "id": "fd3b70d9",
   "metadata": {},
   "source": [
    "Lets observe a forecast iver the entire data set with LSTM model"
   ]
  },
  {
   "cell_type": "markdown",
   "id": "aa499702",
   "metadata": {},
   "source": [
    "Since we converted the data into supervised data for a look_back of 4 years, we will  add initial 4 years to prevent data truncation"
   ]
  },
  {
   "cell_type": "code",
   "execution_count": 263,
   "id": "47559302",
   "metadata": {},
   "outputs": [
    {
     "data": {
      "text/html": [
       "<div>\n",
       "<style scoped>\n",
       "    .dataframe tbody tr th:only-of-type {\n",
       "        vertical-align: middle;\n",
       "    }\n",
       "\n",
       "    .dataframe tbody tr th {\n",
       "        vertical-align: top;\n",
       "    }\n",
       "\n",
       "    .dataframe thead th {\n",
       "        text-align: right;\n",
       "    }\n",
       "</style>\n",
       "<table border=\"1\" class=\"dataframe\">\n",
       "  <thead>\n",
       "    <tr style=\"text-align: right;\">\n",
       "      <th></th>\n",
       "      <th>year</th>\n",
       "      <th>co2_per_capita</th>\n",
       "    </tr>\n",
       "  </thead>\n",
       "  <tbody>\n",
       "    <tr>\n",
       "      <th>0</th>\n",
       "      <td>1900</td>\n",
       "      <td>0.041</td>\n",
       "    </tr>\n",
       "    <tr>\n",
       "      <th>1</th>\n",
       "      <td>1901</td>\n",
       "      <td>0.045</td>\n",
       "    </tr>\n",
       "    <tr>\n",
       "      <th>2</th>\n",
       "      <td>1902</td>\n",
       "      <td>0.049</td>\n",
       "    </tr>\n",
       "    <tr>\n",
       "      <th>3</th>\n",
       "      <td>1903</td>\n",
       "      <td>0.050</td>\n",
       "    </tr>\n",
       "    <tr>\n",
       "      <th>0</th>\n",
       "      <td>1900</td>\n",
       "      <td>0.041</td>\n",
       "    </tr>\n",
       "    <tr>\n",
       "      <th>...</th>\n",
       "      <td>...</td>\n",
       "      <td>...</td>\n",
       "    </tr>\n",
       "    <tr>\n",
       "      <th>116</th>\n",
       "      <td>2016</td>\n",
       "      <td>1.799</td>\n",
       "    </tr>\n",
       "    <tr>\n",
       "      <th>117</th>\n",
       "      <td>2017</td>\n",
       "      <td>1.818</td>\n",
       "    </tr>\n",
       "    <tr>\n",
       "      <th>118</th>\n",
       "      <td>2018</td>\n",
       "      <td>1.922</td>\n",
       "    </tr>\n",
       "    <tr>\n",
       "      <th>119</th>\n",
       "      <td>2019</td>\n",
       "      <td>1.922</td>\n",
       "    </tr>\n",
       "    <tr>\n",
       "      <th>120</th>\n",
       "      <td>2020</td>\n",
       "      <td>1.769</td>\n",
       "    </tr>\n",
       "  </tbody>\n",
       "</table>\n",
       "<p>125 rows × 2 columns</p>\n",
       "</div>"
      ],
      "text/plain": [
       "     year  co2_per_capita\n",
       "0    1900           0.041\n",
       "1    1901           0.045\n",
       "2    1902           0.049\n",
       "3    1903           0.050\n",
       "0    1900           0.041\n",
       "..    ...             ...\n",
       "116  2016           1.799\n",
       "117  2017           1.818\n",
       "118  2018           1.922\n",
       "119  2019           1.922\n",
       "120  2020           1.769\n",
       "\n",
       "[125 rows x 2 columns]"
      ]
     },
     "execution_count": 263,
     "metadata": {},
     "output_type": "execute_result"
    }
   ],
   "source": [
    "#process data to avoid truncation\n",
    "test_data = df_India.head(4)\n",
    "test_data = pd.concat([test_data, df_India])\n",
    "test_data"
   ]
  },
  {
   "cell_type": "code",
   "execution_count": 264,
   "id": "a1b02a93",
   "metadata": {},
   "outputs": [
    {
     "data": {
      "text/plain": [
       "(125, 1)"
      ]
     },
     "execution_count": 264,
     "metadata": {},
     "output_type": "execute_result"
    }
   ],
   "source": [
    "#Normalize data \n",
    "target_test = test_data.iloc[:, 1:2].values\n",
    "test_scaled = scaler.fit_transform(target_test)\n",
    "test_scaled.shape"
   ]
  },
  {
   "cell_type": "code",
   "execution_count": 265,
   "id": "b5f5b803",
   "metadata": {},
   "outputs": [],
   "source": [
    "test = test_scaled[:,:]"
   ]
  },
  {
   "cell_type": "markdown",
   "id": "cf3d924c",
   "metadata": {},
   "source": [
    "Convert the test data into supervised data for forecasting using built LSTM model"
   ]
  },
  {
   "cell_type": "code",
   "execution_count": 266,
   "id": "2f29b7e8",
   "metadata": {},
   "outputs": [],
   "source": [
    "#convert data\n",
    "xf_test = []\n",
    "yf_test = target[: , :]\n",
    "\n",
    "for i in range(look_back, len(test)):\n",
    "    xf_test.append(test[i-look_back:i, 0])\n",
    "\n",
    "#convert to a numpy array\n",
    "xf_test = np.array(xf_test)"
   ]
  },
  {
   "cell_type": "code",
   "execution_count": 267,
   "id": "2e5269ca",
   "metadata": {},
   "outputs": [
    {
     "data": {
      "text/plain": [
       "(121, 4, 1)"
      ]
     },
     "execution_count": 267,
     "metadata": {},
     "output_type": "execute_result"
    }
   ],
   "source": [
    "#reshape the data into dimensions of LSTM model\n",
    "xf_test = xf_test.reshape(xf_test.shape[0], xf_test.shape[1], 1)\n",
    "xf_test.shape"
   ]
  },
  {
   "cell_type": "code",
   "execution_count": 268,
   "id": "b00437fd",
   "metadata": {},
   "outputs": [
    {
     "data": {
      "text/plain": [
       "(121, 1)"
      ]
     },
     "execution_count": 268,
     "metadata": {},
     "output_type": "execute_result"
    }
   ],
   "source": [
    "yf_test.shape"
   ]
  },
  {
   "cell_type": "code",
   "execution_count": 269,
   "id": "3acb78dd",
   "metadata": {
    "scrolled": true
   },
   "outputs": [
    {
     "data": {
      "text/plain": [
       "array([[0.08298447],\n",
       "       [0.08304253],\n",
       "       [0.08309291],\n",
       "       [0.08307821],\n",
       "       [0.08298447],\n",
       "       [0.08304588],\n",
       "       [0.08310749],\n",
       "       [0.08314815],\n",
       "       [0.08328772],\n",
       "       [0.08336376],\n",
       "       [0.08404888],\n",
       "       [0.08518266],\n",
       "       [0.08658412],\n",
       "       [0.08598696],\n",
       "       [0.08659566],\n",
       "       [0.09086274],\n",
       "       [0.0985977 ],\n",
       "       [0.10372132],\n",
       "       [0.10584834],\n",
       "       [0.10960211],\n",
       "       [0.11440649],\n",
       "       [0.12137863],\n",
       "       [0.12806395],\n",
       "       [0.12636769],\n",
       "       [0.11492816],\n",
       "       [0.11866369],\n",
       "       [0.11880033],\n",
       "       [0.12150513],\n",
       "       [0.12437791],\n",
       "       [0.12273087],\n",
       "       [0.12261635],\n",
       "       [0.12339504],\n",
       "       [0.1205467 ],\n",
       "       [0.11980259],\n",
       "       [0.11499483],\n",
       "       [0.10651458],\n",
       "       [0.10306405],\n",
       "       [0.10495323],\n",
       "       [0.11074702],\n",
       "       [0.11359803],\n",
       "       [0.11700338],\n",
       "       [0.1260423 ],\n",
       "       [0.13321067],\n",
       "       [0.13412572],\n",
       "       [0.1385799 ],\n",
       "       [0.1374207 ],\n",
       "       [0.13271405],\n",
       "       [0.12730354],\n",
       "       [0.13482329],\n",
       "       [0.14479026],\n",
       "       [0.14652678],\n",
       "       [0.15207976],\n",
       "       [0.15890037],\n",
       "       [0.17024767],\n",
       "       [0.1811583 ],\n",
       "       [0.18676125],\n",
       "       [0.1922131 ],\n",
       "       [0.19684516],\n",
       "       [0.20641847],\n",
       "       [0.21843468],\n",
       "       [0.22883786],\n",
       "       [0.24422798],\n",
       "       [0.25365442],\n",
       "       [0.2679929 ],\n",
       "       [0.2865131 ],\n",
       "       [0.30302766],\n",
       "       [0.3183609 ],\n",
       "       [0.32641843],\n",
       "       [0.32741043],\n",
       "       [0.3408944 ],\n",
       "       [0.34498903],\n",
       "       [0.3482959 ],\n",
       "       [0.35982585],\n",
       "       [0.361913  ],\n",
       "       [0.36759326],\n",
       "       [0.37708098],\n",
       "       [0.38573498],\n",
       "       [0.39153877],\n",
       "       [0.40165207],\n",
       "       [0.4172373 ],\n",
       "       [0.42578012],\n",
       "       [0.43443143],\n",
       "       [0.4398603 ],\n",
       "       [0.45313928],\n",
       "       [0.4691824 ],\n",
       "       [0.48672083],\n",
       "       [0.4988516 ],\n",
       "       [0.51916635],\n",
       "       [0.5362897 ],\n",
       "       [0.5668884 ],\n",
       "       [0.5942304 ],\n",
       "       [0.6248165 ],\n",
       "       [0.6607924 ],\n",
       "       [0.69847214],\n",
       "       [0.72748196],\n",
       "       [0.75469923],\n",
       "       [0.7795128 ],\n",
       "       [0.80122244],\n",
       "       [0.83480006],\n",
       "       [0.87053335],\n",
       "       [0.90535915],\n",
       "       [0.9254243 ],\n",
       "       [0.94603586],\n",
       "       [0.97777534],\n",
       "       [0.9847818 ],\n",
       "       [0.9933133 ],\n",
       "       [1.0156206 ],\n",
       "       [1.0483711 ],\n",
       "       [1.0960997 ],\n",
       "       [1.1485332 ],\n",
       "       [1.2168596 ],\n",
       "       [1.2991139 ],\n",
       "       [1.3853743 ],\n",
       "       [1.4777671 ],\n",
       "       [1.5486673 ],\n",
       "       [1.6469395 ],\n",
       "       [1.7574489 ],\n",
       "       [1.8314183 ],\n",
       "       [1.9212772 ],\n",
       "       [1.9865465 ],\n",
       "       [2.0567658 ]], dtype=float32)"
      ]
     },
     "execution_count": 269,
     "metadata": {},
     "output_type": "execute_result"
    }
   ],
   "source": [
    "#predictions of entire dataset using LSTM Model\n",
    "predicted_CO2f = modelx.predict(xf_test)\n",
    "predicted_CO2f = scaler.inverse_transform(predicted_CO2f)\n",
    "predicted_CO2f"
   ]
  },
  {
   "cell_type": "code",
   "execution_count": 270,
   "id": "acbbce51",
   "metadata": {},
   "outputs": [
    {
     "data": {
      "image/png": "[encoded data removed]",
      "text/plain": [
       "<Figure size 576x432 with 1 Axes>"
      ]
     },
     "metadata": {
      "needs_background": "light"
     },
     "output_type": "display_data"
    }
   ],
   "source": [
    "# Plot the original and predicted CO2 emissions set\n",
    "import pandas as pd\n",
    "pd.options.mode.chained_assignment = None \n",
    "train = df_India[:]\n",
    "valid = df_India[:]\n",
    "valid['Predictions'] = predicted_CO2f\n",
    "plt.figure(figsize=(8,6))\n",
    "#plt.title('Forecasting Per Capita CO2 Emissions')\n",
    "plt.xlabel('Date', fontsize=12)\n",
    "plt.ylabel('Co2 Emissions (T)', fontsize=12)\n",
    "plt.plot(train['co2_per_capita'])\n",
    "plt.plot(valid[['Predictions']])\n",
    "plt.legend(['Observed', 'Predictions'], loc='lower right')\n",
    "plt.show()"
   ]
  },
  {
   "cell_type": "markdown",
   "id": "2aa159cb",
   "metadata": {},
   "source": [
    "#### Accuracy"
   ]
  },
  {
   "cell_type": "code",
   "execution_count": 271,
   "id": "cc129457",
   "metadata": {},
   "outputs": [
    {
     "name": "stdout",
     "output_type": "stream",
     "text": [
      "Root Mean Absoulute Error is: 0.05\n"
     ]
    }
   ],
   "source": [
    "# Evaluate mse\n",
    "rmse = sqrt(mean_squared_error(yf_test,predicted_CO2f))\n",
    "print(\"Root Mean Absoulute Error is:\", round(rmse,3))"
   ]
  },
  {
   "cell_type": "code",
   "execution_count": 272,
   "id": "e319d488",
   "metadata": {},
   "outputs": [
    {
     "name": "stdout",
     "output_type": "stream",
     "text": [
      "The Mean Absoulte Error is: 0.028\n"
     ]
    }
   ],
   "source": [
    "# Determine the Mean Absoulute Error\n",
    "mae = mean_absolute_error(yf_test,predicted_CO2f)\n",
    "print(\"The Mean Absoulte Error is:\", round(mae,3))"
   ]
  },
  {
   "cell_type": "code",
   "execution_count": 273,
   "id": "2679195f",
   "metadata": {},
   "outputs": [
    {
     "name": "stdout",
     "output_type": "stream",
     "text": [
      "Mean Absolute Percentage Error is: 9.644\n"
     ]
    }
   ],
   "source": [
    "#Creare a function to calculate MAPE for our models\n",
    "def MAPE(pred): \n",
    "    return np.mean(np.abs((yf_test - pred) / yf_test)) * 100\n",
    "\n",
    "print('Mean Absolute Percentage Error is:', round(MAPE(predicted_CO2f),3))"
   ]
  },
  {
   "cell_type": "code",
   "execution_count": 274,
   "id": "b0daf98f",
   "metadata": {},
   "outputs": [
    {
     "data": {
      "text/html": [
       "<div>\n",
       "<style scoped>\n",
       "    .dataframe tbody tr th:only-of-type {\n",
       "        vertical-align: middle;\n",
       "    }\n",
       "\n",
       "    .dataframe tbody tr th {\n",
       "        vertical-align: top;\n",
       "    }\n",
       "\n",
       "    .dataframe thead th {\n",
       "        text-align: right;\n",
       "    }\n",
       "</style>\n",
       "<table border=\"1\" class=\"dataframe\">\n",
       "  <thead>\n",
       "    <tr style=\"text-align: right;\">\n",
       "      <th></th>\n",
       "      <th>year</th>\n",
       "      <th>co2_per_capita</th>\n",
       "      <th>Predictions</th>\n",
       "    </tr>\n",
       "  </thead>\n",
       "  <tbody>\n",
       "    <tr>\n",
       "      <th>117</th>\n",
       "      <td>2017</td>\n",
       "      <td>1.818</td>\n",
       "      <td>1.831418</td>\n",
       "    </tr>\n",
       "    <tr>\n",
       "      <th>118</th>\n",
       "      <td>2018</td>\n",
       "      <td>1.922</td>\n",
       "      <td>1.921277</td>\n",
       "    </tr>\n",
       "    <tr>\n",
       "      <th>119</th>\n",
       "      <td>2019</td>\n",
       "      <td>1.922</td>\n",
       "      <td>1.986547</td>\n",
       "    </tr>\n",
       "    <tr>\n",
       "      <th>120</th>\n",
       "      <td>2020</td>\n",
       "      <td>1.769</td>\n",
       "      <td>2.056766</td>\n",
       "    </tr>\n",
       "  </tbody>\n",
       "</table>\n",
       "</div>"
      ],
      "text/plain": [
       "     year  co2_per_capita  Predictions\n",
       "117  2017           1.818     1.831418\n",
       "118  2018           1.922     1.921277\n",
       "119  2019           1.922     1.986547\n",
       "120  2020           1.769     2.056766"
      ]
     },
     "execution_count": 274,
     "metadata": {},
     "output_type": "execute_result"
    }
   ],
   "source": [
    "valid.tail(4)"
   ]
  },
  {
   "cell_type": "markdown",
   "id": "0688c9dc",
   "metadata": {},
   "source": [
    "### Forecasting Future CO2 Emissions"
   ]
  },
  {
   "cell_type": "markdown",
   "id": "1704135e",
   "metadata": {},
   "source": [
    "Now lets observe future emissions using the LSTM model"
   ]
  },
  {
   "cell_type": "code",
   "execution_count": 275,
   "id": "f9a51f00",
   "metadata": {},
   "outputs": [
    {
     "data": {
      "text/plain": [
       "(121,)"
      ]
     },
     "execution_count": 275,
     "metadata": {},
     "output_type": "execute_result"
    }
   ],
   "source": [
    "targetx = target\n",
    "\n",
    "#nomalize data\n",
    "targetx = scaler.fit_transform(targetx)\n",
    "\n",
    "#reshape the dataset to be used for input in loop\n",
    "targetx = targetx.reshape((-1))\n",
    "targetx.shape"
   ]
  },
  {
   "cell_type": "code",
   "execution_count": 276,
   "id": "336a4d2e",
   "metadata": {},
   "outputs": [],
   "source": [
    "#create a Loop for LSTM input\n",
    "\n",
    "#here, the new data generated will be used as input fir next year forecast\n",
    "\n",
    "#look_back is the input year for forecasting\n",
    "\n",
    "look_back = 4\n",
    "def predict(n, model):\n",
    "    pred_list = targetx[-look_back:]\n",
    "    \n",
    "    for i in range(n):\n",
    "        x = pred_list[-look_back:]\n",
    "        x = x.reshape((1, look_back, 1))\n",
    "        out = model.predict(x)[0][0]\n",
    "        pred_list = np.append(pred_list, out)\n",
    "    pred_list = pred_list[look_back-1:]\n",
    "    \n",
    "    return pred_list\n",
    "\n",
    "# for n years of future co2 emissions forecasting\n",
    "\n",
    "n = 10\n",
    "forecast10 = predict(n, modelx)"
   ]
  },
  {
   "cell_type": "code",
   "execution_count": 277,
   "id": "cd89ed84",
   "metadata": {},
   "outputs": [
    {
     "data": {
      "text/plain": [
       "array([0.91866029, 1.09284008, 1.12314415, 1.13198447, 1.16004515,\n",
       "       1.2862128 , 1.32757449, 1.37967253, 1.4687475 , 1.59516931,\n",
       "       1.6848675 ])"
      ]
     },
     "execution_count": 277,
     "metadata": {},
     "output_type": "execute_result"
    }
   ],
   "source": [
    "forecast10"
   ]
  },
  {
   "cell_type": "code",
   "execution_count": 278,
   "id": "add23554",
   "metadata": {},
   "outputs": [
    {
     "data": {
      "text/plain": [
       "(11, 1)"
      ]
     },
     "execution_count": 278,
     "metadata": {},
     "output_type": "execute_result"
    }
   ],
   "source": [
    "#reshape the forecast for inverse scaling to original values\n",
    "forecast10 = forecast10.reshape(forecast10.shape[0], 1)\n",
    "forecast10.shape"
   ]
  },
  {
   "cell_type": "code",
   "execution_count": 279,
   "id": "c629b5e4",
   "metadata": {},
   "outputs": [],
   "source": [
    "#inverse scaling to obtain original values\n",
    "forecast10 = scaler.inverse_transform(forecast10)"
   ]
  },
  {
   "cell_type": "markdown",
   "id": "06ba1579",
   "metadata": {},
   "source": [
    "**Future CO2 Emissions**"
   ]
  },
  {
   "cell_type": "code",
   "execution_count": 280,
   "id": "8d145475",
   "metadata": {},
   "outputs": [
    {
     "data": {
      "text/plain": [
       "array([[1.769     ],\n",
       "       [2.09663218],\n",
       "       [2.15363415],\n",
       "       [2.17026279],\n",
       "       [2.22304492],\n",
       "       [2.46036628],\n",
       "       [2.53816762],\n",
       "       [2.63616402],\n",
       "       [2.80371404],\n",
       "       [3.04151346],\n",
       "       [3.21023577]])"
      ]
     },
     "execution_count": 280,
     "metadata": {},
     "output_type": "execute_result"
    }
   ],
   "source": [
    "#forecast co2 emissions for next n years\n",
    "\n",
    "forecast10"
   ]
  },
  {
   "cell_type": "code",
   "execution_count": 281,
   "id": "18964343",
   "metadata": {},
   "outputs": [
    {
     "data": {
      "text/html": [
       "<div>\n",
       "<style scoped>\n",
       "    .dataframe tbody tr th:only-of-type {\n",
       "        vertical-align: middle;\n",
       "    }\n",
       "\n",
       "    .dataframe tbody tr th {\n",
       "        vertical-align: top;\n",
       "    }\n",
       "\n",
       "    .dataframe thead th {\n",
       "        text-align: right;\n",
       "    }\n",
       "</style>\n",
       "<table border=\"1\" class=\"dataframe\">\n",
       "  <thead>\n",
       "    <tr style=\"text-align: right;\">\n",
       "      <th></th>\n",
       "      <th>forecasts</th>\n",
       "    </tr>\n",
       "  </thead>\n",
       "  <tbody>\n",
       "    <tr>\n",
       "      <th>0</th>\n",
       "      <td>0.082984</td>\n",
       "    </tr>\n",
       "    <tr>\n",
       "      <th>1</th>\n",
       "      <td>0.083043</td>\n",
       "    </tr>\n",
       "    <tr>\n",
       "      <th>2</th>\n",
       "      <td>0.083093</td>\n",
       "    </tr>\n",
       "    <tr>\n",
       "      <th>3</th>\n",
       "      <td>0.083078</td>\n",
       "    </tr>\n",
       "    <tr>\n",
       "      <th>4</th>\n",
       "      <td>0.082984</td>\n",
       "    </tr>\n",
       "    <tr>\n",
       "      <th>...</th>\n",
       "      <td>...</td>\n",
       "    </tr>\n",
       "    <tr>\n",
       "      <th>127</th>\n",
       "      <td>2.538168</td>\n",
       "    </tr>\n",
       "    <tr>\n",
       "      <th>128</th>\n",
       "      <td>2.636164</td>\n",
       "    </tr>\n",
       "    <tr>\n",
       "      <th>129</th>\n",
       "      <td>2.803714</td>\n",
       "    </tr>\n",
       "    <tr>\n",
       "      <th>130</th>\n",
       "      <td>3.041513</td>\n",
       "    </tr>\n",
       "    <tr>\n",
       "      <th>131</th>\n",
       "      <td>3.210236</td>\n",
       "    </tr>\n",
       "  </tbody>\n",
       "</table>\n",
       "<p>132 rows × 1 columns</p>\n",
       "</div>"
      ],
      "text/plain": [
       "     forecasts\n",
       "0     0.082984\n",
       "1     0.083043\n",
       "2     0.083093\n",
       "3     0.083078\n",
       "4     0.082984\n",
       "..         ...\n",
       "127   2.538168\n",
       "128   2.636164\n",
       "129   2.803714\n",
       "130   3.041513\n",
       "131   3.210236\n",
       "\n",
       "[132 rows x 1 columns]"
      ]
     },
     "execution_count": 281,
     "metadata": {},
     "output_type": "execute_result"
    }
   ],
   "source": [
    "#Add to the previous predicted dataset\n",
    "forecast10 = np.append(predicted_CO2f, forecast10)\n",
    "forecasts = pd.DataFrame(forecast10, columns = ['forecasts'])\n",
    "forecasts"
   ]
  },
  {
   "cell_type": "code",
   "execution_count": 282,
   "id": "356cc4a5",
   "metadata": {},
   "outputs": [
    {
     "data": {
      "image/png": "[encoded data removed]",
      "text/plain": [
       "<Figure size 432x288 with 1 Axes>"
      ]
     },
     "metadata": {
      "needs_background": "light"
     },
     "output_type": "display_data"
    }
   ],
   "source": [
    "# Plot the original and LSTM forecasting CO2 emissions\n",
    "train = df_India[:]\n",
    "ax = train['co2_per_capita'].plot(label='observed', color='royalblue', legend=True)\n",
    "\n",
    "#plot forecasted values\n",
    "forecasts.plot(ax=ax, label='forecasts', color='orangered', alpha=0.9, legend=True)\n",
    "\n",
    "ax.set_xlabel('Year', size=12)\n",
    "ax.set_ylabel('C02 Emissions Per Capita (t) ', size=12)\n",
    "#ax.set_title('Future Forecast CO2 Emissions Per Capita (by 2030) \\n', size=14)\n",
    "\n",
    "plt.legend()\n",
    "plt.show()"
   ]
  },
  {
   "cell_type": "markdown",
   "id": "077c7f46",
   "metadata": {},
   "source": [
    "### Forecast for data predicted by Hybrid SARIMA-LSTM Model"
   ]
  },
  {
   "cell_type": "code",
   "execution_count": 285,
   "id": "a7ee1375",
   "metadata": {},
   "outputs": [
    {
     "name": "stdout",
     "output_type": "stream",
     "text": [
      "(121, 5)\n"
     ]
    }
   ],
   "source": [
    "#Import CO2 emissions data - OWID\n",
    "data = pd.read_csv('../Data/HybridPredictions.csv')\n",
    "\n",
    "#Observe data shape and head\n",
    "print(data.shape)"
   ]
  },
  {
   "cell_type": "code",
   "execution_count": 286,
   "id": "913d0c26",
   "metadata": {},
   "outputs": [
    {
     "data": {
      "text/html": [
       "<div>\n",
       "<style scoped>\n",
       "    .dataframe tbody tr th:only-of-type {\n",
       "        vertical-align: middle;\n",
       "    }\n",
       "\n",
       "    .dataframe tbody tr th {\n",
       "        vertical-align: top;\n",
       "    }\n",
       "\n",
       "    .dataframe thead th {\n",
       "        text-align: right;\n",
       "    }\n",
       "</style>\n",
       "<table border=\"1\" class=\"dataframe\">\n",
       "  <thead>\n",
       "    <tr style=\"text-align: right;\">\n",
       "      <th></th>\n",
       "      <th>year</th>\n",
       "      <th>raw</th>\n",
       "      <th>predicted</th>\n",
       "      <th>fit_resid</th>\n",
       "      <th>Hybrib_pred</th>\n",
       "    </tr>\n",
       "  </thead>\n",
       "  <tbody>\n",
       "    <tr>\n",
       "      <th>0</th>\n",
       "      <td>1900-01-01</td>\n",
       "      <td>0.041</td>\n",
       "      <td>0.000000</td>\n",
       "      <td>0.000838</td>\n",
       "      <td>0.000838</td>\n",
       "    </tr>\n",
       "    <tr>\n",
       "      <th>1</th>\n",
       "      <td>1901-01-01</td>\n",
       "      <td>0.045</td>\n",
       "      <td>0.061500</td>\n",
       "      <td>-0.000922</td>\n",
       "      <td>0.060578</td>\n",
       "    </tr>\n",
       "    <tr>\n",
       "      <th>2</th>\n",
       "      <td>1902-01-01</td>\n",
       "      <td>0.049</td>\n",
       "      <td>0.049000</td>\n",
       "      <td>0.000068</td>\n",
       "      <td>0.049068</td>\n",
       "    </tr>\n",
       "    <tr>\n",
       "      <th>3</th>\n",
       "      <td>1903-01-01</td>\n",
       "      <td>0.050</td>\n",
       "      <td>0.053000</td>\n",
       "      <td>0.000370</td>\n",
       "      <td>0.053370</td>\n",
       "    </tr>\n",
       "    <tr>\n",
       "      <th>4</th>\n",
       "      <td>1904-01-01</td>\n",
       "      <td>0.056</td>\n",
       "      <td>0.052818</td>\n",
       "      <td>0.000838</td>\n",
       "      <td>0.053656</td>\n",
       "    </tr>\n",
       "  </tbody>\n",
       "</table>\n",
       "</div>"
      ],
      "text/plain": [
       "         year    raw  predicted  fit_resid  Hybrib_pred\n",
       "0  1900-01-01  0.041   0.000000   0.000838     0.000838\n",
       "1  1901-01-01  0.045   0.061500  -0.000922     0.060578\n",
       "2  1902-01-01  0.049   0.049000   0.000068     0.049068\n",
       "3  1903-01-01  0.050   0.053000   0.000370     0.053370\n",
       "4  1904-01-01  0.056   0.052818   0.000838     0.053656"
      ]
     },
     "execution_count": 286,
     "metadata": {},
     "output_type": "execute_result"
    }
   ],
   "source": [
    "data.head()"
   ]
  },
  {
   "cell_type": "code",
   "execution_count": 289,
   "id": "f20e7bcf",
   "metadata": {},
   "outputs": [
    {
     "data": {
      "text/plain": [
       "(121,)"
      ]
     },
     "execution_count": 289,
     "metadata": {},
     "output_type": "execute_result"
    }
   ],
   "source": [
    "targety = data.iloc[:, 4:5].values\n",
    "\n",
    "#nomalize data\n",
    "targety = scaler.fit_transform(targety)\n",
    "\n",
    "#reshape the dataset to be used for input in loop\n",
    "targety = targety.reshape((-1))\n",
    "targety.shape"
   ]
  },
  {
   "cell_type": "code",
   "execution_count": 298,
   "id": "009c272d",
   "metadata": {},
   "outputs": [
    {
     "data": {
      "text/plain": [
       "array([0.91866029, 1.09284008, 1.12314415, 1.13198447, 1.16004515,\n",
       "       1.2862128 , 1.32757449, 1.37967253, 1.4687475 , 1.59516931,\n",
       "       1.6848675 ])"
      ]
     },
     "execution_count": 298,
     "metadata": {},
     "output_type": "execute_result"
    }
   ],
   "source": [
    "# for n years of future co2 emissions forecasting\n",
    "\n",
    "nh = 10\n",
    "forecast10h = predict(nh, modelx)\n",
    "forecast10h"
   ]
  },
  {
   "cell_type": "code",
   "execution_count": 299,
   "id": "51da917e",
   "metadata": {},
   "outputs": [
    {
     "data": {
      "text/plain": [
       "(11, 1)"
      ]
     },
     "execution_count": 299,
     "metadata": {},
     "output_type": "execute_result"
    }
   ],
   "source": [
    "#reshape the forecast for inverse scaling to original values\n",
    "forecast10h = forecast10h.reshape(forecast10h.shape[0], 1)\n",
    "forecast10h.shape"
   ]
  },
  {
   "cell_type": "code",
   "execution_count": 300,
   "id": "98ab047a",
   "metadata": {},
   "outputs": [],
   "source": [
    "#inverse scaling to obtain original values\n",
    "forecast2030 = scaler.inverse_transform(forecast10h)\n"
   ]
  },
  {
   "cell_type": "code",
   "execution_count": 303,
   "id": "44596568",
   "metadata": {},
   "outputs": [
    {
     "data": {
      "text/plain": [
       "array([[1.69829083],\n",
       "       [2.02013114],\n",
       "       [2.07612542],\n",
       "       [2.09246011],\n",
       "       [2.14430915],\n",
       "       [2.37743515],\n",
       "       [2.45386111],\n",
       "       [2.55012514],\n",
       "       [2.71471321],\n",
       "       [2.94830882],\n",
       "       [3.11404845]])"
      ]
     },
     "execution_count": 303,
     "metadata": {},
     "output_type": "execute_result"
    }
   ],
   "source": [
    "#forecast co2 emissions for next n years\n",
    "\n",
    "forecast2030"
   ]
  },
  {
   "cell_type": "code",
   "execution_count": 311,
   "id": "f5ca35a2",
   "metadata": {},
   "outputs": [
    {
     "data": {
      "text/html": [
       "<div>\n",
       "<style scoped>\n",
       "    .dataframe tbody tr th:only-of-type {\n",
       "        vertical-align: middle;\n",
       "    }\n",
       "\n",
       "    .dataframe tbody tr th {\n",
       "        vertical-align: top;\n",
       "    }\n",
       "\n",
       "    .dataframe thead th {\n",
       "        text-align: right;\n",
       "    }\n",
       "</style>\n",
       "<table border=\"1\" class=\"dataframe\">\n",
       "  <thead>\n",
       "    <tr style=\"text-align: right;\">\n",
       "      <th></th>\n",
       "      <th>forecasts</th>\n",
       "    </tr>\n",
       "  </thead>\n",
       "  <tbody>\n",
       "    <tr>\n",
       "      <th>0</th>\n",
       "      <td>0.082984</td>\n",
       "    </tr>\n",
       "    <tr>\n",
       "      <th>1</th>\n",
       "      <td>0.083043</td>\n",
       "    </tr>\n",
       "    <tr>\n",
       "      <th>2</th>\n",
       "      <td>0.083093</td>\n",
       "    </tr>\n",
       "    <tr>\n",
       "      <th>3</th>\n",
       "      <td>0.083078</td>\n",
       "    </tr>\n",
       "    <tr>\n",
       "      <th>4</th>\n",
       "      <td>0.082984</td>\n",
       "    </tr>\n",
       "    <tr>\n",
       "      <th>...</th>\n",
       "      <td>...</td>\n",
       "    </tr>\n",
       "    <tr>\n",
       "      <th>127</th>\n",
       "      <td>2.453861</td>\n",
       "    </tr>\n",
       "    <tr>\n",
       "      <th>128</th>\n",
       "      <td>2.550125</td>\n",
       "    </tr>\n",
       "    <tr>\n",
       "      <th>129</th>\n",
       "      <td>2.714713</td>\n",
       "    </tr>\n",
       "    <tr>\n",
       "      <th>130</th>\n",
       "      <td>2.948309</td>\n",
       "    </tr>\n",
       "    <tr>\n",
       "      <th>131</th>\n",
       "      <td>3.114048</td>\n",
       "    </tr>\n",
       "  </tbody>\n",
       "</table>\n",
       "<p>132 rows × 1 columns</p>\n",
       "</div>"
      ],
      "text/plain": [
       "     forecasts\n",
       "0     0.082984\n",
       "1     0.083043\n",
       "2     0.083093\n",
       "3     0.083078\n",
       "4     0.082984\n",
       "..         ...\n",
       "127   2.453861\n",
       "128   2.550125\n",
       "129   2.714713\n",
       "130   2.948309\n",
       "131   3.114048\n",
       "\n",
       "[132 rows x 1 columns]"
      ]
     },
     "execution_count": 311,
     "metadata": {},
     "output_type": "execute_result"
    }
   ],
   "source": [
    "#Add to the previous predicted dataset\n",
    "forecast_hyd = np.append(predicted_CO2f, forecast2030)\n",
    "forecasthyd = pd.DataFrame(forecast_hyd, columns = ['forecasts'])\n",
    "forecasthyd"
   ]
  },
  {
   "cell_type": "code",
   "execution_count": 312,
   "id": "4dd414c8",
   "metadata": {},
   "outputs": [
    {
     "data": {
      "image/png": "[encoded data removed]",
      "text/plain": [
       "<Figure size 432x288 with 1 Axes>"
      ]
     },
     "metadata": {
      "needs_background": "light"
     },
     "output_type": "display_data"
    }
   ],
   "source": [
    "# Plot the original and LSTM forecasting CO2 emissions\n",
    "train = df_India[:]\n",
    "ax = train['co2_per_capita'].plot(label='observed', color='royalblue', legend=True)\n",
    "\n",
    "#plot forecasted values\n",
    "forecasthyd.plot(ax=ax, label='forecasts', color='orangered', alpha=0.9, legend=True)\n",
    "\n",
    "ax.set_xlabel('Year', size=12)\n",
    "ax.set_ylabel('C02 Emissions Per Capita (t) ', size=12)\n",
    "#ax.set_title('Future Forecast CO2 Emissions Per Capita (by 2030) \\n', size=14)\n",
    "\n",
    "plt.legend()\n",
    "plt.show()"
   ]
  },
  {
   "cell_type": "markdown",
   "id": "e67e7ffd",
   "metadata": {},
   "source": [
    "***Results Observed***\n",
    "\n",
    "From above results of LSTM Model,\n",
    "\n",
    ">- LSTM Model has marginably Higher MAPE than the ARIMA, Holt-winter's Models for this data\n",
    "\n",
    ">- LSTM Model proedictions provides us better insights on emissions on absence of COVID-19 Pandemic. The pandemic resulted in huge dip in the emissions in year 2020.\n",
    "    \n",
    ">- LSTM Predictions show that at this curent rate, India's emissions intensity is increasing at exponential rate. This is similar to real life situation.\n",
    "\n",
    ">- Reducing emissions intensity by 45% by 2030 might not be achievable by intensive reductions in intensity"
   ]
  },
  {
   "cell_type": "markdown",
   "id": "e118f28d",
   "metadata": {},
   "source": [
    "**------------------------------------------------------------------------------------------------------------------------------------------------------------------------------------------------------------------**"
   ]
  },
  {
   "cell_type": "markdown",
   "id": "f4f6861e",
   "metadata": {},
   "source": [
    "***Tasks***\n",
    "\n",
    ">- Data Preprocessing\n",
    "    - _Fixing Random Seeds_\n",
    "    - _Normalizing data_\n",
    "    - _Train-Test Split_\n",
    "    - _creating sequences_\n",
    "\n",
    ">- Built LSTM Model (change graph labels)\n",
    "    - _reiterate till max forecast results_\n",
    "        - _hyperparameter tuning_\n",
    "    - _evaluate Performance_\n",
    "    - _Forecast Emissions for target years_"
   ]
  },
  {
   "cell_type": "code",
   "execution_count": null,
   "id": "3f6e0969",
   "metadata": {},
   "outputs": [],
   "source": []
  }
 ],
 "metadata": {
  "kernelspec": {
   "display_name": "Python 3 (ipykernel)",
   "language": "python",
   "name": "python3"
  },
  "language_info": {
   "codemirror_mode": {
    "name": "ipython",
    "version": 3
   },
   "file_extension": ".py",
   "mimetype": "text/x-python",
   "name": "python",
   "nbconvert_exporter": "python",
   "pygments_lexer": "ipython3",
   "version": "3.8.10"
  }
 },
 "nbformat": 4,
 "nbformat_minor": 5
}
