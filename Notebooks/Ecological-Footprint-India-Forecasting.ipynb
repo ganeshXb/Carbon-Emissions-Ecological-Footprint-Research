{
 "cells": [
  {
   "cell_type": "code",
   "execution_count": 1,
   "id": "70bd6cde",
   "metadata": {},
   "outputs": [],
   "source": [
    "#rebuild tensorflow with comiler flags\n",
    "import os\n",
    "os.environ['TF_CPP_MIN_LOG_LEVEL'] = '2'\n",
    "\n",
    "# Import necessary libraries and packages\n",
    "import pandas as pd\n",
    "from pandas import DataFrame\n",
    "import numpy as np\n",
    "from matplotlib import pyplot\n",
    "import matplotlib.pyplot as plt\n",
    "from matplotlib.pylab import rcParams\n",
    "import warnings\n",
    "from math import exp\n",
    "from numpy import log\n",
    "from statsmodels.graphics.tsaplots import plot_acf\n",
    "from statsmodels.graphics.tsaplots import plot_pacf\n",
    "from statsmodels.tsa.arima.model import ARIMA\n",
    "from statsmodels.tsa.statespace.sarimax import SARIMAX\n",
    "from statsmodels.tsa.stattools import adfuller\n",
    "from statsmodels.tsa.seasonal import seasonal_decompose\n",
    "from statsmodels.tsa.holtwinters import ExponentialSmoothing\n",
    "import statsmodels.api as sm\n",
    "from scipy import stats\n",
    "from sklearn.preprocessing import MinMaxScaler\n",
    "from sklearn.metrics import mean_absolute_error\n",
    "from sklearn.metrics import mean_squared_error\n",
    "\n",
    "import tensorflow as tf\n",
    "from tensorflow import keras\n",
    "from keras.utils.vis_utils import plot_model\n",
    "from keras.models import Sequential\n",
    "from keras.layers import Dense\n",
    "from keras.layers import LSTM\n",
    "from keras.layers import Dropout\n",
    "from tensorflow.python.keras.metrics import Metric\n",
    "\n",
    "import plotly.graph_objs as go\n",
    "from plotly.subplots import make_subplots\n",
    "import seaborn as sns\n",
    "# Preferred settings\n",
    "warnings.filterwarnings('ignore')\n",
    "pd.set_option('display.max_columns', 100)"
   ]
  },
  {
   "cell_type": "code",
   "execution_count": 2,
   "id": "67c12875",
   "metadata": {},
   "outputs": [
    {
     "name": "stdout",
     "output_type": "stream",
     "text": [
      "(72186, 12)\n"
     ]
    },
    {
     "data": {
      "text/html": [
       "<div>\n",
       "<style scoped>\n",
       "    .dataframe tbody tr th:only-of-type {\n",
       "        vertical-align: middle;\n",
       "    }\n",
       "\n",
       "    .dataframe tbody tr th {\n",
       "        vertical-align: top;\n",
       "    }\n",
       "\n",
       "    .dataframe thead th {\n",
       "        text-align: right;\n",
       "    }\n",
       "</style>\n",
       "<table border=\"1\" class=\"dataframe\">\n",
       "  <thead>\n",
       "    <tr style=\"text-align: right;\">\n",
       "      <th></th>\n",
       "      <th>country</th>\n",
       "      <th>year</th>\n",
       "      <th>country_code</th>\n",
       "      <th>record</th>\n",
       "      <th>crop_land</th>\n",
       "      <th>grazing_land</th>\n",
       "      <th>forest_land</th>\n",
       "      <th>fishing_ground</th>\n",
       "      <th>built_up_land</th>\n",
       "      <th>carbon</th>\n",
       "      <th>total</th>\n",
       "      <th>qscore</th>\n",
       "    </tr>\n",
       "  </thead>\n",
       "  <tbody>\n",
       "    <tr>\n",
       "      <th>0</th>\n",
       "      <td>Armenia</td>\n",
       "      <td>1992</td>\n",
       "      <td>1</td>\n",
       "      <td>AreaPerCap</td>\n",
       "      <td>1.402924e-01</td>\n",
       "      <td>0.199546</td>\n",
       "      <td>0.097188051</td>\n",
       "      <td>0.036888</td>\n",
       "      <td>0.029320</td>\n",
       "      <td>0.000000e+00</td>\n",
       "      <td>5.032351e-01</td>\n",
       "      <td>3A</td>\n",
       "    </tr>\n",
       "    <tr>\n",
       "      <th>1</th>\n",
       "      <td>Armenia</td>\n",
       "      <td>1992</td>\n",
       "      <td>1</td>\n",
       "      <td>AreaTotHA</td>\n",
       "      <td>4.830000e+05</td>\n",
       "      <td>687000.000000</td>\n",
       "      <td>334600</td>\n",
       "      <td>127000.000000</td>\n",
       "      <td>100943.000800</td>\n",
       "      <td>0.000000e+00</td>\n",
       "      <td>1.732543e+06</td>\n",
       "      <td>3A</td>\n",
       "    </tr>\n",
       "    <tr>\n",
       "      <th>2</th>\n",
       "      <td>Armenia</td>\n",
       "      <td>1992</td>\n",
       "      <td>1</td>\n",
       "      <td>BiocapPerCap</td>\n",
       "      <td>1.598044e-01</td>\n",
       "      <td>0.135261</td>\n",
       "      <td>0.084003213</td>\n",
       "      <td>0.013742</td>\n",
       "      <td>0.033398</td>\n",
       "      <td>0.000000e+00</td>\n",
       "      <td>4.262086e-01</td>\n",
       "      <td>3A</td>\n",
       "    </tr>\n",
       "    <tr>\n",
       "      <th>3</th>\n",
       "      <td>Armenia</td>\n",
       "      <td>1992</td>\n",
       "      <td>1</td>\n",
       "      <td>BiocapTotGHA</td>\n",
       "      <td>5.501762e+05</td>\n",
       "      <td>465677.972200</td>\n",
       "      <td>289207.1078</td>\n",
       "      <td>47311.551720</td>\n",
       "      <td>114982.279300</td>\n",
       "      <td>0.000000e+00</td>\n",
       "      <td>1.467355e+06</td>\n",
       "      <td>3A</td>\n",
       "    </tr>\n",
       "    <tr>\n",
       "      <th>4</th>\n",
       "      <td>Armenia</td>\n",
       "      <td>1992</td>\n",
       "      <td>1</td>\n",
       "      <td>EFConsPerCap</td>\n",
       "      <td>3.875102e-01</td>\n",
       "      <td>0.189462</td>\n",
       "      <td>1.26E-06</td>\n",
       "      <td>0.004165</td>\n",
       "      <td>0.033398</td>\n",
       "      <td>1.114093e+00</td>\n",
       "      <td>1.728629e+00</td>\n",
       "      <td>3A</td>\n",
       "    </tr>\n",
       "    <tr>\n",
       "      <th>5</th>\n",
       "      <td>Armenia</td>\n",
       "      <td>1992</td>\n",
       "      <td>1</td>\n",
       "      <td>EFConsTotGHA</td>\n",
       "      <td>1.334124e+06</td>\n",
       "      <td>652282.314700</td>\n",
       "      <td>4.328086713</td>\n",
       "      <td>14338.728980</td>\n",
       "      <td>114982.279300</td>\n",
       "      <td>3.835610e+06</td>\n",
       "      <td>5.951342e+06</td>\n",
       "      <td>3A</td>\n",
       "    </tr>\n",
       "    <tr>\n",
       "      <th>6</th>\n",
       "      <td>Armenia</td>\n",
       "      <td>1992</td>\n",
       "      <td>1</td>\n",
       "      <td>EFProdPerCap</td>\n",
       "      <td>1.598044e-01</td>\n",
       "      <td>0.135261</td>\n",
       "      <td>0</td>\n",
       "      <td>0.001266</td>\n",
       "      <td>0.033398</td>\n",
       "      <td>1.074631e+00</td>\n",
       "      <td>1.404360e+00</td>\n",
       "      <td>3A</td>\n",
       "    </tr>\n",
       "    <tr>\n",
       "      <th>7</th>\n",
       "      <td>Armenia</td>\n",
       "      <td>1992</td>\n",
       "      <td>1</td>\n",
       "      <td>EFProdTotGHA</td>\n",
       "      <td>5.501762e+05</td>\n",
       "      <td>465677.972200</td>\n",
       "      <td>0</td>\n",
       "      <td>4358.142036</td>\n",
       "      <td>114982.279300</td>\n",
       "      <td>3.699750e+06</td>\n",
       "      <td>4.834944e+06</td>\n",
       "      <td>3A</td>\n",
       "    </tr>\n",
       "    <tr>\n",
       "      <th>8</th>\n",
       "      <td>Armenia</td>\n",
       "      <td>1993</td>\n",
       "      <td>1</td>\n",
       "      <td>AreaPerCap</td>\n",
       "      <td>1.465909e-01</td>\n",
       "      <td>0.204573</td>\n",
       "      <td>0.099432069</td>\n",
       "      <td>0.037763</td>\n",
       "      <td>0.029320</td>\n",
       "      <td>0.000000e+00</td>\n",
       "      <td>5.176788e-01</td>\n",
       "      <td>3A</td>\n",
       "    </tr>\n",
       "    <tr>\n",
       "      <th>9</th>\n",
       "      <td>Armenia</td>\n",
       "      <td>1993</td>\n",
       "      <td>1</td>\n",
       "      <td>AreaTotHA</td>\n",
       "      <td>4.930000e+05</td>\n",
       "      <td>688000.000000</td>\n",
       "      <td>334400</td>\n",
       "      <td>127000.000000</td>\n",
       "      <td>98605.697630</td>\n",
       "      <td>0.000000e+00</td>\n",
       "      <td>1.741006e+06</td>\n",
       "      <td>3A</td>\n",
       "    </tr>\n",
       "  </tbody>\n",
       "</table>\n",
       "</div>"
      ],
      "text/plain": [
       "   country  year  country_code        record     crop_land   grazing_land  \\\n",
       "0  Armenia  1992             1    AreaPerCap  1.402924e-01       0.199546   \n",
       "1  Armenia  1992             1     AreaTotHA  4.830000e+05  687000.000000   \n",
       "2  Armenia  1992             1  BiocapPerCap  1.598044e-01       0.135261   \n",
       "3  Armenia  1992             1  BiocapTotGHA  5.501762e+05  465677.972200   \n",
       "4  Armenia  1992             1  EFConsPerCap  3.875102e-01       0.189462   \n",
       "5  Armenia  1992             1  EFConsTotGHA  1.334124e+06  652282.314700   \n",
       "6  Armenia  1992             1  EFProdPerCap  1.598044e-01       0.135261   \n",
       "7  Armenia  1992             1  EFProdTotGHA  5.501762e+05  465677.972200   \n",
       "8  Armenia  1993             1    AreaPerCap  1.465909e-01       0.204573   \n",
       "9  Armenia  1993             1     AreaTotHA  4.930000e+05  688000.000000   \n",
       "\n",
       "   forest_land  fishing_ground  built_up_land        carbon         total  \\\n",
       "0  0.097188051        0.036888       0.029320  0.000000e+00  5.032351e-01   \n",
       "1       334600   127000.000000  100943.000800  0.000000e+00  1.732543e+06   \n",
       "2  0.084003213        0.013742       0.033398  0.000000e+00  4.262086e-01   \n",
       "3  289207.1078    47311.551720  114982.279300  0.000000e+00  1.467355e+06   \n",
       "4     1.26E-06        0.004165       0.033398  1.114093e+00  1.728629e+00   \n",
       "5  4.328086713    14338.728980  114982.279300  3.835610e+06  5.951342e+06   \n",
       "6            0        0.001266       0.033398  1.074631e+00  1.404360e+00   \n",
       "7            0     4358.142036  114982.279300  3.699750e+06  4.834944e+06   \n",
       "8  0.099432069        0.037763       0.029320  0.000000e+00  5.176788e-01   \n",
       "9       334400   127000.000000   98605.697630  0.000000e+00  1.741006e+06   \n",
       "\n",
       "  qscore  \n",
       "0     3A  \n",
       "1     3A  \n",
       "2     3A  \n",
       "3     3A  \n",
       "4     3A  \n",
       "5     3A  \n",
       "6     3A  \n",
       "7     3A  \n",
       "8     3A  \n",
       "9     3A  "
      ]
     },
     "execution_count": 2,
     "metadata": {},
     "output_type": "execute_result"
    }
   ],
   "source": [
    "#Import Footprint and Biocapacity data\n",
    "data = pd.read_csv('../Data/footprint-nfba-2019/data/nfa_2019_public_data.csv')\n",
    "df = data\n",
    "\n",
    "#Observe data shape and head\n",
    "print(df.shape)\n",
    "df.head(10)"
   ]
  },
  {
   "cell_type": "markdown",
   "id": "7073b3d6",
   "metadata": {},
   "source": [
    "# Data Cleaning and Preprocessing\n"
   ]
  },
  {
   "cell_type": "code",
   "execution_count": 3,
   "id": "009dfea4",
   "metadata": {},
   "outputs": [
    {
     "data": {
      "text/html": [
       "<div>\n",
       "<style scoped>\n",
       "    .dataframe tbody tr th:only-of-type {\n",
       "        vertical-align: middle;\n",
       "    }\n",
       "\n",
       "    .dataframe tbody tr th {\n",
       "        vertical-align: top;\n",
       "    }\n",
       "\n",
       "    .dataframe thead th {\n",
       "        text-align: right;\n",
       "    }\n",
       "</style>\n",
       "<table border=\"1\" class=\"dataframe\">\n",
       "  <thead>\n",
       "    <tr style=\"text-align: right;\">\n",
       "      <th></th>\n",
       "      <th>country</th>\n",
       "      <th>year</th>\n",
       "      <th>country_code</th>\n",
       "      <th>record</th>\n",
       "      <th>crop_land</th>\n",
       "      <th>grazing_land</th>\n",
       "      <th>forest_land</th>\n",
       "      <th>fishing_ground</th>\n",
       "      <th>built_up_land</th>\n",
       "      <th>carbon</th>\n",
       "      <th>total</th>\n",
       "      <th>qscore</th>\n",
       "    </tr>\n",
       "  </thead>\n",
       "  <tbody>\n",
       "    <tr>\n",
       "      <th>71638</th>\n",
       "      <td>China</td>\n",
       "      <td>2004</td>\n",
       "      <td>351</td>\n",
       "      <td>EFConsPerCap</td>\n",
       "      <td>0.477096</td>\n",
       "      <td>0.123758</td>\n",
       "      <td>0.16141</td>\n",
       "      <td>0.079100</td>\n",
       "      <td>0.102267</td>\n",
       "      <td>1.501234</td>\n",
       "      <td>2.444865</td>\n",
       "      <td>3A</td>\n",
       "    </tr>\n",
       "    <tr>\n",
       "      <th>60704</th>\n",
       "      <td>Tanzania, United Republic of</td>\n",
       "      <td>1994</td>\n",
       "      <td>215</td>\n",
       "      <td>EFProdPerCap</td>\n",
       "      <td>0.302961</td>\n",
       "      <td>0.410472</td>\n",
       "      <td>0.325202887</td>\n",
       "      <td>0.171027</td>\n",
       "      <td>0.035426</td>\n",
       "      <td>0.024904</td>\n",
       "      <td>1.269993</td>\n",
       "      <td>3A</td>\n",
       "    </tr>\n",
       "    <tr>\n",
       "      <th>54359</th>\n",
       "      <td>Sao Tome and Principe</td>\n",
       "      <td>1997</td>\n",
       "      <td>193</td>\n",
       "      <td>EFConsTotGHA</td>\n",
       "      <td>NaN</td>\n",
       "      <td>NaN</td>\n",
       "      <td>NaN</td>\n",
       "      <td>NaN</td>\n",
       "      <td>NaN</td>\n",
       "      <td>NaN</td>\n",
       "      <td>161802.206400</td>\n",
       "      <td>2B</td>\n",
       "    </tr>\n",
       "    <tr>\n",
       "      <th>2180</th>\n",
       "      <td>Antigua and Barbuda</td>\n",
       "      <td>2003</td>\n",
       "      <td>8</td>\n",
       "      <td>EFConsPerCap</td>\n",
       "      <td>NaN</td>\n",
       "      <td>NaN</td>\n",
       "      <td>NaN</td>\n",
       "      <td>NaN</td>\n",
       "      <td>NaN</td>\n",
       "      <td>NaN</td>\n",
       "      <td>4.304274</td>\n",
       "      <td>2B</td>\n",
       "    </tr>\n",
       "    <tr>\n",
       "      <th>43402</th>\n",
       "      <td>Nepal</td>\n",
       "      <td>2002</td>\n",
       "      <td>149</td>\n",
       "      <td>AreaPerCap</td>\n",
       "      <td>0.099525</td>\n",
       "      <td>0.073109</td>\n",
       "      <td>0.154455489</td>\n",
       "      <td>0.015590</td>\n",
       "      <td>0.023377</td>\n",
       "      <td>0.000000</td>\n",
       "      <td>0.366058</td>\n",
       "      <td>3A</td>\n",
       "    </tr>\n",
       "  </tbody>\n",
       "</table>\n",
       "</div>"
      ],
      "text/plain": [
       "                            country  year  country_code        record  \\\n",
       "71638                         China  2004           351  EFConsPerCap   \n",
       "60704  Tanzania, United Republic of  1994           215  EFProdPerCap   \n",
       "54359         Sao Tome and Principe  1997           193  EFConsTotGHA   \n",
       "2180            Antigua and Barbuda  2003             8  EFConsPerCap   \n",
       "43402                         Nepal  2002           149    AreaPerCap   \n",
       "\n",
       "       crop_land  grazing_land  forest_land  fishing_ground  built_up_land  \\\n",
       "71638   0.477096      0.123758      0.16141        0.079100       0.102267   \n",
       "60704   0.302961      0.410472  0.325202887        0.171027       0.035426   \n",
       "54359        NaN           NaN          NaN             NaN            NaN   \n",
       "2180         NaN           NaN          NaN             NaN            NaN   \n",
       "43402   0.099525      0.073109  0.154455489        0.015590       0.023377   \n",
       "\n",
       "         carbon          total qscore  \n",
       "71638  1.501234       2.444865     3A  \n",
       "60704  0.024904       1.269993     3A  \n",
       "54359       NaN  161802.206400     2B  \n",
       "2180        NaN       4.304274     2B  \n",
       "43402  0.000000       0.366058     3A  "
      ]
     },
     "execution_count": 3,
     "metadata": {},
     "output_type": "execute_result"
    }
   ],
   "source": [
    "#check random data chunk\n",
    "data.sample(5)"
   ]
  },
  {
   "cell_type": "markdown",
   "id": "63e7d0b4",
   "metadata": {},
   "source": [
    "We check the data-type of each column is of preferred data type"
   ]
  },
  {
   "cell_type": "code",
   "execution_count": 4,
   "id": "4f982723",
   "metadata": {},
   "outputs": [
    {
     "data": {
      "text/plain": [
       "country            object\n",
       "year                int64\n",
       "country_code        int64\n",
       "record             object\n",
       "crop_land         float64\n",
       "grazing_land      float64\n",
       "forest_land        object\n",
       "fishing_ground    float64\n",
       "built_up_land     float64\n",
       "carbon            float64\n",
       "total             float64\n",
       "qscore             object\n",
       "dtype: object"
      ]
     },
     "execution_count": 4,
     "metadata": {},
     "output_type": "execute_result"
    }
   ],
   "source": [
    "data.dtypes"
   ]
  },
  {
   "cell_type": "markdown",
   "id": "bcf1a303",
   "metadata": {},
   "source": [
    "The Data type of the \"country\", \"record\", and \"QScore\" columns are of object type, which should be converted to String to be accessed or modified"
   ]
  },
  {
   "cell_type": "code",
   "execution_count": 5,
   "id": "492102fb",
   "metadata": {},
   "outputs": [
    {
     "data": {
      "text/plain": [
       "country            string\n",
       "year                int64\n",
       "country_code        int64\n",
       "record             string\n",
       "crop_land         float64\n",
       "grazing_land      float64\n",
       "forest_land        object\n",
       "fishing_ground    float64\n",
       "built_up_land     float64\n",
       "carbon            float64\n",
       "total             float64\n",
       "qscore             string\n",
       "dtype: object"
      ]
     },
     "execution_count": 5,
     "metadata": {},
     "output_type": "execute_result"
    }
   ],
   "source": [
    "#modify the datatype of country, record and QScore columns\n",
    "data[\"country\"] = data['country'].astype('string')\n",
    "data[\"record\"] = data['record'].astype('string')\n",
    "data[\"qscore\"] = data['qscore'].astype('string')\n",
    "\n",
    "data.dtypes"
   ]
  },
  {
   "cell_type": "markdown",
   "id": "f9dba173",
   "metadata": {},
   "source": [
    "In order to carry out accurate pre-processing we have to first find out the number of Null Values in each column."
   ]
  },
  {
   "cell_type": "code",
   "execution_count": 6,
   "id": "9de32d1d",
   "metadata": {},
   "outputs": [
    {
     "name": "stdout",
     "output_type": "stream",
     "text": [
      "country               0\n",
      "year                  0\n",
      "country_code          0\n",
      "record                0\n",
      "crop_land         20472\n",
      "grazing_land      20472\n",
      "forest_land       20472\n",
      "fishing_ground    20473\n",
      "built_up_land     20473\n",
      "carbon            20473\n",
      "total                 9\n",
      "qscore                1\n",
      "dtype: int64\n",
      "(72186, 12)\n"
     ]
    }
   ],
   "source": [
    "#check null values\n",
    "print(data.isna().sum())\n",
    "print(data.shape)"
   ]
  },
  {
   "cell_type": "markdown",
   "id": "eaec008e",
   "metadata": {},
   "source": [
    "Since Entire rows contain NULL values, we have removed all such rows to clean our data. Rows were removed by removing rows that had less than 7 non-NULL cells."
   ]
  },
  {
   "cell_type": "code",
   "execution_count": 7,
   "id": "06bac34b",
   "metadata": {},
   "outputs": [
    {
     "name": "stdout",
     "output_type": "stream",
     "text": [
      "(51714, 12)\n",
      "country           0\n",
      "year              0\n",
      "country_code      0\n",
      "record            0\n",
      "crop_land         0\n",
      "grazing_land      0\n",
      "forest_land       0\n",
      "fishing_ground    1\n",
      "built_up_land     1\n",
      "carbon            1\n",
      "total             1\n",
      "qscore            1\n",
      "dtype: int64\n"
     ]
    }
   ],
   "source": [
    "#drop null values\n",
    "df = data.dropna(axis=0, thresh=7)\n",
    "#compression_opts = dict(method='zip', archive_name='out.csv')  \n",
    "#df.to_csv('out.zip', index=False, compression=compression_opts) \n",
    "\n",
    "print(df.shape)\n",
    "print(df.isna().sum())"
   ]
  },
  {
   "cell_type": "markdown",
   "id": "ae8303bb",
   "metadata": {},
   "source": [
    "The \"qscore\" is indicative of the reliability of Data. \n",
    "By dropping duplicate countries, we can realised for how reliable our overall data is for each country."
   ]
  },
  {
   "cell_type": "markdown",
   "id": "daab2fae",
   "metadata": {},
   "source": [
    "## Ecological Footprint"
   ]
  },
  {
   "cell_type": "code",
   "execution_count": 8,
   "id": "1c39b3d7",
   "metadata": {},
   "outputs": [
    {
     "data": {
      "text/html": [
       "<div>\n",
       "<style scoped>\n",
       "    .dataframe tbody tr th:only-of-type {\n",
       "        vertical-align: middle;\n",
       "    }\n",
       "\n",
       "    .dataframe tbody tr th {\n",
       "        vertical-align: top;\n",
       "    }\n",
       "\n",
       "    .dataframe thead th {\n",
       "        text-align: right;\n",
       "    }\n",
       "</style>\n",
       "<table border=\"1\" class=\"dataframe\">\n",
       "  <thead>\n",
       "    <tr style=\"text-align: right;\">\n",
       "      <th></th>\n",
       "      <th>year</th>\n",
       "      <th>total</th>\n",
       "    </tr>\n",
       "  </thead>\n",
       "  <tbody>\n",
       "    <tr>\n",
       "      <th>28060</th>\n",
       "      <td>1961</td>\n",
       "      <td>0.625609</td>\n",
       "    </tr>\n",
       "    <tr>\n",
       "      <th>28068</th>\n",
       "      <td>1962</td>\n",
       "      <td>0.629613</td>\n",
       "    </tr>\n",
       "    <tr>\n",
       "      <th>28076</th>\n",
       "      <td>1963</td>\n",
       "      <td>0.627844</td>\n",
       "    </tr>\n",
       "    <tr>\n",
       "      <th>28084</th>\n",
       "      <td>1964</td>\n",
       "      <td>0.622689</td>\n",
       "    </tr>\n",
       "    <tr>\n",
       "      <th>28092</th>\n",
       "      <td>1965</td>\n",
       "      <td>0.613171</td>\n",
       "    </tr>\n",
       "    <tr>\n",
       "      <th>28100</th>\n",
       "      <td>1966</td>\n",
       "      <td>0.619166</td>\n",
       "    </tr>\n",
       "    <tr>\n",
       "      <th>28108</th>\n",
       "      <td>1967</td>\n",
       "      <td>0.643092</td>\n",
       "    </tr>\n",
       "    <tr>\n",
       "      <th>28116</th>\n",
       "      <td>1968</td>\n",
       "      <td>0.652200</td>\n",
       "    </tr>\n",
       "    <tr>\n",
       "      <th>28124</th>\n",
       "      <td>1969</td>\n",
       "      <td>0.653963</td>\n",
       "    </tr>\n",
       "    <tr>\n",
       "      <th>28132</th>\n",
       "      <td>1970</td>\n",
       "      <td>0.674143</td>\n",
       "    </tr>\n",
       "  </tbody>\n",
       "</table>\n",
       "</div>"
      ],
      "text/plain": [
       "       year     total\n",
       "28060  1961  0.625609\n",
       "28068  1962  0.629613\n",
       "28076  1963  0.627844\n",
       "28084  1964  0.622689\n",
       "28092  1965  0.613171\n",
       "28100  1966  0.619166\n",
       "28108  1967  0.643092\n",
       "28116  1968  0.652200\n",
       "28124  1969  0.653963\n",
       "28132  1970  0.674143"
      ]
     },
     "execution_count": 8,
     "metadata": {},
     "output_type": "execute_result"
    }
   ],
   "source": [
    "#Only include India's Ecological Footprint data \n",
    "df_India = df.loc[(df['country'] == \"India\") & (df['record'] == \"EFConsPerCap\") ,['year','total']]\n",
    "df_India = df_India[['year', 'total']]\n",
    "df_India.head(10)"
   ]
  },
  {
   "cell_type": "code",
   "execution_count": 9,
   "id": "1b725c79",
   "metadata": {},
   "outputs": [],
   "source": [
    "#Convert year to index\n",
    "df_India.set_index('year', inplace=True)\n",
    "\n",
    "#Convert year to DateTime object\n",
    "df_India.index = pd.to_datetime(df_India.index, format='%Y')"
   ]
  },
  {
   "cell_type": "code",
   "execution_count": 10,
   "id": "f5d6b285",
   "metadata": {},
   "outputs": [
    {
     "data": {
      "text/html": [
       "<div>\n",
       "<style scoped>\n",
       "    .dataframe tbody tr th:only-of-type {\n",
       "        vertical-align: middle;\n",
       "    }\n",
       "\n",
       "    .dataframe tbody tr th {\n",
       "        vertical-align: top;\n",
       "    }\n",
       "\n",
       "    .dataframe thead th {\n",
       "        text-align: right;\n",
       "    }\n",
       "</style>\n",
       "<table border=\"1\" class=\"dataframe\">\n",
       "  <thead>\n",
       "    <tr style=\"text-align: right;\">\n",
       "      <th></th>\n",
       "      <th>total</th>\n",
       "    </tr>\n",
       "    <tr>\n",
       "      <th>year</th>\n",
       "      <th></th>\n",
       "    </tr>\n",
       "  </thead>\n",
       "  <tbody>\n",
       "    <tr>\n",
       "      <th>2007-01-01</th>\n",
       "      <td>0.978697</td>\n",
       "    </tr>\n",
       "    <tr>\n",
       "      <th>1982-01-01</th>\n",
       "      <td>0.676729</td>\n",
       "    </tr>\n",
       "    <tr>\n",
       "      <th>2011-01-01</th>\n",
       "      <td>1.091698</td>\n",
       "    </tr>\n",
       "    <tr>\n",
       "      <th>1990-01-01</th>\n",
       "      <td>0.783105</td>\n",
       "    </tr>\n",
       "    <tr>\n",
       "      <th>2002-01-01</th>\n",
       "      <td>0.820020</td>\n",
       "    </tr>\n",
       "  </tbody>\n",
       "</table>\n",
       "</div>"
      ],
      "text/plain": [
       "               total\n",
       "year                \n",
       "2007-01-01  0.978697\n",
       "1982-01-01  0.676729\n",
       "2011-01-01  1.091698\n",
       "1990-01-01  0.783105\n",
       "2002-01-01  0.820020"
      ]
     },
     "execution_count": 10,
     "metadata": {},
     "output_type": "execute_result"
    }
   ],
   "source": [
    "#observe updated df\n",
    "#df_India.head()\n",
    "df_India.sample(5)"
   ]
  },
  {
   "cell_type": "code",
   "execution_count": 11,
   "id": "ead35624",
   "metadata": {},
   "outputs": [
    {
     "data": {
      "text/html": [
       "<div>\n",
       "<style scoped>\n",
       "    .dataframe tbody tr th:only-of-type {\n",
       "        vertical-align: middle;\n",
       "    }\n",
       "\n",
       "    .dataframe tbody tr th {\n",
       "        vertical-align: top;\n",
       "    }\n",
       "\n",
       "    .dataframe thead th {\n",
       "        text-align: right;\n",
       "    }\n",
       "</style>\n",
       "<table border=\"1\" class=\"dataframe\">\n",
       "  <thead>\n",
       "    <tr style=\"text-align: right;\">\n",
       "      <th></th>\n",
       "      <th>total</th>\n",
       "    </tr>\n",
       "    <tr>\n",
       "      <th>year</th>\n",
       "      <th></th>\n",
       "    </tr>\n",
       "  </thead>\n",
       "  <tbody>\n",
       "    <tr>\n",
       "      <th>2012-01-01</th>\n",
       "      <td>1.114692</td>\n",
       "    </tr>\n",
       "    <tr>\n",
       "      <th>2013-01-01</th>\n",
       "      <td>1.117995</td>\n",
       "    </tr>\n",
       "    <tr>\n",
       "      <th>2014-01-01</th>\n",
       "      <td>1.169753</td>\n",
       "    </tr>\n",
       "    <tr>\n",
       "      <th>2015-01-01</th>\n",
       "      <td>1.158077</td>\n",
       "    </tr>\n",
       "    <tr>\n",
       "      <th>2016-01-01</th>\n",
       "      <td>1.168769</td>\n",
       "    </tr>\n",
       "  </tbody>\n",
       "</table>\n",
       "</div>"
      ],
      "text/plain": [
       "               total\n",
       "year                \n",
       "2012-01-01  1.114692\n",
       "2013-01-01  1.117995\n",
       "2014-01-01  1.169753\n",
       "2015-01-01  1.158077\n",
       "2016-01-01  1.168769"
      ]
     },
     "execution_count": 11,
     "metadata": {},
     "output_type": "execute_result"
    }
   ],
   "source": [
    "df_India.tail()"
   ]
  },
  {
   "cell_type": "markdown",
   "id": "d85280bd",
   "metadata": {},
   "source": [
    "# Exploratory Data Analysis"
   ]
  },
  {
   "cell_type": "markdown",
   "id": "48cbfc90",
   "metadata": {},
   "source": [
    "**Reviewing plots of the density of observations can provide further insight into the structure of the data**"
   ]
  },
  {
   "cell_type": "code",
   "execution_count": 12,
   "id": "b0051da3",
   "metadata": {},
   "outputs": [
    {
     "data": {
      "image/png": "[encoded data removed]",
      "text/plain": [
       "<Figure size 432x288 with 2 Axes>"
      ]
     },
     "metadata": {
      "needs_background": "light"
     },
     "output_type": "display_data"
    }
   ],
   "source": [
    "#observe density\n",
    "pyplot.figure(1)\n",
    "pyplot.subplot(211)\n",
    "df_India.total.hist()\n",
    "pyplot.subplot(212)\n",
    "df_India.total.plot(kind='kde')\n",
    "pyplot.show()"
   ]
  },
  {
   "cell_type": "markdown",
   "id": "c340d2c8",
   "metadata": {},
   "source": [
    "From the above graphs we can observe, \n",
    "- The distribution is not perfectly Gausian (normal distribution)\n",
    "- The distribution in left shifted \n",
    "- Transformations might be useful prior to modelling"
   ]
  },
  {
   "cell_type": "markdown",
   "id": "c2aac26f",
   "metadata": {},
   "source": [
    "**Reviewing Box plot of emissions over decades provides insight into the trend and seasonality of the data**"
   ]
  },
  {
   "cell_type": "code",
   "execution_count": 13,
   "id": "957bd012",
   "metadata": {},
   "outputs": [
    {
     "data": {
      "text/plain": [
       "<AxesSubplot:xlabel='year', ylabel='total'>"
      ]
     },
     "execution_count": 13,
     "metadata": {},
     "output_type": "execute_result"
    },
    {
     "data": {
      "image/png": "[encoded data removed]",
      "text/plain": [
       "<Figure size 432x288 with 1 Axes>"
      ]
     },
     "metadata": {
      "needs_background": "light"
     },
     "output_type": "display_data"
    }
   ],
   "source": [
    "fig, ax = plt.subplots(figsize=(6,4))\n",
    "sns.boxplot(df_India.total.index.year // 10 * 10, df_India.total, ax=ax)"
   ]
  },
  {
   "cell_type": "markdown",
   "id": "7ad33145",
   "metadata": {},
   "source": [
    "From the above plot we can observe,\n",
    "- Median values across decade confirms an irregular upward trend\n",
    "- Exponential Increase in emissions"
   ]
  },
  {
   "cell_type": "markdown",
   "id": "a6641376",
   "metadata": {},
   "source": [
    "**Distribution and Normality Test**"
   ]
  },
  {
   "cell_type": "code",
   "execution_count": 14,
   "id": "f69659e3",
   "metadata": {},
   "outputs": [
    {
     "name": "stdout",
     "output_type": "stream",
     "text": [
      "Kurtosis of normal distribution -0.20987429144697334\n",
      "Skewness of normal distribution 0.9051683015699763\n"
     ]
    },
    {
     "data": {
      "image/png": "[encoded data removed]",
      "text/plain": [
       "<Figure size 432x288 with 1 Axes>"
      ]
     },
     "metadata": {
      "needs_background": "light"
     },
     "output_type": "display_data"
    }
   ],
   "source": [
    "#observe distribution and normality\n",
    "sns.distplot(df_India.total);\n",
    "stats.normaltest(df_India.total)\n",
    "print('Kurtosis of normal distribution {}'.format(stats.kurtosis(df_India.total)))\n",
    "print( 'Skewness of normal distribution {}'.format(stats.skew(df_India.total)))"
   ]
  },
  {
   "cell_type": "markdown",
   "id": "2069ff5a",
   "metadata": {},
   "source": [
    "> - Kurtosis describes heaviness of the tails of distribution\n",
    "    - Normal Distribution has a kurtosis of 0 (mesokurtic). A Positive value  shows us that the data has heavy-tails. A neagtive value (as observed) mean that data has ligh tails\n",
    "\n",
    "\n",
    "> - Skewness \n",
    "    - if < -1 / > 1 -distribution is highly skewed. \n",
    "    - if -1 < skew < - 0.5 / 0.5 < skew < 1 - distribution is moderately skewed. (as observed)\n",
    "    - if -0.5 < skew < 0.5 - distribution is approximately similar"
   ]
  },
  {
   "cell_type": "code",
   "execution_count": 15,
   "id": "b9e58568",
   "metadata": {},
   "outputs": [
    {
     "data": {
      "text/html": [
       "<div>\n",
       "<style scoped>\n",
       "    .dataframe tbody tr th:only-of-type {\n",
       "        vertical-align: middle;\n",
       "    }\n",
       "\n",
       "    .dataframe tbody tr th {\n",
       "        vertical-align: top;\n",
       "    }\n",
       "\n",
       "    .dataframe thead th {\n",
       "        text-align: right;\n",
       "    }\n",
       "</style>\n",
       "<table border=\"1\" class=\"dataframe\">\n",
       "  <thead>\n",
       "    <tr style=\"text-align: right;\">\n",
       "      <th></th>\n",
       "      <th>count</th>\n",
       "      <th>mean</th>\n",
       "      <th>std</th>\n",
       "      <th>min</th>\n",
       "      <th>25%</th>\n",
       "      <th>50%</th>\n",
       "      <th>75%</th>\n",
       "      <th>max</th>\n",
       "    </tr>\n",
       "  </thead>\n",
       "  <tbody>\n",
       "    <tr>\n",
       "      <th>total</th>\n",
       "      <td>56.0</td>\n",
       "      <td>0.799507</td>\n",
       "      <td>0.16176</td>\n",
       "      <td>0.613171</td>\n",
       "      <td>0.67307</td>\n",
       "      <td>0.768282</td>\n",
       "      <td>0.86481</td>\n",
       "      <td>1.169753</td>\n",
       "    </tr>\n",
       "  </tbody>\n",
       "</table>\n",
       "</div>"
      ],
      "text/plain": [
       "       count      mean      std       min      25%       50%      75%  \\\n",
       "total   56.0  0.799507  0.16176  0.613171  0.67307  0.768282  0.86481   \n",
       "\n",
       "            max  \n",
       "total  1.169753  "
      ]
     },
     "execution_count": 15,
     "metadata": {},
     "output_type": "execute_result"
    },
    {
     "data": {
      "image/png": "[encoded data removed]",
      "text/plain": [
       "<Figure size 1008x432 with 2 Axes>"
      ]
     },
     "metadata": {
      "needs_background": "light"
     },
     "output_type": "display_data"
    }
   ],
   "source": [
    "#observe distribution\n",
    "plt.figure(figsize=(14,6))\n",
    "plt.subplot(1,2,1)\n",
    "df_India.total.hist(bins=50,edgecolor='black', grid=False)\n",
    "plt.title('Per Capita Emissions Distribution')\n",
    "\n",
    "plt.subplot(1,2,2)\n",
    "stats.probplot(df_India.total, plot=plt);\n",
    "#print(\"Skewness: %f\" % df['Consumption'].skew())\n",
    "#print(\"Kurtosis: %f\" % df['Consumption'].kurt())\n",
    "df_India.describe().transpose()"
   ]
  },
  {
   "cell_type": "markdown",
   "id": "3790c825",
   "metadata": {},
   "source": [
    "Normal probability plot shows that data set has irregular distribution, with trends"
   ]
  },
  {
   "cell_type": "markdown",
   "id": "14a60708",
   "metadata": {},
   "source": [
    "**Before starting to analyse the stationarity of data, lets need to understand the trend, seasonality and bias of our data by Decomposing** "
   ]
  },
  {
   "cell_type": "code",
   "execution_count": 16,
   "id": "3388645f",
   "metadata": {},
   "outputs": [
    {
     "data": {
      "image/png": "[encoded data removed]",
      "text/plain": [
       "<Figure size 432x288 with 4 Axes>"
      ]
     },
     "metadata": {
      "needs_background": "light"
     },
     "output_type": "display_data"
    }
   ],
   "source": [
    "#observe trend and seasonality\n",
    "from pylab import rcParams\n",
    "decomposition = sm.tsa.seasonal_decompose(df_India.total, model='additive')\n",
    "trend = decomposition.trend\n",
    "seasonal = decomposition.seasonal\n",
    "residual = decomposition.resid\n",
    "\n",
    "plt.subplot(411)\n",
    "plt.plot(df_India.total, label='Original')\n",
    "plt.legend(loc='best')\n",
    "plt.subplot(412)\n",
    "plt.plot(trend, label='Trend')\n",
    "plt.legend(loc='best')\n",
    "plt.subplot(413)\n",
    "plt.plot(seasonal,label='Seasonality')\n",
    "plt.legend(loc='best')\n",
    "plt.subplot(414)\n",
    "plt.plot(residual, label='Residuals')\n",
    "plt.legend(loc='best')\n",
    "plt.tight_layout()"
   ]
  },
  {
   "cell_type": "markdown",
   "id": "8c81ea62",
   "metadata": {},
   "source": [
    "With Observations from decomposing we observe,\n",
    "- No seasonal characteristics of Data\n",
    "- Constant residual\n",
    "- Exponential Increaseing trend"
   ]
  },
  {
   "cell_type": "markdown",
   "id": "1326e979",
   "metadata": {},
   "source": [
    "### Exponential Smoothing"
   ]
  },
  {
   "cell_type": "markdown",
   "id": "396f5fa2",
   "metadata": {},
   "source": [
    "#### Naive Model Using Holt-Winter's Method"
   ]
  },
  {
   "cell_type": "markdown",
   "id": "c621e67f",
   "metadata": {},
   "source": [
    "We start with Holt's method, which does not account for seasonality"
   ]
  },
  {
   "cell_type": "code",
   "execution_count": 17,
   "id": "6815843d",
   "metadata": {},
   "outputs": [],
   "source": [
    "# Train-test split\n",
    "df_es = df_India\n",
    "x = df_es.index\n",
    "y = df_es['total']\n",
    "\n",
    "estrain = df_es.loc[:'2011-01-01']\n",
    "estest = df_es.loc['2011-01-01':]"
   ]
  },
  {
   "cell_type": "code",
   "execution_count": 18,
   "id": "bc218802",
   "metadata": {},
   "outputs": [
    {
     "data": {
      "text/plain": [
       "(56, 1)"
      ]
     },
     "execution_count": 18,
     "metadata": {},
     "output_type": "execute_result"
    }
   ],
   "source": [
    "df_es.shape"
   ]
  },
  {
   "cell_type": "markdown",
   "id": "85c0dc88",
   "metadata": {},
   "source": [
    "**Holt's Method - Double Exponential Smoothening**\n",
    "\n",
    "using trend as additive"
   ]
  },
  {
   "cell_type": "code",
   "execution_count": 19,
   "id": "88548f09",
   "metadata": {},
   "outputs": [],
   "source": [
    "#apply double exponential smoothening\n",
    "model_des = ExponentialSmoothing(estrain.total,trend = 'add')\n",
    "model_des_fit = model_des.fit()\n",
    "estrain['DES_model'] = model_des_fit.fittedvalues.shift(-1)"
   ]
  },
  {
   "cell_type": "code",
   "execution_count": 20,
   "id": "cda641f9",
   "metadata": {},
   "outputs": [
    {
     "data": {
      "text/plain": [
       "<AxesSubplot:xlabel='year'>"
      ]
     },
     "execution_count": 20,
     "metadata": {},
     "output_type": "execute_result"
    },
    {
     "data": {
      "image/png": "[encoded data removed]",
      "text/plain": [
       "<Figure size 432x288 with 1 Axes>"
      ]
     },
     "metadata": {
      "needs_background": "light"
     },
     "output_type": "display_data"
    }
   ],
   "source": [
    "# observe the DES model against the original data\n",
    "estrain[['total','DES_model']].plot(legend = True)"
   ]
  },
  {
   "cell_type": "markdown",
   "id": "18c6fab3",
   "metadata": {},
   "source": [
    "Lets observe a closer look to analyse the results better"
   ]
  },
  {
   "cell_type": "code",
   "execution_count": 21,
   "id": "d4f9a642",
   "metadata": {},
   "outputs": [
    {
     "data": {
      "text/plain": [
       "<AxesSubplot:xlabel='year'>"
      ]
     },
     "execution_count": 21,
     "metadata": {},
     "output_type": "execute_result"
    },
    {
     "data": {
      "image/png": "[encoded data removed]",
      "text/plain": [
       "<Figure size 432x288 with 1 Axes>"
      ]
     },
     "metadata": {
      "needs_background": "light"
     },
     "output_type": "display_data"
    }
   ],
   "source": [
    "#observe a closer look\n",
    "estrain[['total','DES_model']]['2001-01-01':'2016-01-01'].plot(legend = True)"
   ]
  },
  {
   "cell_type": "markdown",
   "id": "1f09b084",
   "metadata": {},
   "source": [
    "From above, we observe Double Exponential Smoothening results looks reasonable well"
   ]
  },
  {
   "cell_type": "markdown",
   "id": "e50a6f25",
   "metadata": {},
   "source": [
    "**Holt-Winter's Method - Triple Exponential Smoothening**\n",
    "\n",
    "Using trend and seasonality as multiplicative. Setting the number of seasonal_periods as 12 (yearly)"
   ]
  },
  {
   "cell_type": "code",
   "execution_count": 22,
   "id": "8b815c5c",
   "metadata": {},
   "outputs": [],
   "source": [
    "model_tes = ExponentialSmoothing(estrain.total,trend = 'add', seasonal = 'add', seasonal_periods=12)\n",
    "model_tes_fit = model_tes.fit()\n",
    "estrain['TES_model'] = model_tes_fit.fittedvalues.shift(-1)"
   ]
  },
  {
   "cell_type": "code",
   "execution_count": 23,
   "id": "7894b571",
   "metadata": {
    "scrolled": false
   },
   "outputs": [
    {
     "data": {
      "image/png": "[encoded data removed]",
      "text/plain": [
       "<Figure size 432x288 with 1 Axes>"
      ]
     },
     "metadata": {
      "needs_background": "light"
     },
     "output_type": "display_data"
    }
   ],
   "source": [
    "# observe the DES model against the original data\n",
    "ax = estrain.total.plot(label='observed', color='royalblue', legend=True)\n",
    "estrain.TES_model.plot(ax=ax, label='TES', color='orangered', legend=True )\n",
    "\n",
    "ax.set_xlabel('Year', size=15)\n",
    "ax.set_ylabel('Ecological Footprint Per Capita (GHA) \\n', size=10)\n",
    "ax.set_title('Real vs Predicted Ecological Footprint Per Capita \\n', size=15)\n",
    "\n",
    "plt.legend()\n",
    "plt.show()"
   ]
  },
  {
   "cell_type": "markdown",
   "id": "2dc1908b",
   "metadata": {},
   "source": [
    "Lets observe Results of Double and Triple Exponential Smoothening"
   ]
  },
  {
   "cell_type": "code",
   "execution_count": 24,
   "id": "746776cc",
   "metadata": {},
   "outputs": [
    {
     "data": {
      "text/plain": [
       "<AxesSubplot:xlabel='year'>"
      ]
     },
     "execution_count": 24,
     "metadata": {},
     "output_type": "execute_result"
    },
    {
     "data": {
      "image/png": "[encoded data removed]",
      "text/plain": [
       "<Figure size 432x288 with 1 Axes>"
      ]
     },
     "metadata": {
      "needs_background": "light"
     },
     "output_type": "display_data"
    }
   ],
   "source": [
    "# observe the DES model against the original data\n",
    "estrain[['total','DES_model','TES_model']].plot(legend = True)"
   ]
  },
  {
   "cell_type": "markdown",
   "id": "6e885b90",
   "metadata": {},
   "source": [
    "Lets observe a closer look to analyse the results better"
   ]
  },
  {
   "cell_type": "code",
   "execution_count": 25,
   "id": "c728f272",
   "metadata": {},
   "outputs": [
    {
     "data": {
      "text/plain": [
       "<AxesSubplot:xlabel='year'>"
      ]
     },
     "execution_count": 25,
     "metadata": {},
     "output_type": "execute_result"
    },
    {
     "data": {
      "image/png": "[encoded data removed]",
      "text/plain": [
       "<Figure size 432x288 with 1 Axes>"
      ]
     },
     "metadata": {
      "needs_background": "light"
     },
     "output_type": "display_data"
    }
   ],
   "source": [
    "#observe a closer look\n",
    "estrain[['total','DES_model', 'TES_model']]['2000-01-01':'2016-01-01'].plot(legend = True)"
   ]
  },
  {
   "cell_type": "markdown",
   "id": "5c94b288",
   "metadata": {},
   "source": [
    "From above, we observe both Double Exponential Smoothening, Triple Exponential Smoothening results looks similar and  reasonably well"
   ]
  },
  {
   "cell_type": "markdown",
   "id": "66939d00",
   "metadata": {},
   "source": [
    "**Double and Triple Exponential Models : Forecasts**"
   ]
  },
  {
   "cell_type": "markdown",
   "id": "3b22666a",
   "metadata": {},
   "source": [
    "Lets forecast on test set of data"
   ]
  },
  {
   "cell_type": "code",
   "execution_count": 26,
   "id": "9706d00e",
   "metadata": {},
   "outputs": [],
   "source": [
    "#forecast on test set\n",
    "test_des = model_des_fit.forecast(6)\n",
    "test_tes = model_tes_fit.forecast(6)"
   ]
  },
  {
   "cell_type": "code",
   "execution_count": 27,
   "id": "100f0d46",
   "metadata": {},
   "outputs": [
    {
     "data": {
      "text/plain": [
       "<AxesSubplot:xlabel='year'>"
      ]
     },
     "execution_count": 27,
     "metadata": {},
     "output_type": "execute_result"
    },
    {
     "data": {
      "image/png": "[encoded data removed]",
      "text/plain": [
       "<Figure size 432x288 with 1 Axes>"
      ]
     },
     "metadata": {
      "needs_background": "light"
     },
     "output_type": "display_data"
    }
   ],
   "source": [
    "# Plotting Test predictions against the test set\n",
    "estest['total'].plot(legend = True)\n",
    "test_des.plot(legend = True, label = \"Double Exponential Smoothening\")\n",
    "test_tes.plot(legend = True, label = \"Triple Exponential Smoothening\")"
   ]
  },
  {
   "cell_type": "markdown",
   "id": "5e1b6c92",
   "metadata": {},
   "source": [
    "We Evaluate the forecast using RMSE as KPI"
   ]
  },
  {
   "cell_type": "markdown",
   "id": "ea70b5dc",
   "metadata": {},
   "source": [
    "#### Evaluate Model"
   ]
  },
  {
   "cell_type": "code",
   "execution_count": 28,
   "id": "2b062d3b",
   "metadata": {},
   "outputs": [
    {
     "name": "stdout",
     "output_type": "stream",
     "text": [
      " RMSE for the Double Exponential Smoothening Model :  0.036\n",
      " RMSE for the Triple Exponential Smoothening Model :  0.025\n"
     ]
    }
   ],
   "source": [
    "#evaluate mse\n",
    "des_mse = mean_squared_error(estest.total, test_des)\n",
    "tes_mse = mean_squared_error(estest.total, test_tes)\n",
    "\n",
    "print(\" RMSE for the Double Exponential Smoothening Model : \", round(np.sqrt(des_mse),3))\n",
    "print(\" RMSE for the Triple Exponential Smoothening Model : \", round(np.sqrt(tes_mse),3))"
   ]
  },
  {
   "cell_type": "code",
   "execution_count": 29,
   "id": "f9146c7f",
   "metadata": {},
   "outputs": [
    {
     "name": "stdout",
     "output_type": "stream",
     "text": [
      " MAE for the Double Exponential Smoothening Model :  0.033\n",
      " MAE for the Triple Exponential Smoothening Model :  0.022\n"
     ]
    }
   ],
   "source": [
    "from sklearn.metrics import mean_absolute_error\n",
    "#Create a function to calculate AIC for our models\n",
    "def MAE(test):\n",
    "    return mean_absolute_error(estest.total, test)\n",
    "\n",
    "print(\" MAE for the Double Exponential Smoothening Model : \", round(MAE(test_des),3))\n",
    "print(\" MAE for the Triple Exponential Smoothening Model : \", round(MAE(test_tes),3))"
   ]
  },
  {
   "cell_type": "code",
   "execution_count": 30,
   "id": "342a83ec",
   "metadata": {},
   "outputs": [
    {
     "name": "stdout",
     "output_type": "stream",
     "text": [
      " MAPE for the Double Exponential Smoothening Model :  1.511\n",
      " MAPE for the Triple Exponential Smoothening Model :  1.383\n"
     ]
    }
   ],
   "source": [
    "#write a function to calculate MAPE value\n",
    "def MAPE(test): \n",
    "    return np.mean(np.abs((estest.total - test) / estest.total)) * 100\n",
    "\n",
    "print(\" MAPE for the Double Exponential Smoothening Model : \", round(MAPE(test_des),3))\n",
    "print(\" MAPE for the Triple Exponential Smoothening Model : \", round(MAPE(test_tes),3))"
   ]
  },
  {
   "cell_type": "markdown",
   "id": "aa102190",
   "metadata": {},
   "source": [
    "From above results, we can observe \n",
    "\n",
    ">- RMSE of Holt-Winter's (TES) is **lesser** than DES \n",
    ">- MAE of Holt-Winter's (TES) is **lesser** than DES \n",
    ">- MAPE of Holt-Winter's (TES) is **lesser** than DES, means marginally better accuracy\n",
    "\n",
    "\n",
    "***TES performs well for predicting data post 2011, so it will be used for forecasting***\n"
   ]
  },
  {
   "cell_type": "markdown",
   "id": "4ee769a8",
   "metadata": {},
   "source": [
    "#### Future Forecasts"
   ]
  },
  {
   "cell_type": "code",
   "execution_count": 31,
   "id": "d599af43",
   "metadata": {},
   "outputs": [
    {
     "data": {
      "text/plain": [
       "2018-01-01    1.241484\n",
       "2019-01-01    1.279387\n",
       "2020-01-01    1.293973\n",
       "2021-01-01    1.322232\n",
       "2022-01-01    1.344112\n",
       "2023-01-01    1.371921\n",
       "2024-01-01    1.387190\n",
       "2025-01-01    1.409615\n",
       "2026-01-01    1.417650\n",
       "2027-01-01    1.445610\n",
       "2028-01-01    1.469930\n",
       "2029-01-01    1.492064\n",
       "2030-01-01    1.521530\n",
       "2031-01-01    1.559433\n",
       "Freq: AS-JAN, dtype: float64"
      ]
     },
     "execution_count": 31,
     "metadata": {},
     "output_type": "execute_result"
    }
   ],
   "source": [
    "test_tes_20 = model_tes_fit.forecast(20)\n",
    "test_tes_20[6:20]"
   ]
  },
  {
   "cell_type": "code",
   "execution_count": 32,
   "id": "818e8b2c",
   "metadata": {},
   "outputs": [
    {
     "data": {
      "text/plain": [
       "<AxesSubplot:xlabel='year'>"
      ]
     },
     "execution_count": 32,
     "metadata": {},
     "output_type": "execute_result"
    },
    {
     "data": {
      "image/png": "[encoded data removed]",
      "text/plain": [
       "<Figure size 432x288 with 1 Axes>"
      ]
     },
     "metadata": {
      "needs_background": "light"
     },
     "output_type": "display_data"
    }
   ],
   "source": [
    "# Plotting Test predictions against the test set\n",
    "estest['total'].plot(legend = True)\n",
    "test_tes_20.plot(legend = True, label = \"Triple Exponential Smoothening\")"
   ]
  },
  {
   "cell_type": "markdown",
   "id": "d7ca3ef3",
   "metadata": {},
   "source": [
    "We've achieved a exponentially smoothened forecast, lets compare this with ARIMA models.\n",
    "\n",
    "Naive Holt's and Holt-Winter's exponential smoothening works with non-stationary data, But for ARIMA models we need to check stationarity to know the order of differnecing required inorder to obtain better results\n",
    "\n",
    "Lets check stationarity and process the data"
   ]
  },
  {
   "cell_type": "markdown",
   "id": "41e3d953",
   "metadata": {},
   "source": [
    "### Check for Stationarity\n",
    "- Any time series data is said to be stationary if its statistical properties such as mean, variance remains constant over time\n",
    "\n",
    "lets observe the properties "
   ]
  },
  {
   "cell_type": "code",
   "execution_count": 33,
   "id": "6c717677",
   "metadata": {},
   "outputs": [
    {
     "data": {
      "image/png": "[encoded data removed]",
      "text/plain": [
       "<Figure size 432x288 with 1 Axes>"
      ]
     },
     "metadata": {
      "needs_background": "light"
     },
     "output_type": "display_data"
    }
   ],
   "source": [
    "#Visualize India's CO2 emissions since 1900,\n",
    "#including 5-year rolling mean and rolling standard deviation\n",
    "\n",
    "roll_mean = df_India.rolling(window=5, center=False).mean()\n",
    "roll_std = df_India.rolling(window=5, center=False).std()\n",
    "\n",
    "plt.plot(df_India, color='mediumseagreen', label='Original')\n",
    "plt.plot(roll_mean, color='mediumblue', label='Rolling Mean')\n",
    "plt.plot(roll_std, color='orangered', label='Rolling Std')\n",
    "plt.legend(loc='best')\n",
    "# plt.title('Rolling Mean & Standard Deviation')\n",
    "plt.xlabel('Year')\n",
    "plt.ylabel('Ecological Footprint')\n",
    "plt.show(block=False)"
   ]
  },
  {
   "cell_type": "markdown",
   "id": "4342d33f",
   "metadata": {},
   "source": [
    "Working with time series data we need to understand the nature of data, that is the trends and stationarity.\n",
    "\n",
    "Stationarity can be checked by \n",
    "- performing an **Augmented Dickey-Fuller (ADF) test** \n",
    "- **ACF and PACF Plots**\n",
    "- Plotting Rolling Statistics\n"
   ]
  },
  {
   "cell_type": "markdown",
   "id": "dfad8ceb",
   "metadata": {},
   "source": [
    "#### Dickey-Fuller Test"
   ]
  },
  {
   "cell_type": "code",
   "execution_count": 34,
   "id": "dca4346b",
   "metadata": {},
   "outputs": [
    {
     "data": {
      "text/plain": [
       "ADF Statistic                                                        2.498912\n",
       "p-value                                                              0.999049\n",
       "#Lags Used                                                                  1\n",
       "No. of Observations Used                                                   52\n",
       "Critical Values             {'1%': -3.562878534649522, '5%': -2.9189732840...\n",
       "dtype: object"
      ]
     },
     "execution_count": 34,
     "metadata": {},
     "output_type": "execute_result"
    }
   ],
   "source": [
    "#perform Dickey-Fuller test\n",
    "test_result = adfuller(df_India.total[1:-1])\n",
    "df_result = pd.Series(test_result[0:5], index=['ADF Statistic','p-value','#Lags Used','No. of Observations Used', 'Critical Values'])\n",
    "df_result"
   ]
  },
  {
   "cell_type": "markdown",
   "id": "81e54318",
   "metadata": {},
   "source": [
    "With p-value of 0.99 ( >0.05), we cannot reject that null hypothesis that this is non-stationary.\n",
    "\n",
    "we also can see that our ADF statistic value (3.98) is greater than tha value -3.58 at 1%. This suggests that we cannot reject the null hypothesis with a significance of less than 1%, i.e. a low probability that the result is a statistical fluke. The process has unit root and in turn the timer series is un-stationary or does have time-dependent structure\n",
    "\n",
    "As we observe the data is non-stationary, this cannot be fit for autocorrelation analysis as ACF and PACF assumes data stationary. Lets remedy this below before fitting our model."
   ]
  },
  {
   "cell_type": "markdown",
   "id": "0bd163be",
   "metadata": {},
   "source": [
    "## Addressing Trends and Stationarity\n",
    "\n",
    "lets observe stationarity plotting rolling statistics and address the stationarity"
   ]
  },
  {
   "cell_type": "markdown",
   "id": "8acb3756",
   "metadata": {},
   "source": [
    "### Log Transformation"
   ]
  },
  {
   "cell_type": "markdown",
   "id": "f123b94a",
   "metadata": {},
   "source": [
    "In log transformation we apply logarithmic function to a point, and model the time series with the new log-transformed data. \n",
    "\n",
    "we can address lack of variance and covariance by log transformation"
   ]
  },
  {
   "cell_type": "code",
   "execution_count": 35,
   "id": "936dcc8b",
   "metadata": {},
   "outputs": [
    {
     "data": {
      "image/png": "[encoded data removed]",
      "text/plain": [
       "<Figure size 432x288 with 1 Axes>"
      ]
     },
     "metadata": {
      "needs_background": "light"
     },
     "output_type": "display_data"
    }
   ],
   "source": [
    "#apply log transformation\n",
    "#Create new dataframe that contains the logged values of the original one\n",
    "log_India = log(df_India)\n",
    "\n",
    "#Visualize Logged data, including 5-year rolling mean and standard deviation\n",
    "roll_mean_log = log_India.rolling(window=5, center=False).mean()\n",
    "roll_std_log = log_India.rolling(window=5, center=False).std()\n",
    "\n",
    "plt.plot(log_India, color='mediumseagreen', label='Original')\n",
    "plt.plot(roll_mean_log, color='mediumblue', label='Rolling Mean')\n",
    "plt.plot(roll_std_log, color='orangered', label='Rolling Std')\n",
    "plt.legend(loc='best')\n",
    "#plt.title('Rolling Mean & Standard Deviation, Logged Data')\n",
    "plt.xlabel('Year')\n",
    "plt.ylabel('Logged EF')\n",
    "plt.show(block=False)"
   ]
  },
  {
   "cell_type": "markdown",
   "id": "b9955dbb",
   "metadata": {},
   "source": [
    "Lets again check the p-value by doing a ADF test\n",
    "\n",
    "**Dickey-Fuller test for log transformed data**"
   ]
  },
  {
   "cell_type": "code",
   "execution_count": 36,
   "id": "64c2807e",
   "metadata": {},
   "outputs": [
    {
     "data": {
      "text/plain": [
       "ADF Statistic                                                        1.713134\n",
       "p-value                                                               0.99816\n",
       "#Lags Used                                                                  1\n",
       "No. of Observations Used                                                   52\n",
       "Critical Values             {'1%': -3.562878534649522, '5%': -2.9189732840...\n",
       "dtype: object"
      ]
     },
     "execution_count": 36,
     "metadata": {},
     "output_type": "execute_result"
    }
   ],
   "source": [
    "#perform Dickey-Fuller test for log tranformed data\n",
    "test_result = adfuller(log_India.total[1:-1])\n",
    "df_log_result = pd.Series(test_result[0:5], index=['ADF Statistic','p-value','#Lags Used','No. of Observations Used', 'Critical Values'])\n",
    "df_log_result"
   ]
  },
  {
   "cell_type": "markdown",
   "id": "1b446bf4",
   "metadata": {},
   "source": [
    "With p-value of 0.99 ( >0.05), we still cannot reject that null hypothesis that this data is non-stationary. \n",
    "\n",
    "Log transformation did not help achieve stationarity. So lets try another way to achieve true stationarity by subtracting rolling mean of log tranformation\n"
   ]
  },
  {
   "cell_type": "markdown",
   "id": "fdf24036",
   "metadata": {},
   "source": [
    "#### Subtracting the Rolling Mean of the Log Transformation"
   ]
  },
  {
   "cell_type": "code",
   "execution_count": 37,
   "id": "be943b62",
   "metadata": {},
   "outputs": [
    {
     "data": {
      "image/png": "[encoded data removed]",
      "text/plain": [
       "<Figure size 432x288 with 1 Axes>"
      ]
     },
     "metadata": {
      "needs_background": "light"
     },
     "output_type": "display_data"
    }
   ],
   "source": [
    "#subtracting rolling mean of log transformation\n",
    "log_minus_rollmean = log_India - roll_mean_log\n",
    "\n",
    "#drop null values\n",
    "log_minus_rollmean.dropna(axis=0, inplace=True)\n",
    "\n",
    "#observe data\n",
    "plt.plot(log_minus_rollmean, color='mediumseagreen')\n",
    "plt.title('Logged Data Minus Rolling Mean')\n",
    "plt.xlabel('Year')\n",
    "plt.ylabel('Logged CO2 Rolling Mean')\n",
    "plt.show(block=False)"
   ]
  },
  {
   "cell_type": "code",
   "execution_count": 38,
   "id": "d4a06883",
   "metadata": {},
   "outputs": [
    {
     "data": {
      "text/plain": [
       "ADF Statistic                                                       -3.577277\n",
       "p-value                                                              0.006211\n",
       "#Lags Used                                                                  0\n",
       "No. of Observations Used                                                   49\n",
       "Critical Values             {'1%': -3.5714715250448363, '5%': -2.922629480...\n",
       "dtype: object"
      ]
     },
     "execution_count": 38,
     "metadata": {},
     "output_type": "execute_result"
    }
   ],
   "source": [
    "#perform Dickey-Fuller test for log-minus-rollmean data\n",
    "test_result = adfuller(log_minus_rollmean['total'][1:-1])\n",
    "df_sublog_result = pd.Series(test_result[0:5], index=['ADF Statistic','p-value','#Lags Used','No. of Observations Used', 'Critical Values'])\n",
    "df_sublog_result"
   ]
  },
  {
   "cell_type": "markdown",
   "id": "8b7824cd",
   "metadata": {},
   "source": [
    "With p-value of 0.006 ( >0.05), we can reject that null hypothesis that this data is stationary. \n",
    "\n",
    "Log transformation did help achieve stationarity"
   ]
  },
  {
   "cell_type": "markdown",
   "id": "dcd0fe26",
   "metadata": {},
   "source": [
    "### Differencing\n",
    "\n",
    "differencing is a very powerful technique to address non-stationary time-series data. Differencing works very well with practical time series.\n",
    "\n",
    "The original data where the ADF test arrived at p-value = 1 suggests no difference between the groupds other than due to chance\n",
    "\n",
    "Now that we have observed log tranformed, we will now observe differnece of our original data until we achieve stationarity so we can model on both datasets"
   ]
  },
  {
   "cell_type": "code",
   "execution_count": 39,
   "id": "6f20cbe3",
   "metadata": {},
   "outputs": [
    {
     "data": {
      "image/png": "[encoded data removed]",
      "text/plain": [
       "<Figure size 432x288 with 1 Axes>"
      ]
     },
     "metadata": {
      "needs_background": "light"
     },
     "output_type": "display_data"
    }
   ],
   "source": [
    "#create dataframe for differencing\n",
    "log_diff = df_India.diff().dropna().rename(index=str, columns={\"total\":\"Differenced Observations\"})\n",
    "\n",
    "#Visualize differenced data, inclusing 5-year rolling mean and standard deviation\n",
    "roll_mean_diff = log_diff.rolling(window=5, center=False).mean()\n",
    "roll_std_diff = log_diff.rolling(window=5, center=False).std()\n",
    "\n",
    "plt.plot(log_diff, color='mediumseagreen', label='Original')\n",
    "plt.plot(roll_mean_diff, color='mediumblue', label='Rolling Mean')\n",
    "plt.plot(roll_std_diff, color='orangered', label='Rolling Std')\n",
    "plt.legend(loc='best')\n",
    "#plt.title('Rolling Mean & Standard Deviation, Differenced Data')\n",
    "plt.xlabel('Differenced Year')\n",
    "plt.ylabel('Difference Ecological Footprint')\n",
    "plt.show(block=False)"
   ]
  },
  {
   "cell_type": "code",
   "execution_count": 40,
   "id": "21f63ef8",
   "metadata": {},
   "outputs": [
    {
     "data": {
      "text/plain": [
       "ADF Statistic               -4.003531\n",
       "p-value                      0.001392\n",
       "#Lags Used                   1.000000\n",
       "No. of Observations Used    51.000000\n",
       "dtype: float64"
      ]
     },
     "execution_count": 40,
     "metadata": {},
     "output_type": "execute_result"
    }
   ],
   "source": [
    "#perform Dickey-Fuller test for log-minus-rollmean data\n",
    "diff_result = adfuller(log_diff['Differenced Observations'][1:-1])\n",
    "df_diff_result = pd.Series(diff_result[0:4], index=['ADF Statistic','p-value','#Lags Used','No. of Observations Used'])\n",
    "df_diff_result"
   ]
  },
  {
   "cell_type": "markdown",
   "id": "63d1c345",
   "metadata": {},
   "source": [
    "With p-value of 0.001392 (<0.05), we reject that null hypothesis. This data does not have unit root and is stationary.\n",
    "\n",
    "Based on real p-value of 0.001392, we have achieved stationarity by 1st order differencing. We will keep this in count as we test d values in our ARIMA models"
   ]
  },
  {
   "cell_type": "markdown",
   "id": "37742962",
   "metadata": {},
   "source": [
    "## Modelling"
   ]
  },
  {
   "cell_type": "markdown",
   "id": "a1f7e9df",
   "metadata": {},
   "source": [
    "We will create time series models on our original data considering the order of differencing required to attain stationarity "
   ]
  },
  {
   "cell_type": "markdown",
   "id": "293add95",
   "metadata": {},
   "source": [
    "**ACF for Logged Data**"
   ]
  },
  {
   "cell_type": "code",
   "execution_count": 41,
   "id": "320fdfeb",
   "metadata": {},
   "outputs": [
    {
     "data": {
      "image/png": "[encoded data removed]",
      "text/plain": [
       "<Figure size 432x288 with 1 Axes>"
      ]
     },
     "metadata": {
      "needs_background": "light"
     },
     "output_type": "display_data"
    }
   ],
   "source": [
    "# observe ACF for logged data\n",
    "plot_acf(df_India[:-1], alpha=.05, lags=20);"
   ]
  },
  {
   "cell_type": "markdown",
   "id": "7c203844",
   "metadata": {},
   "source": [
    "**PACF for Logged Data**"
   ]
  },
  {
   "cell_type": "code",
   "execution_count": 42,
   "id": "1dc12683",
   "metadata": {},
   "outputs": [
    {
     "data": {
      "image/png": "[encoded data removed]",
      "text/plain": [
       "<Figure size 432x288 with 1 Axes>"
      ]
     },
     "metadata": {
      "needs_background": "light"
     },
     "output_type": "display_data"
    }
   ],
   "source": [
    "# PACF for original data\n",
    "plot_pacf(df_India[:-1], alpha=.05, lags=20);"
   ]
  },
  {
   "cell_type": "markdown",
   "id": "99a0238b",
   "metadata": {},
   "source": [
    "From the above ACF and PACF for our original data, we can observe\n",
    "\n",
    "> - A series that has a dampened geometric decay of Autocorrelation and Significant at each lag  𝑝  / Cuts off after lag  𝑝 - AR  𝑝   model\n",
    "\n",
    "> - Our data displayes an AR signature since ACF diminishes gradually and the PACF uctts off sharply at lag 2, showing string correlation. This tells us we would expect to have atleast one AR parameter.\n",
    "\n",
    "> -  When instantiating an ARIMA model, we expect a relatively large number of MA terms due to large number of significant ACF points and relatively smaller AR terms due to small number of significant PACF points. "
   ]
  },
  {
   "cell_type": "markdown",
   "id": "75808108",
   "metadata": {},
   "source": [
    "**ARIMA Model for Original Data**"
   ]
  },
  {
   "cell_type": "markdown",
   "id": "7d2266ca",
   "metadata": {},
   "source": [
    "we tried many different p,d, and q parameters for an ARIMA model on our original data. The set of parameters yielded the best resutls, which we will comapre in mode details later."
   ]
  },
  {
   "cell_type": "code",
   "execution_count": 43,
   "id": "b8d05fab",
   "metadata": {
    "scrolled": false
   },
   "outputs": [
    {
     "name": "stdout",
     "output_type": "stream",
     "text": [
      "Performing stepwise search to minimize aic\n",
      " ARIMA(2,2,2)(0,0,0)[0]             : AIC=-259.714, Time=0.11 sec\n",
      " ARIMA(0,2,0)(0,0,0)[0]             : AIC=-224.830, Time=0.01 sec\n",
      " ARIMA(1,2,0)(0,0,0)[0]             : AIC=-252.299, Time=0.01 sec\n",
      " ARIMA(0,2,1)(0,0,0)[0]             : AIC=-262.697, Time=0.04 sec\n",
      " ARIMA(1,2,1)(0,0,0)[0]             : AIC=-262.575, Time=0.06 sec\n",
      " ARIMA(0,2,2)(0,0,0)[0]             : AIC=-262.070, Time=0.04 sec\n",
      " ARIMA(1,2,2)(0,0,0)[0]             : AIC=-260.919, Time=0.07 sec\n",
      " ARIMA(0,2,1)(0,0,0)[0] intercept   : AIC=-263.692, Time=0.03 sec\n",
      " ARIMA(0,2,0)(0,0,0)[0] intercept   : AIC=-222.831, Time=0.02 sec\n",
      " ARIMA(1,2,1)(0,0,0)[0] intercept   : AIC=-263.859, Time=0.10 sec\n",
      " ARIMA(1,2,0)(0,0,0)[0] intercept   : AIC=-250.299, Time=0.01 sec\n",
      " ARIMA(2,2,1)(0,0,0)[0] intercept   : AIC=inf, Time=0.11 sec\n",
      " ARIMA(1,2,2)(0,0,0)[0] intercept   : AIC=-257.807, Time=0.05 sec\n",
      " ARIMA(0,2,2)(0,0,0)[0] intercept   : AIC=inf, Time=0.13 sec\n",
      " ARIMA(2,2,0)(0,0,0)[0] intercept   : AIC=-255.823, Time=0.05 sec\n",
      " ARIMA(2,2,2)(0,0,0)[0] intercept   : AIC=inf, Time=0.12 sec\n",
      "\n",
      "Best model:  ARIMA(1,2,1)(0,0,0)[0] intercept\n",
      "Total fit time: 0.963 seconds\n"
     ]
    },
    {
     "data": {
      "text/plain": [
       "ARIMA(order=(1, 2, 1), scoring_args={}, suppress_warnings=True)"
      ]
     },
     "execution_count": 43,
     "metadata": {},
     "output_type": "execute_result"
    }
   ],
   "source": [
    "#building the auto-arima model using GridSearch\n",
    "from pmdarima.arima import auto_arima\n",
    "model = auto_arima(df_India, trace=True, error_action='ignore', suppress_warnings=True)\n",
    "model.fit(df_India)"
   ]
  },
  {
   "cell_type": "code",
   "execution_count": 44,
   "id": "3a1e347f",
   "metadata": {},
   "outputs": [
    {
     "name": "stdout",
     "output_type": "stream",
     "text": [
      "                               SARIMAX Results                                \n",
      "==============================================================================\n",
      "Dep. Variable:                  total   No. Observations:                   55\n",
      "Model:                 ARIMA(1, 2, 1)   Log Likelihood                 131.677\n",
      "Date:                Sat, 30 Apr 2022   AIC                           -257.355\n",
      "Time:                        15:15:27   BIC                           -251.444\n",
      "Sample:                    01-01-1961   HQIC                          -255.082\n",
      "                         - 01-01-2015                                         \n",
      "Covariance Type:                  opg                                         \n",
      "==============================================================================\n",
      "                 coef    std err          z      P>|z|      [0.025      0.975]\n",
      "------------------------------------------------------------------------------\n",
      "ar.L1         -0.2613      0.161     -1.625      0.104      -0.576       0.054\n",
      "ma.L1         -0.8295      0.099     -8.362      0.000      -1.024      -0.635\n",
      "sigma2         0.0004   8.31e-05      4.749      0.000       0.000       0.001\n",
      "===================================================================================\n",
      "Ljung-Box (L1) (Q):                   0.01   Jarque-Bera (JB):                 0.09\n",
      "Prob(Q):                              0.91   Prob(JB):                         0.96\n",
      "Heteroskedasticity (H):               2.26   Skew:                            -0.02\n",
      "Prob(H) (two-sided):                  0.09   Kurtosis:                         2.80\n",
      "===================================================================================\n",
      "\n",
      "Warnings:\n",
      "[1] Covariance matrix calculated using the outer product of gradients (complex-step).\n"
     ]
    }
   ],
   "source": [
    "# Instantiate model\n",
    "mod121 = ARIMA(df_India[:-1], order=(1,2,1))\n",
    "\n",
    "# Fit model\n",
    "mod121_fit = mod121.fit()\n",
    "\n",
    "# Observe summary statistics\n",
    "print(mod121_fit.summary())"
   ]
  },
  {
   "cell_type": "markdown",
   "id": "0f9174f6",
   "metadata": {},
   "source": [
    "## Determining the Best Model"
   ]
  },
  {
   "cell_type": "markdown",
   "id": "13ad96ce",
   "metadata": {},
   "source": [
    "To determina the best model of the above, we will fit them each to out train-test-split data and evaluate RMSE and AIC scores\n",
    "\n",
    "We choose to split our train and test sets in 2011, which is 90%/10% split. We chose this split as there is a suddent exponential rise in the late 2000's. Inclusion of higher slope of rise will help the model predict in better wide reange"
   ]
  },
  {
   "cell_type": "markdown",
   "id": "2f5f0051",
   "metadata": {},
   "source": [
    "### Re-Fit Models to Train-Test Split Data "
   ]
  },
  {
   "cell_type": "code",
   "execution_count": 45,
   "id": "f48ab506",
   "metadata": {},
   "outputs": [],
   "source": [
    "# Train-test split\n",
    "x = df_India.index\n",
    "y = df_India['total']\n",
    "\n",
    "train = df_India.loc[:'2011-01-01']\n",
    "test = df_India.loc['2011-01-01':]\n",
    "\n",
    "x_train, x_test = train.index, test.index\n",
    "y_train, y_test = train['total'], test['total']"
   ]
  },
  {
   "cell_type": "code",
   "execution_count": 46,
   "id": "9ce74b7a",
   "metadata": {},
   "outputs": [
    {
     "data": {
      "text/plain": [
       "year\n",
       "2011-01-01    1.091698\n",
       "2012-01-01    1.114692\n",
       "2013-01-01    1.117995\n",
       "2014-01-01    1.169753\n",
       "2015-01-01    1.158077\n",
       "2016-01-01    1.168769\n",
       "Name: total, dtype: float64"
      ]
     },
     "execution_count": 46,
     "metadata": {},
     "output_type": "execute_result"
    }
   ],
   "source": [
    "y_test"
   ]
  },
  {
   "cell_type": "code",
   "execution_count": 47,
   "id": "1cbd1dce",
   "metadata": {},
   "outputs": [
    {
     "data": {
      "text/plain": [
       "year\n",
       "2011-01-01    1.091698\n",
       "2012-01-01    1.114692\n",
       "2013-01-01    1.117995\n",
       "2014-01-01    1.169753\n",
       "2015-01-01    1.158077\n",
       "2016-01-01    1.168769\n",
       "Name: total, dtype: float64"
      ]
     },
     "execution_count": 47,
     "metadata": {},
     "output_type": "execute_result"
    }
   ],
   "source": [
    "y_test"
   ]
  },
  {
   "cell_type": "code",
   "execution_count": 48,
   "id": "a44d6aa4",
   "metadata": {},
   "outputs": [],
   "source": [
    "# 121 data\n",
    "# Instantiate and fit model to train data\n",
    "model121 = ARIMA(y_train[2:], order=(1,2,1)) #p,d,q\n",
    "model121_fit = model121.fit()\n",
    "\n",
    "#Prediction\n",
    "pred121 = model121_fit.predict(start='1990-01-01', end='2016-01-01', dynamic=False)"
   ]
  },
  {
   "cell_type": "markdown",
   "id": "db874f61",
   "metadata": {},
   "source": [
    "### Analyze Final Model"
   ]
  },
  {
   "cell_type": "code",
   "execution_count": 49,
   "id": "edf316ad",
   "metadata": {},
   "outputs": [
    {
     "data": {
      "image/png": "[encoded data removed]",
      "text/plain": [
       "<Figure size 432x288 with 1 Axes>"
      ]
     },
     "metadata": {
      "needs_background": "light"
     },
     "output_type": "display_data"
    }
   ],
   "source": [
    "#Visualize resicudals\n",
    "residuals = DataFrame(model121_fit.resid)\n",
    "residuals.plot(color='royalblue')\n",
    "plt.show()"
   ]
  },
  {
   "cell_type": "code",
   "execution_count": 50,
   "id": "de3661cd",
   "metadata": {},
   "outputs": [
    {
     "data": {
      "text/html": [
       "<div>\n",
       "<style scoped>\n",
       "    .dataframe tbody tr th:only-of-type {\n",
       "        vertical-align: middle;\n",
       "    }\n",
       "\n",
       "    .dataframe tbody tr th {\n",
       "        vertical-align: top;\n",
       "    }\n",
       "\n",
       "    .dataframe thead th {\n",
       "        text-align: right;\n",
       "    }\n",
       "</style>\n",
       "<table border=\"1\" class=\"dataframe\">\n",
       "  <thead>\n",
       "    <tr style=\"text-align: right;\">\n",
       "      <th></th>\n",
       "      <th>0</th>\n",
       "    </tr>\n",
       "  </thead>\n",
       "  <tbody>\n",
       "    <tr>\n",
       "      <th>count</th>\n",
       "      <td>49.000000</td>\n",
       "    </tr>\n",
       "    <tr>\n",
       "      <th>mean</th>\n",
       "      <td>0.009600</td>\n",
       "    </tr>\n",
       "    <tr>\n",
       "      <th>std</th>\n",
       "      <td>0.103128</td>\n",
       "    </tr>\n",
       "    <tr>\n",
       "      <th>min</th>\n",
       "      <td>-0.319077</td>\n",
       "    </tr>\n",
       "    <tr>\n",
       "      <th>25%</th>\n",
       "      <td>-0.008359</td>\n",
       "    </tr>\n",
       "    <tr>\n",
       "      <th>50%</th>\n",
       "      <td>0.000330</td>\n",
       "    </tr>\n",
       "    <tr>\n",
       "      <th>75%</th>\n",
       "      <td>0.017525</td>\n",
       "    </tr>\n",
       "    <tr>\n",
       "      <th>max</th>\n",
       "      <td>0.627844</td>\n",
       "    </tr>\n",
       "  </tbody>\n",
       "</table>\n",
       "</div>"
      ],
      "text/plain": [
       "               0\n",
       "count  49.000000\n",
       "mean    0.009600\n",
       "std     0.103128\n",
       "min    -0.319077\n",
       "25%    -0.008359\n",
       "50%     0.000330\n",
       "75%     0.017525\n",
       "max     0.627844"
      ]
     },
     "execution_count": 50,
     "metadata": {},
     "output_type": "execute_result"
    }
   ],
   "source": [
    "#observe residuals/error distributions\n",
    "residuals.describe()"
   ]
  },
  {
   "cell_type": "markdown",
   "id": "f752b193",
   "metadata": {},
   "source": [
    "Based on the above, we observe that our model has minimal error with little bias, with a mean of approximately 0. Next, we observe a density plot of the residual error values, suggesting the errors ar gaussian, but may not be centered on zero"
   ]
  },
  {
   "cell_type": "code",
   "execution_count": 51,
   "id": "dac9ee44",
   "metadata": {},
   "outputs": [
    {
     "data": {
      "image/png": "[encoded data removed]",
      "text/plain": [
       "<Figure size 432x288 with 1 Axes>"
      ]
     },
     "metadata": {
      "needs_background": "light"
     },
     "output_type": "display_data"
    }
   ],
   "source": [
    "#check for linearlity\n",
    "residuals = DataFrame(model121_fit.resid)\n",
    "residuals.plot(kind='kde', color='royalblue')\n",
    "plt.show()"
   ]
  },
  {
   "cell_type": "markdown",
   "id": "2f767691",
   "metadata": {},
   "source": [
    "Based on the above, we observe that our model is nearly linear, with mean of approximately 0. Next we observe the diagnostics to evaluate our model"
   ]
  },
  {
   "cell_type": "code",
   "execution_count": 52,
   "id": "f95be9c1",
   "metadata": {},
   "outputs": [
    {
     "data": {
      "image/png": "[encoded data removed]",
      "text/plain": [
       "<Figure size 720x576 with 4 Axes>"
      ]
     },
     "metadata": {
      "needs_background": "light"
     },
     "output_type": "display_data"
    }
   ],
   "source": [
    "#observe diagonstics\n",
    "model121_fit.plot_diagnostics(figsize=(10,8))\n",
    "plt.show()"
   ]
  },
  {
   "cell_type": "markdown",
   "id": "1f47e1b2",
   "metadata": {},
   "source": [
    "In the top right plot, thw orangered line follows closely with the N(0,1) line. Where, N(0,1) is the standard notation for a normal distribution with mean 0 and standard deviation 1. This is a good indication thath the residuals are normally distributed. The forecast errors deviate a little bit from the straight line, indicating that the normal distribution is not a perfect model for the distribution of forecast errors, but it is not unreasonable.\n",
    "\n",
    "The qq-plot on the bottom left shows that the ordered distribution of residuals (blue dots) follows the linear trend of the samples taken from a standard normal distribution. Again,this is a strong indication that the residuals are normally distributed.\n",
    "\n",
    "The residuals over time (top left plot) don't display any obvious seasonality and appear to be white noise. This is confirmed by the autocorrelation (i.e, correlation) plot on the bottom right, which shows that the time series residuals have low correlation with lagged versions of itself."
   ]
  },
  {
   "cell_type": "code",
   "execution_count": 53,
   "id": "9cca8c16",
   "metadata": {},
   "outputs": [
    {
     "data": {
      "text/html": [
       "<div>\n",
       "<style scoped>\n",
       "    .dataframe tbody tr th:only-of-type {\n",
       "        vertical-align: middle;\n",
       "    }\n",
       "\n",
       "    .dataframe tbody tr th {\n",
       "        vertical-align: top;\n",
       "    }\n",
       "\n",
       "    .dataframe thead th {\n",
       "        text-align: right;\n",
       "    }\n",
       "</style>\n",
       "<table border=\"1\" class=\"dataframe\">\n",
       "  <thead>\n",
       "    <tr style=\"text-align: right;\">\n",
       "      <th></th>\n",
       "      <th>lower total</th>\n",
       "      <th>upper total</th>\n",
       "    </tr>\n",
       "  </thead>\n",
       "  <tbody>\n",
       "    <tr>\n",
       "      <th>1990-01-01</th>\n",
       "      <td>0.757512</td>\n",
       "      <td>0.835983</td>\n",
       "    </tr>\n",
       "    <tr>\n",
       "      <th>1991-01-01</th>\n",
       "      <td>0.759814</td>\n",
       "      <td>0.838284</td>\n",
       "    </tr>\n",
       "    <tr>\n",
       "      <th>1992-01-01</th>\n",
       "      <td>0.762769</td>\n",
       "      <td>0.841239</td>\n",
       "    </tr>\n",
       "    <tr>\n",
       "      <th>1993-01-01</th>\n",
       "      <td>0.780722</td>\n",
       "      <td>0.859192</td>\n",
       "    </tr>\n",
       "    <tr>\n",
       "      <th>1994-01-01</th>\n",
       "      <td>0.775766</td>\n",
       "      <td>0.854237</td>\n",
       "    </tr>\n",
       "    <tr>\n",
       "      <th>1995-01-01</th>\n",
       "      <td>0.791172</td>\n",
       "      <td>0.869642</td>\n",
       "    </tr>\n",
       "    <tr>\n",
       "      <th>1996-01-01</th>\n",
       "      <td>0.797159</td>\n",
       "      <td>0.875630</td>\n",
       "    </tr>\n",
       "    <tr>\n",
       "      <th>1997-01-01</th>\n",
       "      <td>0.810353</td>\n",
       "      <td>0.888823</td>\n",
       "    </tr>\n",
       "    <tr>\n",
       "      <th>1998-01-01</th>\n",
       "      <td>0.823286</td>\n",
       "      <td>0.901757</td>\n",
       "    </tr>\n",
       "    <tr>\n",
       "      <th>1999-01-01</th>\n",
       "      <td>0.832319</td>\n",
       "      <td>0.910789</td>\n",
       "    </tr>\n",
       "  </tbody>\n",
       "</table>\n",
       "</div>"
      ],
      "text/plain": [
       "            lower total  upper total\n",
       "1990-01-01     0.757512     0.835983\n",
       "1991-01-01     0.759814     0.838284\n",
       "1992-01-01     0.762769     0.841239\n",
       "1993-01-01     0.780722     0.859192\n",
       "1994-01-01     0.775766     0.854237\n",
       "1995-01-01     0.791172     0.869642\n",
       "1996-01-01     0.797159     0.875630\n",
       "1997-01-01     0.810353     0.888823\n",
       "1998-01-01     0.823286     0.901757\n",
       "1999-01-01     0.832319     0.910789"
      ]
     },
     "execution_count": 53,
     "metadata": {},
     "output_type": "execute_result"
    }
   ],
   "source": [
    "#observe predictions\n",
    "pred_model121 = model121_fit.get_prediction(start='1990-01-01', end='2016-01-01', dynamic=False)\n",
    "pred_ci = pred_model121.conf_int()\n",
    "pred_ci.head(10)"
   ]
  },
  {
   "cell_type": "code",
   "execution_count": 54,
   "id": "f53106db",
   "metadata": {},
   "outputs": [
    {
     "data": {
      "image/png": "[encoded data removed]",
      "text/plain": [
       "<Figure size 432x288 with 1 Axes>"
      ]
     },
     "metadata": {
      "needs_background": "light"
     },
     "output_type": "display_data"
    }
   ],
   "source": [
    "#observe real vs forecasted emissions values\n",
    "\n",
    "#plot observed values\n",
    "ax = df_India['1961-01-01':].plot(label='observed', color='royalblue')\n",
    "\n",
    "#plot predicted values\n",
    "pred_model121.predicted_mean.plot(ax=ax, label='One-Step Forecast', color='orangered', alpha=0.9)\n",
    "\n",
    "#add fill between lines, set axes labels and title\n",
    "ax.fill_between(pred_ci.index,\n",
    "               pred_ci.iloc[:, 0],\n",
    "               pred_ci.iloc[:, 1],\n",
    "               color='r', alpha=0.2)\n",
    "\n",
    "ax.set_xlabel('Year', size=15)\n",
    "ax.set_ylabel('Ecological Footprint', size=12)\n",
    "ax.set_title('Real vs Predicted Ecological Footprint Per Capita \\n', size=15)\n",
    "\n",
    "plt.legend()\n",
    "plt.show()\n"
   ]
  },
  {
   "cell_type": "markdown",
   "id": "755f713a",
   "metadata": {},
   "source": [
    "\n",
    "The goal of developing the model is to get a good quality predictive power using dynamic forecast. That is, we use information from the timeseries up to a certain point, and after that point, forecasts are generated using values from historical time points "
   ]
  },
  {
   "cell_type": "code",
   "execution_count": 55,
   "id": "35a84fdf",
   "metadata": {},
   "outputs": [
    {
     "data": {
      "text/html": [
       "<div>\n",
       "<style scoped>\n",
       "    .dataframe tbody tr th:only-of-type {\n",
       "        vertical-align: middle;\n",
       "    }\n",
       "\n",
       "    .dataframe tbody tr th {\n",
       "        vertical-align: top;\n",
       "    }\n",
       "\n",
       "    .dataframe thead th {\n",
       "        text-align: right;\n",
       "    }\n",
       "</style>\n",
       "<table border=\"1\" class=\"dataframe\">\n",
       "  <thead>\n",
       "    <tr style=\"text-align: right;\">\n",
       "      <th></th>\n",
       "      <th>lower total</th>\n",
       "      <th>upper total</th>\n",
       "    </tr>\n",
       "  </thead>\n",
       "  <tbody>\n",
       "    <tr>\n",
       "      <th>2013-01-01</th>\n",
       "      <td>0.507663</td>\n",
       "      <td>1.764305</td>\n",
       "    </tr>\n",
       "    <tr>\n",
       "      <th>1999-01-01</th>\n",
       "      <td>0.709719</td>\n",
       "      <td>1.150332</td>\n",
       "    </tr>\n",
       "    <tr>\n",
       "      <th>2003-01-01</th>\n",
       "      <td>0.666133</td>\n",
       "      <td>1.311608</td>\n",
       "    </tr>\n",
       "    <tr>\n",
       "      <th>2014-01-01</th>\n",
       "      <td>0.488322</td>\n",
       "      <td>1.813069</td>\n",
       "    </tr>\n",
       "    <tr>\n",
       "      <th>2002-01-01</th>\n",
       "      <td>0.678184</td>\n",
       "      <td>1.270135</td>\n",
       "    </tr>\n",
       "    <tr>\n",
       "      <th>2016-01-01</th>\n",
       "      <td>0.447880</td>\n",
       "      <td>1.912356</td>\n",
       "    </tr>\n",
       "    <tr>\n",
       "      <th>1994-01-01</th>\n",
       "      <td>0.745643</td>\n",
       "      <td>0.967288</td>\n",
       "    </tr>\n",
       "    <tr>\n",
       "      <th>2012-01-01</th>\n",
       "      <td>0.526405</td>\n",
       "      <td>1.716141</td>\n",
       "    </tr>\n",
       "    <tr>\n",
       "      <th>1998-01-01</th>\n",
       "      <td>0.718623</td>\n",
       "      <td>1.112006</td>\n",
       "    </tr>\n",
       "    <tr>\n",
       "      <th>2001-01-01</th>\n",
       "      <td>0.689478</td>\n",
       "      <td>1.229418</td>\n",
       "    </tr>\n",
       "  </tbody>\n",
       "</table>\n",
       "</div>"
      ],
      "text/plain": [
       "            lower total  upper total\n",
       "2013-01-01     0.507663     1.764305\n",
       "1999-01-01     0.709719     1.150332\n",
       "2003-01-01     0.666133     1.311608\n",
       "2014-01-01     0.488322     1.813069\n",
       "2002-01-01     0.678184     1.270135\n",
       "2016-01-01     0.447880     1.912356\n",
       "1994-01-01     0.745643     0.967288\n",
       "2012-01-01     0.526405     1.716141\n",
       "1998-01-01     0.718623     1.112006\n",
       "2001-01-01     0.689478     1.229418"
      ]
     },
     "execution_count": 55,
     "metadata": {},
     "output_type": "execute_result"
    }
   ],
   "source": [
    "#get dynamic predictions\n",
    "pred_dynamic = model121_fit.get_prediction(start='1990-01-01', end='2016-01-01', dynamic=True, full_results=True)\n",
    "#get confidence Intervals\n",
    "pred_dynamic_ci = pred_dynamic.conf_int()\n",
    "pred_dynamic_ci.sample(10)"
   ]
  },
  {
   "cell_type": "code",
   "execution_count": 56,
   "id": "bbdd2060",
   "metadata": {},
   "outputs": [
    {
     "data": {
      "image/png": "[encoded data removed]",
      "text/plain": [
       "<Figure size 432x288 with 1 Axes>"
      ]
     },
     "metadata": {
      "needs_background": "light"
     },
     "output_type": "display_data"
    }
   ],
   "source": [
    "#plot observed values\n",
    "ax = df_India['1960-01-01':].plot(label='observed', color='royalblue')\n",
    "\n",
    "#plot predicted values\n",
    "pred_dynamic.predicted_mean.plot(ax=ax, label='Dynamic Forecast', color='orangered', alpha=0.9)\n",
    "\n",
    "#add fill between lines, set axes labels and title\n",
    "ax.fill_between(pred_dynamic_ci.index,\n",
    "               pred_dynamic_ci.iloc[:, 0],\n",
    "               pred_dynamic_ci.iloc[:, 1],\n",
    "               color='r', alpha=0.3)\n",
    "\n",
    "ax.fill_betweenx(ax.get_ylim(),\n",
    "                '1990-01-01',\n",
    "                df_India.index[-1],\n",
    "                alpha=0.2,\n",
    "                zorder= -1)\n",
    "\n",
    "ax.set_xlabel('Year', size=15)\n",
    "ax.set_ylabel('Ecological Footprint Per Capita', size=12)\n",
    "ax.set_title('Real vs Predicted Per Capita Ecological Footprint \\n', size=15)\n",
    "\n",
    "plt.legend()\n",
    "plt.show()\n"
   ]
  },
  {
   "cell_type": "markdown",
   "id": "bccfaf4b",
   "metadata": {},
   "source": [
    "**SARIMA Model**"
   ]
  },
  {
   "cell_type": "code",
   "execution_count": 57,
   "id": "90ded0d8",
   "metadata": {},
   "outputs": [
    {
     "name": "stdout",
     "output_type": "stream",
     "text": [
      "Performing stepwise search to minimize aic\n",
      " ARIMA(2,2,2)(1,0,1)[6]             : AIC=-254.894, Time=0.34 sec\n",
      " ARIMA(0,2,0)(0,0,0)[6]             : AIC=-224.830, Time=0.01 sec\n",
      " ARIMA(1,2,0)(1,0,0)[6]             : AIC=-250.521, Time=0.09 sec\n",
      " ARIMA(0,2,1)(0,0,1)[6]             : AIC=-260.854, Time=0.13 sec\n",
      " ARIMA(0,2,1)(0,0,0)[6]             : AIC=-262.697, Time=0.07 sec\n",
      " ARIMA(0,2,1)(1,0,0)[6]             : AIC=-260.755, Time=0.08 sec\n",
      " ARIMA(0,2,1)(1,0,1)[6]             : AIC=-260.803, Time=0.12 sec\n",
      " ARIMA(1,2,1)(0,0,0)[6]             : AIC=-262.575, Time=0.06 sec\n",
      " ARIMA(0,2,2)(0,0,0)[6]             : AIC=-262.070, Time=0.04 sec\n",
      " ARIMA(1,2,0)(0,0,0)[6]             : AIC=-252.299, Time=0.01 sec\n",
      " ARIMA(1,2,2)(0,0,0)[6]             : AIC=-260.919, Time=0.06 sec\n",
      " ARIMA(0,2,1)(0,0,0)[6] intercept   : AIC=-263.692, Time=0.03 sec\n",
      " ARIMA(0,2,1)(1,0,0)[6] intercept   : AIC=-261.839, Time=0.04 sec\n",
      " ARIMA(0,2,1)(0,0,1)[6] intercept   : AIC=-262.318, Time=0.10 sec\n",
      " ARIMA(0,2,1)(1,0,1)[6] intercept   : AIC=-259.706, Time=0.17 sec\n",
      " ARIMA(0,2,0)(0,0,0)[6] intercept   : AIC=-222.831, Time=0.02 sec\n",
      " ARIMA(1,2,1)(0,0,0)[6] intercept   : AIC=-263.859, Time=0.11 sec\n",
      " ARIMA(1,2,1)(1,0,0)[6] intercept   : AIC=-259.957, Time=0.10 sec\n",
      " ARIMA(1,2,1)(0,0,1)[6] intercept   : AIC=-262.941, Time=0.18 sec\n",
      " ARIMA(1,2,1)(1,0,1)[6] intercept   : AIC=inf, Time=0.24 sec\n",
      " ARIMA(1,2,0)(0,0,0)[6] intercept   : AIC=-250.299, Time=0.01 sec\n",
      " ARIMA(2,2,1)(0,0,0)[6] intercept   : AIC=inf, Time=0.13 sec\n",
      " ARIMA(1,2,2)(0,0,0)[6] intercept   : AIC=-257.807, Time=0.05 sec\n",
      " ARIMA(0,2,2)(0,0,0)[6] intercept   : AIC=inf, Time=0.13 sec\n",
      " ARIMA(2,2,0)(0,0,0)[6] intercept   : AIC=-255.823, Time=0.05 sec\n",
      " ARIMA(2,2,2)(0,0,0)[6] intercept   : AIC=inf, Time=0.12 sec\n",
      "\n",
      "Best model:  ARIMA(1,2,1)(0,0,0)[6] intercept\n",
      "Total fit time: 2.531 seconds\n"
     ]
    }
   ],
   "source": [
    "#building the model\n",
    "from pmdarima.arima import auto_arima\n",
    "smodel = auto_arima(df_India, \n",
    "                   trace=True, \n",
    "                   error_action='ignore', \n",
    "                   suppress_warnings=True, \n",
    "                   seasonal=True, \n",
    "                   m=6, \n",
    "                   stepwise=True)\n",
    "smodel_fit = smodel.fit(df_India)"
   ]
  },
  {
   "cell_type": "code",
   "execution_count": 58,
   "id": "2b025dfc",
   "metadata": {},
   "outputs": [],
   "source": [
    "# Train-test split\n",
    "xs = df_India.index\n",
    "ys = df_India['total']\n",
    "\n",
    "strain = df_India.loc[:'2011-01-01']\n",
    "stest = df_India.loc['2011-01-01':]\n",
    "\n",
    "x_strain, x_stest = strain.index, stest.index\n",
    "y_strain, y_stest = strain['total'], stest['total']"
   ]
  },
  {
   "cell_type": "code",
   "execution_count": 59,
   "id": "129aa790",
   "metadata": {},
   "outputs": [],
   "source": [
    "#instatiate SARIMA Model\n",
    "smodel = ARIMA(y_strain[2:],order=(1,2,1),seasonal_order=(0,0,0,6))\n",
    "smodel_fit = smodel.fit()\n",
    "\n",
    "#Prediction\n",
    "pred_mods = smodel_fit.predict(start='1990-01-01', end='2016-01-01', dynamic=False)"
   ]
  },
  {
   "cell_type": "code",
   "execution_count": 60,
   "id": "018a81dd",
   "metadata": {},
   "outputs": [
    {
     "data": {
      "text/plain": [
       "2011-01-01    1.093354\n",
       "2012-01-01    1.121236\n",
       "2013-01-01    1.148979\n",
       "2014-01-01    1.177160\n",
       "2015-01-01    1.205234\n",
       "2016-01-01    1.233334\n",
       "Freq: AS-JAN, Name: predicted_mean, dtype: float64"
      ]
     },
     "execution_count": 60,
     "metadata": {},
     "output_type": "execute_result"
    }
   ],
   "source": [
    "pred_mods['2011-01-01':]"
   ]
  },
  {
   "cell_type": "code",
   "execution_count": 61,
   "id": "632c85b0",
   "metadata": {},
   "outputs": [
    {
     "data": {
      "text/html": [
       "<div>\n",
       "<style scoped>\n",
       "    .dataframe tbody tr th:only-of-type {\n",
       "        vertical-align: middle;\n",
       "    }\n",
       "\n",
       "    .dataframe tbody tr th {\n",
       "        vertical-align: top;\n",
       "    }\n",
       "\n",
       "    .dataframe thead th {\n",
       "        text-align: right;\n",
       "    }\n",
       "</style>\n",
       "<table border=\"1\" class=\"dataframe\">\n",
       "  <thead>\n",
       "    <tr style=\"text-align: right;\">\n",
       "      <th></th>\n",
       "      <th>lower total</th>\n",
       "      <th>upper total</th>\n",
       "    </tr>\n",
       "  </thead>\n",
       "  <tbody>\n",
       "    <tr>\n",
       "      <th>1998-01-01</th>\n",
       "      <td>0.823286</td>\n",
       "      <td>0.901757</td>\n",
       "    </tr>\n",
       "    <tr>\n",
       "      <th>2013-01-01</th>\n",
       "      <td>1.093781</td>\n",
       "      <td>1.204177</td>\n",
       "    </tr>\n",
       "    <tr>\n",
       "      <th>2008-01-01</th>\n",
       "      <td>0.952913</td>\n",
       "      <td>1.031384</td>\n",
       "    </tr>\n",
       "    <tr>\n",
       "      <th>1997-01-01</th>\n",
       "      <td>0.810353</td>\n",
       "      <td>0.888823</td>\n",
       "    </tr>\n",
       "    <tr>\n",
       "      <th>2003-01-01</th>\n",
       "      <td>0.783610</td>\n",
       "      <td>0.862081</td>\n",
       "    </tr>\n",
       "    <tr>\n",
       "      <th>2006-01-01</th>\n",
       "      <td>0.856707</td>\n",
       "      <td>0.935177</td>\n",
       "    </tr>\n",
       "    <tr>\n",
       "      <th>2009-01-01</th>\n",
       "      <td>0.971235</td>\n",
       "      <td>1.049705</td>\n",
       "    </tr>\n",
       "    <tr>\n",
       "      <th>1990-01-01</th>\n",
       "      <td>0.757512</td>\n",
       "      <td>0.835983</td>\n",
       "    </tr>\n",
       "    <tr>\n",
       "      <th>2002-01-01</th>\n",
       "      <td>0.819740</td>\n",
       "      <td>0.898210</td>\n",
       "    </tr>\n",
       "    <tr>\n",
       "      <th>1999-01-01</th>\n",
       "      <td>0.832319</td>\n",
       "      <td>0.910789</td>\n",
       "    </tr>\n",
       "  </tbody>\n",
       "</table>\n",
       "</div>"
      ],
      "text/plain": [
       "            lower total  upper total\n",
       "1998-01-01     0.823286     0.901757\n",
       "2013-01-01     1.093781     1.204177\n",
       "2008-01-01     0.952913     1.031384\n",
       "1997-01-01     0.810353     0.888823\n",
       "2003-01-01     0.783610     0.862081\n",
       "2006-01-01     0.856707     0.935177\n",
       "2009-01-01     0.971235     1.049705\n",
       "1990-01-01     0.757512     0.835983\n",
       "2002-01-01     0.819740     0.898210\n",
       "1999-01-01     0.832319     0.910789"
      ]
     },
     "execution_count": 61,
     "metadata": {},
     "output_type": "execute_result"
    }
   ],
   "source": [
    "#observe prediction\n",
    "pred_smodel = smodel_fit.get_prediction(start='1990-01-01', end='2016-01-01', dynamic=False)\n",
    "pred_sci = pred_smodel.conf_int()\n",
    "pred_sci.sample(10)"
   ]
  },
  {
   "cell_type": "code",
   "execution_count": 62,
   "id": "2b7caa92",
   "metadata": {},
   "outputs": [
    {
     "data": {
      "image/png": "[encoded data removed]",
      "text/plain": [
       "<Figure size 432x288 with 1 Axes>"
      ]
     },
     "metadata": {
      "needs_background": "light"
     },
     "output_type": "display_data"
    }
   ],
   "source": [
    "#observe real vs forecasted emissions values\n",
    "\n",
    "#plot observed values\n",
    "ax = df_India['1961-01-01':].plot(label='Observed EF', color='royalblue', legend=True)\n",
    "\n",
    "#plot predicted values\n",
    "pred_smodel.predicted_mean.plot(ax=ax, label='ARIMA Predictions', color='orangered', alpha=0.9, legend=True)\n",
    "\n",
    "#add fill between lines, set axes labels and title\n",
    "\n",
    "ax.set_xlabel('Year', size=10)\n",
    "ax.set_ylabel('Ecological Footprint Per Capita (GHA) \\n', size=10)\n",
    "#ax.set_title('Real vs Predicted Ecological Footprint Per Capita \\n', size=15)\n",
    "\n",
    "plt.show()"
   ]
  },
  {
   "cell_type": "code",
   "execution_count": 63,
   "id": "dac09954",
   "metadata": {},
   "outputs": [
    {
     "data": {
      "text/plain": [
       "(6,)"
      ]
     },
     "execution_count": 63,
     "metadata": {},
     "output_type": "execute_result"
    }
   ],
   "source": [
    "y_stest.shape"
   ]
  },
  {
   "cell_type": "markdown",
   "id": "78d9dfdb",
   "metadata": {},
   "source": [
    "### Evaluate Models"
   ]
  },
  {
   "cell_type": "code",
   "execution_count": 64,
   "id": "0017fc2c",
   "metadata": {},
   "outputs": [
    {
     "name": "stdout",
     "output_type": "stream",
     "text": [
      "RMSE for the ARIMA Model :  0.03524\n",
      "RMSE for the SARIMA Model :  0.03524\n"
     ]
    }
   ],
   "source": [
    "#evaluate mse\n",
    "#Create a function to calculate RMSE for non-logged data\n",
    "def RMSE(pred, test):\n",
    "    return np.sqrt(((pred - y_test)**2).mean())\n",
    "\n",
    "print(\"RMSE for the ARIMA Model : \", round(RMSE(pred121['2011-01-01':], y_test),5))\n",
    "print(\"RMSE for the SARIMA Model : \", round(RMSE(pred_mods['2011-01-01':], y_stest),5))"
   ]
  },
  {
   "cell_type": "code",
   "execution_count": 65,
   "id": "b2efcb95",
   "metadata": {},
   "outputs": [
    {
     "name": "stdout",
     "output_type": "stream",
     "text": [
      " MAE for the ARIMA Model :  0.02639\n",
      " MAE for the SARIMA Model :  0.02639\n"
     ]
    }
   ],
   "source": [
    "from sklearn.metrics import mean_absolute_error\n",
    "#Create a function to calculate AIC for our models\n",
    "def MAE(test):\n",
    "    return mean_absolute_error(estest['2011-01-01':].total, test)\n",
    "\n",
    "print(\" MAE for the ARIMA Model : \", round(MAE(pred121['2011-01-01':]),5))\n",
    "print(\" MAE for the SARIMA Model : \", round(MAE(pred_mods['2011-01-01':]),5))"
   ]
  },
  {
   "cell_type": "code",
   "execution_count": 66,
   "id": "f93e9507",
   "metadata": {},
   "outputs": [
    {
     "name": "stdout",
     "output_type": "stream",
     "text": [
      " MAPE for the ARIMA Model :  2.29\n",
      " MAPE for the SARIMA Model :  2.29\n"
     ]
    }
   ],
   "source": [
    "#write a function to calculate MAPE value\n",
    "def MAPE(test): \n",
    "    return np.mean(np.abs((estest.total['2011-01-01':] - test) / estest.total['2011-01-01':])) * 100\n",
    "\n",
    "print(\" MAPE for the ARIMA Model : \", round(MAPE(pred121['2011-01-01':]),3))\n",
    "print(\" MAPE for the SARIMA Model : \", round(MAPE(pred_mods['2011-01-01':]),3))"
   ]
  },
  {
   "cell_type": "markdown",
   "id": "54a44ba1",
   "metadata": {},
   "source": [
    "Based on the above, we see that our model on our original data is much more predcitive.\n",
    "- We checked and we observed that SARIMA Model better results to ARIMA Model\n"
   ]
  },
  {
   "cell_type": "markdown",
   "id": "1ac321d1",
   "metadata": {},
   "source": [
    "### Forecast Future Ecological Footprint Per Capita"
   ]
  },
  {
   "cell_type": "markdown",
   "id": "3080885c",
   "metadata": {},
   "source": [
    "**ARIMA** "
   ]
  },
  {
   "cell_type": "code",
   "execution_count": 67,
   "id": "2d60494b",
   "metadata": {},
   "outputs": [
    {
     "data": {
      "text/html": [
       "<div>\n",
       "<style scoped>\n",
       "    .dataframe tbody tr th:only-of-type {\n",
       "        vertical-align: middle;\n",
       "    }\n",
       "\n",
       "    .dataframe tbody tr th {\n",
       "        vertical-align: top;\n",
       "    }\n",
       "\n",
       "    .dataframe thead th {\n",
       "        text-align: right;\n",
       "    }\n",
       "</style>\n",
       "<table border=\"1\" class=\"dataframe\">\n",
       "  <thead>\n",
       "    <tr style=\"text-align: right;\">\n",
       "      <th></th>\n",
       "      <th>lower total</th>\n",
       "      <th>upper total</th>\n",
       "    </tr>\n",
       "  </thead>\n",
       "  <tbody>\n",
       "    <tr>\n",
       "      <th>2012-01-01</th>\n",
       "      <td>1.082000</td>\n",
       "      <td>1.160471</td>\n",
       "    </tr>\n",
       "    <tr>\n",
       "      <th>2013-01-01</th>\n",
       "      <td>1.093781</td>\n",
       "      <td>1.204177</td>\n",
       "    </tr>\n",
       "    <tr>\n",
       "      <th>2014-01-01</th>\n",
       "      <td>1.103958</td>\n",
       "      <td>1.250362</td>\n",
       "    </tr>\n",
       "    <tr>\n",
       "      <th>2015-01-01</th>\n",
       "      <td>1.113685</td>\n",
       "      <td>1.296783</td>\n",
       "    </tr>\n",
       "    <tr>\n",
       "      <th>2016-01-01</th>\n",
       "      <td>1.122512</td>\n",
       "      <td>1.344156</td>\n",
       "    </tr>\n",
       "    <tr>\n",
       "      <th>2017-01-01</th>\n",
       "      <td>1.130464</td>\n",
       "      <td>1.392392</td>\n",
       "    </tr>\n",
       "    <tr>\n",
       "      <th>2018-01-01</th>\n",
       "      <td>1.137522</td>\n",
       "      <td>1.441525</td>\n",
       "    </tr>\n",
       "    <tr>\n",
       "      <th>2019-01-01</th>\n",
       "      <td>1.143703</td>\n",
       "      <td>1.491534</td>\n",
       "    </tr>\n",
       "    <tr>\n",
       "      <th>2020-01-01</th>\n",
       "      <td>1.149022</td>\n",
       "      <td>1.542405</td>\n",
       "    </tr>\n",
       "    <tr>\n",
       "      <th>2021-01-01</th>\n",
       "      <td>1.153502</td>\n",
       "      <td>1.594115</td>\n",
       "    </tr>\n",
       "    <tr>\n",
       "      <th>2022-01-01</th>\n",
       "      <td>1.157164</td>\n",
       "      <td>1.646644</td>\n",
       "    </tr>\n",
       "    <tr>\n",
       "      <th>2023-01-01</th>\n",
       "      <td>1.160029</td>\n",
       "      <td>1.699968</td>\n",
       "    </tr>\n",
       "    <tr>\n",
       "      <th>2024-01-01</th>\n",
       "      <td>1.162118</td>\n",
       "      <td>1.754069</td>\n",
       "    </tr>\n",
       "    <tr>\n",
       "      <th>2025-01-01</th>\n",
       "      <td>1.163452</td>\n",
       "      <td>1.808926</td>\n",
       "    </tr>\n",
       "    <tr>\n",
       "      <th>2026-01-01</th>\n",
       "      <td>1.164047</td>\n",
       "      <td>1.864521</td>\n",
       "    </tr>\n",
       "    <tr>\n",
       "      <th>2027-01-01</th>\n",
       "      <td>1.163923</td>\n",
       "      <td>1.920835</td>\n",
       "    </tr>\n",
       "    <tr>\n",
       "      <th>2028-01-01</th>\n",
       "      <td>1.163095</td>\n",
       "      <td>1.977853</td>\n",
       "    </tr>\n",
       "    <tr>\n",
       "      <th>2029-01-01</th>\n",
       "      <td>1.161579</td>\n",
       "      <td>2.035559</td>\n",
       "    </tr>\n",
       "    <tr>\n",
       "      <th>2030-01-01</th>\n",
       "      <td>1.159391</td>\n",
       "      <td>2.093937</td>\n",
       "    </tr>\n",
       "    <tr>\n",
       "      <th>2031-01-01</th>\n",
       "      <td>1.156544</td>\n",
       "      <td>2.152975</td>\n",
       "    </tr>\n",
       "  </tbody>\n",
       "</table>\n",
       "</div>"
      ],
      "text/plain": [
       "            lower total  upper total\n",
       "2012-01-01     1.082000     1.160471\n",
       "2013-01-01     1.093781     1.204177\n",
       "2014-01-01     1.103958     1.250362\n",
       "2015-01-01     1.113685     1.296783\n",
       "2016-01-01     1.122512     1.344156\n",
       "2017-01-01     1.130464     1.392392\n",
       "2018-01-01     1.137522     1.441525\n",
       "2019-01-01     1.143703     1.491534\n",
       "2020-01-01     1.149022     1.542405\n",
       "2021-01-01     1.153502     1.594115\n",
       "2022-01-01     1.157164     1.646644\n",
       "2023-01-01     1.160029     1.699968\n",
       "2024-01-01     1.162118     1.754069\n",
       "2025-01-01     1.163452     1.808926\n",
       "2026-01-01     1.164047     1.864521\n",
       "2027-01-01     1.163923     1.920835\n",
       "2028-01-01     1.163095     1.977853\n",
       "2029-01-01     1.161579     2.035559\n",
       "2030-01-01     1.159391     2.093937\n",
       "2031-01-01     1.156544     2.152975"
      ]
     },
     "execution_count": 67,
     "metadata": {},
     "output_type": "execute_result"
    }
   ],
   "source": [
    "#get forecast of 10 years stpes ahead in future\n",
    "forecast2030 = model121_fit.get_forecast(steps=20)\n",
    "#get confidence Intervals\n",
    "forecast2030_ci = forecast2030.conf_int()\n",
    "forecast2030_ci"
   ]
  },
  {
   "cell_type": "code",
   "execution_count": 68,
   "id": "3d1cdb0a",
   "metadata": {},
   "outputs": [
    {
     "data": {
      "image/png": "[encoded data removed]",
      "text/plain": [
       "<Figure size 432x288 with 1 Axes>"
      ]
     },
     "metadata": {
      "needs_background": "light"
     },
     "output_type": "display_data"
    }
   ],
   "source": [
    "#plot observed values\n",
    "ax = df_India['1961-01-01':].plot(label='observed', color='royalblue')\n",
    "\n",
    "#plot Forecast values\n",
    "forecast2030.predicted_mean.plot(ax=ax, label='Forecast', color='orangered', alpha=0.9)\n",
    "\n",
    "#add fill between lines, set axes labels and title\n",
    "ax.fill_between(forecast2030_ci.index,\n",
    "               forecast2030_ci.iloc[:, 0],\n",
    "               forecast2030_ci.iloc[:, 1],\n",
    "               color='g', alpha=0.3)\n",
    "\n",
    "ax.set_xlabel('Year', size=15)\n",
    "ax.set_ylabel('Ecological Footprint Per Capita', size=12)\n",
    "ax.set_title('Future Forecast Ecological Footprint Per Capita \\n', size=15)\n",
    "\n",
    "plt.legend()\n",
    "plt.show()"
   ]
  },
  {
   "cell_type": "markdown",
   "id": "b911a706",
   "metadata": {},
   "source": [
    "**SARIMA**"
   ]
  },
  {
   "cell_type": "code",
   "execution_count": 69,
   "id": "476228ef",
   "metadata": {},
   "outputs": [
    {
     "data": {
      "text/html": [
       "<div>\n",
       "<style scoped>\n",
       "    .dataframe tbody tr th:only-of-type {\n",
       "        vertical-align: middle;\n",
       "    }\n",
       "\n",
       "    .dataframe tbody tr th {\n",
       "        vertical-align: top;\n",
       "    }\n",
       "\n",
       "    .dataframe thead th {\n",
       "        text-align: right;\n",
       "    }\n",
       "</style>\n",
       "<table border=\"1\" class=\"dataframe\">\n",
       "  <thead>\n",
       "    <tr style=\"text-align: right;\">\n",
       "      <th></th>\n",
       "      <th>lower total</th>\n",
       "      <th>upper total</th>\n",
       "    </tr>\n",
       "  </thead>\n",
       "  <tbody>\n",
       "    <tr>\n",
       "      <th>2012-01-01</th>\n",
       "      <td>1.082000</td>\n",
       "      <td>1.160471</td>\n",
       "    </tr>\n",
       "    <tr>\n",
       "      <th>2013-01-01</th>\n",
       "      <td>1.093781</td>\n",
       "      <td>1.204177</td>\n",
       "    </tr>\n",
       "    <tr>\n",
       "      <th>2014-01-01</th>\n",
       "      <td>1.103958</td>\n",
       "      <td>1.250362</td>\n",
       "    </tr>\n",
       "    <tr>\n",
       "      <th>2015-01-01</th>\n",
       "      <td>1.113685</td>\n",
       "      <td>1.296783</td>\n",
       "    </tr>\n",
       "    <tr>\n",
       "      <th>2016-01-01</th>\n",
       "      <td>1.122512</td>\n",
       "      <td>1.344156</td>\n",
       "    </tr>\n",
       "    <tr>\n",
       "      <th>2017-01-01</th>\n",
       "      <td>1.130464</td>\n",
       "      <td>1.392392</td>\n",
       "    </tr>\n",
       "    <tr>\n",
       "      <th>2018-01-01</th>\n",
       "      <td>1.137522</td>\n",
       "      <td>1.441525</td>\n",
       "    </tr>\n",
       "    <tr>\n",
       "      <th>2019-01-01</th>\n",
       "      <td>1.143703</td>\n",
       "      <td>1.491534</td>\n",
       "    </tr>\n",
       "    <tr>\n",
       "      <th>2020-01-01</th>\n",
       "      <td>1.149022</td>\n",
       "      <td>1.542405</td>\n",
       "    </tr>\n",
       "    <tr>\n",
       "      <th>2021-01-01</th>\n",
       "      <td>1.153502</td>\n",
       "      <td>1.594115</td>\n",
       "    </tr>\n",
       "    <tr>\n",
       "      <th>2022-01-01</th>\n",
       "      <td>1.157164</td>\n",
       "      <td>1.646644</td>\n",
       "    </tr>\n",
       "    <tr>\n",
       "      <th>2023-01-01</th>\n",
       "      <td>1.160029</td>\n",
       "      <td>1.699968</td>\n",
       "    </tr>\n",
       "    <tr>\n",
       "      <th>2024-01-01</th>\n",
       "      <td>1.162118</td>\n",
       "      <td>1.754069</td>\n",
       "    </tr>\n",
       "    <tr>\n",
       "      <th>2025-01-01</th>\n",
       "      <td>1.163452</td>\n",
       "      <td>1.808926</td>\n",
       "    </tr>\n",
       "    <tr>\n",
       "      <th>2026-01-01</th>\n",
       "      <td>1.164047</td>\n",
       "      <td>1.864521</td>\n",
       "    </tr>\n",
       "    <tr>\n",
       "      <th>2027-01-01</th>\n",
       "      <td>1.163923</td>\n",
       "      <td>1.920835</td>\n",
       "    </tr>\n",
       "    <tr>\n",
       "      <th>2028-01-01</th>\n",
       "      <td>1.163095</td>\n",
       "      <td>1.977853</td>\n",
       "    </tr>\n",
       "    <tr>\n",
       "      <th>2029-01-01</th>\n",
       "      <td>1.161579</td>\n",
       "      <td>2.035559</td>\n",
       "    </tr>\n",
       "    <tr>\n",
       "      <th>2030-01-01</th>\n",
       "      <td>1.159391</td>\n",
       "      <td>2.093937</td>\n",
       "    </tr>\n",
       "    <tr>\n",
       "      <th>2031-01-01</th>\n",
       "      <td>1.156544</td>\n",
       "      <td>2.152975</td>\n",
       "    </tr>\n",
       "  </tbody>\n",
       "</table>\n",
       "</div>"
      ],
      "text/plain": [
       "            lower total  upper total\n",
       "2012-01-01     1.082000     1.160471\n",
       "2013-01-01     1.093781     1.204177\n",
       "2014-01-01     1.103958     1.250362\n",
       "2015-01-01     1.113685     1.296783\n",
       "2016-01-01     1.122512     1.344156\n",
       "2017-01-01     1.130464     1.392392\n",
       "2018-01-01     1.137522     1.441525\n",
       "2019-01-01     1.143703     1.491534\n",
       "2020-01-01     1.149022     1.542405\n",
       "2021-01-01     1.153502     1.594115\n",
       "2022-01-01     1.157164     1.646644\n",
       "2023-01-01     1.160029     1.699968\n",
       "2024-01-01     1.162118     1.754069\n",
       "2025-01-01     1.163452     1.808926\n",
       "2026-01-01     1.164047     1.864521\n",
       "2027-01-01     1.163923     1.920835\n",
       "2028-01-01     1.163095     1.977853\n",
       "2029-01-01     1.161579     2.035559\n",
       "2030-01-01     1.159391     2.093937\n",
       "2031-01-01     1.156544     2.152975"
      ]
     },
     "execution_count": 69,
     "metadata": {},
     "output_type": "execute_result"
    }
   ],
   "source": [
    "#get forecast of 10 years stpes ahead in future\n",
    "forecast2030s = smodel_fit.get_forecast(steps=20)\n",
    "#get confidence Intervals\n",
    "forecast2030s_ci = forecast2030s.conf_int()\n",
    "forecast2030s_ci\n"
   ]
  },
  {
   "cell_type": "code",
   "execution_count": 70,
   "id": "9eefaec6",
   "metadata": {},
   "outputs": [
    {
     "data": {
      "image/png": "[encoded data removed]",
      "text/plain": [
       "<Figure size 432x288 with 1 Axes>"
      ]
     },
     "metadata": {
      "needs_background": "light"
     },
     "output_type": "display_data"
    }
   ],
   "source": [
    "#plot observed values\n",
    "ax = df_India['1961-01-01':].plot(label='observed', color='royalblue')\n",
    "\n",
    "#plot Forecast values\n",
    "forecast2030s.predicted_mean.plot(ax=ax, label='Forecast', color='orangered', alpha=0.9)\n",
    "\n",
    "#add fill between lines, set axes labels and title\n",
    "ax.fill_between(forecast2030s_ci.index,\n",
    "               forecast2030s_ci.iloc[:, 0],\n",
    "               forecast2030s_ci.iloc[:, 1],\n",
    "               color='g', alpha=0.3)\n",
    "\n",
    "ax.set_xlabel('Year', size=15)\n",
    "ax.set_ylabel('Ecological Footprint Per Capita', size=12)\n",
    "ax.set_title('Future Forecast Ecological Footprint Per Capita \\n', size=15)\n",
    "\n",
    "plt.legend()\n",
    "plt.show()"
   ]
  },
  {
   "cell_type": "markdown",
   "id": "5944d0e0",
   "metadata": {},
   "source": [
    "**Comparison**\n",
    "\n",
    "Lets compare and observe the predicts of ARIMA and Holt-Winter's models"
   ]
  },
  {
   "cell_type": "code",
   "execution_count": 71,
   "id": "a2350450",
   "metadata": {},
   "outputs": [
    {
     "data": {
      "image/png": "[encoded data removed]",
      "text/plain": [
       "<Figure size 432x288 with 1 Axes>"
      ]
     },
     "metadata": {
      "needs_background": "light"
     },
     "output_type": "display_data"
    }
   ],
   "source": [
    "#plot observed values\n",
    "ax = df_India['1951-01-01':].plot(label='observed', color='royalblue', legend=True)\n",
    "\n",
    "#plot predicted values\n",
    "#ARIMA Model\n",
    "pred_model121.predicted_mean.plot(ax=ax, label='ARIMA', color='green', alpha=0.9, legend=True)\n",
    "#Holt-Winter's TES\n",
    "test_tes_pred = model_tes_fit.predict(start='1990-01-01', end='2016-01-01')\n",
    "test_tes_pred.plot(ax=ax, label='Holt-Winters TES', color='red', alpha=0.9, legend = True)\n",
    "\n",
    "ax.set_xlabel('Year', size=15)\n",
    "ax.set_ylabel('Ecological Footprint Per Capita (GHA) \\n', size=10)\n",
    "ax.set_title('Real vs Predicted Ecological Footprint Per Capita \\n', size=15)\n",
    "\n",
    "plt.legend()\n",
    "plt.show()"
   ]
  },
  {
   "cell_type": "markdown",
   "id": "cfe742fc",
   "metadata": {},
   "source": [
    "Lets compare and observe the forecasts of ARIMA and Holt-Winter's models"
   ]
  },
  {
   "cell_type": "code",
   "execution_count": 123,
   "id": "fac37c1f",
   "metadata": {},
   "outputs": [
    {
     "data": {
      "image/png": "[encoded data removed]",
      "text/plain": [
       "<Figure size 432x288 with 1 Axes>"
      ]
     },
     "metadata": {
      "needs_background": "light"
     },
     "output_type": "display_data"
    }
   ],
   "source": [
    "#plot Forecast values of ARIMA\n",
    "ax = forecast2030.predicted_mean.plot( label='ARIMA', color='orangered', alpha=0.9, legend = True)\n",
    "\n",
    "#plot Forecast values of Holt-Winter's\n",
    "test_tes_20.plot(ax = ax, label = \"Holt-Winter's TES\", color='green', alpha=0.9,legend = True)\n",
    "\n",
    "ax.set_xlabel('Year', size=10)\n",
    "ax.set_ylabel('EF Per Capita (GHA) \\n', size=10)\n",
    "#ax.set_title('Future Forecast Ecological Footprint ARIMA vs TES \\n', size=15)\n",
    "\n",
    "plt.legend()\n",
    "plt.show()"
   ]
  },
  {
   "cell_type": "markdown",
   "id": "dac0dcad",
   "metadata": {},
   "source": [
    "#### Comparison Evaluation"
   ]
  },
  {
   "cell_type": "code",
   "execution_count": 73,
   "id": "87da87e2",
   "metadata": {},
   "outputs": [
    {
     "name": "stdout",
     "output_type": "stream",
     "text": [
      "RMSE for the ARIMA Model :  0.035\n",
      "RMSE for the Holt-Winter's Model :  0.025\n"
     ]
    }
   ],
   "source": [
    "#evaluate RMSE for ARIMA and Holt-Winter's Model\n",
    "print(\"RMSE for the ARIMA Model : \", round(RMSE(pred121, y_test),3))\n",
    "print(\"RMSE for the Holt-Winter's Model : \", round(np.sqrt(tes_mse),3))\n"
   ]
  },
  {
   "cell_type": "code",
   "execution_count": 74,
   "id": "260e7c59",
   "metadata": {},
   "outputs": [
    {
     "name": "stdout",
     "output_type": "stream",
     "text": [
      "MAE for the ARIMA Model :  0.026\n",
      "MAE for the Holt-Winter's Model :  0.022\n"
     ]
    }
   ],
   "source": [
    "#evaluate MAE for ARIMA and Holt-Winter's Model\n",
    "print(\"MAE for the ARIMA Model : \", round(MAE(pred121['2011-01-01':]),3))\n",
    "print(\"MAE for the Holt-Winter's Model : \", round(MAE(test_tes),3))"
   ]
  },
  {
   "cell_type": "code",
   "execution_count": 75,
   "id": "a08a0646",
   "metadata": {},
   "outputs": [
    {
     "name": "stdout",
     "output_type": "stream",
     "text": [
      " MAPE for the ARIMA Model :  2.29\n",
      " MAPE for the Holt-Winter's Model :  1.383\n"
     ]
    }
   ],
   "source": [
    "#evaluate MAPE for ARIMA and Holt-Winter's Model\n",
    "print(\" MAPE for the ARIMA Model : \", round(MAPE(pred121['2011-01-01':]),3))\n",
    "print(\" MAPE for the Holt-Winter's Model : \", round(MAPE(test_tes),3))"
   ]
  },
  {
   "cell_type": "markdown",
   "id": "163e9484",
   "metadata": {},
   "source": [
    "From above results, we can observe \n",
    "\n",
    ">- RMSE of Holt-Winter's (TES) is **lesser** than ARIMA\n",
    ">- MAE of Holt-Winter's (TES) is **lesser** than ARIMA\n",
    ">- MAPE of Holt-Winter's (TES) is **lesser** than ARIMA, means marginally better accuracy\n",
    "\n",
    "\n",
    "***TES performs well for predicting data post 2011 compared to other Models***\n"
   ]
  },
  {
   "cell_type": "markdown",
   "id": "05478863",
   "metadata": {},
   "source": [
    "### LSTM Model"
   ]
  },
  {
   "cell_type": "markdown",
   "id": "6b34334b",
   "metadata": {},
   "source": [
    "**Reporducibility** is extremely important as the parameter makes sure that when code is re-run, produces similar results"
   ]
  },
  {
   "cell_type": "code",
   "execution_count": 76,
   "id": "65c06478",
   "metadata": {},
   "outputs": [
    {
     "data": {
      "image/png": "[encoded data removed]",
      "text/plain": [
       "<Figure size 432x288 with 1 Axes>"
      ]
     },
     "metadata": {
      "needs_background": "light"
     },
     "output_type": "display_data"
    }
   ],
   "source": [
    "ax = df_India.plot(label='', color='royalblue', alpha=0.9, legend = True)\n",
    "ax.set_xlabel('Year', size=15)\n",
    "ax.set_ylabel('EF per capita (gha) \\n', size=12)\n",
    "ax.set_title('Ecological Footprint of India', size=12)\n",
    "\n",
    "plt.legend()\n",
    "plt.show()"
   ]
  },
  {
   "cell_type": "code",
   "execution_count": 77,
   "id": "df0f177e",
   "metadata": {},
   "outputs": [],
   "source": [
    "#fix random seed for reproducibility\n",
    "np.random.seed(42)"
   ]
  },
  {
   "cell_type": "code",
   "execution_count": 78,
   "id": "cdad2ae6",
   "metadata": {},
   "outputs": [],
   "source": [
    "# Filter the target column from dataset and convert the dataframe to numpy\n",
    "data = df_India['total']\n",
    "dataset = df_India.values\n",
    "dataset = dataset.astype('float32')"
   ]
  },
  {
   "cell_type": "code",
   "execution_count": 79,
   "id": "5a22d930",
   "metadata": {},
   "outputs": [
    {
     "data": {
      "text/plain": [
       "(56, 1)"
      ]
     },
     "execution_count": 79,
     "metadata": {},
     "output_type": "execute_result"
    }
   ],
   "source": [
    "dataset.shape"
   ]
  },
  {
   "cell_type": "markdown",
   "id": "3f937c30",
   "metadata": {},
   "source": [
    "**Normalize Input**\n",
    "\n",
    "As with other deep learning problems, we can help neural network learn more rapidly by normalizing the inputs between 0 and 1. We will use `MinMaxScaler` for normalizing the input"
   ]
  },
  {
   "cell_type": "code",
   "execution_count": 80,
   "id": "93d1b3a2",
   "metadata": {},
   "outputs": [],
   "source": [
    "#normalize\n",
    "scaler = MinMaxScaler(feature_range=(0,1))\n",
    "scaled_dataset = scaler.fit_transform(dataset) #try standard scaler"
   ]
  },
  {
   "cell_type": "code",
   "execution_count": 81,
   "id": "0f84660b",
   "metadata": {},
   "outputs": [
    {
     "data": {
      "text/plain": [
       "(56, 1)"
      ]
     },
     "execution_count": 81,
     "metadata": {},
     "output_type": "execute_result"
    }
   ],
   "source": [
    "scaled_dataset.shape"
   ]
  },
  {
   "cell_type": "markdown",
   "id": "9c0e62b8",
   "metadata": {},
   "source": [
    "**Split intro train and test sets**"
   ]
  },
  {
   "cell_type": "code",
   "execution_count": 82,
   "id": "6267f640",
   "metadata": {},
   "outputs": [
    {
     "name": "stdout",
     "output_type": "stream",
     "text": [
      "44 12\n"
     ]
    }
   ],
   "source": [
    "#split train-set\n",
    "train_size = int(len(scaled_dataset)*0.80)\n",
    "test_size = len(scaled_dataset) - train_size\n",
    "train, test = scaled_dataset[0:train_size,:], scaled_dataset[train_size:len(scaled_dataset),:]\n",
    "print(len(train), len(test))"
   ]
  },
  {
   "cell_type": "code",
   "execution_count": 83,
   "id": "03864b65",
   "metadata": {},
   "outputs": [
    {
     "data": {
      "text/plain": [
       "(44, 1)"
      ]
     },
     "execution_count": 83,
     "metadata": {},
     "output_type": "execute_result"
    }
   ],
   "source": [
    "train.shape"
   ]
  },
  {
   "cell_type": "code",
   "execution_count": 84,
   "id": "e90ba1d5",
   "metadata": {},
   "outputs": [
    {
     "data": {
      "text/plain": [
       "(12, 1)"
      ]
     },
     "execution_count": 84,
     "metadata": {},
     "output_type": "execute_result"
    }
   ],
   "source": [
    "test.shape"
   ]
  },
  {
   "cell_type": "code",
   "execution_count": 85,
   "id": "31b8ceed",
   "metadata": {},
   "outputs": [],
   "source": [
    "# Convert the data into a Supervised-learning data\n",
    "\n",
    "x = []\n",
    "y = []\n",
    "look_back = 4\n",
    "for i in range(look_back, len(train)):\n",
    "    x.append(train[i-look_back:i, 0])\n",
    "    y.append(train[i, 0])\n",
    "\n",
    "# Converting into numpy sequences to train the LSTM model\n",
    "trainX, trainY = np.array(x), np.array(y) "
   ]
  },
  {
   "cell_type": "markdown",
   "id": "b8d60813",
   "metadata": {},
   "source": [
    "LSTM network should be fed with input data (X) with a specific array structure of form [Sample, time steps, features]\n",
    "\n",
    "lets restructure the train and test input data to required format"
   ]
  },
  {
   "cell_type": "code",
   "execution_count": 86,
   "id": "7e625909",
   "metadata": {},
   "outputs": [],
   "source": [
    "# Reshape the training data to 3 dimensional for LSTM input.\n",
    "X_train = np.reshape(trainX, (trainX.shape[0], trainX.shape[1], 1))"
   ]
  },
  {
   "cell_type": "code",
   "execution_count": 87,
   "id": "1526decf",
   "metadata": {},
   "outputs": [
    {
     "data": {
      "text/plain": [
       "(40, 4, 1)"
      ]
     },
     "execution_count": 87,
     "metadata": {},
     "output_type": "execute_result"
    }
   ],
   "source": [
    "X_train.shape"
   ]
  },
  {
   "cell_type": "code",
   "execution_count": 88,
   "id": "1369770d",
   "metadata": {},
   "outputs": [
    {
     "data": {
      "text/plain": [
       "(40,)"
      ]
     },
     "execution_count": 88,
     "metadata": {},
     "output_type": "execute_result"
    }
   ],
   "source": [
    "trainY.shape"
   ]
  },
  {
   "cell_type": "markdown",
   "id": "808322bc",
   "metadata": {},
   "source": [
    "The network has a visible layer with 1 input, a hidden layer with 100 LSTM units and then gradually reducing it, and an output layer that makes a single value prediction. The relu activation function is used for the LSTM blocks.\n"
   ]
  },
  {
   "cell_type": "code",
   "execution_count": 124,
   "id": "46581dca",
   "metadata": {},
   "outputs": [],
   "source": [
    "#create and fit the LSTM network\n",
    "modelx = Sequential()\n",
    "\n",
    "#Add first LSTM layer with 20% dropout regularisation\n",
    "modelx.add(LSTM(units = 100,\n",
    "                return_sequences = True,\n",
    "                activation = 'relu',\n",
    "                input_shape = (X_train.shape[1], 1)))\n",
    "modelx.add(Dropout(0.2))\n",
    "\n",
    "#Add Second LSTM Layer\n",
    "modelx.add(LSTM(units = 90,\n",
    "                return_sequences = True,\n",
    "                activation = 'relu'))\n",
    "modelx.add(Dropout(0.2))\n",
    "#Add Third LSTM Layer\n",
    "modelx.add(LSTM(units = 90,\n",
    "                activation = 'relu'))\n",
    "modelx.add(Dropout(0.2))\n",
    "\n",
    "#Add output layer\n",
    "modelx.add(Dense(1))"
   ]
  },
  {
   "cell_type": "code",
   "execution_count": 125,
   "id": "160ded5b",
   "metadata": {},
   "outputs": [
    {
     "name": "stdout",
     "output_type": "stream",
     "text": [
      "Model: \"sequential_1\"\n",
      "_________________________________________________________________\n",
      " Layer (type)                Output Shape              Param #   \n",
      "=================================================================\n",
      " lstm_3 (LSTM)               (None, 4, 100)            40800     \n",
      "                                                                 \n",
      " dropout_3 (Dropout)         (None, 4, 100)            0         \n",
      "                                                                 \n",
      " lstm_4 (LSTM)               (None, 4, 90)             68760     \n",
      "                                                                 \n",
      " dropout_4 (Dropout)         (None, 4, 90)             0         \n",
      "                                                                 \n",
      " lstm_5 (LSTM)               (None, 90)                65160     \n",
      "                                                                 \n",
      " dropout_5 (Dropout)         (None, 90)                0         \n",
      "                                                                 \n",
      " dense_1 (Dense)             (None, 1)                 91        \n",
      "                                                                 \n",
      "=================================================================\n",
      "Total params: 174,811\n",
      "Trainable params: 174,811\n",
      "Non-trainable params: 0\n",
      "_________________________________________________________________\n"
     ]
    }
   ],
   "source": [
    "#print model summary\n",
    "modelx.summary()\n",
    "\n",
    "#Visualize model architecture\n",
    "#plot_model(modelx, show_shapes=True)"
   ]
  },
  {
   "cell_type": "code",
   "execution_count": 126,
   "id": "2c0f21c8",
   "metadata": {
    "scrolled": false
   },
   "outputs": [
    {
     "name": "stdout",
     "output_type": "stream",
     "text": [
      "Epoch 1/100\n",
      "1/1 [==============================] - 3s 3s/step - loss: 0.0436 - val_loss: 0.1894\n",
      "Epoch 2/100\n",
      "1/1 [==============================] - 0s 45ms/step - loss: 0.0418 - val_loss: 0.1846\n",
      "Epoch 3/100\n",
      "1/1 [==============================] - 0s 41ms/step - loss: 0.0401 - val_loss: 0.1794\n",
      "Epoch 4/100\n",
      "1/1 [==============================] - 0s 45ms/step - loss: 0.0382 - val_loss: 0.1740\n",
      "Epoch 5/100\n",
      "1/1 [==============================] - 0s 43ms/step - loss: 0.0363 - val_loss: 0.1682\n",
      "Epoch 6/100\n",
      "1/1 [==============================] - 0s 42ms/step - loss: 0.0343 - val_loss: 0.1620\n",
      "Epoch 7/100\n",
      "1/1 [==============================] - 0s 45ms/step - loss: 0.0318 - val_loss: 0.1554\n",
      "Epoch 8/100\n",
      "1/1 [==============================] - 0s 47ms/step - loss: 0.0302 - val_loss: 0.1485\n",
      "Epoch 9/100\n",
      "1/1 [==============================] - 0s 44ms/step - loss: 0.0277 - val_loss: 0.1411\n",
      "Epoch 10/100\n",
      "1/1 [==============================] - 0s 45ms/step - loss: 0.0258 - val_loss: 0.1332\n",
      "Epoch 11/100\n",
      "1/1 [==============================] - 0s 43ms/step - loss: 0.0232 - val_loss: 0.1249\n",
      "Epoch 12/100\n",
      "1/1 [==============================] - 0s 44ms/step - loss: 0.0213 - val_loss: 0.1160\n",
      "Epoch 13/100\n",
      "1/1 [==============================] - 0s 45ms/step - loss: 0.0190 - val_loss: 0.1067\n",
      "Epoch 14/100\n",
      "1/1 [==============================] - 0s 44ms/step - loss: 0.0173 - val_loss: 0.0968\n",
      "Epoch 15/100\n",
      "1/1 [==============================] - 0s 46ms/step - loss: 0.0147 - val_loss: 0.0867\n",
      "Epoch 16/100\n",
      "1/1 [==============================] - 0s 41ms/step - loss: 0.0147 - val_loss: 0.0763\n",
      "Epoch 17/100\n",
      "1/1 [==============================] - 0s 43ms/step - loss: 0.0133 - val_loss: 0.0661\n",
      "Epoch 18/100\n",
      "1/1 [==============================] - 0s 46ms/step - loss: 0.0129 - val_loss: 0.0564\n",
      "Epoch 19/100\n",
      "1/1 [==============================] - 0s 45ms/step - loss: 0.0120 - val_loss: 0.0478\n",
      "Epoch 20/100\n",
      "1/1 [==============================] - 0s 43ms/step - loss: 0.0127 - val_loss: 0.0412\n",
      "Epoch 21/100\n",
      "1/1 [==============================] - 0s 43ms/step - loss: 0.0140 - val_loss: 0.0369\n",
      "Epoch 22/100\n",
      "1/1 [==============================] - 0s 46ms/step - loss: 0.0144 - val_loss: 0.0351\n",
      "Epoch 23/100\n",
      "1/1 [==============================] - 0s 45ms/step - loss: 0.0131 - val_loss: 0.0350\n",
      "Epoch 24/100\n",
      "1/1 [==============================] - 0s 44ms/step - loss: 0.0150 - val_loss: 0.0364\n",
      "Epoch 25/100\n",
      "1/1 [==============================] - 0s 46ms/step - loss: 0.0141 - val_loss: 0.0389\n",
      "Epoch 26/100\n",
      "1/1 [==============================] - 0s 51ms/step - loss: 0.0134 - val_loss: 0.0421\n",
      "Epoch 27/100\n",
      "1/1 [==============================] - 0s 46ms/step - loss: 0.0128 - val_loss: 0.0458\n",
      "Epoch 28/100\n",
      "1/1 [==============================] - 0s 43ms/step - loss: 0.0112 - val_loss: 0.0496\n",
      "Epoch 29/100\n",
      "1/1 [==============================] - 0s 46ms/step - loss: 0.0124 - val_loss: 0.0533\n",
      "Epoch 30/100\n",
      "1/1 [==============================] - 0s 43ms/step - loss: 0.0114 - val_loss: 0.0566\n",
      "Epoch 31/100\n",
      "1/1 [==============================] - 0s 48ms/step - loss: 0.0118 - val_loss: 0.0596\n",
      "Epoch 32/100\n",
      "1/1 [==============================] - 0s 42ms/step - loss: 0.0121 - val_loss: 0.0620\n",
      "Epoch 33/100\n",
      "1/1 [==============================] - 0s 43ms/step - loss: 0.0114 - val_loss: 0.0638\n",
      "Epoch 34/100\n",
      "1/1 [==============================] - 0s 39ms/step - loss: 0.0114 - val_loss: 0.0648\n",
      "Epoch 35/100\n",
      "1/1 [==============================] - 0s 44ms/step - loss: 0.0120 - val_loss: 0.0649\n",
      "Epoch 36/100\n",
      "1/1 [==============================] - 0s 43ms/step - loss: 0.0107 - val_loss: 0.0640\n",
      "Epoch 37/100\n",
      "1/1 [==============================] - 0s 43ms/step - loss: 0.0116 - val_loss: 0.0624\n",
      "Epoch 38/100\n",
      "1/1 [==============================] - 0s 43ms/step - loss: 0.0121 - val_loss: 0.0601\n",
      "Epoch 39/100\n",
      "1/1 [==============================] - 0s 41ms/step - loss: 0.0114 - val_loss: 0.0573\n",
      "Epoch 40/100\n",
      "1/1 [==============================] - 0s 45ms/step - loss: 0.0103 - val_loss: 0.0541\n",
      "Epoch 41/100\n",
      "1/1 [==============================] - 0s 40ms/step - loss: 0.0099 - val_loss: 0.0505\n",
      "Epoch 42/100\n",
      "1/1 [==============================] - 0s 42ms/step - loss: 0.0102 - val_loss: 0.0466\n",
      "Epoch 43/100\n",
      "1/1 [==============================] - 0s 44ms/step - loss: 0.0104 - val_loss: 0.0425\n",
      "Epoch 44/100\n",
      "1/1 [==============================] - 0s 43ms/step - loss: 0.0087 - val_loss: 0.0383\n",
      "Epoch 45/100\n",
      "1/1 [==============================] - 0s 42ms/step - loss: 0.0096 - val_loss: 0.0343\n",
      "Epoch 46/100\n",
      "1/1 [==============================] - 0s 43ms/step - loss: 0.0095 - val_loss: 0.0311\n",
      "Epoch 47/100\n",
      "1/1 [==============================] - 0s 42ms/step - loss: 0.0096 - val_loss: 0.0284\n",
      "Epoch 48/100\n",
      "1/1 [==============================] - 0s 41ms/step - loss: 0.0088 - val_loss: 0.0261\n",
      "Epoch 49/100\n",
      "1/1 [==============================] - 0s 40ms/step - loss: 0.0088 - val_loss: 0.0241\n",
      "Epoch 50/100\n",
      "1/1 [==============================] - 0s 40ms/step - loss: 0.0083 - val_loss: 0.0223\n",
      "Epoch 51/100\n",
      "1/1 [==============================] - 0s 42ms/step - loss: 0.0068 - val_loss: 0.0207\n",
      "Epoch 52/100\n",
      "1/1 [==============================] - 0s 42ms/step - loss: 0.0067 - val_loss: 0.0192\n",
      "Epoch 53/100\n",
      "1/1 [==============================] - 0s 41ms/step - loss: 0.0069 - val_loss: 0.0177\n",
      "Epoch 54/100\n",
      "1/1 [==============================] - 0s 42ms/step - loss: 0.0066 - val_loss: 0.0160\n",
      "Epoch 55/100\n",
      "1/1 [==============================] - 0s 42ms/step - loss: 0.0055 - val_loss: 0.0141\n",
      "Epoch 56/100\n",
      "1/1 [==============================] - 0s 42ms/step - loss: 0.0056 - val_loss: 0.0119\n",
      "Epoch 57/100\n",
      "1/1 [==============================] - 0s 40ms/step - loss: 0.0039 - val_loss: 0.0095\n",
      "Epoch 58/100\n",
      "1/1 [==============================] - 0s 39ms/step - loss: 0.0042 - val_loss: 0.0071\n",
      "Epoch 59/100\n",
      "1/1 [==============================] - 0s 42ms/step - loss: 0.0039 - val_loss: 0.0049\n",
      "Epoch 60/100\n",
      "1/1 [==============================] - 0s 42ms/step - loss: 0.0039 - val_loss: 0.0031\n",
      "Epoch 61/100\n",
      "1/1 [==============================] - 0s 39ms/step - loss: 0.0027 - val_loss: 0.0024\n",
      "Epoch 62/100\n",
      "1/1 [==============================] - 0s 38ms/step - loss: 0.0031 - val_loss: 0.0029\n",
      "Epoch 63/100\n",
      "1/1 [==============================] - 0s 36ms/step - loss: 0.0032 - val_loss: 0.0044\n",
      "Epoch 64/100\n",
      "1/1 [==============================] - 0s 41ms/step - loss: 0.0023 - val_loss: 0.0064\n",
      "Epoch 65/100\n",
      "1/1 [==============================] - 0s 41ms/step - loss: 0.0021 - val_loss: 0.0090\n",
      "Epoch 66/100\n",
      "1/1 [==============================] - 0s 41ms/step - loss: 0.0024 - val_loss: 0.0100\n",
      "Epoch 67/100\n",
      "1/1 [==============================] - 0s 40ms/step - loss: 0.0027 - val_loss: 0.0100\n",
      "Epoch 68/100\n",
      "1/1 [==============================] - 0s 39ms/step - loss: 0.0022 - val_loss: 0.0104\n",
      "Epoch 69/100\n",
      "1/1 [==============================] - 0s 41ms/step - loss: 0.0031 - val_loss: 0.0117\n",
      "Epoch 70/100\n",
      "1/1 [==============================] - 0s 38ms/step - loss: 0.0025 - val_loss: 0.0148\n",
      "Epoch 71/100\n",
      "1/1 [==============================] - 0s 40ms/step - loss: 0.0024 - val_loss: 0.0195\n",
      "Epoch 72/100\n",
      "1/1 [==============================] - 0s 41ms/step - loss: 0.0031 - val_loss: 0.0239\n",
      "Epoch 73/100\n",
      "1/1 [==============================] - 0s 40ms/step - loss: 0.0032 - val_loss: 0.0233\n",
      "Epoch 74/100\n",
      "1/1 [==============================] - 0s 39ms/step - loss: 0.0022 - val_loss: 0.0201\n",
      "Epoch 75/100\n",
      "1/1 [==============================] - 0s 40ms/step - loss: 0.0031 - val_loss: 0.0156\n",
      "Epoch 76/100\n",
      "1/1 [==============================] - 0s 41ms/step - loss: 0.0019 - val_loss: 0.0123\n",
      "Epoch 77/100\n",
      "1/1 [==============================] - 0s 46ms/step - loss: 0.0018 - val_loss: 0.0108\n",
      "Epoch 78/100\n",
      "1/1 [==============================] - 0s 42ms/step - loss: 0.0019 - val_loss: 0.0092\n",
      "Epoch 79/100\n",
      "1/1 [==============================] - 0s 41ms/step - loss: 0.0019 - val_loss: 0.0074\n",
      "Epoch 80/100\n",
      "1/1 [==============================] - 0s 38ms/step - loss: 0.0017 - val_loss: 0.0068\n",
      "Epoch 81/100\n",
      "1/1 [==============================] - 0s 48ms/step - loss: 0.0018 - val_loss: 0.0067\n",
      "Epoch 82/100\n",
      "1/1 [==============================] - 0s 44ms/step - loss: 0.0014 - val_loss: 0.0058\n",
      "Epoch 83/100\n",
      "1/1 [==============================] - 0s 41ms/step - loss: 0.0015 - val_loss: 0.0053\n"
     ]
    },
    {
     "name": "stdout",
     "output_type": "stream",
     "text": [
      "Epoch 84/100\n",
      "1/1 [==============================] - 0s 40ms/step - loss: 0.0016 - val_loss: 0.0047\n",
      "Epoch 85/100\n",
      "1/1 [==============================] - 0s 40ms/step - loss: 0.0018 - val_loss: 0.0043\n",
      "Epoch 86/100\n",
      "1/1 [==============================] - 0s 40ms/step - loss: 0.0017 - val_loss: 0.0040\n",
      "Epoch 87/100\n",
      "1/1 [==============================] - 0s 43ms/step - loss: 0.0015 - val_loss: 0.0038\n",
      "Epoch 88/100\n",
      "1/1 [==============================] - 0s 41ms/step - loss: 0.0022 - val_loss: 0.0033\n",
      "Epoch 89/100\n",
      "1/1 [==============================] - 0s 41ms/step - loss: 0.0020 - val_loss: 0.0031\n",
      "Epoch 90/100\n",
      "1/1 [==============================] - 0s 41ms/step - loss: 0.0018 - val_loss: 0.0031\n",
      "Epoch 91/100\n",
      "1/1 [==============================] - 0s 41ms/step - loss: 0.0014 - val_loss: 0.0032\n",
      "Epoch 92/100\n",
      "1/1 [==============================] - 0s 43ms/step - loss: 0.0017 - val_loss: 0.0036\n",
      "Epoch 93/100\n",
      "1/1 [==============================] - 0s 41ms/step - loss: 0.0023 - val_loss: 0.0040\n",
      "Epoch 94/100\n",
      "1/1 [==============================] - 0s 38ms/step - loss: 0.0017 - val_loss: 0.0043\n",
      "Epoch 95/100\n",
      "1/1 [==============================] - 0s 39ms/step - loss: 0.0018 - val_loss: 0.0050\n",
      "Epoch 96/100\n",
      "1/1 [==============================] - 0s 40ms/step - loss: 0.0014 - val_loss: 0.0054\n",
      "Epoch 97/100\n",
      "1/1 [==============================] - 0s 39ms/step - loss: 0.0016 - val_loss: 0.0057\n",
      "Epoch 98/100\n",
      "1/1 [==============================] - 0s 40ms/step - loss: 0.0021 - val_loss: 0.0052\n",
      "Epoch 99/100\n",
      "1/1 [==============================] - 0s 40ms/step - loss: 0.0020 - val_loss: 0.0048\n",
      "Epoch 100/100\n",
      "1/1 [==============================] - 0s 45ms/step - loss: 0.0017 - val_loss: 0.0048\n"
     ]
    }
   ],
   "source": [
    "modelx.compile(loss='mean_squared_error', optimizer='adam')\n",
    "history = modelx.fit(X_train,\n",
    "                     trainY, \n",
    "                     epochs = 100, \n",
    "                     batch_size = 128, \n",
    "                     validation_split = 0.2, \n",
    "                     verbose = 1, \n",
    "                     shuffle = False)"
   ]
  },
  {
   "cell_type": "code",
   "execution_count": 127,
   "id": "ee65835e",
   "metadata": {},
   "outputs": [
    {
     "data": {
      "text/html": [
       "<div>\n",
       "<style scoped>\n",
       "    .dataframe tbody tr th:only-of-type {\n",
       "        vertical-align: middle;\n",
       "    }\n",
       "\n",
       "    .dataframe tbody tr th {\n",
       "        vertical-align: top;\n",
       "    }\n",
       "\n",
       "    .dataframe thead th {\n",
       "        text-align: right;\n",
       "    }\n",
       "</style>\n",
       "<table border=\"1\" class=\"dataframe\">\n",
       "  <thead>\n",
       "    <tr style=\"text-align: right;\">\n",
       "      <th></th>\n",
       "      <th>loss</th>\n",
       "      <th>val_loss</th>\n",
       "    </tr>\n",
       "  </thead>\n",
       "  <tbody>\n",
       "    <tr>\n",
       "      <th>0</th>\n",
       "      <td>0.043590</td>\n",
       "      <td>0.189354</td>\n",
       "    </tr>\n",
       "    <tr>\n",
       "      <th>1</th>\n",
       "      <td>0.041834</td>\n",
       "      <td>0.184569</td>\n",
       "    </tr>\n",
       "    <tr>\n",
       "      <th>2</th>\n",
       "      <td>0.040055</td>\n",
       "      <td>0.179436</td>\n",
       "    </tr>\n",
       "    <tr>\n",
       "      <th>3</th>\n",
       "      <td>0.038166</td>\n",
       "      <td>0.173998</td>\n",
       "    </tr>\n",
       "    <tr>\n",
       "      <th>4</th>\n",
       "      <td>0.036336</td>\n",
       "      <td>0.168201</td>\n",
       "    </tr>\n",
       "  </tbody>\n",
       "</table>\n",
       "</div>"
      ],
      "text/plain": [
       "       loss  val_loss\n",
       "0  0.043590  0.189354\n",
       "1  0.041834  0.184569\n",
       "2  0.040055  0.179436\n",
       "3  0.038166  0.173998\n",
       "4  0.036336  0.168201"
      ]
     },
     "execution_count": 127,
     "metadata": {},
     "output_type": "execute_result"
    }
   ],
   "source": [
    "#Construct Metircs for the LSTM Model\n",
    "metrics = pd.DataFrame(modelx.history.history)\n",
    "metrics.head()"
   ]
  },
  {
   "cell_type": "code",
   "execution_count": 128,
   "id": "5f64d083",
   "metadata": {},
   "outputs": [
    {
     "data": {
      "text/plain": [
       "Text(0, 0.5, 'Loss')"
      ]
     },
     "execution_count": 128,
     "metadata": {},
     "output_type": "execute_result"
    },
    {
     "data": {
      "image/png": "[encoded data removed]",
      "text/plain": [
       "<Figure size 864x360 with 1 Axes>"
      ]
     },
     "metadata": {
      "needs_background": "light"
     },
     "output_type": "display_data"
    }
   ],
   "source": [
    "#Plot the loss of LSTM Model\n",
    "\n",
    "metrics[['loss', 'val_loss']].plot(figsize=(12,5))\n",
    "plt.title(\"Loss vs Val_loss\")\n",
    "plt.xlabel('Epochs')\n",
    "plt.ylabel('Loss')"
   ]
  },
  {
   "cell_type": "code",
   "execution_count": 129,
   "id": "76312d6c",
   "metadata": {},
   "outputs": [],
   "source": [
    "# Prepare the test data for validation\n",
    "test_data = scaled_dataset[train_size - look_back: , : ]\n",
    "\n",
    "#Create the x_test and y_test data sets\n",
    "X_test = []\n",
    "y_test =  dataset[train_size : , : ]\n",
    "for i in range(look_back, len(test_data)):\n",
    "    X_test.append(test_data[i-look_back:i,0])\n",
    "\n",
    "# Convert x_test to a numpy array\n",
    "X_test = np.array(X_test)"
   ]
  },
  {
   "cell_type": "code",
   "execution_count": 130,
   "id": "efc61d02",
   "metadata": {},
   "outputs": [
    {
     "data": {
      "text/plain": [
       "(12, 1)"
      ]
     },
     "execution_count": 130,
     "metadata": {},
     "output_type": "execute_result"
    }
   ],
   "source": [
    "# Prediction with the prepared LSTM model\n",
    "predicted_EF = modelx.predict(X_test)\n",
    "\n",
    "# Inverse scaling of predicted values to original scale\n",
    "predicted_EF = scaler.inverse_transform(predicted_EF)\n",
    "\n",
    "predicted_EF.shape\n"
   ]
  },
  {
   "cell_type": "markdown",
   "id": "bf9ee4c8",
   "metadata": {},
   "source": [
    "#### Evaluate Model"
   ]
  },
  {
   "cell_type": "code",
   "execution_count": 131,
   "id": "07bfcaff",
   "metadata": {},
   "outputs": [
    {
     "name": "stdout",
     "output_type": "stream",
     "text": [
      "Root Mean Square Error is: 0.06\n"
     ]
    }
   ],
   "source": [
    "# Determine the Root Mean Absoulute Error\n",
    "from math import sqrt\n",
    "rmse = sqrt(mean_squared_error(y_test,predicted_EF))\n",
    "print(\"Root Mean Square Error is:\", round(rmse,3))"
   ]
  },
  {
   "cell_type": "code",
   "execution_count": 132,
   "id": "8841b505",
   "metadata": {},
   "outputs": [
    {
     "name": "stdout",
     "output_type": "stream",
     "text": [
      "The Mean Absoulte Error is: 0.051\n"
     ]
    }
   ],
   "source": [
    "# Determine the Mean Absoulute Error\n",
    "mae = mean_absolute_error(y_test,predicted_EF)\n",
    "print(\"The Mean Absoulte Error is:\", round(mae,3))"
   ]
  },
  {
   "cell_type": "code",
   "execution_count": 133,
   "id": "4adddb6b",
   "metadata": {},
   "outputs": [
    {
     "name": "stdout",
     "output_type": "stream",
     "text": [
      "Mean Absolute Percentage Error is:  4.788\n"
     ]
    }
   ],
   "source": [
    "#Creare a function to calculate MAPE for our models\n",
    "def MAPE(pred): \n",
    "    return np.mean(np.abs((y_test - pred) / y_test)) * 100\n",
    "\n",
    "print('Mean Absolute Percentage Error is: ', round(MAPE(predicted_EF),3))\n"
   ]
  },
  {
   "cell_type": "code",
   "execution_count": 134,
   "id": "256bb5be",
   "metadata": {},
   "outputs": [
    {
     "data": {
      "image/png": "[encoded data removed]",
      "text/plain": [
       "<Figure size 720x360 with 1 Axes>"
      ]
     },
     "metadata": {
      "needs_background": "light"
     },
     "output_type": "display_data"
    }
   ],
   "source": [
    "# Plot the train, predicted and validated data set\n",
    "\n",
    "train = df_India[:train_size+1]\n",
    "valid = df_India[train_size:]\n",
    "valid['Predictions'] = predicted_EF\n",
    "plt.figure(figsize=(10,5))\n",
    "plt.title('Predication Ecological Footprint Per Capita')\n",
    "plt.xlabel('Date', fontsize=12)\n",
    "plt.ylabel('EF Per Capita (gha)', fontsize=12)\n",
    "plt.plot(train['total'])\n",
    "plt.plot(valid[['total', 'Predictions']])\n",
    "plt.legend(['Train', 'Valid', 'Predictions'], loc='lower right')\n",
    "plt.show()"
   ]
  },
  {
   "cell_type": "code",
   "execution_count": 135,
   "id": "cd911ded",
   "metadata": {},
   "outputs": [
    {
     "data": {
      "text/html": [
       "<div>\n",
       "<style scoped>\n",
       "    .dataframe tbody tr th:only-of-type {\n",
       "        vertical-align: middle;\n",
       "    }\n",
       "\n",
       "    .dataframe tbody tr th {\n",
       "        vertical-align: top;\n",
       "    }\n",
       "\n",
       "    .dataframe thead th {\n",
       "        text-align: right;\n",
       "    }\n",
       "</style>\n",
       "<table border=\"1\" class=\"dataframe\">\n",
       "  <thead>\n",
       "    <tr style=\"text-align: right;\">\n",
       "      <th></th>\n",
       "      <th>total</th>\n",
       "      <th>Predictions</th>\n",
       "    </tr>\n",
       "    <tr>\n",
       "      <th>year</th>\n",
       "      <th></th>\n",
       "      <th></th>\n",
       "    </tr>\n",
       "  </thead>\n",
       "  <tbody>\n",
       "    <tr>\n",
       "      <th>2005-01-01</th>\n",
       "      <td>0.888584</td>\n",
       "      <td>0.881029</td>\n",
       "    </tr>\n",
       "    <tr>\n",
       "      <th>2006-01-01</th>\n",
       "      <td>0.920275</td>\n",
       "      <td>0.879620</td>\n",
       "    </tr>\n",
       "    <tr>\n",
       "      <th>2007-01-01</th>\n",
       "      <td>0.978697</td>\n",
       "      <td>0.911093</td>\n",
       "    </tr>\n",
       "    <tr>\n",
       "      <th>2008-01-01</th>\n",
       "      <td>0.985990</td>\n",
       "      <td>0.935849</td>\n",
       "    </tr>\n",
       "    <tr>\n",
       "      <th>2009-01-01</th>\n",
       "      <td>1.022366</td>\n",
       "      <td>0.967298</td>\n",
       "    </tr>\n",
       "    <tr>\n",
       "      <th>2010-01-01</th>\n",
       "      <td>1.069519</td>\n",
       "      <td>1.014441</td>\n",
       "    </tr>\n",
       "    <tr>\n",
       "      <th>2011-01-01</th>\n",
       "      <td>1.091698</td>\n",
       "      <td>1.068457</td>\n",
       "    </tr>\n",
       "    <tr>\n",
       "      <th>2012-01-01</th>\n",
       "      <td>1.114692</td>\n",
       "      <td>1.103890</td>\n",
       "    </tr>\n",
       "    <tr>\n",
       "      <th>2013-01-01</th>\n",
       "      <td>1.117995</td>\n",
       "      <td>1.161338</td>\n",
       "    </tr>\n",
       "    <tr>\n",
       "      <th>2014-01-01</th>\n",
       "      <td>1.169753</td>\n",
       "      <td>1.216336</td>\n",
       "    </tr>\n",
       "    <tr>\n",
       "      <th>2015-01-01</th>\n",
       "      <td>1.158077</td>\n",
       "      <td>1.254041</td>\n",
       "    </tr>\n",
       "    <tr>\n",
       "      <th>2016-01-01</th>\n",
       "      <td>1.168769</td>\n",
       "      <td>1.290455</td>\n",
       "    </tr>\n",
       "  </tbody>\n",
       "</table>\n",
       "</div>"
      ],
      "text/plain": [
       "               total  Predictions\n",
       "year                             \n",
       "2005-01-01  0.888584     0.881029\n",
       "2006-01-01  0.920275     0.879620\n",
       "2007-01-01  0.978697     0.911093\n",
       "2008-01-01  0.985990     0.935849\n",
       "2009-01-01  1.022366     0.967298\n",
       "2010-01-01  1.069519     1.014441\n",
       "2011-01-01  1.091698     1.068457\n",
       "2012-01-01  1.114692     1.103890\n",
       "2013-01-01  1.117995     1.161338\n",
       "2014-01-01  1.169753     1.216336\n",
       "2015-01-01  1.158077     1.254041\n",
       "2016-01-01  1.168769     1.290455"
      ]
     },
     "execution_count": 135,
     "metadata": {},
     "output_type": "execute_result"
    }
   ],
   "source": [
    "valid"
   ]
  },
  {
   "cell_type": "markdown",
   "id": "0958f43f",
   "metadata": {},
   "source": [
    "### Forecasting CO2 Emissions"
   ]
  },
  {
   "cell_type": "markdown",
   "id": "6a97d9c4",
   "metadata": {},
   "source": [
    "Lets observe a forecast iver the entire data set with LSTM model"
   ]
  },
  {
   "cell_type": "markdown",
   "id": "ad2e686a",
   "metadata": {},
   "source": [
    "Since we converted the data into supervised data for a look_back of 4 years, we will  add initial 4 years to prevent data truncation"
   ]
  },
  {
   "cell_type": "code",
   "execution_count": 136,
   "id": "466b9e93",
   "metadata": {},
   "outputs": [
    {
     "data": {
      "text/html": [
       "<div>\n",
       "<style scoped>\n",
       "    .dataframe tbody tr th:only-of-type {\n",
       "        vertical-align: middle;\n",
       "    }\n",
       "\n",
       "    .dataframe tbody tr th {\n",
       "        vertical-align: top;\n",
       "    }\n",
       "\n",
       "    .dataframe thead th {\n",
       "        text-align: right;\n",
       "    }\n",
       "</style>\n",
       "<table border=\"1\" class=\"dataframe\">\n",
       "  <thead>\n",
       "    <tr style=\"text-align: right;\">\n",
       "      <th></th>\n",
       "      <th>total</th>\n",
       "    </tr>\n",
       "    <tr>\n",
       "      <th>year</th>\n",
       "      <th></th>\n",
       "    </tr>\n",
       "  </thead>\n",
       "  <tbody>\n",
       "    <tr>\n",
       "      <th>1961-01-01</th>\n",
       "      <td>0.625609</td>\n",
       "    </tr>\n",
       "    <tr>\n",
       "      <th>1962-01-01</th>\n",
       "      <td>0.629613</td>\n",
       "    </tr>\n",
       "    <tr>\n",
       "      <th>1963-01-01</th>\n",
       "      <td>0.627844</td>\n",
       "    </tr>\n",
       "    <tr>\n",
       "      <th>1964-01-01</th>\n",
       "      <td>0.622689</td>\n",
       "    </tr>\n",
       "    <tr>\n",
       "      <th>1961-01-01</th>\n",
       "      <td>0.625609</td>\n",
       "    </tr>\n",
       "    <tr>\n",
       "      <th>1962-01-01</th>\n",
       "      <td>0.629613</td>\n",
       "    </tr>\n",
       "    <tr>\n",
       "      <th>1963-01-01</th>\n",
       "      <td>0.627844</td>\n",
       "    </tr>\n",
       "    <tr>\n",
       "      <th>1964-01-01</th>\n",
       "      <td>0.622689</td>\n",
       "    </tr>\n",
       "    <tr>\n",
       "      <th>1965-01-01</th>\n",
       "      <td>0.613171</td>\n",
       "    </tr>\n",
       "    <tr>\n",
       "      <th>1966-01-01</th>\n",
       "      <td>0.619166</td>\n",
       "    </tr>\n",
       "    <tr>\n",
       "      <th>1967-01-01</th>\n",
       "      <td>0.643092</td>\n",
       "    </tr>\n",
       "    <tr>\n",
       "      <th>1968-01-01</th>\n",
       "      <td>0.652200</td>\n",
       "    </tr>\n",
       "    <tr>\n",
       "      <th>1969-01-01</th>\n",
       "      <td>0.653963</td>\n",
       "    </tr>\n",
       "    <tr>\n",
       "      <th>1970-01-01</th>\n",
       "      <td>0.674143</td>\n",
       "    </tr>\n",
       "    <tr>\n",
       "      <th>1971-01-01</th>\n",
       "      <td>0.676839</td>\n",
       "    </tr>\n",
       "    <tr>\n",
       "      <th>1972-01-01</th>\n",
       "      <td>0.645604</td>\n",
       "    </tr>\n",
       "    <tr>\n",
       "      <th>1973-01-01</th>\n",
       "      <td>0.670913</td>\n",
       "    </tr>\n",
       "    <tr>\n",
       "      <th>1974-01-01</th>\n",
       "      <td>0.644238</td>\n",
       "    </tr>\n",
       "    <tr>\n",
       "      <th>1975-01-01</th>\n",
       "      <td>0.680679</td>\n",
       "    </tr>\n",
       "    <tr>\n",
       "      <th>1976-01-01</th>\n",
       "      <td>0.673789</td>\n",
       "    </tr>\n",
       "    <tr>\n",
       "      <th>1977-01-01</th>\n",
       "      <td>0.680749</td>\n",
       "    </tr>\n",
       "    <tr>\n",
       "      <th>1978-01-01</th>\n",
       "      <td>0.683978</td>\n",
       "    </tr>\n",
       "    <tr>\n",
       "      <th>1979-01-01</th>\n",
       "      <td>0.665738</td>\n",
       "    </tr>\n",
       "    <tr>\n",
       "      <th>1980-01-01</th>\n",
       "      <td>0.659842</td>\n",
       "    </tr>\n",
       "    <tr>\n",
       "      <th>1981-01-01</th>\n",
       "      <td>0.685221</td>\n",
       "    </tr>\n",
       "    <tr>\n",
       "      <th>1982-01-01</th>\n",
       "      <td>0.676729</td>\n",
       "    </tr>\n",
       "    <tr>\n",
       "      <th>1983-01-01</th>\n",
       "      <td>0.711043</td>\n",
       "    </tr>\n",
       "    <tr>\n",
       "      <th>1984-01-01</th>\n",
       "      <td>0.726700</td>\n",
       "    </tr>\n",
       "    <tr>\n",
       "      <th>1985-01-01</th>\n",
       "      <td>0.717740</td>\n",
       "    </tr>\n",
       "    <tr>\n",
       "      <th>1986-01-01</th>\n",
       "      <td>0.725939</td>\n",
       "    </tr>\n",
       "    <tr>\n",
       "      <th>1987-01-01</th>\n",
       "      <td>0.721434</td>\n",
       "    </tr>\n",
       "    <tr>\n",
       "      <th>1988-01-01</th>\n",
       "      <td>0.753460</td>\n",
       "    </tr>\n",
       "    <tr>\n",
       "      <th>1989-01-01</th>\n",
       "      <td>0.786506</td>\n",
       "    </tr>\n",
       "    <tr>\n",
       "      <th>1990-01-01</th>\n",
       "      <td>0.783105</td>\n",
       "    </tr>\n",
       "    <tr>\n",
       "      <th>1991-01-01</th>\n",
       "      <td>0.790689</td>\n",
       "    </tr>\n",
       "    <tr>\n",
       "      <th>1992-01-01</th>\n",
       "      <td>0.809631</td>\n",
       "    </tr>\n",
       "    <tr>\n",
       "      <th>1993-01-01</th>\n",
       "      <td>0.802391</td>\n",
       "    </tr>\n",
       "    <tr>\n",
       "      <th>1994-01-01</th>\n",
       "      <td>0.822717</td>\n",
       "    </tr>\n",
       "    <tr>\n",
       "      <th>1995-01-01</th>\n",
       "      <td>0.825574</td>\n",
       "    </tr>\n",
       "    <tr>\n",
       "      <th>1996-01-01</th>\n",
       "      <td>0.840754</td>\n",
       "    </tr>\n",
       "    <tr>\n",
       "      <th>1997-01-01</th>\n",
       "      <td>0.852167</td>\n",
       "    </tr>\n",
       "    <tr>\n",
       "      <th>1998-01-01</th>\n",
       "      <td>0.860925</td>\n",
       "    </tr>\n",
       "    <tr>\n",
       "      <th>1999-01-01</th>\n",
       "      <td>0.881595</td>\n",
       "    </tr>\n",
       "    <tr>\n",
       "      <th>2000-01-01</th>\n",
       "      <td>0.857981</td>\n",
       "    </tr>\n",
       "    <tr>\n",
       "      <th>2001-01-01</th>\n",
       "      <td>0.854728</td>\n",
       "    </tr>\n",
       "    <tr>\n",
       "      <th>2002-01-01</th>\n",
       "      <td>0.820020</td>\n",
       "    </tr>\n",
       "    <tr>\n",
       "      <th>2003-01-01</th>\n",
       "      <td>0.858629</td>\n",
       "    </tr>\n",
       "    <tr>\n",
       "      <th>2004-01-01</th>\n",
       "      <td>0.876467</td>\n",
       "    </tr>\n",
       "    <tr>\n",
       "      <th>2005-01-01</th>\n",
       "      <td>0.888584</td>\n",
       "    </tr>\n",
       "    <tr>\n",
       "      <th>2006-01-01</th>\n",
       "      <td>0.920275</td>\n",
       "    </tr>\n",
       "    <tr>\n",
       "      <th>2007-01-01</th>\n",
       "      <td>0.978697</td>\n",
       "    </tr>\n",
       "    <tr>\n",
       "      <th>2008-01-01</th>\n",
       "      <td>0.985990</td>\n",
       "    </tr>\n",
       "    <tr>\n",
       "      <th>2009-01-01</th>\n",
       "      <td>1.022366</td>\n",
       "    </tr>\n",
       "    <tr>\n",
       "      <th>2010-01-01</th>\n",
       "      <td>1.069519</td>\n",
       "    </tr>\n",
       "    <tr>\n",
       "      <th>2011-01-01</th>\n",
       "      <td>1.091698</td>\n",
       "    </tr>\n",
       "    <tr>\n",
       "      <th>2012-01-01</th>\n",
       "      <td>1.114692</td>\n",
       "    </tr>\n",
       "    <tr>\n",
       "      <th>2013-01-01</th>\n",
       "      <td>1.117995</td>\n",
       "    </tr>\n",
       "    <tr>\n",
       "      <th>2014-01-01</th>\n",
       "      <td>1.169753</td>\n",
       "    </tr>\n",
       "    <tr>\n",
       "      <th>2015-01-01</th>\n",
       "      <td>1.158077</td>\n",
       "    </tr>\n",
       "    <tr>\n",
       "      <th>2016-01-01</th>\n",
       "      <td>1.168769</td>\n",
       "    </tr>\n",
       "  </tbody>\n",
       "</table>\n",
       "</div>"
      ],
      "text/plain": [
       "               total\n",
       "year                \n",
       "1961-01-01  0.625609\n",
       "1962-01-01  0.629613\n",
       "1963-01-01  0.627844\n",
       "1964-01-01  0.622689\n",
       "1961-01-01  0.625609\n",
       "1962-01-01  0.629613\n",
       "1963-01-01  0.627844\n",
       "1964-01-01  0.622689\n",
       "1965-01-01  0.613171\n",
       "1966-01-01  0.619166\n",
       "1967-01-01  0.643092\n",
       "1968-01-01  0.652200\n",
       "1969-01-01  0.653963\n",
       "1970-01-01  0.674143\n",
       "1971-01-01  0.676839\n",
       "1972-01-01  0.645604\n",
       "1973-01-01  0.670913\n",
       "1974-01-01  0.644238\n",
       "1975-01-01  0.680679\n",
       "1976-01-01  0.673789\n",
       "1977-01-01  0.680749\n",
       "1978-01-01  0.683978\n",
       "1979-01-01  0.665738\n",
       "1980-01-01  0.659842\n",
       "1981-01-01  0.685221\n",
       "1982-01-01  0.676729\n",
       "1983-01-01  0.711043\n",
       "1984-01-01  0.726700\n",
       "1985-01-01  0.717740\n",
       "1986-01-01  0.725939\n",
       "1987-01-01  0.721434\n",
       "1988-01-01  0.753460\n",
       "1989-01-01  0.786506\n",
       "1990-01-01  0.783105\n",
       "1991-01-01  0.790689\n",
       "1992-01-01  0.809631\n",
       "1993-01-01  0.802391\n",
       "1994-01-01  0.822717\n",
       "1995-01-01  0.825574\n",
       "1996-01-01  0.840754\n",
       "1997-01-01  0.852167\n",
       "1998-01-01  0.860925\n",
       "1999-01-01  0.881595\n",
       "2000-01-01  0.857981\n",
       "2001-01-01  0.854728\n",
       "2002-01-01  0.820020\n",
       "2003-01-01  0.858629\n",
       "2004-01-01  0.876467\n",
       "2005-01-01  0.888584\n",
       "2006-01-01  0.920275\n",
       "2007-01-01  0.978697\n",
       "2008-01-01  0.985990\n",
       "2009-01-01  1.022366\n",
       "2010-01-01  1.069519\n",
       "2011-01-01  1.091698\n",
       "2012-01-01  1.114692\n",
       "2013-01-01  1.117995\n",
       "2014-01-01  1.169753\n",
       "2015-01-01  1.158077\n",
       "2016-01-01  1.168769"
      ]
     },
     "execution_count": 136,
     "metadata": {},
     "output_type": "execute_result"
    }
   ],
   "source": [
    "#process data to avoid truncation\n",
    "test_data = df_India.head(4)\n",
    "test_data = pd.concat([test_data, df_India])\n",
    "test_data"
   ]
  },
  {
   "cell_type": "code",
   "execution_count": 137,
   "id": "5dee0bb6",
   "metadata": {},
   "outputs": [
    {
     "data": {
      "text/plain": [
       "(60, 1)"
      ]
     },
     "execution_count": 137,
     "metadata": {},
     "output_type": "execute_result"
    }
   ],
   "source": [
    "#Normalize data \n",
    "target = test_data['total']\n",
    "target_test = test_data.values\n",
    "test_scaled = scaler.fit_transform(target_test)\n",
    "test_scaled.shape"
   ]
  },
  {
   "cell_type": "code",
   "execution_count": 138,
   "id": "ad67ec9c",
   "metadata": {},
   "outputs": [],
   "source": [
    "test = test_scaled[:,:]"
   ]
  },
  {
   "cell_type": "markdown",
   "id": "2bccfd5f",
   "metadata": {},
   "source": [
    "Convert the test data into supervised data for forecasting using built LSTM model"
   ]
  },
  {
   "cell_type": "code",
   "execution_count": 139,
   "id": "8b3c9c4c",
   "metadata": {},
   "outputs": [],
   "source": [
    "#convert data\n",
    "xf_test = []\n",
    "yf_test = dataset[: , :]\n",
    "\n",
    "for i in range(look_back, len(test)):\n",
    "    xf_test.append(test[i-look_back:i, 0])\n",
    "\n",
    "#convert to a numpy array\n",
    "xf_test = np.array(xf_test)"
   ]
  },
  {
   "cell_type": "code",
   "execution_count": 140,
   "id": "81046ea8",
   "metadata": {},
   "outputs": [
    {
     "data": {
      "text/plain": [
       "(56, 4, 1)"
      ]
     },
     "execution_count": 140,
     "metadata": {},
     "output_type": "execute_result"
    }
   ],
   "source": [
    "#reshape the data into dimensions of LSTM model\n",
    "xf_test = xf_test.reshape(xf_test.shape[0], xf_test.shape[1], 1)\n",
    "xf_test.shape"
   ]
  },
  {
   "cell_type": "code",
   "execution_count": 141,
   "id": "ece1f9a3",
   "metadata": {},
   "outputs": [
    {
     "data": {
      "text/plain": [
       "(56, 1)"
      ]
     },
     "execution_count": 141,
     "metadata": {},
     "output_type": "execute_result"
    }
   ],
   "source": [
    "yf_test.shape"
   ]
  },
  {
   "cell_type": "code",
   "execution_count": 142,
   "id": "6d50867e",
   "metadata": {},
   "outputs": [
    {
     "data": {
      "text/plain": [
       "array([[0.6399796 ],\n",
       "       [0.64049375],\n",
       "       [0.6399344 ],\n",
       "       [0.6393898 ],\n",
       "       [0.6399796 ],\n",
       "       [0.6404715 ],\n",
       "       [0.63984185],\n",
       "       [0.6390112 ],\n",
       "       [0.63856494],\n",
       "       [0.6419318 ],\n",
       "       [0.65590894],\n",
       "       [0.6653152 ],\n",
       "       [0.6721138 ],\n",
       "       [0.6808327 ],\n",
       "       [0.67414623],\n",
       "       [0.6625035 ],\n",
       "       [0.6737105 ],\n",
       "       [0.6705145 ],\n",
       "       [0.69097936],\n",
       "       [0.68880486],\n",
       "       [0.6904495 ],\n",
       "       [0.68622255],\n",
       "       [0.67727274],\n",
       "       [0.6836063 ],\n",
       "       [0.7032952 ],\n",
       "       [0.7133298 ],\n",
       "       [0.73901385],\n",
       "       [0.7464625 ],\n",
       "       [0.7448722 ],\n",
       "       [0.7550279 ],\n",
       "       [0.76847607],\n",
       "       [0.79766506],\n",
       "       [0.8177158 ],\n",
       "       [0.82086104],\n",
       "       [0.83081037],\n",
       "       [0.84226036],\n",
       "       [0.84623164],\n",
       "       [0.86133754],\n",
       "       [0.87039447],\n",
       "       [0.8852022 ],\n",
       "       [0.89654547],\n",
       "       [0.90383196],\n",
       "       [0.90393853],\n",
       "       [0.88635373],\n",
       "       [0.8810295 ],\n",
       "       [0.87961966],\n",
       "       [0.9110926 ],\n",
       "       [0.93584913],\n",
       "       [0.9672977 ],\n",
       "       [1.0144408 ],\n",
       "       [1.0684565 ],\n",
       "       [1.1038901 ],\n",
       "       [1.1613379 ],\n",
       "       [1.2163357 ],\n",
       "       [1.2540408 ],\n",
       "       [1.2904556 ]], dtype=float32)"
      ]
     },
     "execution_count": 142,
     "metadata": {},
     "output_type": "execute_result"
    }
   ],
   "source": [
    "#predictions of entire dataset using LSTM Model\n",
    "predicted_EFx = modelx.predict(xf_test)\n",
    "predicted_EFx = scaler.inverse_transform(predicted_EFx)\n",
    "predicted_EFx"
   ]
  },
  {
   "cell_type": "code",
   "execution_count": 143,
   "id": "5e292acd",
   "metadata": {},
   "outputs": [
    {
     "data": {
      "image/png": "[encoded data removed]",
      "text/plain": [
       "<Figure size 576x360 with 1 Axes>"
      ]
     },
     "metadata": {
      "needs_background": "light"
     },
     "output_type": "display_data"
    }
   ],
   "source": [
    "# Plot the original and predicted CO2 emissions set\n",
    "\n",
    "pd.options.mode.chained_assignment = None \n",
    "train = df_India[:]\n",
    "valid = df_India[:]\n",
    "valid['Predictions'] = predicted_EFx\n",
    "plt.figure(figsize=(8,5))\n",
    "#plt.title('Forecasting Per Capita Ecological Footprint')\n",
    "plt.xlabel('Date', fontsize=12)\n",
    "plt.ylabel('Ecological Footprint (gha)', fontsize=12)\n",
    "plt.plot(train['total'])\n",
    "plt.plot(valid[['Predictions']])\n",
    "plt.legend(['Observed', 'predictions'], loc='lower right')\n",
    "plt.show()"
   ]
  },
  {
   "cell_type": "markdown",
   "id": "8e7fbe58",
   "metadata": {},
   "source": [
    "#### Accuracy"
   ]
  },
  {
   "cell_type": "code",
   "execution_count": 144,
   "id": "e221b2fb",
   "metadata": {},
   "outputs": [
    {
     "name": "stdout",
     "output_type": "stream",
     "text": [
      "Root Mean Square Error is: 0.035\n"
     ]
    }
   ],
   "source": [
    "# Evaluate mse\n",
    "rmse = sqrt(mean_squared_error(yf_test,predicted_EFx))\n",
    "print(\"Root Mean Square Error is:\", round(rmse,3))"
   ]
  },
  {
   "cell_type": "code",
   "execution_count": 145,
   "id": "e361ded1",
   "metadata": {},
   "outputs": [
    {
     "name": "stdout",
     "output_type": "stream",
     "text": [
      "The Mean Absoulte Error is: 0.026\n"
     ]
    }
   ],
   "source": [
    "# Determine the Mean Absoulute Error\n",
    "mae = mean_absolute_error(yf_test,predicted_EFx)\n",
    "print(\"The Mean Absoulte Error is:\", round(mae,3))"
   ]
  },
  {
   "cell_type": "code",
   "execution_count": 146,
   "id": "d3b5e77c",
   "metadata": {},
   "outputs": [
    {
     "name": "stdout",
     "output_type": "stream",
     "text": [
      "Mean Absolute Percentage Error is: 3.074\n"
     ]
    }
   ],
   "source": [
    "#Creare a function to calculate MAPE for our models\n",
    "def MAPE(pred): \n",
    "    return np.mean(np.abs((yf_test - pred) / yf_test)) * 100\n",
    "\n",
    "print('Mean Absolute Percentage Error is:', round(MAPE(predicted_EFx),3))"
   ]
  },
  {
   "cell_type": "markdown",
   "id": "9cb29b50",
   "metadata": {},
   "source": [
    "### Forecasting Future CO2 Emissions"
   ]
  },
  {
   "cell_type": "markdown",
   "id": "172b58ae",
   "metadata": {},
   "source": [
    "Now lets observe future emissions using the LSTM model"
   ]
  },
  {
   "cell_type": "code",
   "execution_count": 147,
   "id": "b3d5ad28",
   "metadata": {},
   "outputs": [
    {
     "data": {
      "text/html": [
       "<div>\n",
       "<style scoped>\n",
       "    .dataframe tbody tr th:only-of-type {\n",
       "        vertical-align: middle;\n",
       "    }\n",
       "\n",
       "    .dataframe tbody tr th {\n",
       "        vertical-align: top;\n",
       "    }\n",
       "\n",
       "    .dataframe thead th {\n",
       "        text-align: right;\n",
       "    }\n",
       "</style>\n",
       "<table border=\"1\" class=\"dataframe\">\n",
       "  <thead>\n",
       "    <tr style=\"text-align: right;\">\n",
       "      <th></th>\n",
       "      <th>total</th>\n",
       "      <th>Predictions</th>\n",
       "    </tr>\n",
       "    <tr>\n",
       "      <th>year</th>\n",
       "      <th></th>\n",
       "      <th></th>\n",
       "    </tr>\n",
       "  </thead>\n",
       "  <tbody>\n",
       "    <tr>\n",
       "      <th>2013-01-01</th>\n",
       "      <td>1.117995</td>\n",
       "      <td>1.161338</td>\n",
       "    </tr>\n",
       "    <tr>\n",
       "      <th>2014-01-01</th>\n",
       "      <td>1.169753</td>\n",
       "      <td>1.216336</td>\n",
       "    </tr>\n",
       "    <tr>\n",
       "      <th>2015-01-01</th>\n",
       "      <td>1.158077</td>\n",
       "      <td>1.254041</td>\n",
       "    </tr>\n",
       "    <tr>\n",
       "      <th>2016-01-01</th>\n",
       "      <td>1.168769</td>\n",
       "      <td>1.290456</td>\n",
       "    </tr>\n",
       "  </tbody>\n",
       "</table>\n",
       "</div>"
      ],
      "text/plain": [
       "               total  Predictions\n",
       "year                             \n",
       "2013-01-01  1.117995     1.161338\n",
       "2014-01-01  1.169753     1.216336\n",
       "2015-01-01  1.158077     1.254041\n",
       "2016-01-01  1.168769     1.290456"
      ]
     },
     "execution_count": 147,
     "metadata": {},
     "output_type": "execute_result"
    }
   ],
   "source": [
    "valid.tail(4)"
   ]
  },
  {
   "cell_type": "code",
   "execution_count": 148,
   "id": "829dfaba",
   "metadata": {},
   "outputs": [
    {
     "data": {
      "text/plain": [
       "(56,)"
      ]
     },
     "execution_count": 148,
     "metadata": {},
     "output_type": "execute_result"
    }
   ],
   "source": [
    "targetx = dataset\n",
    "\n",
    "#nomalize data\n",
    "targetx = scaler.fit_transform(targetx)\n",
    "\n",
    "#reshape the dataset to be used for input in loop\n",
    "targetx = targetx.reshape((-1))\n",
    "targetx.shape"
   ]
  },
  {
   "cell_type": "code",
   "execution_count": 149,
   "id": "01b1a205",
   "metadata": {},
   "outputs": [],
   "source": [
    "#create a Loop for LSTM input\n",
    "\n",
    "#here, the new data generated will be used as input fir next year forecast\n",
    "\n",
    "#look_back is the input year for forecasting\n",
    "\n",
    "look_back = 4\n",
    "def predict(n, model):\n",
    "    pred_list = targetx[-look_back:]\n",
    "    \n",
    "    for i in range(n):\n",
    "        x = pred_list[-look_back:]\n",
    "        x = x.reshape((1, look_back, 1))\n",
    "        out = model.predict(x)[0][0]\n",
    "        pred_list = np.append(pred_list, out)\n",
    "    pred_list = pred_list[look_back-1:]\n",
    "    \n",
    "    return pred_list\n",
    "\n",
    "# for n years of future co2 emissions forecasting\n",
    "\n",
    "n = 5\n",
    "forecast5 = predict(n, modelx)"
   ]
  },
  {
   "cell_type": "code",
   "execution_count": 150,
   "id": "c816a222",
   "metadata": {},
   "outputs": [
    {
     "data": {
      "text/plain": [
       "array([0.99823165, 1.2719371 , 1.3896002 , 1.5043911 , 1.7976232 ,\n",
       "       2.384276  ], dtype=float32)"
      ]
     },
     "execution_count": 150,
     "metadata": {},
     "output_type": "execute_result"
    }
   ],
   "source": [
    "forecast5"
   ]
  },
  {
   "cell_type": "code",
   "execution_count": 151,
   "id": "ef4e6324",
   "metadata": {},
   "outputs": [
    {
     "data": {
      "text/plain": [
       "(6, 1)"
      ]
     },
     "execution_count": 151,
     "metadata": {},
     "output_type": "execute_result"
    }
   ],
   "source": [
    "#reshape the forecast for inverse scaling to original values\n",
    "forecast5 = forecast5.reshape(forecast5.shape[0], 1)\n",
    "forecast5.shape"
   ]
  },
  {
   "cell_type": "code",
   "execution_count": 152,
   "id": "a2427500",
   "metadata": {},
   "outputs": [],
   "source": [
    "#inverse scaling to obtain original values\n",
    "forecast5 = scaler.inverse_transform(forecast5)"
   ]
  },
  {
   "cell_type": "code",
   "execution_count": 153,
   "id": "8d9abb64",
   "metadata": {},
   "outputs": [
    {
     "data": {
      "text/plain": [
       "array([[1.168769 ],\n",
       "       [1.3211088],\n",
       "       [1.3865979],\n",
       "       [1.4504886],\n",
       "       [1.6136965],\n",
       "       [1.9402173]], dtype=float32)"
      ]
     },
     "execution_count": 153,
     "metadata": {},
     "output_type": "execute_result"
    }
   ],
   "source": [
    "#forecast co2 emissions for next n years\n",
    "forecast5"
   ]
  },
  {
   "cell_type": "code",
   "execution_count": 154,
   "id": "28e580dc",
   "metadata": {},
   "outputs": [],
   "source": [
    "#Add to the previous predicted dataset\n",
    "forecast5 = np.append(predicted_EFx, forecast5)\n",
    "forecasts = pd.DataFrame(forecast5, columns = ['forecasts'])"
   ]
  },
  {
   "cell_type": "code",
   "execution_count": 155,
   "id": "c4f19341",
   "metadata": {},
   "outputs": [
    {
     "data": {
      "image/png": "[encoded data removed]",
      "text/plain": [
       "<Figure size 432x288 with 1 Axes>"
      ]
     },
     "metadata": {
      "needs_background": "light"
     },
     "output_type": "display_data"
    }
   ],
   "source": [
    "# Plot the original and LSTM forecasting CO2 emissions\n",
    "data = df_India['1961-01-01':]\n",
    "train = df_India.values\n",
    "train = train.astype('float')\n",
    "train = pd.DataFrame(train, columns = ['total'])\n",
    "ax = train['total'].plot(label='observed', color='royalblue', legend=True)\n",
    "\n",
    "#plot forecasted values\n",
    "forecasts.plot(ax=ax, label='forecasts', color='orangered', alpha=0.9, legend=True)\n",
    "\n",
    "ax.set_xlabel('Year', size=12)\n",
    "ax.set_ylabel('EF Per Capita (t) \\n', size=12)\n",
    "#ax.set_title('Future Forecast Ecological Footprint Per Capita (by 2020) \\n', size=14)\n",
    "\n",
    "plt.legend()\n",
    "plt.show()"
   ]
  },
  {
   "cell_type": "markdown",
   "id": "ce44d8fd",
   "metadata": {},
   "source": [
    "***Results Observed***\n",
    "\n",
    "From the above comparison fo ARIMA, Holt-Winter's and LSTM Model, \n",
    "\n",
    ">- LSTM Model gives least desirable results with higher RMSE value, We don't further continue as ARIMA and Holt-winter's provides desirable results\n",
    "\n",
    ">- Comparing the MAPE Scores \n",
    "    - LSTM Model : 3.074\n",
    "    - ARIMA Model : 2.29\n",
    "    - Holt-Winter's Model : 1.38 \n",
    "    \n",
    "Thus the Results observed from ***Holt-Winter's Model*** can be inferred further as it is **more accurate*** than LSTM and ARIMA Models\n",
    "   \n",
    "   \n",
    "    "
   ]
  },
  {
   "cell_type": "markdown",
   "id": "6040b66f",
   "metadata": {},
   "source": [
    "**------------------------------------------------------------------------------------------------------------------------------------------------------------------------------------------------------------------**"
   ]
  },
  {
   "cell_type": "markdown",
   "id": "c7d8dc19",
   "metadata": {},
   "source": [
    "**tasks**\n",
    "\n",
    "\n",
    "> - Modeling (ongoing)\n",
    "    - _ARIMA_\n",
    "    - _SARIMA_ (yields similar results to ARIMA)\n",
    "    - _Holt's DES_\n",
    "    - _Holt-winter's TES_\n",
    "> - _Determine best model via RMSE_\n",
    "> - _Forecast for target years_\n",
    "\n",
    "> - Model Neural Networks\n",
    "    - _LSTM_\n",
    "> - _Determine best model via RMSE, MAE, MAPE_\n",
    "> - _Forecast for target years_"
   ]
  },
  {
   "cell_type": "code",
   "execution_count": null,
   "id": "5bbb9f21",
   "metadata": {},
   "outputs": [],
   "source": []
  }
 ],
 "metadata": {
  "kernelspec": {
   "display_name": "Python 3 (ipykernel)",
   "language": "python",
   "name": "python3"
  },
  "language_info": {
   "codemirror_mode": {
    "name": "ipython",
    "version": 3
   },
   "file_extension": ".py",
   "mimetype": "text/x-python",
   "name": "python",
   "nbconvert_exporter": "python",
   "pygments_lexer": "ipython3",
   "version": "3.8.10"
  }
 },
 "nbformat": 4,
 "nbformat_minor": 5
}
