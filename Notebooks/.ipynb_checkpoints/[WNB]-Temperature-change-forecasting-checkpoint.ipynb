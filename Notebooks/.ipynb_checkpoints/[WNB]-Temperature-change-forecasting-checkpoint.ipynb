{
 "cells": [
  {
   "cell_type": "code",
   "execution_count": 29,
   "id": "0bf1b327",
   "metadata": {},
   "outputs": [],
   "source": [
    "# Import necessary libraries and packages\n",
    "import pandas as pd\n",
    "from pandas import DataFrame\n",
    "import numpy as np\n",
    "from matplotlib import pyplot\n",
    "import matplotlib.pyplot as plt\n",
    "from matplotlib.pylab import rcParams\n",
    "import warnings\n",
    "from math import exp\n",
    "from numpy import log\n",
    "\n",
    "from statsmodels.graphics.tsaplots import plot_acf\n",
    "from statsmodels.graphics.tsaplots import plot_pacf\n",
    "from statsmodels.tsa.arima.model import ARIMA\n",
    "from statsmodels.tsa.statespace.sarimax import SARIMAX\n",
    "from statsmodels.tsa.stattools import adfuller\n",
    "from statsmodels.tsa.seasonal import seasonal_decompose\n",
    "from statsmodels.tsa.holtwinters import ExponentialSmoothing\n",
    "import statsmodels.api as sm\n",
    "from scipy import stats\n",
    "\n",
    "import plotly.graph_objs as go\n",
    "from plotly.subplots import make_subplots\n",
    "import seaborn as sns\n",
    "# Preferred settings\n",
    "warnings.filterwarnings('ignore')\n",
    "pd.set_option('display.max_columns', 100)\n"
   ]
  },
  {
   "cell_type": "code",
   "execution_count": 2,
   "id": "fa9c1ae9",
   "metadata": {},
   "outputs": [
    {
     "name": "stdout",
     "output_type": "stream",
     "text": [
      "(120, 46)\n"
     ]
    }
   ],
   "source": [
    "#import temperature dataset\n",
    "data = pd.read_csv('../Data/Indicators/tas_timeseries_annual_cru_1901-2020_IND.csv')\n",
    "\n",
    "#Observe data shape\n",
    "print(data.shape)"
   ]
  },
  {
   "cell_type": "markdown",
   "id": "13128bba",
   "metadata": {},
   "source": [
    "## Data Cleaning and Preprocessing"
   ]
  },
  {
   "cell_type": "code",
   "execution_count": 4,
   "id": "d70a2119",
   "metadata": {},
   "outputs": [
    {
     "data": {
      "text/html": [
       "<div>\n",
       "<style scoped>\n",
       "    .dataframe tbody tr th:only-of-type {\n",
       "        vertical-align: middle;\n",
       "    }\n",
       "\n",
       "    .dataframe tbody tr th {\n",
       "        vertical-align: top;\n",
       "    }\n",
       "\n",
       "    .dataframe thead th {\n",
       "        text-align: right;\n",
       "    }\n",
       "</style>\n",
       "<table border=\"1\" class=\"dataframe\">\n",
       "  <thead>\n",
       "    <tr style=\"text-align: right;\">\n",
       "      <th></th>\n",
       "      <th>year</th>\n",
       "      <th>India</th>\n",
       "    </tr>\n",
       "  </thead>\n",
       "  <tbody>\n",
       "    <tr>\n",
       "      <th>0</th>\n",
       "      <td>1901</td>\n",
       "      <td>24.26</td>\n",
       "    </tr>\n",
       "    <tr>\n",
       "      <th>1</th>\n",
       "      <td>1902</td>\n",
       "      <td>24.52</td>\n",
       "    </tr>\n",
       "    <tr>\n",
       "      <th>2</th>\n",
       "      <td>1903</td>\n",
       "      <td>23.96</td>\n",
       "    </tr>\n",
       "    <tr>\n",
       "      <th>3</th>\n",
       "      <td>1904</td>\n",
       "      <td>24.02</td>\n",
       "    </tr>\n",
       "    <tr>\n",
       "      <th>4</th>\n",
       "      <td>1905</td>\n",
       "      <td>23.87</td>\n",
       "    </tr>\n",
       "    <tr>\n",
       "      <th>...</th>\n",
       "      <td>...</td>\n",
       "      <td>...</td>\n",
       "    </tr>\n",
       "    <tr>\n",
       "      <th>115</th>\n",
       "      <td>2016</td>\n",
       "      <td>25.27</td>\n",
       "    </tr>\n",
       "    <tr>\n",
       "      <th>116</th>\n",
       "      <td>2017</td>\n",
       "      <td>25.15</td>\n",
       "    </tr>\n",
       "    <tr>\n",
       "      <th>117</th>\n",
       "      <td>2018</td>\n",
       "      <td>25.00</td>\n",
       "    </tr>\n",
       "    <tr>\n",
       "      <th>118</th>\n",
       "      <td>2019</td>\n",
       "      <td>24.94</td>\n",
       "    </tr>\n",
       "    <tr>\n",
       "      <th>119</th>\n",
       "      <td>2020</td>\n",
       "      <td>24.80</td>\n",
       "    </tr>\n",
       "  </tbody>\n",
       "</table>\n",
       "<p>120 rows × 2 columns</p>\n",
       "</div>"
      ],
      "text/plain": [
       "     year  India\n",
       "0    1901  24.26\n",
       "1    1902  24.52\n",
       "2    1903  23.96\n",
       "3    1904  24.02\n",
       "4    1905  23.87\n",
       "..    ...    ...\n",
       "115  2016  25.27\n",
       "116  2017  25.15\n",
       "117  2018  25.00\n",
       "118  2019  24.94\n",
       "119  2020  24.80\n",
       "\n",
       "[120 rows x 2 columns]"
      ]
     },
     "execution_count": 4,
     "metadata": {},
     "output_type": "execute_result"
    }
   ],
   "source": [
    "#load data\n",
    "df_India = data\n",
    "\n",
    "#only include India's temperature data \n",
    "df_India = df_India[['year', 'India']]\n",
    "df_India"
   ]
  },
  {
   "cell_type": "markdown",
   "id": "10415050",
   "metadata": {},
   "source": [
    "We convert both into a indexed dataframe to concatenate the dataframes later for multivariate forecasting"
   ]
  },
  {
   "cell_type": "code",
   "execution_count": 5,
   "id": "09be1af2",
   "metadata": {},
   "outputs": [],
   "source": [
    "#Convert year to index\n",
    "df_India.set_index('year', inplace=True)\n",
    "\n",
    "#Convert year to DateTime object\n",
    "df_India.index = pd.to_datetime(df_India.index, format='%Y')\n"
   ]
  },
  {
   "cell_type": "code",
   "execution_count": 6,
   "id": "19e39ecf",
   "metadata": {},
   "outputs": [
    {
     "data": {
      "text/html": [
       "<div>\n",
       "<style scoped>\n",
       "    .dataframe tbody tr th:only-of-type {\n",
       "        vertical-align: middle;\n",
       "    }\n",
       "\n",
       "    .dataframe tbody tr th {\n",
       "        vertical-align: top;\n",
       "    }\n",
       "\n",
       "    .dataframe thead th {\n",
       "        text-align: right;\n",
       "    }\n",
       "</style>\n",
       "<table border=\"1\" class=\"dataframe\">\n",
       "  <thead>\n",
       "    <tr style=\"text-align: right;\">\n",
       "      <th></th>\n",
       "      <th>India</th>\n",
       "    </tr>\n",
       "    <tr>\n",
       "      <th>year</th>\n",
       "      <th></th>\n",
       "    </tr>\n",
       "  </thead>\n",
       "  <tbody>\n",
       "    <tr>\n",
       "      <th>1901-01-01</th>\n",
       "      <td>24.26</td>\n",
       "    </tr>\n",
       "    <tr>\n",
       "      <th>1902-01-01</th>\n",
       "      <td>24.52</td>\n",
       "    </tr>\n",
       "    <tr>\n",
       "      <th>1903-01-01</th>\n",
       "      <td>23.96</td>\n",
       "    </tr>\n",
       "    <tr>\n",
       "      <th>1904-01-01</th>\n",
       "      <td>24.02</td>\n",
       "    </tr>\n",
       "    <tr>\n",
       "      <th>1905-01-01</th>\n",
       "      <td>23.87</td>\n",
       "    </tr>\n",
       "  </tbody>\n",
       "</table>\n",
       "</div>"
      ],
      "text/plain": [
       "            India\n",
       "year             \n",
       "1901-01-01  24.26\n",
       "1902-01-01  24.52\n",
       "1903-01-01  23.96\n",
       "1904-01-01  24.02\n",
       "1905-01-01  23.87"
      ]
     },
     "execution_count": 6,
     "metadata": {},
     "output_type": "execute_result"
    }
   ],
   "source": [
    "#observe updated df\n",
    "df_India.head(5)"
   ]
  },
  {
   "cell_type": "markdown",
   "id": "f3783ee1",
   "metadata": {},
   "source": [
    "Since we only try to forecast the change in temperature with respect to changing emission patterns, we obtain difference the data to make it a dataset of change in temperature"
   ]
  },
  {
   "cell_type": "code",
   "execution_count": 14,
   "id": "06e0dce3",
   "metadata": {},
   "outputs": [
    {
     "data": {
      "text/html": [
       "<div>\n",
       "<style scoped>\n",
       "    .dataframe tbody tr th:only-of-type {\n",
       "        vertical-align: middle;\n",
       "    }\n",
       "\n",
       "    .dataframe tbody tr th {\n",
       "        vertical-align: top;\n",
       "    }\n",
       "\n",
       "    .dataframe thead th {\n",
       "        text-align: right;\n",
       "    }\n",
       "</style>\n",
       "<table border=\"1\" class=\"dataframe\">\n",
       "  <thead>\n",
       "    <tr style=\"text-align: right;\">\n",
       "      <th></th>\n",
       "      <th>temperature</th>\n",
       "    </tr>\n",
       "    <tr>\n",
       "      <th>year</th>\n",
       "      <th></th>\n",
       "    </tr>\n",
       "  </thead>\n",
       "  <tbody>\n",
       "    <tr>\n",
       "      <th>1903-01-01</th>\n",
       "      <td>-0.82</td>\n",
       "    </tr>\n",
       "    <tr>\n",
       "      <th>1904-01-01</th>\n",
       "      <td>0.62</td>\n",
       "    </tr>\n",
       "    <tr>\n",
       "      <th>1905-01-01</th>\n",
       "      <td>-0.21</td>\n",
       "    </tr>\n",
       "    <tr>\n",
       "      <th>1906-01-01</th>\n",
       "      <td>0.39</td>\n",
       "    </tr>\n",
       "    <tr>\n",
       "      <th>1907-01-01</th>\n",
       "      <td>-0.38</td>\n",
       "    </tr>\n",
       "    <tr>\n",
       "      <th>...</th>\n",
       "      <td>...</td>\n",
       "    </tr>\n",
       "    <tr>\n",
       "      <th>2016-01-01</th>\n",
       "      <td>0.26</td>\n",
       "    </tr>\n",
       "    <tr>\n",
       "      <th>2017-01-01</th>\n",
       "      <td>-0.50</td>\n",
       "    </tr>\n",
       "    <tr>\n",
       "      <th>2018-01-01</th>\n",
       "      <td>-0.03</td>\n",
       "    </tr>\n",
       "    <tr>\n",
       "      <th>2019-01-01</th>\n",
       "      <td>0.09</td>\n",
       "    </tr>\n",
       "    <tr>\n",
       "      <th>2020-01-01</th>\n",
       "      <td>-0.08</td>\n",
       "    </tr>\n",
       "  </tbody>\n",
       "</table>\n",
       "<p>118 rows × 1 columns</p>\n",
       "</div>"
      ],
      "text/plain": [
       "            temperature\n",
       "year                   \n",
       "1903-01-01        -0.82\n",
       "1904-01-01         0.62\n",
       "1905-01-01        -0.21\n",
       "1906-01-01         0.39\n",
       "1907-01-01        -0.38\n",
       "...                 ...\n",
       "2016-01-01         0.26\n",
       "2017-01-01        -0.50\n",
       "2018-01-01        -0.03\n",
       "2019-01-01         0.09\n",
       "2020-01-01        -0.08\n",
       "\n",
       "[118 rows x 1 columns]"
      ]
     },
     "execution_count": 14,
     "metadata": {},
     "output_type": "execute_result"
    }
   ],
   "source": [
    "df_India = df_India.diff().dropna()\n",
    "df_India.rename(columns = {'India':'temperature'}, inplace=True)\n",
    "df_India"
   ]
  },
  {
   "cell_type": "code",
   "execution_count": 15,
   "id": "e8e651b3",
   "metadata": {},
   "outputs": [
    {
     "data": {
      "text/plain": [
       "temperature    float64\n",
       "dtype: object"
      ]
     },
     "execution_count": 15,
     "metadata": {},
     "output_type": "execute_result"
    }
   ],
   "source": [
    "#check dtypes\n",
    "df_India.dtypes"
   ]
  },
  {
   "cell_type": "code",
   "execution_count": 16,
   "id": "235a2d1d",
   "metadata": {},
   "outputs": [
    {
     "data": {
      "text/plain": [
       "temperature    0\n",
       "dtype: int64"
      ]
     },
     "execution_count": 16,
     "metadata": {},
     "output_type": "execute_result"
    }
   ],
   "source": [
    "#check null values\n",
    "df_India.isnull().sum()"
   ]
  },
  {
   "cell_type": "code",
   "execution_count": 17,
   "id": "ef432345",
   "metadata": {},
   "outputs": [
    {
     "name": "stdout",
     "output_type": "stream",
     "text": [
      "<class 'pandas.core.frame.DataFrame'>\n",
      "DatetimeIndex: 118 entries, 1903-01-01 to 2020-01-01\n",
      "Data columns (total 1 columns):\n",
      " #   Column       Non-Null Count  Dtype  \n",
      "---  ------       --------------  -----  \n",
      " 0   temperature  118 non-null    float64\n",
      "dtypes: float64(1)\n",
      "memory usage: 1.8 KB\n"
     ]
    }
   ],
   "source": [
    "df_India.info()"
   ]
  },
  {
   "cell_type": "code",
   "execution_count": 18,
   "id": "aaff2040",
   "metadata": {},
   "outputs": [
    {
     "data": {
      "text/html": [
       "<div>\n",
       "<style scoped>\n",
       "    .dataframe tbody tr th:only-of-type {\n",
       "        vertical-align: middle;\n",
       "    }\n",
       "\n",
       "    .dataframe tbody tr th {\n",
       "        vertical-align: top;\n",
       "    }\n",
       "\n",
       "    .dataframe thead th {\n",
       "        text-align: right;\n",
       "    }\n",
       "</style>\n",
       "<table border=\"1\" class=\"dataframe\">\n",
       "  <thead>\n",
       "    <tr style=\"text-align: right;\">\n",
       "      <th></th>\n",
       "      <th>temperature</th>\n",
       "    </tr>\n",
       "  </thead>\n",
       "  <tbody>\n",
       "    <tr>\n",
       "      <th>count</th>\n",
       "      <td>118.000000</td>\n",
       "    </tr>\n",
       "    <tr>\n",
       "      <th>mean</th>\n",
       "      <td>-0.003390</td>\n",
       "    </tr>\n",
       "    <tr>\n",
       "      <th>std</th>\n",
       "      <td>0.482813</td>\n",
       "    </tr>\n",
       "    <tr>\n",
       "      <th>min</th>\n",
       "      <td>-1.200000</td>\n",
       "    </tr>\n",
       "    <tr>\n",
       "      <th>25%</th>\n",
       "      <td>-0.350000</td>\n",
       "    </tr>\n",
       "    <tr>\n",
       "      <th>50%</th>\n",
       "      <td>-0.030000</td>\n",
       "    </tr>\n",
       "    <tr>\n",
       "      <th>75%</th>\n",
       "      <td>0.307500</td>\n",
       "    </tr>\n",
       "    <tr>\n",
       "      <th>max</th>\n",
       "      <td>1.240000</td>\n",
       "    </tr>\n",
       "  </tbody>\n",
       "</table>\n",
       "</div>"
      ],
      "text/plain": [
       "       temperature\n",
       "count   118.000000\n",
       "mean     -0.003390\n",
       "std       0.482813\n",
       "min      -1.200000\n",
       "25%      -0.350000\n",
       "50%      -0.030000\n",
       "75%       0.307500\n",
       "max       1.240000"
      ]
     },
     "execution_count": 18,
     "metadata": {},
     "output_type": "execute_result"
    }
   ],
   "source": [
    "df_India.describe()"
   ]
  },
  {
   "cell_type": "markdown",
   "id": "b665cf75",
   "metadata": {},
   "source": [
    "## Visualisation"
   ]
  },
  {
   "cell_type": "code",
   "execution_count": 19,
   "id": "289a2f77",
   "metadata": {},
   "outputs": [
    {
     "data": {
      "text/plain": [
       "<AxesSubplot:xlabel='year'>"
      ]
     },
     "execution_count": 19,
     "metadata": {},
     "output_type": "execute_result"
    },
    {
     "data": {
      "image/png": "[encoded data removed]",
      "text/plain": [
       "<Figure size 432x288 with 1 Axes>"
      ]
     },
     "metadata": {
      "needs_background": "light"
     },
     "output_type": "display_data"
    }
   ],
   "source": [
    "#observe co2 emissions\n",
    "df_India['temperature'].plot(legend = True)"
   ]
  },
  {
   "cell_type": "markdown",
   "id": "0f75d1c9",
   "metadata": {},
   "source": [
    "## Exploratory Data Analysis "
   ]
  },
  {
   "cell_type": "markdown",
   "id": "1fcfafbe",
   "metadata": {},
   "source": [
    "**Reviewing plots of the density of observations can provide further insight into the structure of the data**"
   ]
  },
  {
   "cell_type": "code",
   "execution_count": 20,
   "id": "d7719882",
   "metadata": {},
   "outputs": [
    {
     "data": {
      "image/png": "[encoded data removed]",
      "text/plain": [
       "<Figure size 432x288 with 2 Axes>"
      ]
     },
     "metadata": {
      "needs_background": "light"
     },
     "output_type": "display_data"
    }
   ],
   "source": [
    "#observe density of per capita emissions\n",
    "pyplot.figure(1)\n",
    "pyplot.subplot(211)\n",
    "df_India.temperature.hist()\n",
    "pyplot.subplot(212)\n",
    "df_India.temperature.plot(kind='kde')\n",
    "pyplot.show()"
   ]
  },
  {
   "cell_type": "markdown",
   "id": "e42eb5bd",
   "metadata": {},
   "source": [
    "From the above graphs we can observe, \n",
    "- The distribution is not perfectly Gausian (normal distribution)\n",
    "- The temperature distribution is partially skewed to right\n",
    "- Transformations might be useful prior to modelling"
   ]
  },
  {
   "cell_type": "markdown",
   "id": "cfa26d55",
   "metadata": {},
   "source": [
    "**Reviewing Box plot of emissions over decades provides insight into the trend and seasonality of the data**"
   ]
  },
  {
   "cell_type": "code",
   "execution_count": 21,
   "id": "93c50cec",
   "metadata": {},
   "outputs": [
    {
     "data": {
      "text/plain": [
       "<AxesSubplot:xlabel='year', ylabel='temperature'>"
      ]
     },
     "execution_count": 21,
     "metadata": {},
     "output_type": "execute_result"
    },
    {
     "data": {
      "image/png": "[encoded data removed]",
      "text/plain": [
       "<Figure size 1080x432 with 1 Axes>"
      ]
     },
     "metadata": {
      "needs_background": "light"
     },
     "output_type": "display_data"
    }
   ],
   "source": [
    "#observe box plots of temperature change\n",
    "fig, ax = plt.subplots(figsize=(15,6))\n",
    "sns.boxplot(df_India.temperature.index.year // 10 * 10, df_India.temperature, ax=ax)"
   ]
  },
  {
   "cell_type": "markdown",
   "id": "d973b8ab",
   "metadata": {},
   "source": [
    "From the above plot we can observe,\n",
    "- Median values across decade shows irregular rise and fall in temperature\n",
    "- Disproportionate change in temperature"
   ]
  },
  {
   "cell_type": "markdown",
   "id": "fd5ecd1f",
   "metadata": {},
   "source": [
    "**Distribution and Normality Test**"
   ]
  },
  {
   "cell_type": "code",
   "execution_count": 22,
   "id": "b5e0042a",
   "metadata": {},
   "outputs": [
    {
     "name": "stdout",
     "output_type": "stream",
     "text": [
      "Kurtosis of normal distribution -0.15323552761611925\n",
      "Skewness of normal distribution 0.14113599747749359\n"
     ]
    },
    {
     "data": {
      "image/png": "[encoded data removed]",
      "text/plain": [
       "<Figure size 432x288 with 1 Axes>"
      ]
     },
     "metadata": {
      "needs_background": "light"
     },
     "output_type": "display_data"
    }
   ],
   "source": [
    "#observe distribution and normality of emissions of temperature change\n",
    "sns.distplot(df_India.temperature);\n",
    "stats.normaltest(df_India.temperature)\n",
    "print('Kurtosis of normal distribution {}'.format(stats.kurtosis(df_India.temperature)))\n",
    "print( 'Skewness of normal distribution {}'.format(stats.skew(df_India.temperature)))"
   ]
  },
  {
   "cell_type": "markdown",
   "id": "020c9a22",
   "metadata": {},
   "source": [
    "> - **Kurtosis** describes heaviness of the tails of distribution -  A neagtive value mean that data has ligh tails\n",
    "> - **Skewness** - distribution is approximately similar"
   ]
  },
  {
   "cell_type": "markdown",
   "id": "cb879421",
   "metadata": {},
   "source": [
    "Lets observe the temperature distribution before hand"
   ]
  },
  {
   "cell_type": "markdown",
   "id": "8e212b3f",
   "metadata": {},
   "source": [
    "Normal probability plot shows that dataset has almost regular distribution, with trends"
   ]
  },
  {
   "cell_type": "code",
   "execution_count": 24,
   "id": "1e60bc63",
   "metadata": {},
   "outputs": [
    {
     "data": {
      "text/html": [
       "<div>\n",
       "<style scoped>\n",
       "    .dataframe tbody tr th:only-of-type {\n",
       "        vertical-align: middle;\n",
       "    }\n",
       "\n",
       "    .dataframe tbody tr th {\n",
       "        vertical-align: top;\n",
       "    }\n",
       "\n",
       "    .dataframe thead th {\n",
       "        text-align: right;\n",
       "    }\n",
       "</style>\n",
       "<table border=\"1\" class=\"dataframe\">\n",
       "  <thead>\n",
       "    <tr style=\"text-align: right;\">\n",
       "      <th></th>\n",
       "      <th>count</th>\n",
       "      <th>mean</th>\n",
       "      <th>std</th>\n",
       "      <th>min</th>\n",
       "      <th>25%</th>\n",
       "      <th>50%</th>\n",
       "      <th>75%</th>\n",
       "      <th>max</th>\n",
       "    </tr>\n",
       "  </thead>\n",
       "  <tbody>\n",
       "    <tr>\n",
       "      <th>temperature</th>\n",
       "      <td>118.0</td>\n",
       "      <td>-0.00339</td>\n",
       "      <td>0.482813</td>\n",
       "      <td>-1.2</td>\n",
       "      <td>-0.35</td>\n",
       "      <td>-0.03</td>\n",
       "      <td>0.3075</td>\n",
       "      <td>1.24</td>\n",
       "    </tr>\n",
       "  </tbody>\n",
       "</table>\n",
       "</div>"
      ],
      "text/plain": [
       "             count     mean       std  min   25%   50%     75%   max\n",
       "temperature  118.0 -0.00339  0.482813 -1.2 -0.35 -0.03  0.3075  1.24"
      ]
     },
     "execution_count": 24,
     "metadata": {},
     "output_type": "execute_result"
    },
    {
     "data": {
      "image/png": "[encoded data removed]",
      "text/plain": [
       "<Figure size 1008x432 with 2 Axes>"
      ]
     },
     "metadata": {
      "needs_background": "light"
     },
     "output_type": "display_data"
    }
   ],
   "source": [
    "#observe distribution\n",
    "plt.figure(figsize=(14,6))\n",
    "plt.subplot(1,2,1)\n",
    "df_India.temperature.hist(bins=50,edgecolor='black', grid=False)\n",
    "plt.title('Temperature Change Distribution')\n",
    "\n",
    "plt.subplot(1,2,2)\n",
    "stats.probplot(df_India.temperature, plot=plt);\n",
    "#print(\"Skewness: %f\" % df['Consumption'].skew())\n",
    "#print(\"Kurtosis: %f\" % df['Consumption'].kurt())\n",
    "df_India.describe().transpose()"
   ]
  },
  {
   "cell_type": "markdown",
   "id": "9f4ebe95",
   "metadata": {},
   "source": [
    "**Before starting to analyse the stationarity of data, lets need to understand the trend, seasonality and bias of our data by Decomposing** "
   ]
  },
  {
   "cell_type": "code",
   "execution_count": 25,
   "id": "2606e50f",
   "metadata": {},
   "outputs": [
    {
     "data": {
      "image/png": "[encoded data removed]",
      "text/plain": [
       "<Figure size 432x288 with 4 Axes>"
      ]
     },
     "metadata": {
      "needs_background": "light"
     },
     "output_type": "display_data"
    }
   ],
   "source": [
    "#observe trend and seasonality of temperature\n",
    "from pylab import rcParams\n",
    "decomposition = sm.tsa.seasonal_decompose(df_India.temperature, model='additive')\n",
    "trend = decomposition.trend\n",
    "seasonal = decomposition.seasonal\n",
    "residual = decomposition.resid\n",
    "\n",
    "plt.subplot(411)\n",
    "plt.plot(df_India.temperature, label='Original')\n",
    "plt.legend(loc='best')\n",
    "plt.subplot(412)\n",
    "plt.plot(trend, label='Trend')\n",
    "plt.legend(loc='best')\n",
    "plt.subplot(413)\n",
    "plt.plot(seasonal,label='Seasonality')\n",
    "plt.legend(loc='best')\n",
    "plt.subplot(414)\n",
    "plt.plot(residual, label='Residuals')\n",
    "plt.legend(loc='best')\n",
    "plt.tight_layout()"
   ]
  },
  {
   "cell_type": "markdown",
   "id": "d1958300",
   "metadata": {},
   "source": [
    "With Observations from decomposing we observe,\n",
    "- No seasonal characteristics of Data\n",
    "- Constant residual\n",
    "- wave form - irregular trend"
   ]
  },
  {
   "cell_type": "markdown",
   "id": "618da054",
   "metadata": {},
   "source": [
    "**Check Stationarity**\n",
    "\n",
    "Lets observe stationarity of temperature and emissions data separately"
   ]
  },
  {
   "cell_type": "code",
   "execution_count": 26,
   "id": "4fe00e71",
   "metadata": {},
   "outputs": [
    {
     "data": {
      "text/plain": [
       "ADF Statistic              -7.631117e+00\n",
       "p-value                     2.007665e-11\n",
       "#Lags Used                  1.000000e+01\n",
       "No. of Observations Used    1.050000e+02\n",
       "dtype: float64"
      ]
     },
     "execution_count": 26,
     "metadata": {},
     "output_type": "execute_result"
    }
   ],
   "source": [
    "#Perform ADF test for temperature change\n",
    "test_result = adfuller(df_India['temperature'][1:-1])\n",
    "df_result = pd.Series(test_result[0:4], index=['ADF Statistic','p-value','#Lags Used','No. of Observations Used'])\n",
    "df_result"
   ]
  },
  {
   "cell_type": "markdown",
   "id": "7050b894",
   "metadata": {},
   "source": [
    "With p-value of 2.007665e-11 ( <0.05), we can reject that null hypothesis that this data is stationary.\n",
    "\n",
    "There is a presence of unit root in our data"
   ]
  },
  {
   "cell_type": "markdown",
   "id": "331fd59f",
   "metadata": {},
   "source": [
    "## Build Model"
   ]
  },
  {
   "cell_type": "markdown",
   "id": "ea3399e5",
   "metadata": {},
   "source": [
    "we triend many differenct p,d, and q parameters for an ARIMA model on our loggedm data. The below parameters yielded best results"
   ]
  },
  {
   "cell_type": "code",
   "execution_count": 32,
   "id": "0e97ca28",
   "metadata": {},
   "outputs": [
    {
     "name": "stdout",
     "output_type": "stream",
     "text": [
      "Performing stepwise search to minimize aic\n",
      " ARIMA(2,0,2)(0,0,0)[0] intercept   : AIC=51.063, Time=0.28 sec\n",
      " ARIMA(0,0,0)(0,0,0)[0] intercept   : AIC=166.027, Time=0.03 sec\n",
      " ARIMA(1,0,0)(0,0,0)[0] intercept   : AIC=133.937, Time=0.03 sec\n",
      " ARIMA(0,0,1)(0,0,0)[0] intercept   : AIC=inf, Time=0.16 sec\n",
      " ARIMA(0,0,0)(0,0,0)[0]             : AIC=164.033, Time=0.03 sec\n",
      " ARIMA(1,0,2)(0,0,0)[0] intercept   : AIC=inf, Time=0.26 sec\n",
      " ARIMA(2,0,1)(0,0,0)[0] intercept   : AIC=inf, Time=0.21 sec\n",
      " ARIMA(3,0,2)(0,0,0)[0] intercept   : AIC=inf, Time=0.35 sec\n",
      " ARIMA(2,0,3)(0,0,0)[0] intercept   : AIC=inf, Time=0.33 sec\n",
      " ARIMA(1,0,1)(0,0,0)[0] intercept   : AIC=inf, Time=0.16 sec\n",
      " ARIMA(1,0,3)(0,0,0)[0] intercept   : AIC=inf, Time=0.20 sec\n",
      " ARIMA(3,0,1)(0,0,0)[0] intercept   : AIC=inf, Time=0.24 sec\n",
      " ARIMA(3,0,3)(0,0,0)[0] intercept   : AIC=inf, Time=0.37 sec\n",
      " ARIMA(2,0,2)(0,0,0)[0]             : AIC=18.303, Time=0.16 sec\n",
      " ARIMA(1,0,2)(0,0,0)[0]             : AIC=inf, Time=0.15 sec\n",
      " ARIMA(2,0,1)(0,0,0)[0]             : AIC=inf, Time=0.14 sec\n",
      " ARIMA(3,0,2)(0,0,0)[0]             : AIC=inf, Time=0.26 sec\n",
      " ARIMA(2,0,3)(0,0,0)[0]             : AIC=24.200, Time=0.27 sec\n",
      " ARIMA(1,0,1)(0,0,0)[0]             : AIC=inf, Time=0.11 sec\n",
      " ARIMA(1,0,3)(0,0,0)[0]             : AIC=15.771, Time=0.26 sec\n",
      " ARIMA(0,0,3)(0,0,0)[0]             : AIC=17.569, Time=0.11 sec\n",
      " ARIMA(1,0,4)(0,0,0)[0]             : AIC=17.680, Time=0.32 sec\n",
      " ARIMA(0,0,2)(0,0,0)[0]             : AIC=24.494, Time=0.06 sec\n",
      " ARIMA(0,0,4)(0,0,0)[0]             : AIC=15.468, Time=0.17 sec\n",
      " ARIMA(0,0,5)(0,0,0)[0]             : AIC=17.395, Time=0.18 sec\n",
      " ARIMA(1,0,5)(0,0,0)[0]             : AIC=inf, Time=0.36 sec\n",
      " ARIMA(0,0,4)(0,0,0)[0] intercept   : AIC=15.977, Time=0.36 sec\n",
      "\n",
      "Best model:  ARIMA(0,0,4)(0,0,0)[0]          \n",
      "Total fit time: 5.583 seconds\n"
     ]
    },
    {
     "data": {
      "text/plain": [
       "ARIMA(order=(0, 0, 4), scoring_args={}, suppress_warnings=True,\n",
       "      with_intercept=False)"
      ]
     },
     "execution_count": 32,
     "metadata": {},
     "output_type": "execute_result"
    }
   ],
   "source": [
    "#building the auto-arima model to compare our observed ordered\n",
    "from pmdarima.arima import auto_arima\n",
    "model = auto_arima(df_India,\n",
    "                   trace=True,\n",
    "                   error_action='ignore',\n",
    "                   suppress_warnings=True)\n",
    "model.fit(df_India)"
   ]
  },
  {
   "cell_type": "code",
   "execution_count": 33,
   "id": "1d6ad24a",
   "metadata": {},
   "outputs": [
    {
     "data": {
      "text/html": [
       "<table class=\"simpletable\">\n",
       "<caption>SARIMAX Results</caption>\n",
       "<tr>\n",
       "  <th>Dep. Variable:</th>      <td>temperature</td>   <th>  No. Observations:  </th>   <td>117</td> \n",
       "</tr>\n",
       "<tr>\n",
       "  <th>Model:</th>            <td>ARIMA(0, 0, 4)</td>  <th>  Log Likelihood     </th> <td>-2.524</td>\n",
       "</tr>\n",
       "<tr>\n",
       "  <th>Date:</th>            <td>Wed, 13 Apr 2022</td> <th>  AIC                </th> <td>17.048</td>\n",
       "</tr>\n",
       "<tr>\n",
       "  <th>Time:</th>                <td>23:50:39</td>     <th>  BIC                </th> <td>33.621</td>\n",
       "</tr>\n",
       "<tr>\n",
       "  <th>Sample:</th>             <td>01-01-1903</td>    <th>  HQIC               </th> <td>23.776</td>\n",
       "</tr>\n",
       "<tr>\n",
       "  <th></th>                   <td>- 01-01-2019</td>   <th>                     </th>    <td> </td>  \n",
       "</tr>\n",
       "<tr>\n",
       "  <th>Covariance Type:</th>        <td>opg</td>       <th>                     </th>    <td> </td>  \n",
       "</tr>\n",
       "</table>\n",
       "<table class=\"simpletable\">\n",
       "<tr>\n",
       "     <td></td>       <th>coef</th>     <th>std err</th>      <th>z</th>      <th>P>|z|</th>  <th>[0.025</th>    <th>0.975]</th>  \n",
       "</tr>\n",
       "<tr>\n",
       "  <th>const</th>  <td>    0.0002</td> <td>    0.000</td> <td>    0.933</td> <td> 0.351</td> <td>   -0.000</td> <td>    0.001</td>\n",
       "</tr>\n",
       "<tr>\n",
       "  <th>ma.L1</th>  <td>   -1.6884</td> <td>    0.121</td> <td>  -13.960</td> <td> 0.000</td> <td>   -1.925</td> <td>   -1.451</td>\n",
       "</tr>\n",
       "<tr>\n",
       "  <th>ma.L2</th>  <td>    0.3000</td> <td>    0.229</td> <td>    1.308</td> <td> 0.191</td> <td>   -0.150</td> <td>    0.750</td>\n",
       "</tr>\n",
       "<tr>\n",
       "  <th>ma.L3</th>  <td>    0.5932</td> <td>    0.235</td> <td>    2.520</td> <td> 0.012</td> <td>    0.132</td> <td>    1.055</td>\n",
       "</tr>\n",
       "<tr>\n",
       "  <th>ma.L4</th>  <td>   -0.1996</td> <td>    0.126</td> <td>   -1.581</td> <td> 0.114</td> <td>   -0.447</td> <td>    0.048</td>\n",
       "</tr>\n",
       "<tr>\n",
       "  <th>sigma2</th> <td>    0.0597</td> <td>    0.009</td> <td>    6.796</td> <td> 0.000</td> <td>    0.042</td> <td>    0.077</td>\n",
       "</tr>\n",
       "</table>\n",
       "<table class=\"simpletable\">\n",
       "<tr>\n",
       "  <th>Ljung-Box (L1) (Q):</th>     <td>0.35</td> <th>  Jarque-Bera (JB):  </th> <td>1.40</td>\n",
       "</tr>\n",
       "<tr>\n",
       "  <th>Prob(Q):</th>                <td>0.56</td> <th>  Prob(JB):          </th> <td>0.50</td>\n",
       "</tr>\n",
       "<tr>\n",
       "  <th>Heteroskedasticity (H):</th> <td>0.90</td> <th>  Skew:              </th> <td>0.27</td>\n",
       "</tr>\n",
       "<tr>\n",
       "  <th>Prob(H) (two-sided):</th>    <td>0.74</td> <th>  Kurtosis:          </th> <td>2.98</td>\n",
       "</tr>\n",
       "</table><br/><br/>Warnings:<br/>[1] Covariance matrix calculated using the outer product of gradients (complex-step)."
      ],
      "text/plain": [
       "<class 'statsmodels.iolib.summary.Summary'>\n",
       "\"\"\"\n",
       "                               SARIMAX Results                                \n",
       "==============================================================================\n",
       "Dep. Variable:            temperature   No. Observations:                  117\n",
       "Model:                 ARIMA(0, 0, 4)   Log Likelihood                  -2.524\n",
       "Date:                Wed, 13 Apr 2022   AIC                             17.048\n",
       "Time:                        23:50:39   BIC                             33.621\n",
       "Sample:                    01-01-1903   HQIC                            23.776\n",
       "                         - 01-01-2019                                         \n",
       "Covariance Type:                  opg                                         \n",
       "==============================================================================\n",
       "                 coef    std err          z      P>|z|      [0.025      0.975]\n",
       "------------------------------------------------------------------------------\n",
       "const          0.0002      0.000      0.933      0.351      -0.000       0.001\n",
       "ma.L1         -1.6884      0.121    -13.960      0.000      -1.925      -1.451\n",
       "ma.L2          0.3000      0.229      1.308      0.191      -0.150       0.750\n",
       "ma.L3          0.5932      0.235      2.520      0.012       0.132       1.055\n",
       "ma.L4         -0.1996      0.126     -1.581      0.114      -0.447       0.048\n",
       "sigma2         0.0597      0.009      6.796      0.000       0.042       0.077\n",
       "===================================================================================\n",
       "Ljung-Box (L1) (Q):                   0.35   Jarque-Bera (JB):                 1.40\n",
       "Prob(Q):                              0.56   Prob(JB):                         0.50\n",
       "Heteroskedasticity (H):               0.90   Skew:                             0.27\n",
       "Prob(H) (two-sided):                  0.74   Kurtosis:                         2.98\n",
       "===================================================================================\n",
       "\n",
       "Warnings:\n",
       "[1] Covariance matrix calculated using the outer product of gradients (complex-step).\n",
       "\"\"\""
      ]
     },
     "execution_count": 33,
     "metadata": {},
     "output_type": "execute_result"
    }
   ],
   "source": [
    "#initiate Model\n",
    "mod004 = ARIMA (df_India[:-1], order=(0,0,4))\n",
    "\n",
    "#Fit Model\n",
    "mod004_fit = mod004.fit()\n",
    "\n",
    "#Observe summary statistics\n",
    "mod004_fit.summary()"
   ]
  },
  {
   "cell_type": "code",
   "execution_count": null,
   "id": "3f914175",
   "metadata": {},
   "outputs": [],
   "source": [
    "#building the model\n",
    "from pmdarima.arima import auto_arima\n",
    "smodel = auto_arima(df_India, \n",
    "                   trace=True, \n",
    "                   error_action='ignore', \n",
    "                   suppress_warnings=True, \n",
    "                   seasonal=True, \n",
    "                   m=6, \n",
    "                   stepwise=True)\n",
    "smodel_fit = smodel.fit(df_India)"
   ]
  }
 ],
 "metadata": {
  "kernelspec": {
   "display_name": "Python 3 (ipykernel)",
   "language": "python",
   "name": "python3"
  },
  "language_info": {
   "codemirror_mode": {
    "name": "ipython",
    "version": 3
   },
   "file_extension": ".py",
   "mimetype": "text/x-python",
   "name": "python",
   "nbconvert_exporter": "python",
   "pygments_lexer": "ipython3",
   "version": "3.8.10"
  }
 },
 "nbformat": 4,
 "nbformat_minor": 5
}
