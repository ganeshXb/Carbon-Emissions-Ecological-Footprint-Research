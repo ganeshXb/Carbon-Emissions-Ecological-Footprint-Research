{
 "cells": [
  {
   "cell_type": "code",
   "execution_count": 1,
   "id": "56c126fb",
   "metadata": {},
   "outputs": [],
   "source": [
    "#rebuild tensorflow with comiler flags\n",
    "import os\n",
    "os.environ['TF_CPP_MIN_LOG_LEVEL'] = '2'\n",
    "\n",
    "# Import necessary libraries and packages\n",
    "import time\n",
    "import numpy as np\n",
    "import pandas as pd\n",
    "import tensorflow as tf\n",
    "from keras.utils.vis_utils import plot_model\n",
    "from keras.models import Sequential\n",
    "from keras.layers import Dense\n",
    "from keras.layers import LSTM, GRU\n",
    "from keras.layers import Dropout\n",
    "from tensorflow.python.keras.metrics import Metric\n",
    "from itertools import product\n",
    "import matplotlib.pyplot as plt\n",
    "from sklearn.preprocessing import MinMaxScaler\n",
    "from statsmodels.tsa.arima.model import ARIMA\n",
    "from sklearn.metrics import mean_squared_error, mean_absolute_error,mean_squared_log_error\n",
    "from statsmodels.tsa.stattools import adfuller\n",
    "\n",
    "\n",
    "import warnings\n",
    "\n",
    "# Preferred settings\n",
    "warnings.filterwarnings('ignore')\n",
    "pd.set_option('display.max_columns', 100)"
   ]
  },
  {
   "cell_type": "code",
   "execution_count": 2,
   "id": "e5880325",
   "metadata": {},
   "outputs": [
    {
     "name": "stdout",
     "output_type": "stream",
     "text": [
      "(25204, 58)\n"
     ]
    }
   ],
   "source": [
    "#Import CO2 emissions data - OWID\n",
    "data = pd.read_csv('../Data/carbon-emissions/owid-co2-data.csv')\n",
    "\n",
    "#Observe data shape and head\n",
    "print(data.shape)"
   ]
  },
  {
   "cell_type": "code",
   "execution_count": 3,
   "id": "9faacb31",
   "metadata": {},
   "outputs": [
    {
     "data": {
      "text/plain": [
       "iso_code                                3256\n",
       "country                                    0\n",
       "year                                       0\n",
       "co2                                     1255\n",
       "consumption_co2                        21228\n",
       "co2_growth_prct                          273\n",
       "co2_growth_abs                          1619\n",
       "trade_co2                              21228\n",
       "co2_per_capita                          1897\n",
       "consumption_co2_per_capita             21228\n",
       "share_global_co2                        1255\n",
       "cumulative_co2                          1255\n",
       "share_global_cumulative_co2             1255\n",
       "co2_per_gdp                             9815\n",
       "consumption_co2_per_gdp                21443\n",
       "co2_per_unit_energy                    16063\n",
       "coal_co2                                8016\n",
       "cement_co2                             12956\n",
       "flaring_co2                            20822\n",
       "gas_co2                                16359\n",
       "oil_co2                                 4665\n",
       "other_industry_co2                     23205\n",
       "cement_co2_per_capita                  12986\n",
       "coal_co2_per_capita                     8344\n",
       "flaring_co2_per_capita                 20823\n",
       "gas_co2_per_capita                     16369\n",
       "oil_co2_per_capita                      5023\n",
       "other_co2_per_capita                   23205\n",
       "trade_co2_share                        21228\n",
       "share_global_cement_co2                12956\n",
       "share_global_coal_co2                   8016\n",
       "share_global_flaring_co2               20822\n",
       "share_global_gas_co2                   16359\n",
       "share_global_oil_co2                    4665\n",
       "share_global_other_co2                 23205\n",
       "cumulative_cement_co2                  12956\n",
       "cumulative_coal_co2                     8016\n",
       "cumulative_flaring_co2                 20822\n",
       "cumulative_gas_co2                     16359\n",
       "cumulative_oil_co2                      4665\n",
       "cumulative_other_co2                   23205\n",
       "share_global_cumulative_cement_co2     12956\n",
       "share_global_cumulative_coal_co2        8016\n",
       "share_global_cumulative_flaring_co2    20822\n",
       "share_global_cumulative_gas_co2        16359\n",
       "share_global_cumulative_oil_co2         4665\n",
       "share_global_cumulative_other_co2      23205\n",
       "total_ghg                              19996\n",
       "ghg_per_capita                         20049\n",
       "methane                                19993\n",
       "methane_per_capita                     20047\n",
       "nitrous_oxide                          19993\n",
       "nitrous_oxide_per_capita               20047\n",
       "population                              2326\n",
       "gdp                                    11666\n",
       "primary_energy_consumption             16514\n",
       "energy_per_capita                      16523\n",
       "energy_per_gdp                         18401\n",
       "dtype: int64"
      ]
     },
     "execution_count": 3,
     "metadata": {},
     "output_type": "execute_result"
    }
   ],
   "source": [
    "#check for null values\n",
    "data.isnull().sum()"
   ]
  },
  {
   "cell_type": "code",
   "execution_count": 4,
   "id": "b1aac38e",
   "metadata": {},
   "outputs": [
    {
     "name": "stdout",
     "output_type": "stream",
     "text": [
      "(121, 2)\n"
     ]
    }
   ],
   "source": [
    "#only include India co2 per capita data post-1900\n",
    "df_India = data\n",
    "df_India = df_India[df_India['year'] >= 1900]\n",
    "df_India = df_India[df_India['country'] == 'India']\n",
    "df_India = df_India[['year', 'co2_per_capita']]\n",
    "df_lstm = df_India\n",
    "#observe shape of reformatted df\n",
    "print(df_India.shape)"
   ]
  },
  {
   "cell_type": "code",
   "execution_count": 5,
   "id": "7fe5ea12",
   "metadata": {},
   "outputs": [],
   "source": [
    "#Convert year to index\n",
    "df_India.set_index('year', inplace=True)\n",
    "\n",
    "#Convert year to DateTime object\n",
    "df_India.index = pd.to_datetime(df_India.index, format='%Y')"
   ]
  },
  {
   "cell_type": "code",
   "execution_count": 6,
   "id": "94066bcd",
   "metadata": {},
   "outputs": [],
   "source": [
    "# Train-test split\n",
    "x = df_India.index\n",
    "y = df_India['co2_per_capita']\n",
    "\n",
    "train = df_India.loc[:'2008-01-01']\n",
    "test = df_India.loc['2008-01-01':]\n",
    "\n",
    "x_train, x_test = train.index, test.index\n",
    "y_train, y_test = train['co2_per_capita'], test['co2_per_capita']"
   ]
  },
  {
   "cell_type": "code",
   "execution_count": 7,
   "id": "0d0f2744",
   "metadata": {},
   "outputs": [
    {
     "name": "stdout",
     "output_type": "stream",
     "text": [
      "Performing stepwise search to minimize aic\n",
      " ARIMA(2,2,2)(1,0,1)[6]             : AIC=-631.565, Time=0.56 sec\n",
      " ARIMA(0,2,0)(0,0,0)[6]             : AIC=-595.689, Time=0.03 sec\n",
      " ARIMA(1,2,0)(1,0,0)[6]             : AIC=-618.588, Time=0.10 sec\n",
      " ARIMA(0,2,1)(0,0,1)[6]             : AIC=-636.946, Time=0.22 sec\n",
      " ARIMA(0,2,1)(0,0,0)[6]             : AIC=-636.989, Time=0.07 sec\n",
      " ARIMA(0,2,1)(1,0,0)[6]             : AIC=-636.726, Time=0.08 sec\n",
      " ARIMA(0,2,1)(1,0,1)[6]             : AIC=-634.997, Time=0.14 sec\n",
      " ARIMA(1,2,1)(0,0,0)[6]             : AIC=-635.019, Time=0.07 sec\n",
      " ARIMA(0,2,2)(0,0,0)[6]             : AIC=-634.873, Time=0.03 sec\n",
      " ARIMA(1,2,0)(0,0,0)[6]             : AIC=-619.645, Time=0.03 sec\n",
      " ARIMA(1,2,2)(0,0,0)[6]             : AIC=-633.604, Time=0.22 sec\n",
      " ARIMA(0,2,1)(0,0,0)[6] intercept   : AIC=-636.834, Time=0.09 sec\n",
      "\n",
      "Best model:  ARIMA(0,2,1)(0,0,0)[6]          \n",
      "Total fit time: 1.678 seconds\n"
     ]
    }
   ],
   "source": [
    "#building the model\n",
    "from pmdarima.arima import auto_arima\n",
    "grid = auto_arima(y_train, \n",
    "                   trace=True, \n",
    "                   error_action='ignore', \n",
    "                   suppress_warnings=True, \n",
    "                   seasonal=True, \n",
    "                   m=6, \n",
    "                   stepwise=True)"
   ]
  },
  {
   "cell_type": "code",
   "execution_count": 8,
   "id": "86eed7c4",
   "metadata": {},
   "outputs": [],
   "source": [
    "#instatiate SARIMA Model\n",
    "model = ARIMA(y_train,order=(0,2,1),seasonal_order=(0,0,0,6))\n",
    "fit = model.fit()\n",
    "\n",
    "#Prediction\n",
    "preds = fit.predict(start='1900-01-01', end='2020-01-01', dynamic=False, typ='levels')"
   ]
  },
  {
   "cell_type": "code",
   "execution_count": 9,
   "id": "907ae598",
   "metadata": {},
   "outputs": [
    {
     "data": {
      "image/png": "[encoded data removed]",
      "text/plain": [
       "<Figure size 432x288 with 1 Axes>"
      ]
     },
     "metadata": {
      "needs_background": "light"
     },
     "output_type": "display_data"
    }
   ],
   "source": [
    "#observe predictions\n",
    "#observe real vs forecasted emissions values\n",
    "\n",
    "#plot observed values\n",
    "ax = df_India['1900-01-01':].plot(label='observed', color='royalblue', legend=True)\n",
    "\n",
    "#plot predicted values\n",
    "preds.plot(ax=ax, label='SARIMA Predictions', color='red', alpha=0.5, legend=True)\n",
    "\n",
    "#add fill between lines, set axes labels and title\n",
    "\n",
    "ax.set_xlabel('Year', size=10)\n",
    "ax.set_ylabel('C02 Emissions Per Capita (t)', size=10)\n",
    "#ax.set_title('Real vs Predicted CO2 Emissions Per Capita \\n', size=15)\n",
    "\n",
    "plt.legend(loc='best')\n",
    "plt.show()\n"
   ]
  },
  {
   "cell_type": "code",
   "execution_count": 10,
   "id": "32afc05e",
   "metadata": {},
   "outputs": [
    {
     "data": {
      "text/html": [
       "<div>\n",
       "<style scoped>\n",
       "    .dataframe tbody tr th:only-of-type {\n",
       "        vertical-align: middle;\n",
       "    }\n",
       "\n",
       "    .dataframe tbody tr th {\n",
       "        vertical-align: top;\n",
       "    }\n",
       "\n",
       "    .dataframe thead th {\n",
       "        text-align: right;\n",
       "    }\n",
       "</style>\n",
       "<table border=\"1\" class=\"dataframe\">\n",
       "  <thead>\n",
       "    <tr style=\"text-align: right;\">\n",
       "      <th></th>\n",
       "      <th>raw</th>\n",
       "      <th>predicted</th>\n",
       "      <th>residuals</th>\n",
       "    </tr>\n",
       "    <tr>\n",
       "      <th>year</th>\n",
       "      <th></th>\n",
       "      <th></th>\n",
       "      <th></th>\n",
       "    </tr>\n",
       "  </thead>\n",
       "  <tbody>\n",
       "    <tr>\n",
       "      <th>1900-01-01</th>\n",
       "      <td>0.041</td>\n",
       "      <td>0.000000</td>\n",
       "      <td>4.100000e-02</td>\n",
       "    </tr>\n",
       "    <tr>\n",
       "      <th>1901-01-01</th>\n",
       "      <td>0.045</td>\n",
       "      <td>0.061500</td>\n",
       "      <td>-1.650000e-02</td>\n",
       "    </tr>\n",
       "    <tr>\n",
       "      <th>1902-01-01</th>\n",
       "      <td>0.049</td>\n",
       "      <td>0.049000</td>\n",
       "      <td>-3.392425e-12</td>\n",
       "    </tr>\n",
       "    <tr>\n",
       "      <th>1903-01-01</th>\n",
       "      <td>0.050</td>\n",
       "      <td>0.053000</td>\n",
       "      <td>-3.000000e-03</td>\n",
       "    </tr>\n",
       "    <tr>\n",
       "      <th>1904-01-01</th>\n",
       "      <td>0.056</td>\n",
       "      <td>0.052818</td>\n",
       "      <td>3.182111e-03</td>\n",
       "    </tr>\n",
       "    <tr>\n",
       "      <th>...</th>\n",
       "      <td>...</td>\n",
       "      <td>...</td>\n",
       "      <td>...</td>\n",
       "    </tr>\n",
       "    <tr>\n",
       "      <th>2016-01-01</th>\n",
       "      <td>1.799</td>\n",
       "      <td>1.627923</td>\n",
       "      <td>1.710773e-01</td>\n",
       "    </tr>\n",
       "    <tr>\n",
       "      <th>2017-01-01</th>\n",
       "      <td>1.818</td>\n",
       "      <td>1.679163</td>\n",
       "      <td>1.388370e-01</td>\n",
       "    </tr>\n",
       "    <tr>\n",
       "      <th>2018-01-01</th>\n",
       "      <td>1.922</td>\n",
       "      <td>1.730403</td>\n",
       "      <td>1.915966e-01</td>\n",
       "    </tr>\n",
       "    <tr>\n",
       "      <th>2019-01-01</th>\n",
       "      <td>1.922</td>\n",
       "      <td>1.781644</td>\n",
       "      <td>1.403563e-01</td>\n",
       "    </tr>\n",
       "    <tr>\n",
       "      <th>2020-01-01</th>\n",
       "      <td>1.769</td>\n",
       "      <td>1.832884</td>\n",
       "      <td>-6.388404e-02</td>\n",
       "    </tr>\n",
       "  </tbody>\n",
       "</table>\n",
       "<p>121 rows × 3 columns</p>\n",
       "</div>"
      ],
      "text/plain": [
       "              raw  predicted     residuals\n",
       "year                                      \n",
       "1900-01-01  0.041   0.000000  4.100000e-02\n",
       "1901-01-01  0.045   0.061500 -1.650000e-02\n",
       "1902-01-01  0.049   0.049000 -3.392425e-12\n",
       "1903-01-01  0.050   0.053000 -3.000000e-03\n",
       "1904-01-01  0.056   0.052818  3.182111e-03\n",
       "...           ...        ...           ...\n",
       "2016-01-01  1.799   1.627923  1.710773e-01\n",
       "2017-01-01  1.818   1.679163  1.388370e-01\n",
       "2018-01-01  1.922   1.730403  1.915966e-01\n",
       "2019-01-01  1.922   1.781644  1.403563e-01\n",
       "2020-01-01  1.769   1.832884 -6.388404e-02\n",
       "\n",
       "[121 rows x 3 columns]"
      ]
     },
     "execution_count": 10,
     "metadata": {},
     "output_type": "execute_result"
    }
   ],
   "source": [
    "SARIMA_Result =  pd.DataFrame(columns=['raw', 'predicted', 'residuals'])\n",
    "SARIMA_Result['raw'] = df_India['co2_per_capita']\n",
    "SARIMA_Result['predicted'] = preds\n",
    "SARIMA_Result['residuals'] = SARIMA_Result['raw'] - SARIMA_Result['predicted']\n",
    "SARIMA_Result"
   ]
  },
  {
   "cell_type": "code",
   "execution_count": 11,
   "id": "cc23657c",
   "metadata": {},
   "outputs": [
    {
     "data": {
      "text/plain": [
       "count    121.000000\n",
       "mean       0.012152\n",
       "std        0.040408\n",
       "min       -0.063884\n",
       "25%       -0.003900\n",
       "50%        0.003090\n",
       "75%        0.010319\n",
       "max        0.191597\n",
       "Name: residuals, dtype: float64"
      ]
     },
     "execution_count": 11,
     "metadata": {},
     "output_type": "execute_result"
    }
   ],
   "source": [
    "SARIMA_Result['residuals'].describe()"
   ]
  },
  {
   "cell_type": "markdown",
   "id": "085e5927",
   "metadata": {},
   "source": [
    "### Hybrid LSTM-SARIMA Model"
   ]
  },
  {
   "cell_type": "code",
   "execution_count": 12,
   "id": "107dc33e",
   "metadata": {},
   "outputs": [
    {
     "data": {
      "text/html": [
       "<div>\n",
       "<style scoped>\n",
       "    .dataframe tbody tr th:only-of-type {\n",
       "        vertical-align: middle;\n",
       "    }\n",
       "\n",
       "    .dataframe tbody tr th {\n",
       "        vertical-align: top;\n",
       "    }\n",
       "\n",
       "    .dataframe thead th {\n",
       "        text-align: right;\n",
       "    }\n",
       "</style>\n",
       "<table border=\"1\" class=\"dataframe\">\n",
       "  <thead>\n",
       "    <tr style=\"text-align: right;\">\n",
       "      <th></th>\n",
       "      <th>residuals</th>\n",
       "    </tr>\n",
       "    <tr>\n",
       "      <th>year</th>\n",
       "      <th></th>\n",
       "    </tr>\n",
       "  </thead>\n",
       "  <tbody>\n",
       "    <tr>\n",
       "      <th>1900-01-01</th>\n",
       "      <td>4.100000e-02</td>\n",
       "    </tr>\n",
       "    <tr>\n",
       "      <th>1901-01-01</th>\n",
       "      <td>-1.650000e-02</td>\n",
       "    </tr>\n",
       "    <tr>\n",
       "      <th>1902-01-01</th>\n",
       "      <td>-3.392425e-12</td>\n",
       "    </tr>\n",
       "    <tr>\n",
       "      <th>1903-01-01</th>\n",
       "      <td>-3.000000e-03</td>\n",
       "    </tr>\n",
       "    <tr>\n",
       "      <th>1904-01-01</th>\n",
       "      <td>3.182111e-03</td>\n",
       "    </tr>\n",
       "    <tr>\n",
       "      <th>...</th>\n",
       "      <td>...</td>\n",
       "    </tr>\n",
       "    <tr>\n",
       "      <th>2016-01-01</th>\n",
       "      <td>1.710773e-01</td>\n",
       "    </tr>\n",
       "    <tr>\n",
       "      <th>2017-01-01</th>\n",
       "      <td>1.388370e-01</td>\n",
       "    </tr>\n",
       "    <tr>\n",
       "      <th>2018-01-01</th>\n",
       "      <td>1.915966e-01</td>\n",
       "    </tr>\n",
       "    <tr>\n",
       "      <th>2019-01-01</th>\n",
       "      <td>1.403563e-01</td>\n",
       "    </tr>\n",
       "    <tr>\n",
       "      <th>2020-01-01</th>\n",
       "      <td>-6.388404e-02</td>\n",
       "    </tr>\n",
       "  </tbody>\n",
       "</table>\n",
       "<p>121 rows × 1 columns</p>\n",
       "</div>"
      ],
      "text/plain": [
       "               residuals\n",
       "year                    \n",
       "1900-01-01  4.100000e-02\n",
       "1901-01-01 -1.650000e-02\n",
       "1902-01-01 -3.392425e-12\n",
       "1903-01-01 -3.000000e-03\n",
       "1904-01-01  3.182111e-03\n",
       "...                  ...\n",
       "2016-01-01  1.710773e-01\n",
       "2017-01-01  1.388370e-01\n",
       "2018-01-01  1.915966e-01\n",
       "2019-01-01  1.403563e-01\n",
       "2020-01-01 -6.388404e-02\n",
       "\n",
       "[121 rows x 1 columns]"
      ]
     },
     "execution_count": 12,
     "metadata": {},
     "output_type": "execute_result"
    }
   ],
   "source": [
    "residual_sarima = pd.DataFrame(SARIMA_Result['residuals'])\n",
    "residual_sarima"
   ]
  },
  {
   "cell_type": "code",
   "execution_count": 13,
   "id": "e1822e1e",
   "metadata": {},
   "outputs": [
    {
     "data": {
      "text/plain": [
       "<AxesSubplot:xlabel='year'>"
      ]
     },
     "execution_count": 13,
     "metadata": {},
     "output_type": "execute_result"
    },
    {
     "data": {
      "image/png": "[encoded data removed]",
      "text/plain": [
       "<Figure size 432x288 with 1 Axes>"
      ]
     },
     "metadata": {
      "needs_background": "light"
     },
     "output_type": "display_data"
    }
   ],
   "source": [
    "residual_sarima.plot()"
   ]
  },
  {
   "cell_type": "code",
   "execution_count": 14,
   "id": "c35da5d4",
   "metadata": {},
   "outputs": [
    {
     "data": {
      "text/plain": [
       "<AxesSubplot:ylabel='Density'>"
      ]
     },
     "execution_count": 14,
     "metadata": {},
     "output_type": "execute_result"
    },
    {
     "data": {
      "image/png": "[encoded data removed]",
      "text/plain": [
       "<Figure size 432x288 with 1 Axes>"
      ]
     },
     "metadata": {
      "needs_background": "light"
     },
     "output_type": "display_data"
    }
   ],
   "source": [
    "SARIMA_Result['residuals'].plot(kind='kde', color='royalblue')"
   ]
  },
  {
   "cell_type": "code",
   "execution_count": 15,
   "id": "eb2266e3",
   "metadata": {},
   "outputs": [
    {
     "data": {
      "image/png": "[encoded data removed]",
      "text/plain": [
       "<Figure size 720x576 with 4 Axes>"
      ]
     },
     "metadata": {
      "needs_background": "light"
     },
     "output_type": "display_data"
    }
   ],
   "source": [
    "fit.plot_diagnostics(figsize=(10,8))\n",
    "plt.show()"
   ]
  },
  {
   "cell_type": "markdown",
   "id": "f69b66fb",
   "metadata": {},
   "source": [
    "#### Model"
   ]
  },
  {
   "cell_type": "code",
   "execution_count": 16,
   "id": "71df670f",
   "metadata": {},
   "outputs": [],
   "source": [
    "#fix random seed for reproducibility\n",
    "np.random.seed(42)"
   ]
  },
  {
   "cell_type": "code",
   "execution_count": 17,
   "id": "e7a6b643",
   "metadata": {},
   "outputs": [],
   "source": [
    "data = residual_sarima['residuals']\n",
    "dataset = residual_sarima.values\n",
    "dataset = dataset.astype('float32')"
   ]
  },
  {
   "cell_type": "code",
   "execution_count": 18,
   "id": "b101b756",
   "metadata": {},
   "outputs": [
    {
     "data": {
      "text/plain": [
       "(121, 1)"
      ]
     },
     "execution_count": 18,
     "metadata": {},
     "output_type": "execute_result"
    }
   ],
   "source": [
    "dataset.shape"
   ]
  },
  {
   "cell_type": "code",
   "execution_count": 19,
   "id": "a7933017",
   "metadata": {},
   "outputs": [],
   "source": [
    "#normalize\n",
    "scaler = MinMaxScaler(feature_range=(0,1))\n",
    "scaled_dataset = scaler.fit_transform(dataset) "
   ]
  },
  {
   "cell_type": "code",
   "execution_count": 20,
   "id": "e9ca8ea3",
   "metadata": {},
   "outputs": [
    {
     "data": {
      "text/plain": [
       "(121, 1)"
      ]
     },
     "execution_count": 20,
     "metadata": {},
     "output_type": "execute_result"
    }
   ],
   "source": [
    "scaled_dataset.shape"
   ]
  },
  {
   "cell_type": "code",
   "execution_count": 21,
   "id": "1ecf2267",
   "metadata": {},
   "outputs": [
    {
     "name": "stdout",
     "output_type": "stream",
     "text": [
      "108 13\n"
     ]
    }
   ],
   "source": [
    "#split train-set\n",
    "train_size = int(len(scaled_dataset)*0.90)\n",
    "test_size = len(scaled_dataset) - train_size\n",
    "train, test = scaled_dataset[0:train_size,:], scaled_dataset[train_size:len(scaled_dataset),:]\n",
    "print(len(train), len(test))"
   ]
  },
  {
   "cell_type": "code",
   "execution_count": 22,
   "id": "77501197",
   "metadata": {},
   "outputs": [
    {
     "data": {
      "text/plain": [
       "(108, 1)"
      ]
     },
     "execution_count": 22,
     "metadata": {},
     "output_type": "execute_result"
    }
   ],
   "source": [
    "train.shape"
   ]
  },
  {
   "cell_type": "code",
   "execution_count": 23,
   "id": "07a8f01d",
   "metadata": {},
   "outputs": [
    {
     "data": {
      "text/plain": [
       "(13, 1)"
      ]
     },
     "execution_count": 23,
     "metadata": {},
     "output_type": "execute_result"
    }
   ],
   "source": [
    "test.shape"
   ]
  },
  {
   "cell_type": "code",
   "execution_count": 24,
   "id": "d62752fe",
   "metadata": {},
   "outputs": [],
   "source": [
    "# Convert the data into a Supervised-learning data\n",
    "\n",
    "x = []\n",
    "y = []\n",
    "look_back = 4\n",
    "for i in range(look_back, len(train)):\n",
    "    x.append(train[i-look_back:i, 0])\n",
    "    y.append(train[i, 0])\n",
    "\n",
    "# Converting into numpy sequences to train the LSTM model\n",
    "trainX, trainY = np.array(x), np.array(y) "
   ]
  },
  {
   "cell_type": "code",
   "execution_count": 25,
   "id": "2129e3ab",
   "metadata": {},
   "outputs": [],
   "source": [
    "# Reshape the training data to 3 dimensional for LSTM input.\n",
    "X_train = np.reshape(trainX, (trainX.shape[0], trainX.shape[1], 1))"
   ]
  },
  {
   "cell_type": "code",
   "execution_count": 26,
   "id": "07fbc793",
   "metadata": {},
   "outputs": [
    {
     "data": {
      "text/plain": [
       "(104, 4, 1)"
      ]
     },
     "execution_count": 26,
     "metadata": {},
     "output_type": "execute_result"
    }
   ],
   "source": [
    "X_train.shape"
   ]
  },
  {
   "cell_type": "code",
   "execution_count": 27,
   "id": "5cd9e1d4",
   "metadata": {},
   "outputs": [
    {
     "data": {
      "text/plain": [
       "(104,)"
      ]
     },
     "execution_count": 27,
     "metadata": {},
     "output_type": "execute_result"
    }
   ],
   "source": [
    "trainY.shape"
   ]
  },
  {
   "cell_type": "code",
   "execution_count": 28,
   "id": "60dcaece",
   "metadata": {},
   "outputs": [],
   "source": [
    "#create and fit the LSTM network\n",
    "modelx = Sequential()\n",
    "\n",
    "#Add first LSTM layer with 20% dropout regularisation\n",
    "modelx.add(LSTM(units = 100,\n",
    "                return_sequences = True,\n",
    "                activation = 'relu',\n",
    "                input_shape = (X_train.shape[1], 1)))\n",
    "modelx.add(Dropout(0.3))\n",
    "\n",
    "#Add Second LSTM Layer\n",
    "modelx.add(LSTM(units = 90,\n",
    "                return_sequences = True,\n",
    "                activation = 'relu'))\n",
    "modelx.add(Dropout(0.2))\n",
    "#Add Third LSTM Layer\n",
    "modelx.add(LSTM(units = 90,\n",
    "                activation = 'relu'))\n",
    "modelx.add(Dropout(0.2))\n",
    "\n",
    "#Add output layer\n",
    "modelx.add(Dense(1))"
   ]
  },
  {
   "cell_type": "code",
   "execution_count": 29,
   "id": "bb2d7c76",
   "metadata": {
    "scrolled": false
   },
   "outputs": [
    {
     "name": "stdout",
     "output_type": "stream",
     "text": [
      "Epoch 1/100\n",
      "1/1 [==============================] - 3s 3s/step - loss: 0.0657 - val_loss: 0.0728\n",
      "Epoch 2/100\n",
      "1/1 [==============================] - 0s 63ms/step - loss: 0.0627 - val_loss: 0.0702\n",
      "Epoch 3/100\n",
      "1/1 [==============================] - 0s 61ms/step - loss: 0.0602 - val_loss: 0.0674\n",
      "Epoch 4/100\n",
      "1/1 [==============================] - 0s 62ms/step - loss: 0.0575 - val_loss: 0.0644\n",
      "Epoch 5/100\n",
      "1/1 [==============================] - 0s 53ms/step - loss: 0.0550 - val_loss: 0.0613\n",
      "Epoch 6/100\n",
      "1/1 [==============================] - 0s 56ms/step - loss: 0.0517 - val_loss: 0.0579\n",
      "Epoch 7/100\n",
      "1/1 [==============================] - 0s 55ms/step - loss: 0.0487 - val_loss: 0.0544\n",
      "Epoch 8/100\n",
      "1/1 [==============================] - 0s 52ms/step - loss: 0.0452 - val_loss: 0.0507\n",
      "Epoch 9/100\n",
      "1/1 [==============================] - 0s 57ms/step - loss: 0.0417 - val_loss: 0.0468\n",
      "Epoch 10/100\n",
      "1/1 [==============================] - 0s 51ms/step - loss: 0.0380 - val_loss: 0.0428\n",
      "Epoch 11/100\n",
      "1/1 [==============================] - 0s 57ms/step - loss: 0.0345 - val_loss: 0.0385\n",
      "Epoch 12/100\n",
      "1/1 [==============================] - 0s 55ms/step - loss: 0.0306 - val_loss: 0.0342\n",
      "Epoch 13/100\n",
      "1/1 [==============================] - 0s 56ms/step - loss: 0.0265 - val_loss: 0.0297\n",
      "Epoch 14/100\n",
      "1/1 [==============================] - 0s 55ms/step - loss: 0.0219 - val_loss: 0.0252\n",
      "Epoch 15/100\n",
      "1/1 [==============================] - 0s 53ms/step - loss: 0.0177 - val_loss: 0.0207\n",
      "Epoch 16/100\n",
      "1/1 [==============================] - 0s 55ms/step - loss: 0.0140 - val_loss: 0.0163\n",
      "Epoch 17/100\n",
      "1/1 [==============================] - 0s 52ms/step - loss: 0.0104 - val_loss: 0.0124\n",
      "Epoch 18/100\n",
      "1/1 [==============================] - 0s 54ms/step - loss: 0.0064 - val_loss: 0.0090\n",
      "Epoch 19/100\n",
      "1/1 [==============================] - 0s 54ms/step - loss: 0.0043 - val_loss: 0.0065\n",
      "Epoch 20/100\n",
      "1/1 [==============================] - 0s 53ms/step - loss: 0.0022 - val_loss: 0.0053\n",
      "Epoch 21/100\n",
      "1/1 [==============================] - 0s 54ms/step - loss: 0.0023 - val_loss: 0.0056\n",
      "Epoch 22/100\n",
      "1/1 [==============================] - 0s 54ms/step - loss: 0.0024 - val_loss: 0.0068\n",
      "Epoch 23/100\n",
      "1/1 [==============================] - 0s 59ms/step - loss: 0.0053 - val_loss: 0.0081\n",
      "Epoch 24/100\n",
      "1/1 [==============================] - 0s 52ms/step - loss: 0.0067 - val_loss: 0.0086\n",
      "Epoch 25/100\n",
      "1/1 [==============================] - 0s 62ms/step - loss: 0.0078 - val_loss: 0.0082\n",
      "Epoch 26/100\n",
      "1/1 [==============================] - 0s 54ms/step - loss: 0.0065 - val_loss: 0.0074\n",
      "Epoch 27/100\n",
      "1/1 [==============================] - 0s 53ms/step - loss: 0.0050 - val_loss: 0.0065\n",
      "Epoch 28/100\n",
      "1/1 [==============================] - 0s 53ms/step - loss: 0.0045 - val_loss: 0.0058\n",
      "Epoch 29/100\n",
      "1/1 [==============================] - 0s 55ms/step - loss: 0.0034 - val_loss: 0.0054\n",
      "Epoch 30/100\n",
      "1/1 [==============================] - 0s 55ms/step - loss: 0.0024 - val_loss: 0.0053\n",
      "Epoch 31/100\n",
      "1/1 [==============================] - 0s 56ms/step - loss: 0.0021 - val_loss: 0.0054\n",
      "Epoch 32/100\n",
      "1/1 [==============================] - 0s 54ms/step - loss: 0.0023 - val_loss: 0.0057\n",
      "Epoch 33/100\n",
      "1/1 [==============================] - 0s 84ms/step - loss: 0.0021 - val_loss: 0.0061\n",
      "Epoch 34/100\n",
      "1/1 [==============================] - 0s 52ms/step - loss: 0.0024 - val_loss: 0.0065\n",
      "Epoch 35/100\n",
      "1/1 [==============================] - 0s 51ms/step - loss: 0.0024 - val_loss: 0.0068\n",
      "Epoch 36/100\n",
      "1/1 [==============================] - 0s 53ms/step - loss: 0.0025 - val_loss: 0.0071\n",
      "Epoch 37/100\n",
      "1/1 [==============================] - 0s 54ms/step - loss: 0.0030 - val_loss: 0.0073\n",
      "Epoch 38/100\n",
      "1/1 [==============================] - 0s 54ms/step - loss: 0.0032 - val_loss: 0.0073\n",
      "Epoch 39/100\n",
      "1/1 [==============================] - 0s 57ms/step - loss: 0.0028 - val_loss: 0.0073\n",
      "Epoch 40/100\n",
      "1/1 [==============================] - 0s 52ms/step - loss: 0.0029 - val_loss: 0.0071\n",
      "Epoch 41/100\n",
      "1/1 [==============================] - 0s 54ms/step - loss: 0.0027 - val_loss: 0.0070\n",
      "Epoch 42/100\n",
      "1/1 [==============================] - 0s 53ms/step - loss: 0.0027 - val_loss: 0.0067\n",
      "Epoch 43/100\n",
      "1/1 [==============================] - 0s 53ms/step - loss: 0.0022 - val_loss: 0.0065\n",
      "Epoch 44/100\n",
      "1/1 [==============================] - 0s 56ms/step - loss: 0.0024 - val_loss: 0.0062\n",
      "Epoch 45/100\n",
      "1/1 [==============================] - 0s 56ms/step - loss: 0.0022 - val_loss: 0.0060\n",
      "Epoch 46/100\n",
      "1/1 [==============================] - 0s 53ms/step - loss: 0.0020 - val_loss: 0.0058\n",
      "Epoch 47/100\n",
      "1/1 [==============================] - 0s 52ms/step - loss: 0.0019 - val_loss: 0.0056\n",
      "Epoch 48/100\n",
      "1/1 [==============================] - 0s 51ms/step - loss: 0.0021 - val_loss: 0.0055\n",
      "Epoch 49/100\n",
      "1/1 [==============================] - 0s 51ms/step - loss: 0.0020 - val_loss: 0.0054\n",
      "Epoch 50/100\n",
      "1/1 [==============================] - 0s 50ms/step - loss: 0.0016 - val_loss: 0.0053\n",
      "Epoch 51/100\n",
      "1/1 [==============================] - 0s 49ms/step - loss: 0.0018 - val_loss: 0.0053\n",
      "Epoch 52/100\n",
      "1/1 [==============================] - 0s 54ms/step - loss: 0.0019 - val_loss: 0.0053\n",
      "Epoch 53/100\n",
      "1/1 [==============================] - 0s 51ms/step - loss: 0.0021 - val_loss: 0.0053\n",
      "Epoch 54/100\n",
      "1/1 [==============================] - 0s 57ms/step - loss: 0.0021 - val_loss: 0.0053\n",
      "Epoch 55/100\n",
      "1/1 [==============================] - 0s 53ms/step - loss: 0.0022 - val_loss: 0.0053\n",
      "Epoch 56/100\n",
      "1/1 [==============================] - 0s 55ms/step - loss: 0.0021 - val_loss: 0.0053\n",
      "Epoch 57/100\n",
      "1/1 [==============================] - 0s 51ms/step - loss: 0.0024 - val_loss: 0.0053\n",
      "Epoch 58/100\n",
      "1/1 [==============================] - 0s 52ms/step - loss: 0.0016 - val_loss: 0.0053\n",
      "Epoch 59/100\n",
      "1/1 [==============================] - 0s 50ms/step - loss: 0.0019 - val_loss: 0.0053\n",
      "Epoch 60/100\n",
      "1/1 [==============================] - 0s 53ms/step - loss: 0.0018 - val_loss: 0.0054\n",
      "Epoch 61/100\n",
      "1/1 [==============================] - 0s 48ms/step - loss: 0.0018 - val_loss: 0.0054\n",
      "Epoch 62/100\n",
      "1/1 [==============================] - 0s 49ms/step - loss: 0.0018 - val_loss: 0.0055\n",
      "Epoch 63/100\n",
      "1/1 [==============================] - 0s 50ms/step - loss: 0.0018 - val_loss: 0.0055\n",
      "Epoch 64/100\n",
      "1/1 [==============================] - 0s 50ms/step - loss: 0.0020 - val_loss: 0.0056\n",
      "Epoch 65/100\n",
      "1/1 [==============================] - 0s 51ms/step - loss: 0.0019 - val_loss: 0.0056\n",
      "Epoch 66/100\n",
      "1/1 [==============================] - 0s 49ms/step - loss: 0.0015 - val_loss: 0.0056\n",
      "Epoch 67/100\n",
      "1/1 [==============================] - 0s 52ms/step - loss: 0.0019 - val_loss: 0.0057\n",
      "Epoch 68/100\n",
      "1/1 [==============================] - 0s 57ms/step - loss: 0.0021 - val_loss: 0.0057\n",
      "Epoch 69/100\n",
      "1/1 [==============================] - 0s 52ms/step - loss: 0.0022 - val_loss: 0.0056\n",
      "Epoch 70/100\n",
      "1/1 [==============================] - 0s 52ms/step - loss: 0.0021 - val_loss: 0.0056\n",
      "Epoch 71/100\n",
      "1/1 [==============================] - 0s 50ms/step - loss: 0.0021 - val_loss: 0.0056\n",
      "Epoch 72/100\n",
      "1/1 [==============================] - 0s 52ms/step - loss: 0.0020 - val_loss: 0.0055\n",
      "Epoch 73/100\n",
      "1/1 [==============================] - 0s 53ms/step - loss: 0.0020 - val_loss: 0.0055\n",
      "Epoch 74/100\n",
      "1/1 [==============================] - 0s 53ms/step - loss: 0.0020 - val_loss: 0.0055\n",
      "Epoch 75/100\n",
      "1/1 [==============================] - 0s 51ms/step - loss: 0.0018 - val_loss: 0.0054\n",
      "Epoch 76/100\n",
      "1/1 [==============================] - 0s 52ms/step - loss: 0.0020 - val_loss: 0.0054\n",
      "Epoch 77/100\n",
      "1/1 [==============================] - 0s 55ms/step - loss: 0.0016 - val_loss: 0.0054\n",
      "Epoch 78/100\n",
      "1/1 [==============================] - 0s 52ms/step - loss: 0.0016 - val_loss: 0.0054\n",
      "Epoch 79/100\n",
      "1/1 [==============================] - 0s 51ms/step - loss: 0.0020 - val_loss: 0.0054\n",
      "Epoch 80/100\n",
      "1/1 [==============================] - 0s 53ms/step - loss: 0.0024 - val_loss: 0.0054\n",
      "Epoch 81/100\n",
      "1/1 [==============================] - 0s 52ms/step - loss: 0.0019 - val_loss: 0.0054\n",
      "Epoch 82/100\n",
      "1/1 [==============================] - 0s 99ms/step - loss: 0.0019 - val_loss: 0.0054\n",
      "Epoch 83/100\n",
      "1/1 [==============================] - 0s 55ms/step - loss: 0.0019 - val_loss: 0.0054\n"
     ]
    },
    {
     "name": "stdout",
     "output_type": "stream",
     "text": [
      "Epoch 84/100\n",
      "1/1 [==============================] - 0s 53ms/step - loss: 0.0021 - val_loss: 0.0054\n",
      "Epoch 85/100\n",
      "1/1 [==============================] - 0s 52ms/step - loss: 0.0020 - val_loss: 0.0054\n",
      "Epoch 86/100\n",
      "1/1 [==============================] - 0s 54ms/step - loss: 0.0018 - val_loss: 0.0054\n",
      "Epoch 87/100\n",
      "1/1 [==============================] - 0s 53ms/step - loss: 0.0017 - val_loss: 0.0054\n",
      "Epoch 88/100\n",
      "1/1 [==============================] - 0s 51ms/step - loss: 0.0016 - val_loss: 0.0054\n",
      "Epoch 89/100\n",
      "1/1 [==============================] - 0s 51ms/step - loss: 0.0019 - val_loss: 0.0055\n",
      "Epoch 90/100\n",
      "1/1 [==============================] - 0s 52ms/step - loss: 0.0017 - val_loss: 0.0055\n",
      "Epoch 91/100\n",
      "1/1 [==============================] - 0s 52ms/step - loss: 0.0018 - val_loss: 0.0055\n",
      "Epoch 92/100\n",
      "1/1 [==============================] - 0s 53ms/step - loss: 0.0020 - val_loss: 0.0055\n",
      "Epoch 93/100\n",
      "1/1 [==============================] - 0s 56ms/step - loss: 0.0017 - val_loss: 0.0055\n",
      "Epoch 94/100\n",
      "1/1 [==============================] - 0s 52ms/step - loss: 0.0017 - val_loss: 0.0055\n",
      "Epoch 95/100\n",
      "1/1 [==============================] - 0s 51ms/step - loss: 0.0015 - val_loss: 0.0056\n",
      "Epoch 96/100\n",
      "1/1 [==============================] - 0s 53ms/step - loss: 0.0022 - val_loss: 0.0056\n",
      "Epoch 97/100\n",
      "1/1 [==============================] - 0s 52ms/step - loss: 0.0020 - val_loss: 0.0056\n",
      "Epoch 98/100\n",
      "1/1 [==============================] - 0s 54ms/step - loss: 0.0017 - val_loss: 0.0055\n",
      "Epoch 99/100\n",
      "1/1 [==============================] - 0s 58ms/step - loss: 0.0019 - val_loss: 0.0055\n",
      "Epoch 100/100\n",
      "1/1 [==============================] - 0s 51ms/step - loss: 0.0019 - val_loss: 0.0055\n"
     ]
    }
   ],
   "source": [
    "modelx.compile(loss='mean_squared_error', optimizer='adam')\n",
    "history = modelx.fit(X_train,\n",
    "                     trainY, \n",
    "                     epochs = 100, \n",
    "                     batch_size = 128, \n",
    "                     validation_split = 0.2, \n",
    "                     verbose = 1, \n",
    "                     shuffle = False)"
   ]
  },
  {
   "cell_type": "code",
   "execution_count": 30,
   "id": "ece9bbc6",
   "metadata": {},
   "outputs": [
    {
     "data": {
      "text/html": [
       "<div>\n",
       "<style scoped>\n",
       "    .dataframe tbody tr th:only-of-type {\n",
       "        vertical-align: middle;\n",
       "    }\n",
       "\n",
       "    .dataframe tbody tr th {\n",
       "        vertical-align: top;\n",
       "    }\n",
       "\n",
       "    .dataframe thead th {\n",
       "        text-align: right;\n",
       "    }\n",
       "</style>\n",
       "<table border=\"1\" class=\"dataframe\">\n",
       "  <thead>\n",
       "    <tr style=\"text-align: right;\">\n",
       "      <th></th>\n",
       "      <th>loss</th>\n",
       "      <th>val_loss</th>\n",
       "    </tr>\n",
       "  </thead>\n",
       "  <tbody>\n",
       "    <tr>\n",
       "      <th>0</th>\n",
       "      <td>0.065710</td>\n",
       "      <td>0.072820</td>\n",
       "    </tr>\n",
       "    <tr>\n",
       "      <th>1</th>\n",
       "      <td>0.062731</td>\n",
       "      <td>0.070195</td>\n",
       "    </tr>\n",
       "    <tr>\n",
       "      <th>2</th>\n",
       "      <td>0.060154</td>\n",
       "      <td>0.067393</td>\n",
       "    </tr>\n",
       "    <tr>\n",
       "      <th>3</th>\n",
       "      <td>0.057521</td>\n",
       "      <td>0.064412</td>\n",
       "    </tr>\n",
       "    <tr>\n",
       "      <th>4</th>\n",
       "      <td>0.054973</td>\n",
       "      <td>0.061255</td>\n",
       "    </tr>\n",
       "  </tbody>\n",
       "</table>\n",
       "</div>"
      ],
      "text/plain": [
       "       loss  val_loss\n",
       "0  0.065710  0.072820\n",
       "1  0.062731  0.070195\n",
       "2  0.060154  0.067393\n",
       "3  0.057521  0.064412\n",
       "4  0.054973  0.061255"
      ]
     },
     "execution_count": 30,
     "metadata": {},
     "output_type": "execute_result"
    }
   ],
   "source": [
    "#Construct Metircs for the LSTM Model\n",
    "metrics = pd.DataFrame(modelx.history.history)\n",
    "metrics.head()"
   ]
  },
  {
   "cell_type": "code",
   "execution_count": 31,
   "id": "600b2854",
   "metadata": {},
   "outputs": [
    {
     "data": {
      "text/plain": [
       "Text(0, 0.5, 'Loss')"
      ]
     },
     "execution_count": 31,
     "metadata": {},
     "output_type": "execute_result"
    },
    {
     "data": {
      "image/png": "[encoded data removed]",
      "text/plain": [
       "<Figure size 864x360 with 1 Axes>"
      ]
     },
     "metadata": {
      "needs_background": "light"
     },
     "output_type": "display_data"
    }
   ],
   "source": [
    "#Plot the loss of LSTM Model\n",
    "\n",
    "metrics[['loss', 'val_loss']].plot(figsize=(12,5))\n",
    "plt.title(\"Loss vs Val_loss\")\n",
    "plt.xlabel('Epochs')\n",
    "plt.ylabel('Loss')"
   ]
  },
  {
   "cell_type": "code",
   "execution_count": 32,
   "id": "3e50a92e",
   "metadata": {},
   "outputs": [],
   "source": [
    "# Prepare the test data for validation\n",
    "test_data = scaled_dataset[train_size - look_back: , : ]\n",
    "\n",
    "#Create the x_test and y_test data sets\n",
    "X_test = []\n",
    "y_test =  dataset[train_size : , : ]\n",
    "for i in range(look_back, len(test_data)):\n",
    "    X_test.append(test_data[i-look_back:i,0])\n",
    "\n",
    "# Convert x_test to a numpy array\n",
    "X_test = np.array(X_test)"
   ]
  },
  {
   "cell_type": "markdown",
   "id": "ecd98114",
   "metadata": {},
   "source": [
    "***Prediction***"
   ]
  },
  {
   "cell_type": "code",
   "execution_count": 33,
   "id": "4310a09b",
   "metadata": {
    "scrolled": false
   },
   "outputs": [
    {
     "data": {
      "text/html": [
       "<div>\n",
       "<style scoped>\n",
       "    .dataframe tbody tr th:only-of-type {\n",
       "        vertical-align: middle;\n",
       "    }\n",
       "\n",
       "    .dataframe tbody tr th {\n",
       "        vertical-align: top;\n",
       "    }\n",
       "\n",
       "    .dataframe thead th {\n",
       "        text-align: right;\n",
       "    }\n",
       "</style>\n",
       "<table border=\"1\" class=\"dataframe\">\n",
       "  <thead>\n",
       "    <tr style=\"text-align: right;\">\n",
       "      <th></th>\n",
       "      <th>residuals</th>\n",
       "    </tr>\n",
       "    <tr>\n",
       "      <th>year</th>\n",
       "      <th></th>\n",
       "    </tr>\n",
       "  </thead>\n",
       "  <tbody>\n",
       "    <tr>\n",
       "      <th>1900-01-01</th>\n",
       "      <td>4.100000e-02</td>\n",
       "    </tr>\n",
       "    <tr>\n",
       "      <th>1901-01-01</th>\n",
       "      <td>-1.650000e-02</td>\n",
       "    </tr>\n",
       "    <tr>\n",
       "      <th>1902-01-01</th>\n",
       "      <td>-3.392425e-12</td>\n",
       "    </tr>\n",
       "    <tr>\n",
       "      <th>1903-01-01</th>\n",
       "      <td>-3.000000e-03</td>\n",
       "    </tr>\n",
       "    <tr>\n",
       "      <th>1900-01-01</th>\n",
       "      <td>4.100000e-02</td>\n",
       "    </tr>\n",
       "    <tr>\n",
       "      <th>...</th>\n",
       "      <td>...</td>\n",
       "    </tr>\n",
       "    <tr>\n",
       "      <th>2016-01-01</th>\n",
       "      <td>1.710773e-01</td>\n",
       "    </tr>\n",
       "    <tr>\n",
       "      <th>2017-01-01</th>\n",
       "      <td>1.388370e-01</td>\n",
       "    </tr>\n",
       "    <tr>\n",
       "      <th>2018-01-01</th>\n",
       "      <td>1.915966e-01</td>\n",
       "    </tr>\n",
       "    <tr>\n",
       "      <th>2019-01-01</th>\n",
       "      <td>1.403563e-01</td>\n",
       "    </tr>\n",
       "    <tr>\n",
       "      <th>2020-01-01</th>\n",
       "      <td>-6.388404e-02</td>\n",
       "    </tr>\n",
       "  </tbody>\n",
       "</table>\n",
       "<p>125 rows × 1 columns</p>\n",
       "</div>"
      ],
      "text/plain": [
       "               residuals\n",
       "year                    \n",
       "1900-01-01  4.100000e-02\n",
       "1901-01-01 -1.650000e-02\n",
       "1902-01-01 -3.392425e-12\n",
       "1903-01-01 -3.000000e-03\n",
       "1900-01-01  4.100000e-02\n",
       "...                  ...\n",
       "2016-01-01  1.710773e-01\n",
       "2017-01-01  1.388370e-01\n",
       "2018-01-01  1.915966e-01\n",
       "2019-01-01  1.403563e-01\n",
       "2020-01-01 -6.388404e-02\n",
       "\n",
       "[125 rows x 1 columns]"
      ]
     },
     "execution_count": 33,
     "metadata": {},
     "output_type": "execute_result"
    }
   ],
   "source": [
    "#process data to avoid truncation\n",
    "test = residual_sarima.head(4)\n",
    "test = pd.concat([test, residual_sarima])\n",
    "test"
   ]
  },
  {
   "cell_type": "code",
   "execution_count": 34,
   "id": "fd1b2812",
   "metadata": {},
   "outputs": [
    {
     "data": {
      "text/html": [
       "<div>\n",
       "<style scoped>\n",
       "    .dataframe tbody tr th:only-of-type {\n",
       "        vertical-align: middle;\n",
       "    }\n",
       "\n",
       "    .dataframe tbody tr th {\n",
       "        vertical-align: top;\n",
       "    }\n",
       "\n",
       "    .dataframe thead th {\n",
       "        text-align: right;\n",
       "    }\n",
       "</style>\n",
       "<table border=\"1\" class=\"dataframe\">\n",
       "  <thead>\n",
       "    <tr style=\"text-align: right;\">\n",
       "      <th></th>\n",
       "      <th>residuals</th>\n",
       "    </tr>\n",
       "  </thead>\n",
       "  <tbody>\n",
       "    <tr>\n",
       "      <th>0</th>\n",
       "      <td>4.100000e-02</td>\n",
       "    </tr>\n",
       "    <tr>\n",
       "      <th>1</th>\n",
       "      <td>-1.650000e-02</td>\n",
       "    </tr>\n",
       "    <tr>\n",
       "      <th>2</th>\n",
       "      <td>-3.392425e-12</td>\n",
       "    </tr>\n",
       "    <tr>\n",
       "      <th>3</th>\n",
       "      <td>-3.000000e-03</td>\n",
       "    </tr>\n",
       "    <tr>\n",
       "      <th>4</th>\n",
       "      <td>4.100000e-02</td>\n",
       "    </tr>\n",
       "    <tr>\n",
       "      <th>...</th>\n",
       "      <td>...</td>\n",
       "    </tr>\n",
       "    <tr>\n",
       "      <th>120</th>\n",
       "      <td>1.710773e-01</td>\n",
       "    </tr>\n",
       "    <tr>\n",
       "      <th>121</th>\n",
       "      <td>1.388370e-01</td>\n",
       "    </tr>\n",
       "    <tr>\n",
       "      <th>122</th>\n",
       "      <td>1.915966e-01</td>\n",
       "    </tr>\n",
       "    <tr>\n",
       "      <th>123</th>\n",
       "      <td>1.403563e-01</td>\n",
       "    </tr>\n",
       "    <tr>\n",
       "      <th>124</th>\n",
       "      <td>-6.388404e-02</td>\n",
       "    </tr>\n",
       "  </tbody>\n",
       "</table>\n",
       "<p>125 rows × 1 columns</p>\n",
       "</div>"
      ],
      "text/plain": [
       "        residuals\n",
       "0    4.100000e-02\n",
       "1   -1.650000e-02\n",
       "2   -3.392425e-12\n",
       "3   -3.000000e-03\n",
       "4    4.100000e-02\n",
       "..            ...\n",
       "120  1.710773e-01\n",
       "121  1.388370e-01\n",
       "122  1.915966e-01\n",
       "123  1.403563e-01\n",
       "124 -6.388404e-02\n",
       "\n",
       "[125 rows x 1 columns]"
      ]
     },
     "execution_count": 34,
     "metadata": {},
     "output_type": "execute_result"
    }
   ],
   "source": [
    "test.reset_index(drop=True, inplace=True)\n",
    "test"
   ]
  },
  {
   "cell_type": "code",
   "execution_count": 35,
   "id": "4329d755",
   "metadata": {},
   "outputs": [
    {
     "data": {
      "text/plain": [
       "(125, 1)"
      ]
     },
     "execution_count": 35,
     "metadata": {},
     "output_type": "execute_result"
    }
   ],
   "source": [
    "#Normalize data \n",
    "target_test = test.iloc[:, 0:1].values\n",
    "test_scaled = scaler.fit_transform(target_test)\n",
    "test_scaled.shape"
   ]
  },
  {
   "cell_type": "code",
   "execution_count": 36,
   "id": "f44c8ccd",
   "metadata": {},
   "outputs": [],
   "source": [
    "test = test_scaled[:,:]\n",
    "\n",
    "#convert data\n",
    "xf_test = []\n",
    "yf_test = dataset[: , :]\n",
    "\n",
    "for i in range(look_back, len(test)):\n",
    "    xf_test.append(test[i-look_back:i, 0])\n",
    "\n",
    "#convert to a numpy array\n",
    "xf_test = np.array(xf_test)"
   ]
  },
  {
   "cell_type": "code",
   "execution_count": 37,
   "id": "5da30263",
   "metadata": {},
   "outputs": [
    {
     "data": {
      "text/plain": [
       "(121, 4, 1)"
      ]
     },
     "execution_count": 37,
     "metadata": {},
     "output_type": "execute_result"
    }
   ],
   "source": [
    "#reshape the data into dimensions of LSTM model\n",
    "xf_test = xf_test.reshape(xf_test.shape[0], xf_test.shape[1], 1)\n",
    "xf_test.shape"
   ]
  },
  {
   "cell_type": "code",
   "execution_count": 38,
   "id": "c2dd0b7f",
   "metadata": {},
   "outputs": [
    {
     "data": {
      "text/plain": [
       "(121, 1)"
      ]
     },
     "execution_count": 38,
     "metadata": {},
     "output_type": "execute_result"
    }
   ],
   "source": [
    "yf_test.shape"
   ]
  },
  {
   "cell_type": "code",
   "execution_count": 42,
   "id": "95f55010",
   "metadata": {},
   "outputs": [
    {
     "data": {
      "text/plain": [
       "array([[ 8.38402018e-04],\n",
       "       [-9.21516912e-04],\n",
       "       [ 6.78202705e-05],\n",
       "       [ 3.69712070e-04],\n",
       "       [ 8.38402018e-04],\n",
       "       [-1.16679934e-03],\n",
       "       [-4.92803927e-04],\n",
       "       [-4.92567895e-04],\n",
       "       [-2.89310527e-04],\n",
       "       [-3.49155918e-04],\n",
       "       [-9.04388071e-05],\n",
       "       [-4.16935014e-04],\n",
       "       [-6.32781943e-04],\n",
       "       [-9.04853863e-04],\n",
       "       [-4.31489025e-04],\n",
       "       [-4.26843180e-05],\n",
       "       [-1.91268609e-05],\n",
       "       [-4.72337706e-04],\n",
       "       [-7.39315874e-04],\n",
       "       [-4.90493083e-04],\n",
       "       [-3.62137653e-04],\n",
       "       [-2.48423778e-04],\n",
       "       [-4.21826961e-04],\n",
       "       [-1.08852820e-03],\n",
       "       [-1.62890693e-03],\n",
       "       [-3.80702841e-05],\n",
       "       [-4.57387767e-04],\n",
       "       [-2.45496223e-04],\n",
       "       [-3.14276578e-04],\n",
       "       [-6.97968528e-04],\n",
       "       [-4.98514331e-04],\n",
       "       [-4.20064345e-04],\n",
       "       [-7.04436563e-04],\n",
       "       [-4.99108224e-04],\n",
       "       [-8.56242841e-04],\n",
       "       [-1.01457047e-03],\n",
       "       [-3.65826592e-04],\n",
       "       [ 9.61821133e-05],\n",
       "       [ 2.73685349e-04],\n",
       "       [-1.76852962e-04],\n",
       "       [-1.95628891e-04],\n",
       "       [ 1.50278996e-04],\n",
       "       [-2.44769122e-04],\n",
       "       [-7.47649348e-04],\n",
       "       [-4.56988026e-04],\n",
       "       [-8.55683233e-04],\n",
       "       [-9.29488684e-04],\n",
       "       [-8.10456520e-04],\n",
       "       [ 2.26303964e-04],\n",
       "       [ 1.41142300e-04],\n",
       "       [-5.69970929e-04],\n",
       "       [-2.54111394e-04],\n",
       "       [-1.96222769e-04],\n",
       "       [ 5.19147980e-05],\n",
       "       [-1.33693480e-04],\n",
       "       [-5.96330327e-04],\n",
       "       [-5.41723333e-04],\n",
       "       [-5.40440378e-04],\n",
       "       [-1.07893713e-04],\n",
       "       [-8.74528359e-06],\n",
       "       [-2.31696016e-04],\n",
       "       [ 7.18861047e-05],\n",
       "       [-4.78013855e-04],\n",
       "       [-5.37968335e-05],\n",
       "       [ 1.80559538e-04],\n",
       "       [-1.83343829e-04],\n",
       "       [-4.11007582e-04],\n",
       "       [-9.98505042e-04],\n",
       "       [-1.34504866e-03],\n",
       "       [-1.37127354e-04],\n",
       "       [-9.58436809e-04],\n",
       "       [-8.39393237e-04],\n",
       "       [-1.20369121e-04],\n",
       "       [-9.29420174e-04],\n",
       "       [-4.65074001e-04],\n",
       "       [-1.74721063e-04],\n",
       "       [-3.25130211e-04],\n",
       "       [-5.34946914e-04],\n",
       "       [-1.20136894e-04],\n",
       "       [ 1.62940938e-04],\n",
       "       [-5.96082886e-04],\n",
       "       [-5.52200072e-04],\n",
       "       [-6.90681976e-04],\n",
       "       [ 3.13648343e-05],\n",
       "       [ 1.32843124e-04],\n",
       "       [ 4.30521977e-05],\n",
       "       [-4.66052414e-04],\n",
       "       [ 2.59774737e-04],\n",
       "       [-1.31968918e-04],\n",
       "       [ 9.31771472e-04],\n",
       "       [ 2.92567856e-04],\n",
       "       [ 3.88784945e-04],\n",
       "       [ 6.02370535e-04],\n",
       "       [ 3.97297292e-04],\n",
       "       [-6.38579950e-04],\n",
       "       [-7.73688953e-04],\n",
       "       [-8.89473769e-04],\n",
       "       [-9.56099364e-04],\n",
       "       [ 2.22458926e-04],\n",
       "       [ 1.44583784e-04],\n",
       "       [-1.54829715e-04],\n",
       "       [-1.46075361e-03],\n",
       "       [-1.12541765e-03],\n",
       "       [-8.15876338e-05],\n",
       "       [-2.25492707e-03],\n",
       "       [-1.52936648e-03],\n",
       "       [-8.47118281e-06],\n",
       "       [ 7.73097447e-04],\n",
       "       [ 1.66745856e-03],\n",
       "       [ 1.45863928e-03],\n",
       "       [ 2.22152332e-03],\n",
       "       [ 2.96741328e-03],\n",
       "       [ 3.32674431e-03],\n",
       "       [ 4.82573453e-03],\n",
       "       [ 5.75771602e-03],\n",
       "       [ 8.78693536e-03],\n",
       "       [ 1.25860972e-02],\n",
       "       [ 1.34522570e-02],\n",
       "       [ 1.54018458e-02],\n",
       "       [ 1.53947501e-02],\n",
       "       [ 1.57020632e-02]], dtype=float32)"
      ]
     },
     "execution_count": 42,
     "metadata": {},
     "output_type": "execute_result"
    }
   ],
   "source": [
    "#predictions of entire dataset using LSTM Model\n",
    "predicted_resid = modelx.predict(xf_test)\n",
    "predicted_resid = scaler.inverse_transform(predicted_resid)\n",
    "predicted_resid"
   ]
  },
  {
   "cell_type": "code",
   "execution_count": 43,
   "id": "3c5226bf",
   "metadata": {},
   "outputs": [
    {
     "data": {
      "image/png": "[encoded data removed]",
      "text/plain": [
       "<Figure size 576x432 with 1 Axes>"
      ]
     },
     "metadata": {
      "needs_background": "light"
     },
     "output_type": "display_data"
    }
   ],
   "source": [
    "# Plot the original and predicted CO2 emissions set\n",
    "import pandas as pd\n",
    "pd.options.mode.chained_assignment = None \n",
    "train = residual_sarima[:]\n",
    "valid = residual_sarima[:]\n",
    "valid['Predictions'] = predicted_resid\n",
    "plt.figure(figsize=(8,6))\n",
    "#plt.title('Forecasting Per Capita CO2 Emissions')\n",
    "plt.xlabel('Date', fontsize=12)\n",
    "plt.ylabel('Co2 Emissions (T)', fontsize=12)\n",
    "plt.plot(train['residuals'])\n",
    "plt.plot(valid['Predictions'])\n",
    "plt.legend(['Observed', 'Predictions'], loc='lower right')\n",
    "plt.show()"
   ]
  },
  {
   "cell_type": "code",
   "execution_count": 47,
   "id": "957a2982",
   "metadata": {},
   "outputs": [
    {
     "data": {
      "text/html": [
       "<div>\n",
       "<style scoped>\n",
       "    .dataframe tbody tr th:only-of-type {\n",
       "        vertical-align: middle;\n",
       "    }\n",
       "\n",
       "    .dataframe tbody tr th {\n",
       "        vertical-align: top;\n",
       "    }\n",
       "\n",
       "    .dataframe thead th {\n",
       "        text-align: right;\n",
       "    }\n",
       "</style>\n",
       "<table border=\"1\" class=\"dataframe\">\n",
       "  <thead>\n",
       "    <tr style=\"text-align: right;\">\n",
       "      <th></th>\n",
       "      <th>raw</th>\n",
       "      <th>predicted</th>\n",
       "      <th>fit_resid</th>\n",
       "      <th>Hybrib_pred</th>\n",
       "    </tr>\n",
       "    <tr>\n",
       "      <th>year</th>\n",
       "      <th></th>\n",
       "      <th></th>\n",
       "      <th></th>\n",
       "      <th></th>\n",
       "    </tr>\n",
       "  </thead>\n",
       "  <tbody>\n",
       "    <tr>\n",
       "      <th>1900-01-01</th>\n",
       "      <td>0.041</td>\n",
       "      <td>0.000000</td>\n",
       "      <td>0.000838</td>\n",
       "      <td>0.000838</td>\n",
       "    </tr>\n",
       "    <tr>\n",
       "      <th>1901-01-01</th>\n",
       "      <td>0.045</td>\n",
       "      <td>0.061500</td>\n",
       "      <td>-0.000922</td>\n",
       "      <td>0.060578</td>\n",
       "    </tr>\n",
       "    <tr>\n",
       "      <th>1902-01-01</th>\n",
       "      <td>0.049</td>\n",
       "      <td>0.049000</td>\n",
       "      <td>0.000068</td>\n",
       "      <td>0.049068</td>\n",
       "    </tr>\n",
       "    <tr>\n",
       "      <th>1903-01-01</th>\n",
       "      <td>0.050</td>\n",
       "      <td>0.053000</td>\n",
       "      <td>0.000370</td>\n",
       "      <td>0.053370</td>\n",
       "    </tr>\n",
       "    <tr>\n",
       "      <th>1904-01-01</th>\n",
       "      <td>0.056</td>\n",
       "      <td>0.052818</td>\n",
       "      <td>0.000838</td>\n",
       "      <td>0.053656</td>\n",
       "    </tr>\n",
       "    <tr>\n",
       "      <th>...</th>\n",
       "      <td>...</td>\n",
       "      <td>...</td>\n",
       "      <td>...</td>\n",
       "      <td>...</td>\n",
       "    </tr>\n",
       "    <tr>\n",
       "      <th>2016-01-01</th>\n",
       "      <td>1.799</td>\n",
       "      <td>1.627923</td>\n",
       "      <td>0.012586</td>\n",
       "      <td>1.640509</td>\n",
       "    </tr>\n",
       "    <tr>\n",
       "      <th>2017-01-01</th>\n",
       "      <td>1.818</td>\n",
       "      <td>1.679163</td>\n",
       "      <td>0.013452</td>\n",
       "      <td>1.692615</td>\n",
       "    </tr>\n",
       "    <tr>\n",
       "      <th>2018-01-01</th>\n",
       "      <td>1.922</td>\n",
       "      <td>1.730403</td>\n",
       "      <td>0.015402</td>\n",
       "      <td>1.745805</td>\n",
       "    </tr>\n",
       "    <tr>\n",
       "      <th>2019-01-01</th>\n",
       "      <td>1.922</td>\n",
       "      <td>1.781644</td>\n",
       "      <td>0.015395</td>\n",
       "      <td>1.797038</td>\n",
       "    </tr>\n",
       "    <tr>\n",
       "      <th>2020-01-01</th>\n",
       "      <td>1.769</td>\n",
       "      <td>1.832884</td>\n",
       "      <td>0.015702</td>\n",
       "      <td>1.848586</td>\n",
       "    </tr>\n",
       "  </tbody>\n",
       "</table>\n",
       "<p>121 rows × 4 columns</p>\n",
       "</div>"
      ],
      "text/plain": [
       "              raw  predicted  fit_resid  Hybrib_pred\n",
       "year                                                \n",
       "1900-01-01  0.041   0.000000   0.000838     0.000838\n",
       "1901-01-01  0.045   0.061500  -0.000922     0.060578\n",
       "1902-01-01  0.049   0.049000   0.000068     0.049068\n",
       "1903-01-01  0.050   0.053000   0.000370     0.053370\n",
       "1904-01-01  0.056   0.052818   0.000838     0.053656\n",
       "...           ...        ...        ...          ...\n",
       "2016-01-01  1.799   1.627923   0.012586     1.640509\n",
       "2017-01-01  1.818   1.679163   0.013452     1.692615\n",
       "2018-01-01  1.922   1.730403   0.015402     1.745805\n",
       "2019-01-01  1.922   1.781644   0.015395     1.797038\n",
       "2020-01-01  1.769   1.832884   0.015702     1.848586\n",
       "\n",
       "[121 rows x 4 columns]"
      ]
     },
     "execution_count": 47,
     "metadata": {},
     "output_type": "execute_result"
    }
   ],
   "source": [
    "SARIMA_Result['fit_resid'] = predicted_resid\n",
    "SARIMA_Result\n",
    "\n",
    "Hybrid_Result =  pd.DataFrame(columns=['raw', 'predicted', 'fit_resid'])\n",
    "Hybrid_Result['raw'] = df_India['co2_per_capita']\n",
    "Hybrid_Result['predicted'] = preds\n",
    "Hybrid_Result['fit_resid'] = predicted_resid\n",
    "Hybrid_Result['Hybrib_pred'] = Hybrid_Result['predicted'] + Hybrid_Result['fit_resid']\n",
    "Hybrid_Result"
   ]
  },
  {
   "cell_type": "code",
   "execution_count": 79,
   "id": "e03e693b",
   "metadata": {},
   "outputs": [
    {
     "data": {
      "image/png": "[encoded data removed]",
      "text/plain": [
       "<Figure size 432x288 with 1 Axes>"
      ]
     },
     "metadata": {
      "needs_background": "light"
     },
     "output_type": "display_data"
    }
   ],
   "source": [
    "# %% plot on training dataset\n",
    "\n",
    "plt.plot(Hybrid_Result['raw'],  label='Observed')\n",
    "plt.plot(Hybrid_Result['Hybrib_pred'], label='prediction')\n",
    "plt.xlabel('Year', size=12)\n",
    "plt.ylabel('CO2 Emissions per capita (T)', size=12)\n",
    "plt.legend()\n",
    "plt.show()"
   ]
  },
  {
   "cell_type": "markdown",
   "id": "571ef187",
   "metadata": {},
   "source": [
    "***Evaluate***"
   ]
  },
  {
   "cell_type": "code",
   "execution_count": 55,
   "id": "65a22f8e",
   "metadata": {},
   "outputs": [
    {
     "name": "stdout",
     "output_type": "stream",
     "text": [
      "Root Mean Absoulute Error is: 0.04\n"
     ]
    }
   ],
   "source": [
    "# Evaluate mse\n",
    "rmse = np.sqrt(mean_squared_error(Hybrid_Result['raw'],Hybrid_Result['Hybrib_pred']))\n",
    "print(\"Root Mean Absoulute Error is:\", round(rmse,3))"
   ]
  },
  {
   "cell_type": "code",
   "execution_count": 54,
   "id": "410687fb",
   "metadata": {},
   "outputs": [
    {
     "name": "stdout",
     "output_type": "stream",
     "text": [
      "The Mean Absoulte Error is: 0.019\n"
     ]
    }
   ],
   "source": [
    "# Determine the Mean Absoulute Error\n",
    "mae = mean_absolute_error(Hybrid_Result['raw'],Hybrid_Result['Hybrib_pred'])\n",
    "print(\"The Mean Absoulte Error is:\", round(mae,3))"
   ]
  },
  {
   "cell_type": "code",
   "execution_count": 53,
   "id": "04fcc366",
   "metadata": {},
   "outputs": [
    {
     "name": "stdout",
     "output_type": "stream",
     "text": [
      "Mean Absolute Percentage Error is: 5.173\n"
     ]
    }
   ],
   "source": [
    "#Creare a function to calculate MAPE for our models\n",
    "def MAPE(pred): \n",
    "    return np.mean(np.abs((Hybrid_Result['raw'] - pred) / Hybrid_Result['raw'])) * 100\n",
    "\n",
    "print('Mean Absolute Percentage Error is:', round(MAPE(Hybrid_Result['Hybrib_pred']),3))"
   ]
  },
  {
   "cell_type": "markdown",
   "id": "ebf6f9ec",
   "metadata": {},
   "source": [
    "***Export predicted Data in csv***"
   ]
  },
  {
   "cell_type": "code",
   "execution_count": 77,
   "id": "89f8876a",
   "metadata": {},
   "outputs": [],
   "source": [
    "Hybrid_Result.to_csv(\"../Data/HybridPredictions.csv\")"
   ]
  },
  {
   "cell_type": "code",
   "execution_count": null,
   "id": "a699fbbb",
   "metadata": {},
   "outputs": [],
   "source": []
  }
 ],
 "metadata": {
  "kernelspec": {
   "display_name": "Python 3 (ipykernel)",
   "language": "python",
   "name": "python3"
  },
  "language_info": {
   "codemirror_mode": {
    "name": "ipython",
    "version": 3
   },
   "file_extension": ".py",
   "mimetype": "text/x-python",
   "name": "python",
   "nbconvert_exporter": "python",
   "pygments_lexer": "ipython3",
   "version": "3.8.10"
  }
 },
 "nbformat": 4,
 "nbformat_minor": 5
}
