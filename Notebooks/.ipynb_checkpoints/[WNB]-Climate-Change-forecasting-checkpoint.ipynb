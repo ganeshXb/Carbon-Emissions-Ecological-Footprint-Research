{
 "cells": [
  {
   "cell_type": "code",
   "execution_count": 1,
   "id": "0bf1b327",
   "metadata": {},
   "outputs": [],
   "source": [
    "# Import necessary libraries and packages\n",
    "import pandas as pd\n",
    "from pandas import DataFrame\n",
    "import numpy as np\n",
    "from matplotlib import pyplot\n",
    "import matplotlib.pyplot as plt\n",
    "from matplotlib.pylab import rcParams\n",
    "import warnings\n",
    "from math import exp\n",
    "from numpy import log\n",
    "\n",
    "from statsmodels.graphics.tsaplots import plot_acf\n",
    "from statsmodels.graphics.tsaplots import plot_pacf\n",
    "from statsmodels.tsa.stattools import adfuller\n",
    "from statsmodels.tsa.seasonal import seasonal_decompose\n",
    "from statsmodels.tsa.arima.model import ARIMA\n",
    "import statsmodels.api as sm\n",
    "from scipy import stats\n",
    "\n",
    "import plotly.graph_objs as go\n",
    "from plotly.subplots import make_subplots\n",
    "import seaborn as sns\n",
    "# Preferred settings\n",
    "warnings.filterwarnings('ignore')\n",
    "pd.set_option('display.max_columns', 100)\n"
   ]
  },
  {
   "cell_type": "markdown",
   "id": "d72d5601",
   "metadata": {},
   "source": [
    "After importing the necessacry libraries, we read the two datasets using pandas.read_csv(). The files have some headings that can be ignored for analysis and hence, we use the parameter skiprows."
   ]
  },
  {
   "cell_type": "code",
   "execution_count": 2,
   "id": "fa9c1ae9",
   "metadata": {},
   "outputs": [],
   "source": [
    "#import temperature dataset\n",
    "df_temp = pd.read_csv('../Data/Indicators/tas_timeseries_annual_cru_1901-2020_IND.csv')\n",
    "#import temperature dataset\n",
    "df_em = pd.read_csv('../Data/carbon-emissions/owid-co2-data.csv')\n"
   ]
  },
  {
   "cell_type": "code",
   "execution_count": 3,
   "id": "500be644",
   "metadata": {},
   "outputs": [
    {
     "name": "stdout",
     "output_type": "stream",
     "text": [
      "(120, 46)\n",
      "(25204, 58)\n"
     ]
    }
   ],
   "source": [
    "#Observe data shape\n",
    "print(df_temp.shape)\n",
    "print(df_em.shape)"
   ]
  },
  {
   "cell_type": "code",
   "execution_count": 4,
   "id": "af7fcc14",
   "metadata": {},
   "outputs": [
    {
     "data": {
      "text/html": [
       "<div>\n",
       "<style scoped>\n",
       "    .dataframe tbody tr th:only-of-type {\n",
       "        vertical-align: middle;\n",
       "    }\n",
       "\n",
       "    .dataframe tbody tr th {\n",
       "        vertical-align: top;\n",
       "    }\n",
       "\n",
       "    .dataframe thead th {\n",
       "        text-align: right;\n",
       "    }\n",
       "</style>\n",
       "<table border=\"1\" class=\"dataframe\">\n",
       "  <thead>\n",
       "    <tr style=\"text-align: right;\">\n",
       "      <th></th>\n",
       "      <th>year</th>\n",
       "      <th>India</th>\n",
       "      <th>Andaman and Nicobar</th>\n",
       "      <th>Andhra Pradesh</th>\n",
       "      <th>Assam</th>\n",
       "      <th>Delhi</th>\n",
       "      <th>Goa</th>\n",
       "      <th>Gujarat</th>\n",
       "      <th>Haryana</th>\n",
       "      <th>Himachal Pradesh</th>\n",
       "      <th>Karnataka</th>\n",
       "      <th>Kerala</th>\n",
       "      <th>Lakshadweep</th>\n",
       "      <th>Maharashtra</th>\n",
       "      <th>Manipur</th>\n",
       "      <th>Meghalaya</th>\n",
       "      <th>Mizoram</th>\n",
       "      <th>Nagaland</th>\n",
       "      <th>Orissa</th>\n",
       "      <th>Punjab</th>\n",
       "      <th>Rajasthan</th>\n",
       "      <th>Sikkim</th>\n",
       "      <th>Tamil Nadu</th>\n",
       "      <th>Tripura</th>\n",
       "      <th>West Bengal</th>\n",
       "      <th>Administrative unit not available</th>\n",
       "      <th>Administrative unit not available.1</th>\n",
       "      <th>Administrative unit not available.2</th>\n",
       "      <th>Administrative unit not available.3</th>\n",
       "      <th>Administrative unit not available.4</th>\n",
       "      <th>Administrative unit not available.5</th>\n",
       "      <th>Administrative unit not available.6</th>\n",
       "      <th>Administrative unit not available.7</th>\n",
       "      <th>Administrative unit not available.8</th>\n",
       "      <th>Administrative unit not available.9</th>\n",
       "      <th>Arunachal Pradesh</th>\n",
       "      <th>Bihar</th>\n",
       "      <th>Chandigarh</th>\n",
       "      <th>Chhattisgarh</th>\n",
       "      <th>Dadra and Nagar Haveli</th>\n",
       "      <th>Daman and Diu</th>\n",
       "      <th>Jharkhand</th>\n",
       "      <th>Madhya Pradesh</th>\n",
       "      <th>Puducherry</th>\n",
       "      <th>Uttar Pradesh</th>\n",
       "      <th>Uttarakhand</th>\n",
       "    </tr>\n",
       "  </thead>\n",
       "  <tbody>\n",
       "    <tr>\n",
       "      <th>0</th>\n",
       "      <td>1901</td>\n",
       "      <td>24.26</td>\n",
       "      <td>27.81</td>\n",
       "      <td>27.04</td>\n",
       "      <td>22.77</td>\n",
       "      <td>25.27</td>\n",
       "      <td>26.26</td>\n",
       "      <td>26.66</td>\n",
       "      <td>25.09</td>\n",
       "      <td>9.80</td>\n",
       "      <td>25.44</td>\n",
       "      <td>25.89</td>\n",
       "      <td>27.12</td>\n",
       "      <td>26.17</td>\n",
       "      <td>19.20</td>\n",
       "      <td>21.37</td>\n",
       "      <td>21.11</td>\n",
       "      <td>18.69</td>\n",
       "      <td>25.41</td>\n",
       "      <td>24.50</td>\n",
       "      <td>25.88</td>\n",
       "      <td>4.12</td>\n",
       "      <td>26.93</td>\n",
       "      <td>24.33</td>\n",
       "      <td>25.35</td>\n",
       "      <td>-1.68</td>\n",
       "      <td>0.59</td>\n",
       "      <td>6.98</td>\n",
       "      <td>9.33</td>\n",
       "      <td>8.87</td>\n",
       "      <td>6.76</td>\n",
       "      <td>10.11</td>\n",
       "      <td>21.41</td>\n",
       "      <td>17.15</td>\n",
       "      <td>12.05</td>\n",
       "      <td>18.15</td>\n",
       "      <td>25.03</td>\n",
       "      <td>23.56</td>\n",
       "      <td>25.40</td>\n",
       "      <td>25.87</td>\n",
       "      <td>26.08</td>\n",
       "      <td>24.59</td>\n",
       "      <td>25.40</td>\n",
       "      <td>27.78</td>\n",
       "      <td>25.47</td>\n",
       "      <td>13.88</td>\n",
       "    </tr>\n",
       "    <tr>\n",
       "      <th>1</th>\n",
       "      <td>1902</td>\n",
       "      <td>24.52</td>\n",
       "      <td>27.84</td>\n",
       "      <td>27.36</td>\n",
       "      <td>22.50</td>\n",
       "      <td>25.52</td>\n",
       "      <td>26.64</td>\n",
       "      <td>27.19</td>\n",
       "      <td>25.34</td>\n",
       "      <td>10.01</td>\n",
       "      <td>25.75</td>\n",
       "      <td>25.92</td>\n",
       "      <td>27.04</td>\n",
       "      <td>26.74</td>\n",
       "      <td>18.92</td>\n",
       "      <td>21.18</td>\n",
       "      <td>20.90</td>\n",
       "      <td>18.34</td>\n",
       "      <td>25.60</td>\n",
       "      <td>24.74</td>\n",
       "      <td>26.22</td>\n",
       "      <td>4.00</td>\n",
       "      <td>26.93</td>\n",
       "      <td>24.15</td>\n",
       "      <td>25.30</td>\n",
       "      <td>-1.56</td>\n",
       "      <td>0.72</td>\n",
       "      <td>7.13</td>\n",
       "      <td>9.50</td>\n",
       "      <td>9.05</td>\n",
       "      <td>6.92</td>\n",
       "      <td>10.32</td>\n",
       "      <td>21.56</td>\n",
       "      <td>17.31</td>\n",
       "      <td>12.21</td>\n",
       "      <td>17.68</td>\n",
       "      <td>25.07</td>\n",
       "      <td>23.81</td>\n",
       "      <td>25.72</td>\n",
       "      <td>26.48</td>\n",
       "      <td>26.67</td>\n",
       "      <td>24.66</td>\n",
       "      <td>25.82</td>\n",
       "      <td>27.81</td>\n",
       "      <td>25.67</td>\n",
       "      <td>14.11</td>\n",
       "    </tr>\n",
       "    <tr>\n",
       "      <th>2</th>\n",
       "      <td>1903</td>\n",
       "      <td>23.96</td>\n",
       "      <td>27.63</td>\n",
       "      <td>26.77</td>\n",
       "      <td>22.73</td>\n",
       "      <td>24.90</td>\n",
       "      <td>25.96</td>\n",
       "      <td>26.20</td>\n",
       "      <td>24.68</td>\n",
       "      <td>9.40</td>\n",
       "      <td>25.18</td>\n",
       "      <td>25.72</td>\n",
       "      <td>27.01</td>\n",
       "      <td>25.86</td>\n",
       "      <td>19.17</td>\n",
       "      <td>21.36</td>\n",
       "      <td>21.09</td>\n",
       "      <td>18.63</td>\n",
       "      <td>25.25</td>\n",
       "      <td>24.06</td>\n",
       "      <td>25.37</td>\n",
       "      <td>4.06</td>\n",
       "      <td>26.75</td>\n",
       "      <td>24.32</td>\n",
       "      <td>25.29</td>\n",
       "      <td>-2.27</td>\n",
       "      <td>-0.05</td>\n",
       "      <td>6.21</td>\n",
       "      <td>8.72</td>\n",
       "      <td>8.23</td>\n",
       "      <td>6.19</td>\n",
       "      <td>9.48</td>\n",
       "      <td>20.85</td>\n",
       "      <td>16.63</td>\n",
       "      <td>11.36</td>\n",
       "      <td>18.01</td>\n",
       "      <td>24.91</td>\n",
       "      <td>23.19</td>\n",
       "      <td>25.18</td>\n",
       "      <td>25.52</td>\n",
       "      <td>25.68</td>\n",
       "      <td>24.45</td>\n",
       "      <td>25.03</td>\n",
       "      <td>27.58</td>\n",
       "      <td>25.16</td>\n",
       "      <td>13.58</td>\n",
       "    </tr>\n",
       "    <tr>\n",
       "      <th>3</th>\n",
       "      <td>1904</td>\n",
       "      <td>24.02</td>\n",
       "      <td>27.29</td>\n",
       "      <td>26.83</td>\n",
       "      <td>22.51</td>\n",
       "      <td>24.95</td>\n",
       "      <td>26.07</td>\n",
       "      <td>26.59</td>\n",
       "      <td>24.77</td>\n",
       "      <td>9.57</td>\n",
       "      <td>25.22</td>\n",
       "      <td>25.46</td>\n",
       "      <td>26.62</td>\n",
       "      <td>26.08</td>\n",
       "      <td>18.96</td>\n",
       "      <td>21.14</td>\n",
       "      <td>20.87</td>\n",
       "      <td>18.42</td>\n",
       "      <td>25.16</td>\n",
       "      <td>24.26</td>\n",
       "      <td>25.62</td>\n",
       "      <td>3.83</td>\n",
       "      <td>26.48</td>\n",
       "      <td>24.09</td>\n",
       "      <td>25.08</td>\n",
       "      <td>-1.82</td>\n",
       "      <td>0.45</td>\n",
       "      <td>6.82</td>\n",
       "      <td>9.17</td>\n",
       "      <td>8.71</td>\n",
       "      <td>6.59</td>\n",
       "      <td>9.96</td>\n",
       "      <td>21.25</td>\n",
       "      <td>16.95</td>\n",
       "      <td>11.89</td>\n",
       "      <td>17.83</td>\n",
       "      <td>24.70</td>\n",
       "      <td>23.28</td>\n",
       "      <td>25.15</td>\n",
       "      <td>25.86</td>\n",
       "      <td>26.07</td>\n",
       "      <td>24.28</td>\n",
       "      <td>25.13</td>\n",
       "      <td>27.37</td>\n",
       "      <td>25.11</td>\n",
       "      <td>13.59</td>\n",
       "    </tr>\n",
       "    <tr>\n",
       "      <th>4</th>\n",
       "      <td>1905</td>\n",
       "      <td>23.87</td>\n",
       "      <td>27.80</td>\n",
       "      <td>26.96</td>\n",
       "      <td>22.11</td>\n",
       "      <td>24.65</td>\n",
       "      <td>26.13</td>\n",
       "      <td>26.25</td>\n",
       "      <td>24.43</td>\n",
       "      <td>9.03</td>\n",
       "      <td>25.38</td>\n",
       "      <td>25.83</td>\n",
       "      <td>27.07</td>\n",
       "      <td>25.99</td>\n",
       "      <td>18.57</td>\n",
       "      <td>20.72</td>\n",
       "      <td>20.49</td>\n",
       "      <td>18.02</td>\n",
       "      <td>25.03</td>\n",
       "      <td>23.77</td>\n",
       "      <td>25.37</td>\n",
       "      <td>3.41</td>\n",
       "      <td>26.88</td>\n",
       "      <td>23.69</td>\n",
       "      <td>24.75</td>\n",
       "      <td>-2.50</td>\n",
       "      <td>-0.25</td>\n",
       "      <td>6.13</td>\n",
       "      <td>8.53</td>\n",
       "      <td>8.08</td>\n",
       "      <td>5.94</td>\n",
       "      <td>9.36</td>\n",
       "      <td>20.65</td>\n",
       "      <td>16.37</td>\n",
       "      <td>11.26</td>\n",
       "      <td>17.46</td>\n",
       "      <td>24.41</td>\n",
       "      <td>22.81</td>\n",
       "      <td>25.10</td>\n",
       "      <td>25.62</td>\n",
       "      <td>25.72</td>\n",
       "      <td>24.06</td>\n",
       "      <td>25.02</td>\n",
       "      <td>27.72</td>\n",
       "      <td>24.90</td>\n",
       "      <td>13.22</td>\n",
       "    </tr>\n",
       "  </tbody>\n",
       "</table>\n",
       "</div>"
      ],
      "text/plain": [
       "   year  India  Andaman and Nicobar  Andhra Pradesh  Assam  Delhi    Goa  \\\n",
       "0  1901  24.26                27.81           27.04  22.77  25.27  26.26   \n",
       "1  1902  24.52                27.84           27.36  22.50  25.52  26.64   \n",
       "2  1903  23.96                27.63           26.77  22.73  24.90  25.96   \n",
       "3  1904  24.02                27.29           26.83  22.51  24.95  26.07   \n",
       "4  1905  23.87                27.80           26.96  22.11  24.65  26.13   \n",
       "\n",
       "   Gujarat  Haryana  Himachal Pradesh  Karnataka  Kerala  Lakshadweep  \\\n",
       "0    26.66    25.09              9.80      25.44   25.89        27.12   \n",
       "1    27.19    25.34             10.01      25.75   25.92        27.04   \n",
       "2    26.20    24.68              9.40      25.18   25.72        27.01   \n",
       "3    26.59    24.77              9.57      25.22   25.46        26.62   \n",
       "4    26.25    24.43              9.03      25.38   25.83        27.07   \n",
       "\n",
       "   Maharashtra  Manipur  Meghalaya  Mizoram  Nagaland  Orissa  Punjab  \\\n",
       "0        26.17    19.20      21.37    21.11     18.69   25.41   24.50   \n",
       "1        26.74    18.92      21.18    20.90     18.34   25.60   24.74   \n",
       "2        25.86    19.17      21.36    21.09     18.63   25.25   24.06   \n",
       "3        26.08    18.96      21.14    20.87     18.42   25.16   24.26   \n",
       "4        25.99    18.57      20.72    20.49     18.02   25.03   23.77   \n",
       "\n",
       "   Rajasthan  Sikkim  Tamil Nadu  Tripura  West Bengal  \\\n",
       "0      25.88    4.12       26.93    24.33        25.35   \n",
       "1      26.22    4.00       26.93    24.15        25.30   \n",
       "2      25.37    4.06       26.75    24.32        25.29   \n",
       "3      25.62    3.83       26.48    24.09        25.08   \n",
       "4      25.37    3.41       26.88    23.69        24.75   \n",
       "\n",
       "   Administrative unit not available  Administrative unit not available.1  \\\n",
       "0                              -1.68                                 0.59   \n",
       "1                              -1.56                                 0.72   \n",
       "2                              -2.27                                -0.05   \n",
       "3                              -1.82                                 0.45   \n",
       "4                              -2.50                                -0.25   \n",
       "\n",
       "   Administrative unit not available.2  Administrative unit not available.3  \\\n",
       "0                                 6.98                                 9.33   \n",
       "1                                 7.13                                 9.50   \n",
       "2                                 6.21                                 8.72   \n",
       "3                                 6.82                                 9.17   \n",
       "4                                 6.13                                 8.53   \n",
       "\n",
       "   Administrative unit not available.4  Administrative unit not available.5  \\\n",
       "0                                 8.87                                 6.76   \n",
       "1                                 9.05                                 6.92   \n",
       "2                                 8.23                                 6.19   \n",
       "3                                 8.71                                 6.59   \n",
       "4                                 8.08                                 5.94   \n",
       "\n",
       "   Administrative unit not available.6  Administrative unit not available.7  \\\n",
       "0                                10.11                                21.41   \n",
       "1                                10.32                                21.56   \n",
       "2                                 9.48                                20.85   \n",
       "3                                 9.96                                21.25   \n",
       "4                                 9.36                                20.65   \n",
       "\n",
       "   Administrative unit not available.8  Administrative unit not available.9  \\\n",
       "0                                17.15                                12.05   \n",
       "1                                17.31                                12.21   \n",
       "2                                16.63                                11.36   \n",
       "3                                16.95                                11.89   \n",
       "4                                16.37                                11.26   \n",
       "\n",
       "   Arunachal Pradesh  Bihar  Chandigarh  Chhattisgarh  Dadra and Nagar Haveli  \\\n",
       "0              18.15  25.03       23.56         25.40                   25.87   \n",
       "1              17.68  25.07       23.81         25.72                   26.48   \n",
       "2              18.01  24.91       23.19         25.18                   25.52   \n",
       "3              17.83  24.70       23.28         25.15                   25.86   \n",
       "4              17.46  24.41       22.81         25.10                   25.62   \n",
       "\n",
       "   Daman and Diu  Jharkhand  Madhya Pradesh  Puducherry  Uttar Pradesh  \\\n",
       "0          26.08      24.59           25.40       27.78          25.47   \n",
       "1          26.67      24.66           25.82       27.81          25.67   \n",
       "2          25.68      24.45           25.03       27.58          25.16   \n",
       "3          26.07      24.28           25.13       27.37          25.11   \n",
       "4          25.72      24.06           25.02       27.72          24.90   \n",
       "\n",
       "   Uttarakhand  \n",
       "0        13.88  \n",
       "1        14.11  \n",
       "2        13.58  \n",
       "3        13.59  \n",
       "4        13.22  "
      ]
     },
     "execution_count": 4,
     "metadata": {},
     "output_type": "execute_result"
    }
   ],
   "source": [
    "df_temp.head()"
   ]
  },
  {
   "cell_type": "code",
   "execution_count": 5,
   "id": "0bfb3c9c",
   "metadata": {},
   "outputs": [
    {
     "data": {
      "text/html": [
       "<div>\n",
       "<style scoped>\n",
       "    .dataframe tbody tr th:only-of-type {\n",
       "        vertical-align: middle;\n",
       "    }\n",
       "\n",
       "    .dataframe tbody tr th {\n",
       "        vertical-align: top;\n",
       "    }\n",
       "\n",
       "    .dataframe thead th {\n",
       "        text-align: right;\n",
       "    }\n",
       "</style>\n",
       "<table border=\"1\" class=\"dataframe\">\n",
       "  <thead>\n",
       "    <tr style=\"text-align: right;\">\n",
       "      <th></th>\n",
       "      <th>iso_code</th>\n",
       "      <th>country</th>\n",
       "      <th>year</th>\n",
       "      <th>co2</th>\n",
       "      <th>consumption_co2</th>\n",
       "      <th>co2_growth_prct</th>\n",
       "      <th>co2_growth_abs</th>\n",
       "      <th>trade_co2</th>\n",
       "      <th>co2_per_capita</th>\n",
       "      <th>consumption_co2_per_capita</th>\n",
       "      <th>share_global_co2</th>\n",
       "      <th>cumulative_co2</th>\n",
       "      <th>share_global_cumulative_co2</th>\n",
       "      <th>co2_per_gdp</th>\n",
       "      <th>consumption_co2_per_gdp</th>\n",
       "      <th>co2_per_unit_energy</th>\n",
       "      <th>coal_co2</th>\n",
       "      <th>cement_co2</th>\n",
       "      <th>flaring_co2</th>\n",
       "      <th>gas_co2</th>\n",
       "      <th>oil_co2</th>\n",
       "      <th>other_industry_co2</th>\n",
       "      <th>cement_co2_per_capita</th>\n",
       "      <th>coal_co2_per_capita</th>\n",
       "      <th>flaring_co2_per_capita</th>\n",
       "      <th>gas_co2_per_capita</th>\n",
       "      <th>oil_co2_per_capita</th>\n",
       "      <th>other_co2_per_capita</th>\n",
       "      <th>trade_co2_share</th>\n",
       "      <th>share_global_cement_co2</th>\n",
       "      <th>share_global_coal_co2</th>\n",
       "      <th>share_global_flaring_co2</th>\n",
       "      <th>share_global_gas_co2</th>\n",
       "      <th>share_global_oil_co2</th>\n",
       "      <th>share_global_other_co2</th>\n",
       "      <th>cumulative_cement_co2</th>\n",
       "      <th>cumulative_coal_co2</th>\n",
       "      <th>cumulative_flaring_co2</th>\n",
       "      <th>cumulative_gas_co2</th>\n",
       "      <th>cumulative_oil_co2</th>\n",
       "      <th>cumulative_other_co2</th>\n",
       "      <th>share_global_cumulative_cement_co2</th>\n",
       "      <th>share_global_cumulative_coal_co2</th>\n",
       "      <th>share_global_cumulative_flaring_co2</th>\n",
       "      <th>share_global_cumulative_gas_co2</th>\n",
       "      <th>share_global_cumulative_oil_co2</th>\n",
       "      <th>share_global_cumulative_other_co2</th>\n",
       "      <th>total_ghg</th>\n",
       "      <th>ghg_per_capita</th>\n",
       "      <th>methane</th>\n",
       "      <th>methane_per_capita</th>\n",
       "      <th>nitrous_oxide</th>\n",
       "      <th>nitrous_oxide_per_capita</th>\n",
       "      <th>population</th>\n",
       "      <th>gdp</th>\n",
       "      <th>primary_energy_consumption</th>\n",
       "      <th>energy_per_capita</th>\n",
       "      <th>energy_per_gdp</th>\n",
       "    </tr>\n",
       "  </thead>\n",
       "  <tbody>\n",
       "    <tr>\n",
       "      <th>0</th>\n",
       "      <td>AFG</td>\n",
       "      <td>Afghanistan</td>\n",
       "      <td>1949</td>\n",
       "      <td>0.015</td>\n",
       "      <td>NaN</td>\n",
       "      <td>NaN</td>\n",
       "      <td>NaN</td>\n",
       "      <td>NaN</td>\n",
       "      <td>0.002</td>\n",
       "      <td>NaN</td>\n",
       "      <td>0.0</td>\n",
       "      <td>0.015</td>\n",
       "      <td>0.0</td>\n",
       "      <td>NaN</td>\n",
       "      <td>NaN</td>\n",
       "      <td>NaN</td>\n",
       "      <td>0.015</td>\n",
       "      <td>NaN</td>\n",
       "      <td>NaN</td>\n",
       "      <td>NaN</td>\n",
       "      <td>NaN</td>\n",
       "      <td>NaN</td>\n",
       "      <td>NaN</td>\n",
       "      <td>0.002</td>\n",
       "      <td>NaN</td>\n",
       "      <td>NaN</td>\n",
       "      <td>NaN</td>\n",
       "      <td>NaN</td>\n",
       "      <td>NaN</td>\n",
       "      <td>NaN</td>\n",
       "      <td>0.0</td>\n",
       "      <td>NaN</td>\n",
       "      <td>NaN</td>\n",
       "      <td>NaN</td>\n",
       "      <td>NaN</td>\n",
       "      <td>NaN</td>\n",
       "      <td>0.015</td>\n",
       "      <td>NaN</td>\n",
       "      <td>NaN</td>\n",
       "      <td>NaN</td>\n",
       "      <td>NaN</td>\n",
       "      <td>NaN</td>\n",
       "      <td>0.0</td>\n",
       "      <td>NaN</td>\n",
       "      <td>NaN</td>\n",
       "      <td>NaN</td>\n",
       "      <td>NaN</td>\n",
       "      <td>NaN</td>\n",
       "      <td>NaN</td>\n",
       "      <td>NaN</td>\n",
       "      <td>NaN</td>\n",
       "      <td>NaN</td>\n",
       "      <td>NaN</td>\n",
       "      <td>7624058.0</td>\n",
       "      <td>NaN</td>\n",
       "      <td>NaN</td>\n",
       "      <td>NaN</td>\n",
       "      <td>NaN</td>\n",
       "    </tr>\n",
       "    <tr>\n",
       "      <th>1</th>\n",
       "      <td>AFG</td>\n",
       "      <td>Afghanistan</td>\n",
       "      <td>1950</td>\n",
       "      <td>0.084</td>\n",
       "      <td>NaN</td>\n",
       "      <td>475.0</td>\n",
       "      <td>0.070</td>\n",
       "      <td>NaN</td>\n",
       "      <td>0.011</td>\n",
       "      <td>NaN</td>\n",
       "      <td>0.0</td>\n",
       "      <td>0.099</td>\n",
       "      <td>0.0</td>\n",
       "      <td>0.009</td>\n",
       "      <td>NaN</td>\n",
       "      <td>NaN</td>\n",
       "      <td>0.021</td>\n",
       "      <td>NaN</td>\n",
       "      <td>NaN</td>\n",
       "      <td>NaN</td>\n",
       "      <td>0.063</td>\n",
       "      <td>NaN</td>\n",
       "      <td>NaN</td>\n",
       "      <td>0.003</td>\n",
       "      <td>NaN</td>\n",
       "      <td>NaN</td>\n",
       "      <td>0.008</td>\n",
       "      <td>NaN</td>\n",
       "      <td>NaN</td>\n",
       "      <td>NaN</td>\n",
       "      <td>0.0</td>\n",
       "      <td>NaN</td>\n",
       "      <td>NaN</td>\n",
       "      <td>0.0</td>\n",
       "      <td>NaN</td>\n",
       "      <td>NaN</td>\n",
       "      <td>0.036</td>\n",
       "      <td>NaN</td>\n",
       "      <td>NaN</td>\n",
       "      <td>0.063</td>\n",
       "      <td>NaN</td>\n",
       "      <td>NaN</td>\n",
       "      <td>0.0</td>\n",
       "      <td>NaN</td>\n",
       "      <td>NaN</td>\n",
       "      <td>0.0</td>\n",
       "      <td>NaN</td>\n",
       "      <td>NaN</td>\n",
       "      <td>NaN</td>\n",
       "      <td>NaN</td>\n",
       "      <td>NaN</td>\n",
       "      <td>NaN</td>\n",
       "      <td>NaN</td>\n",
       "      <td>7752117.0</td>\n",
       "      <td>9.421400e+09</td>\n",
       "      <td>NaN</td>\n",
       "      <td>NaN</td>\n",
       "      <td>NaN</td>\n",
       "    </tr>\n",
       "    <tr>\n",
       "      <th>2</th>\n",
       "      <td>AFG</td>\n",
       "      <td>Afghanistan</td>\n",
       "      <td>1951</td>\n",
       "      <td>0.092</td>\n",
       "      <td>NaN</td>\n",
       "      <td>8.7</td>\n",
       "      <td>0.007</td>\n",
       "      <td>NaN</td>\n",
       "      <td>0.012</td>\n",
       "      <td>NaN</td>\n",
       "      <td>0.0</td>\n",
       "      <td>0.191</td>\n",
       "      <td>0.0</td>\n",
       "      <td>0.010</td>\n",
       "      <td>NaN</td>\n",
       "      <td>NaN</td>\n",
       "      <td>0.026</td>\n",
       "      <td>NaN</td>\n",
       "      <td>NaN</td>\n",
       "      <td>NaN</td>\n",
       "      <td>0.066</td>\n",
       "      <td>NaN</td>\n",
       "      <td>NaN</td>\n",
       "      <td>0.003</td>\n",
       "      <td>NaN</td>\n",
       "      <td>NaN</td>\n",
       "      <td>0.008</td>\n",
       "      <td>NaN</td>\n",
       "      <td>NaN</td>\n",
       "      <td>NaN</td>\n",
       "      <td>0.0</td>\n",
       "      <td>NaN</td>\n",
       "      <td>NaN</td>\n",
       "      <td>0.0</td>\n",
       "      <td>NaN</td>\n",
       "      <td>NaN</td>\n",
       "      <td>0.061</td>\n",
       "      <td>NaN</td>\n",
       "      <td>NaN</td>\n",
       "      <td>0.129</td>\n",
       "      <td>NaN</td>\n",
       "      <td>NaN</td>\n",
       "      <td>0.0</td>\n",
       "      <td>NaN</td>\n",
       "      <td>NaN</td>\n",
       "      <td>0.0</td>\n",
       "      <td>NaN</td>\n",
       "      <td>NaN</td>\n",
       "      <td>NaN</td>\n",
       "      <td>NaN</td>\n",
       "      <td>NaN</td>\n",
       "      <td>NaN</td>\n",
       "      <td>NaN</td>\n",
       "      <td>7840151.0</td>\n",
       "      <td>9.692280e+09</td>\n",
       "      <td>NaN</td>\n",
       "      <td>NaN</td>\n",
       "      <td>NaN</td>\n",
       "    </tr>\n",
       "    <tr>\n",
       "      <th>3</th>\n",
       "      <td>AFG</td>\n",
       "      <td>Afghanistan</td>\n",
       "      <td>1952</td>\n",
       "      <td>0.092</td>\n",
       "      <td>NaN</td>\n",
       "      <td>0.0</td>\n",
       "      <td>0.000</td>\n",
       "      <td>NaN</td>\n",
       "      <td>0.012</td>\n",
       "      <td>NaN</td>\n",
       "      <td>0.0</td>\n",
       "      <td>0.282</td>\n",
       "      <td>0.0</td>\n",
       "      <td>0.009</td>\n",
       "      <td>NaN</td>\n",
       "      <td>NaN</td>\n",
       "      <td>0.032</td>\n",
       "      <td>NaN</td>\n",
       "      <td>NaN</td>\n",
       "      <td>NaN</td>\n",
       "      <td>0.060</td>\n",
       "      <td>NaN</td>\n",
       "      <td>NaN</td>\n",
       "      <td>0.004</td>\n",
       "      <td>NaN</td>\n",
       "      <td>NaN</td>\n",
       "      <td>0.008</td>\n",
       "      <td>NaN</td>\n",
       "      <td>NaN</td>\n",
       "      <td>NaN</td>\n",
       "      <td>0.0</td>\n",
       "      <td>NaN</td>\n",
       "      <td>NaN</td>\n",
       "      <td>0.0</td>\n",
       "      <td>NaN</td>\n",
       "      <td>NaN</td>\n",
       "      <td>0.093</td>\n",
       "      <td>NaN</td>\n",
       "      <td>NaN</td>\n",
       "      <td>0.189</td>\n",
       "      <td>NaN</td>\n",
       "      <td>NaN</td>\n",
       "      <td>0.0</td>\n",
       "      <td>NaN</td>\n",
       "      <td>NaN</td>\n",
       "      <td>0.0</td>\n",
       "      <td>NaN</td>\n",
       "      <td>NaN</td>\n",
       "      <td>NaN</td>\n",
       "      <td>NaN</td>\n",
       "      <td>NaN</td>\n",
       "      <td>NaN</td>\n",
       "      <td>NaN</td>\n",
       "      <td>7935996.0</td>\n",
       "      <td>1.001732e+10</td>\n",
       "      <td>NaN</td>\n",
       "      <td>NaN</td>\n",
       "      <td>NaN</td>\n",
       "    </tr>\n",
       "    <tr>\n",
       "      <th>4</th>\n",
       "      <td>AFG</td>\n",
       "      <td>Afghanistan</td>\n",
       "      <td>1953</td>\n",
       "      <td>0.106</td>\n",
       "      <td>NaN</td>\n",
       "      <td>16.0</td>\n",
       "      <td>0.015</td>\n",
       "      <td>NaN</td>\n",
       "      <td>0.013</td>\n",
       "      <td>NaN</td>\n",
       "      <td>0.0</td>\n",
       "      <td>0.388</td>\n",
       "      <td>0.0</td>\n",
       "      <td>0.010</td>\n",
       "      <td>NaN</td>\n",
       "      <td>NaN</td>\n",
       "      <td>0.038</td>\n",
       "      <td>NaN</td>\n",
       "      <td>NaN</td>\n",
       "      <td>NaN</td>\n",
       "      <td>0.068</td>\n",
       "      <td>NaN</td>\n",
       "      <td>NaN</td>\n",
       "      <td>0.005</td>\n",
       "      <td>NaN</td>\n",
       "      <td>NaN</td>\n",
       "      <td>0.008</td>\n",
       "      <td>NaN</td>\n",
       "      <td>NaN</td>\n",
       "      <td>NaN</td>\n",
       "      <td>0.0</td>\n",
       "      <td>NaN</td>\n",
       "      <td>NaN</td>\n",
       "      <td>0.0</td>\n",
       "      <td>NaN</td>\n",
       "      <td>NaN</td>\n",
       "      <td>0.131</td>\n",
       "      <td>NaN</td>\n",
       "      <td>NaN</td>\n",
       "      <td>0.257</td>\n",
       "      <td>NaN</td>\n",
       "      <td>NaN</td>\n",
       "      <td>0.0</td>\n",
       "      <td>NaN</td>\n",
       "      <td>NaN</td>\n",
       "      <td>0.0</td>\n",
       "      <td>NaN</td>\n",
       "      <td>NaN</td>\n",
       "      <td>NaN</td>\n",
       "      <td>NaN</td>\n",
       "      <td>NaN</td>\n",
       "      <td>NaN</td>\n",
       "      <td>NaN</td>\n",
       "      <td>8039684.0</td>\n",
       "      <td>1.063052e+10</td>\n",
       "      <td>NaN</td>\n",
       "      <td>NaN</td>\n",
       "      <td>NaN</td>\n",
       "    </tr>\n",
       "  </tbody>\n",
       "</table>\n",
       "</div>"
      ],
      "text/plain": [
       "  iso_code      country  year    co2  consumption_co2  co2_growth_prct  \\\n",
       "0      AFG  Afghanistan  1949  0.015              NaN              NaN   \n",
       "1      AFG  Afghanistan  1950  0.084              NaN            475.0   \n",
       "2      AFG  Afghanistan  1951  0.092              NaN              8.7   \n",
       "3      AFG  Afghanistan  1952  0.092              NaN              0.0   \n",
       "4      AFG  Afghanistan  1953  0.106              NaN             16.0   \n",
       "\n",
       "   co2_growth_abs  trade_co2  co2_per_capita  consumption_co2_per_capita  \\\n",
       "0             NaN        NaN           0.002                         NaN   \n",
       "1           0.070        NaN           0.011                         NaN   \n",
       "2           0.007        NaN           0.012                         NaN   \n",
       "3           0.000        NaN           0.012                         NaN   \n",
       "4           0.015        NaN           0.013                         NaN   \n",
       "\n",
       "   share_global_co2  cumulative_co2  share_global_cumulative_co2  co2_per_gdp  \\\n",
       "0               0.0           0.015                          0.0          NaN   \n",
       "1               0.0           0.099                          0.0        0.009   \n",
       "2               0.0           0.191                          0.0        0.010   \n",
       "3               0.0           0.282                          0.0        0.009   \n",
       "4               0.0           0.388                          0.0        0.010   \n",
       "\n",
       "   consumption_co2_per_gdp  co2_per_unit_energy  coal_co2  cement_co2  \\\n",
       "0                      NaN                  NaN     0.015         NaN   \n",
       "1                      NaN                  NaN     0.021         NaN   \n",
       "2                      NaN                  NaN     0.026         NaN   \n",
       "3                      NaN                  NaN     0.032         NaN   \n",
       "4                      NaN                  NaN     0.038         NaN   \n",
       "\n",
       "   flaring_co2  gas_co2  oil_co2  other_industry_co2  cement_co2_per_capita  \\\n",
       "0          NaN      NaN      NaN                 NaN                    NaN   \n",
       "1          NaN      NaN    0.063                 NaN                    NaN   \n",
       "2          NaN      NaN    0.066                 NaN                    NaN   \n",
       "3          NaN      NaN    0.060                 NaN                    NaN   \n",
       "4          NaN      NaN    0.068                 NaN                    NaN   \n",
       "\n",
       "   coal_co2_per_capita  flaring_co2_per_capita  gas_co2_per_capita  \\\n",
       "0                0.002                     NaN                 NaN   \n",
       "1                0.003                     NaN                 NaN   \n",
       "2                0.003                     NaN                 NaN   \n",
       "3                0.004                     NaN                 NaN   \n",
       "4                0.005                     NaN                 NaN   \n",
       "\n",
       "   oil_co2_per_capita  other_co2_per_capita  trade_co2_share  \\\n",
       "0                 NaN                   NaN              NaN   \n",
       "1               0.008                   NaN              NaN   \n",
       "2               0.008                   NaN              NaN   \n",
       "3               0.008                   NaN              NaN   \n",
       "4               0.008                   NaN              NaN   \n",
       "\n",
       "   share_global_cement_co2  share_global_coal_co2  share_global_flaring_co2  \\\n",
       "0                      NaN                    0.0                       NaN   \n",
       "1                      NaN                    0.0                       NaN   \n",
       "2                      NaN                    0.0                       NaN   \n",
       "3                      NaN                    0.0                       NaN   \n",
       "4                      NaN                    0.0                       NaN   \n",
       "\n",
       "   share_global_gas_co2  share_global_oil_co2  share_global_other_co2  \\\n",
       "0                   NaN                   NaN                     NaN   \n",
       "1                   NaN                   0.0                     NaN   \n",
       "2                   NaN                   0.0                     NaN   \n",
       "3                   NaN                   0.0                     NaN   \n",
       "4                   NaN                   0.0                     NaN   \n",
       "\n",
       "   cumulative_cement_co2  cumulative_coal_co2  cumulative_flaring_co2  \\\n",
       "0                    NaN                0.015                     NaN   \n",
       "1                    NaN                0.036                     NaN   \n",
       "2                    NaN                0.061                     NaN   \n",
       "3                    NaN                0.093                     NaN   \n",
       "4                    NaN                0.131                     NaN   \n",
       "\n",
       "   cumulative_gas_co2  cumulative_oil_co2  cumulative_other_co2  \\\n",
       "0                 NaN                 NaN                   NaN   \n",
       "1                 NaN               0.063                   NaN   \n",
       "2                 NaN               0.129                   NaN   \n",
       "3                 NaN               0.189                   NaN   \n",
       "4                 NaN               0.257                   NaN   \n",
       "\n",
       "   share_global_cumulative_cement_co2  share_global_cumulative_coal_co2  \\\n",
       "0                                 NaN                               0.0   \n",
       "1                                 NaN                               0.0   \n",
       "2                                 NaN                               0.0   \n",
       "3                                 NaN                               0.0   \n",
       "4                                 NaN                               0.0   \n",
       "\n",
       "   share_global_cumulative_flaring_co2  share_global_cumulative_gas_co2  \\\n",
       "0                                  NaN                              NaN   \n",
       "1                                  NaN                              NaN   \n",
       "2                                  NaN                              NaN   \n",
       "3                                  NaN                              NaN   \n",
       "4                                  NaN                              NaN   \n",
       "\n",
       "   share_global_cumulative_oil_co2  share_global_cumulative_other_co2  \\\n",
       "0                              NaN                                NaN   \n",
       "1                              0.0                                NaN   \n",
       "2                              0.0                                NaN   \n",
       "3                              0.0                                NaN   \n",
       "4                              0.0                                NaN   \n",
       "\n",
       "   total_ghg  ghg_per_capita  methane  methane_per_capita  nitrous_oxide  \\\n",
       "0        NaN             NaN      NaN                 NaN            NaN   \n",
       "1        NaN             NaN      NaN                 NaN            NaN   \n",
       "2        NaN             NaN      NaN                 NaN            NaN   \n",
       "3        NaN             NaN      NaN                 NaN            NaN   \n",
       "4        NaN             NaN      NaN                 NaN            NaN   \n",
       "\n",
       "   nitrous_oxide_per_capita  population           gdp  \\\n",
       "0                       NaN   7624058.0           NaN   \n",
       "1                       NaN   7752117.0  9.421400e+09   \n",
       "2                       NaN   7840151.0  9.692280e+09   \n",
       "3                       NaN   7935996.0  1.001732e+10   \n",
       "4                       NaN   8039684.0  1.063052e+10   \n",
       "\n",
       "   primary_energy_consumption  energy_per_capita  energy_per_gdp  \n",
       "0                         NaN                NaN             NaN  \n",
       "1                         NaN                NaN             NaN  \n",
       "2                         NaN                NaN             NaN  \n",
       "3                         NaN                NaN             NaN  \n",
       "4                         NaN                NaN             NaN  "
      ]
     },
     "execution_count": 5,
     "metadata": {},
     "output_type": "execute_result"
    }
   ],
   "source": [
    "df_em.head()"
   ]
  },
  {
   "cell_type": "markdown",
   "id": "13128bba",
   "metadata": {},
   "source": [
    "## Data Cleaning and Preprocessing"
   ]
  },
  {
   "cell_type": "markdown",
   "id": "9bdcd348",
   "metadata": {},
   "source": [
    "We focused on post-1950 data for our comparative analysis and global EDA since some countries are missing significant data before that time. Major carbon emitting countries' emission activites intensified post 1950 period, especially India. For our modelling process, however, focusing on India, the data form 1878 is continous, so we include all data for India from 1901 (since temp data starts from 1901). "
   ]
  },
  {
   "cell_type": "code",
   "execution_count": 6,
   "id": "7fac97f1",
   "metadata": {},
   "outputs": [
    {
     "data": {
      "text/plain": [
       "iso_code                                3256\n",
       "country                                    0\n",
       "year                                       0\n",
       "co2                                     1255\n",
       "consumption_co2                        21228\n",
       "co2_growth_prct                          273\n",
       "co2_growth_abs                          1619\n",
       "trade_co2                              21228\n",
       "co2_per_capita                          1897\n",
       "consumption_co2_per_capita             21228\n",
       "share_global_co2                        1255\n",
       "cumulative_co2                          1255\n",
       "share_global_cumulative_co2             1255\n",
       "co2_per_gdp                             9815\n",
       "consumption_co2_per_gdp                21443\n",
       "co2_per_unit_energy                    16063\n",
       "coal_co2                                8016\n",
       "cement_co2                             12956\n",
       "flaring_co2                            20822\n",
       "gas_co2                                16359\n",
       "oil_co2                                 4665\n",
       "other_industry_co2                     23205\n",
       "cement_co2_per_capita                  12986\n",
       "coal_co2_per_capita                     8344\n",
       "flaring_co2_per_capita                 20823\n",
       "gas_co2_per_capita                     16369\n",
       "oil_co2_per_capita                      5023\n",
       "other_co2_per_capita                   23205\n",
       "trade_co2_share                        21228\n",
       "share_global_cement_co2                12956\n",
       "share_global_coal_co2                   8016\n",
       "share_global_flaring_co2               20822\n",
       "share_global_gas_co2                   16359\n",
       "share_global_oil_co2                    4665\n",
       "share_global_other_co2                 23205\n",
       "cumulative_cement_co2                  12956\n",
       "cumulative_coal_co2                     8016\n",
       "cumulative_flaring_co2                 20822\n",
       "cumulative_gas_co2                     16359\n",
       "cumulative_oil_co2                      4665\n",
       "cumulative_other_co2                   23205\n",
       "share_global_cumulative_cement_co2     12956\n",
       "share_global_cumulative_coal_co2        8016\n",
       "share_global_cumulative_flaring_co2    20822\n",
       "share_global_cumulative_gas_co2        16359\n",
       "share_global_cumulative_oil_co2         4665\n",
       "share_global_cumulative_other_co2      23205\n",
       "total_ghg                              19996\n",
       "ghg_per_capita                         20049\n",
       "methane                                19993\n",
       "methane_per_capita                     20047\n",
       "nitrous_oxide                          19993\n",
       "nitrous_oxide_per_capita               20047\n",
       "population                              2326\n",
       "gdp                                    11666\n",
       "primary_energy_consumption             16514\n",
       "energy_per_capita                      16523\n",
       "energy_per_gdp                         18401\n",
       "dtype: int64"
      ]
     },
     "execution_count": 6,
     "metadata": {},
     "output_type": "execute_result"
    }
   ],
   "source": [
    "#check null values\n",
    "df_em.isnull().sum()"
   ]
  },
  {
   "cell_type": "markdown",
   "id": "198dc4df",
   "metadata": {},
   "source": [
    "Now we need to perform some data wrangling steps in order to transform the raw data into a dataframe with date index and handle missing values if any for **India** ."
   ]
  },
  {
   "cell_type": "code",
   "execution_count": 7,
   "id": "6d470a49",
   "metadata": {},
   "outputs": [
    {
     "name": "stdout",
     "output_type": "stream",
     "text": [
      "(119, 2)\n"
     ]
    },
    {
     "data": {
      "text/html": [
       "<div>\n",
       "<style scoped>\n",
       "    .dataframe tbody tr th:only-of-type {\n",
       "        vertical-align: middle;\n",
       "    }\n",
       "\n",
       "    .dataframe tbody tr th {\n",
       "        vertical-align: top;\n",
       "    }\n",
       "\n",
       "    .dataframe thead th {\n",
       "        text-align: right;\n",
       "    }\n",
       "</style>\n",
       "<table border=\"1\" class=\"dataframe\">\n",
       "  <thead>\n",
       "    <tr style=\"text-align: right;\">\n",
       "      <th></th>\n",
       "      <th>year</th>\n",
       "      <th>co2_per_capita</th>\n",
       "    </tr>\n",
       "  </thead>\n",
       "  <tbody>\n",
       "    <tr>\n",
       "      <th>10859</th>\n",
       "      <td>1902</td>\n",
       "      <td>0.049</td>\n",
       "    </tr>\n",
       "    <tr>\n",
       "      <th>10860</th>\n",
       "      <td>1903</td>\n",
       "      <td>0.050</td>\n",
       "    </tr>\n",
       "    <tr>\n",
       "      <th>10861</th>\n",
       "      <td>1904</td>\n",
       "      <td>0.056</td>\n",
       "    </tr>\n",
       "    <tr>\n",
       "      <th>10862</th>\n",
       "      <td>1905</td>\n",
       "      <td>0.056</td>\n",
       "    </tr>\n",
       "    <tr>\n",
       "      <th>10863</th>\n",
       "      <td>1906</td>\n",
       "      <td>0.065</td>\n",
       "    </tr>\n",
       "    <tr>\n",
       "      <th>...</th>\n",
       "      <td>...</td>\n",
       "      <td>...</td>\n",
       "    </tr>\n",
       "    <tr>\n",
       "      <th>10973</th>\n",
       "      <td>2016</td>\n",
       "      <td>1.799</td>\n",
       "    </tr>\n",
       "    <tr>\n",
       "      <th>10974</th>\n",
       "      <td>2017</td>\n",
       "      <td>1.818</td>\n",
       "    </tr>\n",
       "    <tr>\n",
       "      <th>10975</th>\n",
       "      <td>2018</td>\n",
       "      <td>1.922</td>\n",
       "    </tr>\n",
       "    <tr>\n",
       "      <th>10976</th>\n",
       "      <td>2019</td>\n",
       "      <td>1.922</td>\n",
       "    </tr>\n",
       "    <tr>\n",
       "      <th>10977</th>\n",
       "      <td>2020</td>\n",
       "      <td>1.769</td>\n",
       "    </tr>\n",
       "  </tbody>\n",
       "</table>\n",
       "<p>119 rows × 2 columns</p>\n",
       "</div>"
      ],
      "text/plain": [
       "       year  co2_per_capita\n",
       "10859  1902           0.049\n",
       "10860  1903           0.050\n",
       "10861  1904           0.056\n",
       "10862  1905           0.056\n",
       "10863  1906           0.065\n",
       "...     ...             ...\n",
       "10973  2016           1.799\n",
       "10974  2017           1.818\n",
       "10975  2018           1.922\n",
       "10976  2019           1.922\n",
       "10977  2020           1.769\n",
       "\n",
       "[119 rows x 2 columns]"
      ]
     },
     "execution_count": 7,
     "metadata": {},
     "output_type": "execute_result"
    }
   ],
   "source": [
    "#only include India co2 per capita data post-1900\n",
    "df_em = df_em[df_em['year'] > 1901]\n",
    "df_em = df_em[df_em['country'] == 'India']\n",
    "df_em = df_em[['year','co2_per_capita']]\n",
    "\n",
    "#observe shape of reformatted df\n",
    "print(df_em.shape)\n",
    "df_em"
   ]
  },
  {
   "cell_type": "code",
   "execution_count": 8,
   "id": "c1d10b65",
   "metadata": {},
   "outputs": [
    {
     "data": {
      "text/html": [
       "<div>\n",
       "<style scoped>\n",
       "    .dataframe tbody tr th:only-of-type {\n",
       "        vertical-align: middle;\n",
       "    }\n",
       "\n",
       "    .dataframe tbody tr th {\n",
       "        vertical-align: top;\n",
       "    }\n",
       "\n",
       "    .dataframe thead th {\n",
       "        text-align: right;\n",
       "    }\n",
       "</style>\n",
       "<table border=\"1\" class=\"dataframe\">\n",
       "  <thead>\n",
       "    <tr style=\"text-align: right;\">\n",
       "      <th></th>\n",
       "      <th>co2_per_capita</th>\n",
       "    </tr>\n",
       "    <tr>\n",
       "      <th>year</th>\n",
       "      <th></th>\n",
       "    </tr>\n",
       "  </thead>\n",
       "  <tbody>\n",
       "    <tr>\n",
       "      <th>1993-01-01</th>\n",
       "      <td>0.731</td>\n",
       "    </tr>\n",
       "    <tr>\n",
       "      <th>1948-01-01</th>\n",
       "      <td>0.142</td>\n",
       "    </tr>\n",
       "    <tr>\n",
       "      <th>2000-01-01</th>\n",
       "      <td>0.926</td>\n",
       "    </tr>\n",
       "    <tr>\n",
       "      <th>1910-01-01</th>\n",
       "      <td>0.076</td>\n",
       "    </tr>\n",
       "    <tr>\n",
       "      <th>1908-01-01</th>\n",
       "      <td>0.081</td>\n",
       "    </tr>\n",
       "  </tbody>\n",
       "</table>\n",
       "</div>"
      ],
      "text/plain": [
       "            co2_per_capita\n",
       "year                      \n",
       "1993-01-01           0.731\n",
       "1948-01-01           0.142\n",
       "2000-01-01           0.926\n",
       "1910-01-01           0.076\n",
       "1908-01-01           0.081"
      ]
     },
     "execution_count": 8,
     "metadata": {},
     "output_type": "execute_result"
    }
   ],
   "source": [
    "#Convert year to index\n",
    "df_em.set_index('year', inplace=True)\n",
    "\n",
    "#Convert year to DateTime object\n",
    "df_em.index = pd.to_datetime(df_em.index, format='%Y')\n",
    "\n",
    "#observe updated df_em\n",
    "df_em.sample(5)"
   ]
  },
  {
   "cell_type": "code",
   "execution_count": 9,
   "id": "d69652ff",
   "metadata": {},
   "outputs": [
    {
     "data": {
      "text/plain": [
       "co2_per_capita    float64\n",
       "dtype: object"
      ]
     },
     "execution_count": 9,
     "metadata": {},
     "output_type": "execute_result"
    }
   ],
   "source": [
    "#check dtypes\n",
    "df_em.dtypes"
   ]
  },
  {
   "cell_type": "code",
   "execution_count": 10,
   "id": "d5fc66b0",
   "metadata": {},
   "outputs": [
    {
     "data": {
      "text/plain": [
       "co2_per_capita    0\n",
       "dtype: int64"
      ]
     },
     "execution_count": 10,
     "metadata": {},
     "output_type": "execute_result"
    }
   ],
   "source": [
    "#check null values\n",
    "df_em.isnull().sum()"
   ]
  },
  {
   "cell_type": "code",
   "execution_count": 11,
   "id": "dd1d96dc",
   "metadata": {},
   "outputs": [
    {
     "name": "stdout",
     "output_type": "stream",
     "text": [
      "<class 'pandas.core.frame.DataFrame'>\n",
      "DatetimeIndex: 119 entries, 1902-01-01 to 2020-01-01\n",
      "Data columns (total 1 columns):\n",
      " #   Column          Non-Null Count  Dtype  \n",
      "---  ------          --------------  -----  \n",
      " 0   co2_per_capita  119 non-null    float64\n",
      "dtypes: float64(1)\n",
      "memory usage: 1.9 KB\n"
     ]
    }
   ],
   "source": [
    "df_em.info()"
   ]
  },
  {
   "cell_type": "code",
   "execution_count": 12,
   "id": "d82ce01a",
   "metadata": {},
   "outputs": [
    {
     "data": {
      "text/html": [
       "<div>\n",
       "<style scoped>\n",
       "    .dataframe tbody tr th:only-of-type {\n",
       "        vertical-align: middle;\n",
       "    }\n",
       "\n",
       "    .dataframe tbody tr th {\n",
       "        vertical-align: top;\n",
       "    }\n",
       "\n",
       "    .dataframe thead th {\n",
       "        text-align: right;\n",
       "    }\n",
       "</style>\n",
       "<table border=\"1\" class=\"dataframe\">\n",
       "  <thead>\n",
       "    <tr style=\"text-align: right;\">\n",
       "      <th></th>\n",
       "      <th>co2_per_capita</th>\n",
       "    </tr>\n",
       "  </thead>\n",
       "  <tbody>\n",
       "    <tr>\n",
       "      <th>count</th>\n",
       "      <td>119.000000</td>\n",
       "    </tr>\n",
       "    <tr>\n",
       "      <th>mean</th>\n",
       "      <td>0.468731</td>\n",
       "    </tr>\n",
       "    <tr>\n",
       "      <th>std</th>\n",
       "      <td>0.494565</td>\n",
       "    </tr>\n",
       "    <tr>\n",
       "      <th>min</th>\n",
       "      <td>0.049000</td>\n",
       "    </tr>\n",
       "    <tr>\n",
       "      <th>25%</th>\n",
       "      <td>0.120500</td>\n",
       "    </tr>\n",
       "    <tr>\n",
       "      <th>50%</th>\n",
       "      <td>0.262000</td>\n",
       "    </tr>\n",
       "    <tr>\n",
       "      <th>75%</th>\n",
       "      <td>0.676500</td>\n",
       "    </tr>\n",
       "    <tr>\n",
       "      <th>max</th>\n",
       "      <td>1.922000</td>\n",
       "    </tr>\n",
       "  </tbody>\n",
       "</table>\n",
       "</div>"
      ],
      "text/plain": [
       "       co2_per_capita\n",
       "count      119.000000\n",
       "mean         0.468731\n",
       "std          0.494565\n",
       "min          0.049000\n",
       "25%          0.120500\n",
       "50%          0.262000\n",
       "75%          0.676500\n",
       "max          1.922000"
      ]
     },
     "execution_count": 12,
     "metadata": {},
     "output_type": "execute_result"
    }
   ],
   "source": [
    "df_em.describe()"
   ]
  },
  {
   "cell_type": "markdown",
   "id": "57002e62",
   "metadata": {},
   "source": [
    "Lets transform temperature raw data into index form and Include only India's annual average temperture"
   ]
  },
  {
   "cell_type": "code",
   "execution_count": 13,
   "id": "d70a2119",
   "metadata": {},
   "outputs": [
    {
     "data": {
      "text/html": [
       "<div>\n",
       "<style scoped>\n",
       "    .dataframe tbody tr th:only-of-type {\n",
       "        vertical-align: middle;\n",
       "    }\n",
       "\n",
       "    .dataframe tbody tr th {\n",
       "        vertical-align: top;\n",
       "    }\n",
       "\n",
       "    .dataframe thead th {\n",
       "        text-align: right;\n",
       "    }\n",
       "</style>\n",
       "<table border=\"1\" class=\"dataframe\">\n",
       "  <thead>\n",
       "    <tr style=\"text-align: right;\">\n",
       "      <th></th>\n",
       "      <th>year</th>\n",
       "      <th>India</th>\n",
       "    </tr>\n",
       "  </thead>\n",
       "  <tbody>\n",
       "    <tr>\n",
       "      <th>0</th>\n",
       "      <td>1901</td>\n",
       "      <td>24.26</td>\n",
       "    </tr>\n",
       "    <tr>\n",
       "      <th>1</th>\n",
       "      <td>1902</td>\n",
       "      <td>24.52</td>\n",
       "    </tr>\n",
       "    <tr>\n",
       "      <th>2</th>\n",
       "      <td>1903</td>\n",
       "      <td>23.96</td>\n",
       "    </tr>\n",
       "    <tr>\n",
       "      <th>3</th>\n",
       "      <td>1904</td>\n",
       "      <td>24.02</td>\n",
       "    </tr>\n",
       "    <tr>\n",
       "      <th>4</th>\n",
       "      <td>1905</td>\n",
       "      <td>23.87</td>\n",
       "    </tr>\n",
       "    <tr>\n",
       "      <th>...</th>\n",
       "      <td>...</td>\n",
       "      <td>...</td>\n",
       "    </tr>\n",
       "    <tr>\n",
       "      <th>115</th>\n",
       "      <td>2016</td>\n",
       "      <td>25.27</td>\n",
       "    </tr>\n",
       "    <tr>\n",
       "      <th>116</th>\n",
       "      <td>2017</td>\n",
       "      <td>25.15</td>\n",
       "    </tr>\n",
       "    <tr>\n",
       "      <th>117</th>\n",
       "      <td>2018</td>\n",
       "      <td>25.00</td>\n",
       "    </tr>\n",
       "    <tr>\n",
       "      <th>118</th>\n",
       "      <td>2019</td>\n",
       "      <td>24.94</td>\n",
       "    </tr>\n",
       "    <tr>\n",
       "      <th>119</th>\n",
       "      <td>2020</td>\n",
       "      <td>24.80</td>\n",
       "    </tr>\n",
       "  </tbody>\n",
       "</table>\n",
       "<p>120 rows × 2 columns</p>\n",
       "</div>"
      ],
      "text/plain": [
       "     year  India\n",
       "0    1901  24.26\n",
       "1    1902  24.52\n",
       "2    1903  23.96\n",
       "3    1904  24.02\n",
       "4    1905  23.87\n",
       "..    ...    ...\n",
       "115  2016  25.27\n",
       "116  2017  25.15\n",
       "117  2018  25.00\n",
       "118  2019  24.94\n",
       "119  2020  24.80\n",
       "\n",
       "[120 rows x 2 columns]"
      ]
     },
     "execution_count": 13,
     "metadata": {},
     "output_type": "execute_result"
    }
   ],
   "source": [
    "#only include India's temperature data \n",
    "df_temp = df_temp[['year', 'India']]\n",
    "df_temp"
   ]
  },
  {
   "cell_type": "markdown",
   "id": "10415050",
   "metadata": {},
   "source": [
    "We convert both into a indexed dataframe to concatenate the dataframes later for multivariate forecasting"
   ]
  },
  {
   "cell_type": "code",
   "execution_count": 14,
   "id": "09be1af2",
   "metadata": {},
   "outputs": [],
   "source": [
    "#Convert year to index\n",
    "df_temp.set_index('year', inplace=True)\n",
    "\n",
    "#Convert year to DateTime object\n",
    "df_temp.index = pd.to_datetime(df_temp.index, format='%Y')"
   ]
  },
  {
   "cell_type": "code",
   "execution_count": 15,
   "id": "19e39ecf",
   "metadata": {},
   "outputs": [
    {
     "data": {
      "text/html": [
       "<div>\n",
       "<style scoped>\n",
       "    .dataframe tbody tr th:only-of-type {\n",
       "        vertical-align: middle;\n",
       "    }\n",
       "\n",
       "    .dataframe tbody tr th {\n",
       "        vertical-align: top;\n",
       "    }\n",
       "\n",
       "    .dataframe thead th {\n",
       "        text-align: right;\n",
       "    }\n",
       "</style>\n",
       "<table border=\"1\" class=\"dataframe\">\n",
       "  <thead>\n",
       "    <tr style=\"text-align: right;\">\n",
       "      <th></th>\n",
       "      <th>India</th>\n",
       "    </tr>\n",
       "    <tr>\n",
       "      <th>year</th>\n",
       "      <th></th>\n",
       "    </tr>\n",
       "  </thead>\n",
       "  <tbody>\n",
       "    <tr>\n",
       "      <th>1901-01-01</th>\n",
       "      <td>24.26</td>\n",
       "    </tr>\n",
       "    <tr>\n",
       "      <th>1902-01-01</th>\n",
       "      <td>24.52</td>\n",
       "    </tr>\n",
       "    <tr>\n",
       "      <th>1903-01-01</th>\n",
       "      <td>23.96</td>\n",
       "    </tr>\n",
       "    <tr>\n",
       "      <th>1904-01-01</th>\n",
       "      <td>24.02</td>\n",
       "    </tr>\n",
       "    <tr>\n",
       "      <th>1905-01-01</th>\n",
       "      <td>23.87</td>\n",
       "    </tr>\n",
       "  </tbody>\n",
       "</table>\n",
       "</div>"
      ],
      "text/plain": [
       "            India\n",
       "year             \n",
       "1901-01-01  24.26\n",
       "1902-01-01  24.52\n",
       "1903-01-01  23.96\n",
       "1904-01-01  24.02\n",
       "1905-01-01  23.87"
      ]
     },
     "execution_count": 15,
     "metadata": {},
     "output_type": "execute_result"
    }
   ],
   "source": [
    "#observe updated df\n",
    "df_temp.head(5)"
   ]
  },
  {
   "cell_type": "markdown",
   "id": "f3783ee1",
   "metadata": {},
   "source": [
    "Since we only try to forecast the change in temperature with respect to changing emission patterns, we obtain difference the data to make it a dataset of change in temperature"
   ]
  },
  {
   "cell_type": "code",
   "execution_count": 16,
   "id": "e35fc18b",
   "metadata": {},
   "outputs": [
    {
     "data": {
      "text/html": [
       "<div>\n",
       "<style scoped>\n",
       "    .dataframe tbody tr th:only-of-type {\n",
       "        vertical-align: middle;\n",
       "    }\n",
       "\n",
       "    .dataframe tbody tr th {\n",
       "        vertical-align: top;\n",
       "    }\n",
       "\n",
       "    .dataframe thead th {\n",
       "        text-align: right;\n",
       "    }\n",
       "</style>\n",
       "<table border=\"1\" class=\"dataframe\">\n",
       "  <thead>\n",
       "    <tr style=\"text-align: right;\">\n",
       "      <th></th>\n",
       "      <th>India</th>\n",
       "    </tr>\n",
       "    <tr>\n",
       "      <th>year</th>\n",
       "      <th></th>\n",
       "    </tr>\n",
       "  </thead>\n",
       "  <tbody>\n",
       "    <tr>\n",
       "      <th>1902-01-01</th>\n",
       "      <td>0.26</td>\n",
       "    </tr>\n",
       "    <tr>\n",
       "      <th>1903-01-01</th>\n",
       "      <td>-0.56</td>\n",
       "    </tr>\n",
       "    <tr>\n",
       "      <th>1904-01-01</th>\n",
       "      <td>0.06</td>\n",
       "    </tr>\n",
       "    <tr>\n",
       "      <th>1905-01-01</th>\n",
       "      <td>-0.15</td>\n",
       "    </tr>\n",
       "    <tr>\n",
       "      <th>1906-01-01</th>\n",
       "      <td>0.24</td>\n",
       "    </tr>\n",
       "    <tr>\n",
       "      <th>...</th>\n",
       "      <td>...</td>\n",
       "    </tr>\n",
       "    <tr>\n",
       "      <th>2016-01-01</th>\n",
       "      <td>0.38</td>\n",
       "    </tr>\n",
       "    <tr>\n",
       "      <th>2017-01-01</th>\n",
       "      <td>-0.12</td>\n",
       "    </tr>\n",
       "    <tr>\n",
       "      <th>2018-01-01</th>\n",
       "      <td>-0.15</td>\n",
       "    </tr>\n",
       "    <tr>\n",
       "      <th>2019-01-01</th>\n",
       "      <td>-0.06</td>\n",
       "    </tr>\n",
       "    <tr>\n",
       "      <th>2020-01-01</th>\n",
       "      <td>-0.14</td>\n",
       "    </tr>\n",
       "  </tbody>\n",
       "</table>\n",
       "<p>119 rows × 1 columns</p>\n",
       "</div>"
      ],
      "text/plain": [
       "            India\n",
       "year             \n",
       "1902-01-01   0.26\n",
       "1903-01-01  -0.56\n",
       "1904-01-01   0.06\n",
       "1905-01-01  -0.15\n",
       "1906-01-01   0.24\n",
       "...           ...\n",
       "2016-01-01   0.38\n",
       "2017-01-01  -0.12\n",
       "2018-01-01  -0.15\n",
       "2019-01-01  -0.06\n",
       "2020-01-01  -0.14\n",
       "\n",
       "[119 rows x 1 columns]"
      ]
     },
     "execution_count": 16,
     "metadata": {},
     "output_type": "execute_result"
    }
   ],
   "source": [
    "df_temp = df_temp.diff().dropna()\n",
    "df_temp"
   ]
  },
  {
   "cell_type": "code",
   "execution_count": 17,
   "id": "06e0dce3",
   "metadata": {},
   "outputs": [
    {
     "data": {
      "text/html": [
       "<div>\n",
       "<style scoped>\n",
       "    .dataframe tbody tr th:only-of-type {\n",
       "        vertical-align: middle;\n",
       "    }\n",
       "\n",
       "    .dataframe tbody tr th {\n",
       "        vertical-align: top;\n",
       "    }\n",
       "\n",
       "    .dataframe thead th {\n",
       "        text-align: right;\n",
       "    }\n",
       "</style>\n",
       "<table border=\"1\" class=\"dataframe\">\n",
       "  <thead>\n",
       "    <tr style=\"text-align: right;\">\n",
       "      <th></th>\n",
       "      <th>Avg_Anomaly_deg_C</th>\n",
       "    </tr>\n",
       "    <tr>\n",
       "      <th>year</th>\n",
       "      <th></th>\n",
       "    </tr>\n",
       "  </thead>\n",
       "  <tbody>\n",
       "    <tr>\n",
       "      <th>1902-01-01</th>\n",
       "      <td>0.26</td>\n",
       "    </tr>\n",
       "    <tr>\n",
       "      <th>1903-01-01</th>\n",
       "      <td>-0.56</td>\n",
       "    </tr>\n",
       "    <tr>\n",
       "      <th>1904-01-01</th>\n",
       "      <td>0.06</td>\n",
       "    </tr>\n",
       "    <tr>\n",
       "      <th>1905-01-01</th>\n",
       "      <td>-0.15</td>\n",
       "    </tr>\n",
       "    <tr>\n",
       "      <th>1906-01-01</th>\n",
       "      <td>0.24</td>\n",
       "    </tr>\n",
       "    <tr>\n",
       "      <th>...</th>\n",
       "      <td>...</td>\n",
       "    </tr>\n",
       "    <tr>\n",
       "      <th>2016-01-01</th>\n",
       "      <td>0.38</td>\n",
       "    </tr>\n",
       "    <tr>\n",
       "      <th>2017-01-01</th>\n",
       "      <td>-0.12</td>\n",
       "    </tr>\n",
       "    <tr>\n",
       "      <th>2018-01-01</th>\n",
       "      <td>-0.15</td>\n",
       "    </tr>\n",
       "    <tr>\n",
       "      <th>2019-01-01</th>\n",
       "      <td>-0.06</td>\n",
       "    </tr>\n",
       "    <tr>\n",
       "      <th>2020-01-01</th>\n",
       "      <td>-0.14</td>\n",
       "    </tr>\n",
       "  </tbody>\n",
       "</table>\n",
       "<p>119 rows × 1 columns</p>\n",
       "</div>"
      ],
      "text/plain": [
       "            Avg_Anomaly_deg_C\n",
       "year                         \n",
       "1902-01-01               0.26\n",
       "1903-01-01              -0.56\n",
       "1904-01-01               0.06\n",
       "1905-01-01              -0.15\n",
       "1906-01-01               0.24\n",
       "...                       ...\n",
       "2016-01-01               0.38\n",
       "2017-01-01              -0.12\n",
       "2018-01-01              -0.15\n",
       "2019-01-01              -0.06\n",
       "2020-01-01              -0.14\n",
       "\n",
       "[119 rows x 1 columns]"
      ]
     },
     "execution_count": 17,
     "metadata": {},
     "output_type": "execute_result"
    }
   ],
   "source": [
    "df_temp.rename(columns = {'India':'Avg_Anomaly_deg_C'}, inplace=True)\n",
    "df_temp"
   ]
  },
  {
   "cell_type": "code",
   "execution_count": 18,
   "id": "e8e651b3",
   "metadata": {},
   "outputs": [
    {
     "data": {
      "text/plain": [
       "Avg_Anomaly_deg_C    float64\n",
       "dtype: object"
      ]
     },
     "execution_count": 18,
     "metadata": {},
     "output_type": "execute_result"
    }
   ],
   "source": [
    "#check dtypes\n",
    "df_temp.dtypes"
   ]
  },
  {
   "cell_type": "code",
   "execution_count": 19,
   "id": "235a2d1d",
   "metadata": {},
   "outputs": [
    {
     "data": {
      "text/plain": [
       "Avg_Anomaly_deg_C    0\n",
       "dtype: int64"
      ]
     },
     "execution_count": 19,
     "metadata": {},
     "output_type": "execute_result"
    }
   ],
   "source": [
    "#check null values\n",
    "df_temp.isnull().sum()"
   ]
  },
  {
   "cell_type": "code",
   "execution_count": 20,
   "id": "ef432345",
   "metadata": {},
   "outputs": [
    {
     "name": "stdout",
     "output_type": "stream",
     "text": [
      "<class 'pandas.core.frame.DataFrame'>\n",
      "DatetimeIndex: 119 entries, 1902-01-01 to 2020-01-01\n",
      "Data columns (total 1 columns):\n",
      " #   Column             Non-Null Count  Dtype  \n",
      "---  ------             --------------  -----  \n",
      " 0   Avg_Anomaly_deg_C  119 non-null    float64\n",
      "dtypes: float64(1)\n",
      "memory usage: 1.9 KB\n"
     ]
    }
   ],
   "source": [
    "df_temp.info()"
   ]
  },
  {
   "cell_type": "code",
   "execution_count": 21,
   "id": "aaff2040",
   "metadata": {},
   "outputs": [
    {
     "data": {
      "text/html": [
       "<div>\n",
       "<style scoped>\n",
       "    .dataframe tbody tr th:only-of-type {\n",
       "        vertical-align: middle;\n",
       "    }\n",
       "\n",
       "    .dataframe tbody tr th {\n",
       "        vertical-align: top;\n",
       "    }\n",
       "\n",
       "    .dataframe thead th {\n",
       "        text-align: right;\n",
       "    }\n",
       "</style>\n",
       "<table border=\"1\" class=\"dataframe\">\n",
       "  <thead>\n",
       "    <tr style=\"text-align: right;\">\n",
       "      <th></th>\n",
       "      <th>Avg_Anomaly_deg_C</th>\n",
       "    </tr>\n",
       "  </thead>\n",
       "  <tbody>\n",
       "    <tr>\n",
       "      <th>count</th>\n",
       "      <td>119.000000</td>\n",
       "    </tr>\n",
       "    <tr>\n",
       "      <th>mean</th>\n",
       "      <td>0.004538</td>\n",
       "    </tr>\n",
       "    <tr>\n",
       "      <th>std</th>\n",
       "      <td>0.301254</td>\n",
       "    </tr>\n",
       "    <tr>\n",
       "      <th>min</th>\n",
       "      <td>-0.650000</td>\n",
       "    </tr>\n",
       "    <tr>\n",
       "      <th>25%</th>\n",
       "      <td>-0.185000</td>\n",
       "    </tr>\n",
       "    <tr>\n",
       "      <th>50%</th>\n",
       "      <td>0.010000</td>\n",
       "    </tr>\n",
       "    <tr>\n",
       "      <th>75%</th>\n",
       "      <td>0.170000</td>\n",
       "    </tr>\n",
       "    <tr>\n",
       "      <th>max</th>\n",
       "      <td>0.750000</td>\n",
       "    </tr>\n",
       "  </tbody>\n",
       "</table>\n",
       "</div>"
      ],
      "text/plain": [
       "       Avg_Anomaly_deg_C\n",
       "count         119.000000\n",
       "mean            0.004538\n",
       "std             0.301254\n",
       "min            -0.650000\n",
       "25%            -0.185000\n",
       "50%             0.010000\n",
       "75%             0.170000\n",
       "max             0.750000"
      ]
     },
     "execution_count": 21,
     "metadata": {},
     "output_type": "execute_result"
    }
   ],
   "source": [
    "df_temp.describe()"
   ]
  },
  {
   "cell_type": "markdown",
   "id": "0f75d1c9",
   "metadata": {},
   "source": [
    "## Exploratory Data Analysis "
   ]
  },
  {
   "cell_type": "markdown",
   "id": "1fcfafbe",
   "metadata": {},
   "source": [
    "**Reviewing plots of the density of observations can provide further insight into the structure of the data**\n"
   ]
  },
  {
   "cell_type": "code",
   "execution_count": 22,
   "id": "d7719882",
   "metadata": {},
   "outputs": [
    {
     "data": {
      "image/png": "[encoded data removed]",
      "text/plain": [
       "<Figure size 432x288 with 2 Axes>"
      ]
     },
     "metadata": {
      "needs_background": "light"
     },
     "output_type": "display_data"
    }
   ],
   "source": [
    "#observe density of per capita co2 emissions of India\n",
    "pyplot.figure(1)\n",
    "pyplot.subplot(211)\n",
    "df_em.co2_per_capita.hist()\n",
    "pyplot.subplot(212)\n",
    "df_em.co2_per_capita.plot(kind='kde')\n",
    "pyplot.show()"
   ]
  },
  {
   "cell_type": "markdown",
   "id": "134e8e81",
   "metadata": {},
   "source": [
    "From the above graphs we can observe, \n",
    "- The distribution is not perfectly Gausian (normal distribution)\n",
    "- The distribution in non-linearly left shifted \n",
    "- Transformations might be useful prior to modelling"
   ]
  },
  {
   "cell_type": "code",
   "execution_count": 23,
   "id": "26148af4",
   "metadata": {},
   "outputs": [
    {
     "data": {
      "image/png": "[encoded data removed]",
      "text/plain": [
       "<Figure size 432x288 with 2 Axes>"
      ]
     },
     "metadata": {
      "needs_background": "light"
     },
     "output_type": "display_data"
    }
   ],
   "source": [
    "#observe density of temperature Anamoly\n",
    "pyplot.figure(1)\n",
    "pyplot.subplot(211)\n",
    "df_temp.Avg_Anomaly_deg_C.hist()\n",
    "pyplot.subplot(212)\n",
    "df_temp.Avg_Anomaly_deg_C.plot(kind='kde')\n",
    "pyplot.show()"
   ]
  },
  {
   "cell_type": "markdown",
   "id": "e42eb5bd",
   "metadata": {},
   "source": [
    "From the above graphs we can observe, \n",
    "- The distribution is not perfectly Gausian (normal distribution)\n",
    "- The temperature distribution is partially skewed to right\n",
    "- Transformations might be useful prior to modelling"
   ]
  },
  {
   "cell_type": "markdown",
   "id": "cfa26d55",
   "metadata": {},
   "source": [
    "**Reviewing Box plot of emissions over decades provides insight into the trend and seasonality of the data**"
   ]
  },
  {
   "cell_type": "code",
   "execution_count": 24,
   "id": "fdc5517a",
   "metadata": {},
   "outputs": [
    {
     "data": {
      "text/plain": [
       "<AxesSubplot:xlabel='year', ylabel='co2_per_capita'>"
      ]
     },
     "execution_count": 24,
     "metadata": {},
     "output_type": "execute_result"
    },
    {
     "data": {
      "image/png": "[encoded data removed]",
      "text/plain": [
       "<Figure size 1080x648 with 1 Axes>"
      ]
     },
     "metadata": {
      "needs_background": "light"
     },
     "output_type": "display_data"
    }
   ],
   "source": [
    "#observe box plot for co2 emissions of India\n",
    "fig, ax = plt.subplots(figsize=(15,9))\n",
    "sns.boxplot(df_em.co2_per_capita.index.year // 10 * 10, df_em.co2_per_capita, ax=ax)"
   ]
  },
  {
   "cell_type": "markdown",
   "id": "77140a84",
   "metadata": {},
   "source": [
    "From the above plot we can observe,\n",
    "- Median values across decade confirms an irregular upward trend\n",
    "- Exponential Increase in emissions"
   ]
  },
  {
   "cell_type": "code",
   "execution_count": 25,
   "id": "93c50cec",
   "metadata": {},
   "outputs": [
    {
     "data": {
      "text/plain": [
       "<AxesSubplot:xlabel='year', ylabel='Avg_Anomaly_deg_C'>"
      ]
     },
     "execution_count": 25,
     "metadata": {},
     "output_type": "execute_result"
    },
    {
     "data": {
      "image/png": "[encoded data removed]",
      "text/plain": [
       "<Figure size 1080x648 with 1 Axes>"
      ]
     },
     "metadata": {
      "needs_background": "light"
     },
     "output_type": "display_data"
    }
   ],
   "source": [
    "#observe box plots of temperature change\n",
    "fig, ax = plt.subplots(figsize=(15,9))\n",
    "sns.boxplot(df_temp.Avg_Anomaly_deg_C.index.year // 10 * 10, df_temp.Avg_Anomaly_deg_C, ax=ax)"
   ]
  },
  {
   "cell_type": "markdown",
   "id": "d973b8ab",
   "metadata": {},
   "source": [
    "From the above plot we can observe,\n",
    "- Median values across decade shows irregular rise and fall in temperature\n",
    "- Disproportionate change in temperature"
   ]
  },
  {
   "cell_type": "markdown",
   "id": "fd5ecd1f",
   "metadata": {},
   "source": [
    "**Distribution and Normality Test**"
   ]
  },
  {
   "cell_type": "code",
   "execution_count": 26,
   "id": "d32e5d6d",
   "metadata": {},
   "outputs": [
    {
     "name": "stdout",
     "output_type": "stream",
     "text": [
      "Kurtosis of normal distribution 1.2858790566111544\n",
      "Skewness of normal distribution 1.5032325735952463\n"
     ]
    },
    {
     "data": {
      "image/png": "[encoded data removed]",
      "text/plain": [
       "<Figure size 432x288 with 1 Axes>"
      ]
     },
     "metadata": {
      "needs_background": "light"
     },
     "output_type": "display_data"
    }
   ],
   "source": [
    "#observe distribution and normality\n",
    "sns.distplot(df_em.co2_per_capita);\n",
    "stats.normaltest(df_em.co2_per_capita)\n",
    "print('Kurtosis of normal distribution {}'.format(stats.kurtosis(df_em.co2_per_capita)))\n",
    "print( 'Skewness of normal distribution {}'.format(stats.skew(df_em.co2_per_capita)))"
   ]
  },
  {
   "cell_type": "markdown",
   "id": "9acc9946",
   "metadata": {},
   "source": [
    "> - **Kurtosis** describes heaviness of the tails of distribution -  A positive value mean that data has heavy tails\n",
    "> - **Skewness** - distribution is highly skewed"
   ]
  },
  {
   "cell_type": "code",
   "execution_count": 27,
   "id": "b5e0042a",
   "metadata": {},
   "outputs": [
    {
     "name": "stdout",
     "output_type": "stream",
     "text": [
      "Kurtosis of normal distribution -0.12570184913357973\n",
      "Skewness of normal distribution 0.23827507237656245\n"
     ]
    },
    {
     "data": {
      "image/png": "[encoded data removed]",
      "text/plain": [
       "<Figure size 432x288 with 1 Axes>"
      ]
     },
     "metadata": {
      "needs_background": "light"
     },
     "output_type": "display_data"
    }
   ],
   "source": [
    "#observe distribution and normality of emissions of temperature anamoly\n",
    "sns.distplot(df_temp.Avg_Anomaly_deg_C);\n",
    "stats.normaltest(df_temp.Avg_Anomaly_deg_C)\n",
    "print('Kurtosis of normal distribution {}'.format(stats.kurtosis(df_temp.Avg_Anomaly_deg_C)))\n",
    "print( 'Skewness of normal distribution {}'.format(stats.skew(df_temp.Avg_Anomaly_deg_C)))"
   ]
  },
  {
   "cell_type": "markdown",
   "id": "020c9a22",
   "metadata": {},
   "source": [
    "> - **Kurtosis** describes heaviness of the tails of distribution -  A neagtive value mean that data has ligh tails\n",
    "> - **Skewness** - distribution is approximately similar"
   ]
  },
  {
   "cell_type": "markdown",
   "id": "cb879421",
   "metadata": {},
   "source": [
    "Lets observe the per capita co2 emissions and Temperature distribution before hand"
   ]
  },
  {
   "cell_type": "code",
   "execution_count": 28,
   "id": "dc3b7644",
   "metadata": {},
   "outputs": [
    {
     "data": {
      "text/html": [
       "<div>\n",
       "<style scoped>\n",
       "    .dataframe tbody tr th:only-of-type {\n",
       "        vertical-align: middle;\n",
       "    }\n",
       "\n",
       "    .dataframe tbody tr th {\n",
       "        vertical-align: top;\n",
       "    }\n",
       "\n",
       "    .dataframe thead th {\n",
       "        text-align: right;\n",
       "    }\n",
       "</style>\n",
       "<table border=\"1\" class=\"dataframe\">\n",
       "  <thead>\n",
       "    <tr style=\"text-align: right;\">\n",
       "      <th></th>\n",
       "      <th>count</th>\n",
       "      <th>mean</th>\n",
       "      <th>std</th>\n",
       "      <th>min</th>\n",
       "      <th>25%</th>\n",
       "      <th>50%</th>\n",
       "      <th>75%</th>\n",
       "      <th>max</th>\n",
       "    </tr>\n",
       "  </thead>\n",
       "  <tbody>\n",
       "    <tr>\n",
       "      <th>co2_per_capita</th>\n",
       "      <td>119.0</td>\n",
       "      <td>0.468731</td>\n",
       "      <td>0.494565</td>\n",
       "      <td>0.049</td>\n",
       "      <td>0.1205</td>\n",
       "      <td>0.262</td>\n",
       "      <td>0.6765</td>\n",
       "      <td>1.922</td>\n",
       "    </tr>\n",
       "  </tbody>\n",
       "</table>\n",
       "</div>"
      ],
      "text/plain": [
       "                count      mean       std    min     25%    50%     75%    max\n",
       "co2_per_capita  119.0  0.468731  0.494565  0.049  0.1205  0.262  0.6765  1.922"
      ]
     },
     "execution_count": 28,
     "metadata": {},
     "output_type": "execute_result"
    },
    {
     "data": {
      "image/png": "[encoded data removed]",
      "text/plain": [
       "<Figure size 1008x432 with 2 Axes>"
      ]
     },
     "metadata": {
      "needs_background": "light"
     },
     "output_type": "display_data"
    }
   ],
   "source": [
    "#observe per capita co2 emissions distribution\n",
    "plt.figure(figsize=(14,6))\n",
    "plt.subplot(1,2,1)\n",
    "df_em.co2_per_capita.hist(bins=50,edgecolor='black', grid=False)\n",
    "plt.title('Per Capita Emissions Distribution')\n",
    "\n",
    "plt.subplot(1,2,2)\n",
    "stats.probplot(df_em.co2_per_capita, plot=plt);\n",
    "#print(\"Skewness: %f\" % df['Consumption'].skew())\n",
    "#print(\"Kurtosis: %f\" % df['Consumption'].kurt())\n",
    "df_em.describe().transpose()"
   ]
  },
  {
   "cell_type": "markdown",
   "id": "3be77ae2",
   "metadata": {},
   "source": [
    "Normal probability plot shows that data set has irregular distribution, with trends"
   ]
  },
  {
   "cell_type": "code",
   "execution_count": 29,
   "id": "022fce35",
   "metadata": {
    "scrolled": false
   },
   "outputs": [
    {
     "data": {
      "text/html": [
       "<div>\n",
       "<style scoped>\n",
       "    .dataframe tbody tr th:only-of-type {\n",
       "        vertical-align: middle;\n",
       "    }\n",
       "\n",
       "    .dataframe tbody tr th {\n",
       "        vertical-align: top;\n",
       "    }\n",
       "\n",
       "    .dataframe thead th {\n",
       "        text-align: right;\n",
       "    }\n",
       "</style>\n",
       "<table border=\"1\" class=\"dataframe\">\n",
       "  <thead>\n",
       "    <tr style=\"text-align: right;\">\n",
       "      <th></th>\n",
       "      <th>count</th>\n",
       "      <th>mean</th>\n",
       "      <th>std</th>\n",
       "      <th>min</th>\n",
       "      <th>25%</th>\n",
       "      <th>50%</th>\n",
       "      <th>75%</th>\n",
       "      <th>max</th>\n",
       "    </tr>\n",
       "  </thead>\n",
       "  <tbody>\n",
       "    <tr>\n",
       "      <th>Avg_Anomaly_deg_C</th>\n",
       "      <td>119.0</td>\n",
       "      <td>0.004538</td>\n",
       "      <td>0.301254</td>\n",
       "      <td>-0.65</td>\n",
       "      <td>-0.185</td>\n",
       "      <td>0.01</td>\n",
       "      <td>0.17</td>\n",
       "      <td>0.75</td>\n",
       "    </tr>\n",
       "  </tbody>\n",
       "</table>\n",
       "</div>"
      ],
      "text/plain": [
       "                   count      mean       std   min    25%   50%   75%   max\n",
       "Avg_Anomaly_deg_C  119.0  0.004538  0.301254 -0.65 -0.185  0.01  0.17  0.75"
      ]
     },
     "execution_count": 29,
     "metadata": {},
     "output_type": "execute_result"
    },
    {
     "data": {
      "image/png": "[encoded data removed]",
      "text/plain": [
       "<Figure size 1008x432 with 2 Axes>"
      ]
     },
     "metadata": {
      "needs_background": "light"
     },
     "output_type": "display_data"
    }
   ],
   "source": [
    "#observe temperature anamoly distribution\n",
    "plt.figure(figsize=(14,6))\n",
    "plt.subplot(1,2,1)\n",
    "df_temp.Avg_Anomaly_deg_C.hist(bins=50,edgecolor='black', grid=False)\n",
    "plt.title('Temperature Change Distribution')\n",
    "\n",
    "plt.subplot(1,2,2)\n",
    "stats.probplot(df_temp.Avg_Anomaly_deg_C, plot=plt);\n",
    "#print(\"Skewness: %f\" % df['Consumption'].skew())\n",
    "#print(\"Kurtosis: %f\" % df['Consumption'].kurt())\n",
    "df_temp.describe().transpose()"
   ]
  },
  {
   "cell_type": "markdown",
   "id": "8e212b3f",
   "metadata": {},
   "source": [
    "Normal probability plot shows that dataset has almost regular distribution, with trends"
   ]
  },
  {
   "cell_type": "markdown",
   "id": "da642784",
   "metadata": {},
   "source": [
    "***Seasonal Temperature Anamoly***"
   ]
  },
  {
   "cell_type": "code",
   "execution_count": 30,
   "id": "7dd2a413",
   "metadata": {},
   "outputs": [
    {
     "data": {
      "image/png": "[encoded data removed]",
      "text/plain": [
       "<Figure size 864x432 with 1 Axes>"
      ]
     },
     "metadata": {
      "needs_background": "light"
     },
     "output_type": "display_data"
    }
   ],
   "source": [
    "#observe temperature anamoly\n",
    "pyplot.figure(figsize=(12,6))\n",
    "pyplot.title(\"Temperature Anomaly\", fontsize=15, fontweight='bold')\n",
    "pyplot.plot(df_temp['Avg_Anomaly_deg_C'].astype(float))\n",
    "pyplot.xlabel('Year', fontsize=12)\n",
    "pyplot.ylabel('Temperature Anomaly (°Celsius)', fontsize=12)\n",
    "pyplot.show()"
   ]
  },
  {
   "cell_type": "markdown",
   "id": "78500175",
   "metadata": {},
   "source": [
    "##### Surface Temperature Anomaly Trend \n",
    "\n",
    "For the plot, we leverage the statsmodels package for lowess smoothing. This helps in observing the general overall trend of the data over a fraction along the timeline. It is very similar to a moving average and the smoothing window chosen here is 1/10th or the smoothing performed over a window of 10 years. "
   ]
  },
  {
   "cell_type": "code",
   "execution_count": 31,
   "id": "c2d06a7d",
   "metadata": {},
   "outputs": [],
   "source": [
    "#lowess smoothing\n",
    "lowess = sm.nonparametric.lowess\n",
    "# z = lowess(y, x, frac= 1./3, it=0)\n",
    "# w = lowess(def_temp['Avg_Anomaly_deg_C'],range(len(df_temp['Avg_Anomaly_deg_C'])), frac=1./3)"
   ]
  },
  {
   "cell_type": "code",
   "execution_count": 32,
   "id": "46baac63",
   "metadata": {},
   "outputs": [
    {
     "data": {
      "image/png": "[encoded data removed]",
      "text/plain": [
       "<Figure size 864x432 with 1 Axes>"
      ]
     },
     "metadata": {
      "needs_background": "light"
     },
     "output_type": "display_data"
    }
   ],
   "source": [
    "#Lowess smoothing\n",
    "def filter(ts):\n",
    "    temp = lowess(ts, range(len(ts)), is_sorted=True, frac=0.1, it=0)\n",
    "    return temp[:, 1]\n",
    "# w= filter(t['Avg_Anomaly_deg_C'])\n",
    "# ts=t.resample('A').mean()\n",
    "w=filter(df_temp['Avg_Anomaly_deg_C'])\n",
    "\n",
    "#plot\n",
    "pyplot.figure(figsize=(12,6))\n",
    "pyplot.xlabel('Year', fontsize=14)\n",
    "pyplot.ylabel('Temperature Anomaly (°C)', fontsize=14)\n",
    "pyplot.plot(df_temp.index.to_pydatetime(),df_temp['Avg_Anomaly_deg_C'],label='Actual Temperature Change')\n",
    "pyplot.plot(df_temp.index.to_pydatetime(),w,color='Red', label='Lowess Smoothed Trend')\n",
    "pyplot.legend(loc='lower right')\n",
    "pyplot.title(\"Temperature Change With Lowess Smoothing\", fontsize=16, fontweight='bold')\n",
    "\n",
    "pyplot.show()"
   ]
  },
  {
   "cell_type": "code",
   "execution_count": 33,
   "id": "41c51214",
   "metadata": {},
   "outputs": [
    {
     "data": {
      "image/png": "[encoded data removed]",
      "text/plain": [
       "<Figure size 864x432 with 1 Axes>"
      ]
     },
     "metadata": {
      "needs_background": "light"
     },
     "output_type": "display_data"
    }
   ],
   "source": [
    "#observe co2 emissions per capita\n",
    "pyplot.figure(figsize=(12,6))\n",
    "pyplot.title('Co2 Emissions Per Capita of India', fontsize=15, fontweight='bold')\n",
    "pyplot.xlabel('Year', fontsize=12)\n",
    "pyplot.ylabel('co2 Emissions per Capita (mT)', fontsize=14)\n",
    "pyplot.plot(df_em, color='#1C7C54', linewidth=1.0)\n",
    "pyplot.show()"
   ]
  },
  {
   "cell_type": "markdown",
   "id": "31859f33",
   "metadata": {},
   "source": [
    "While a great milestone was achieved in the 1960s, it also saw the beginning of another rapid growth, growth in industrialization and globalisation leading to greater Carbon emissions that has seen no decrease. Post the technological boom near mid 1990s,Carbon emissions has seen a very steep increase going from 0.5 to 1.5 mT per capita very rapidly.  "
   ]
  },
  {
   "cell_type": "markdown",
   "id": "41eac55e",
   "metadata": {},
   "source": [
    "##### Annual co2 emissions and  Temperature change estimates (1902-2020)\n",
    "\n",
    "The surface temperature estimates and the carbon emissions have not only different scales and metric units but also different time series. Before scaling, first the temperature estimates were calculated annually with resample() and mean(). "
   ]
  },
  {
   "cell_type": "code",
   "execution_count": 34,
   "id": "4b199ce0",
   "metadata": {},
   "outputs": [
    {
     "data": {
      "text/html": [
       "<div>\n",
       "<style scoped>\n",
       "    .dataframe tbody tr th:only-of-type {\n",
       "        vertical-align: middle;\n",
       "    }\n",
       "\n",
       "    .dataframe tbody tr th {\n",
       "        vertical-align: top;\n",
       "    }\n",
       "\n",
       "    .dataframe thead th {\n",
       "        text-align: right;\n",
       "    }\n",
       "</style>\n",
       "<table border=\"1\" class=\"dataframe\">\n",
       "  <thead>\n",
       "    <tr style=\"text-align: right;\">\n",
       "      <th></th>\n",
       "      <th>Avg_Anomaly_deg_C</th>\n",
       "    </tr>\n",
       "    <tr>\n",
       "      <th>year</th>\n",
       "      <th></th>\n",
       "    </tr>\n",
       "  </thead>\n",
       "  <tbody>\n",
       "    <tr>\n",
       "      <th>1902-12-31</th>\n",
       "      <td>0.26</td>\n",
       "    </tr>\n",
       "    <tr>\n",
       "      <th>1903-12-31</th>\n",
       "      <td>-0.56</td>\n",
       "    </tr>\n",
       "    <tr>\n",
       "      <th>1904-12-31</th>\n",
       "      <td>0.06</td>\n",
       "    </tr>\n",
       "    <tr>\n",
       "      <th>1905-12-31</th>\n",
       "      <td>-0.15</td>\n",
       "    </tr>\n",
       "    <tr>\n",
       "      <th>1906-12-31</th>\n",
       "      <td>0.24</td>\n",
       "    </tr>\n",
       "  </tbody>\n",
       "</table>\n",
       "</div>"
      ],
      "text/plain": [
       "            Avg_Anomaly_deg_C\n",
       "year                         \n",
       "1902-12-31               0.26\n",
       "1903-12-31              -0.56\n",
       "1904-12-31               0.06\n",
       "1905-12-31              -0.15\n",
       "1906-12-31               0.24"
      ]
     },
     "execution_count": 34,
     "metadata": {},
     "output_type": "execute_result"
    }
   ],
   "source": [
    "temp_plot = df_temp['1902-01-01':'2020-01-01']\n",
    "temp_plot=temp_plot.resample('A').mean()\n",
    "temp_plot.head()"
   ]
  },
  {
   "cell_type": "markdown",
   "id": "12df1db6",
   "metadata": {},
   "source": [
    "Using MinMaxScalar() the resmapled temperature and emissions values were scaled between 0 and 1.  "
   ]
  },
  {
   "cell_type": "code",
   "execution_count": 35,
   "id": "7a17058a",
   "metadata": {},
   "outputs": [],
   "source": [
    "from sklearn.preprocessing import MinMaxScaler\n",
    "sc = MinMaxScaler(feature_range = (0, 1))\n",
    "plottemp_scale= sc.fit_transform(temp_plot)\n",
    "plotem_scale= sc.fit_transform(df_em)"
   ]
  },
  {
   "cell_type": "code",
   "execution_count": 36,
   "id": "486e3eff",
   "metadata": {},
   "outputs": [],
   "source": [
    "df_temp_plot = temp_plot\n",
    "df_temp_plot['temp'] = plottemp_scale\n",
    "df_temp_plot['emm'] = plotem_scale\n",
    "df_temp_plot.drop(columns=['Avg_Anomaly_deg_C'],axis=1,inplace=True)"
   ]
  },
  {
   "cell_type": "code",
   "execution_count": 37,
   "id": "faac1a05",
   "metadata": {},
   "outputs": [
    {
     "data": {
      "text/plain": [
       "<matplotlib.legend.Legend at 0x7eff29ddfe50>"
      ]
     },
     "execution_count": 37,
     "metadata": {},
     "output_type": "execute_result"
    },
    {
     "data": {
      "image/png": "[encoded data removed]",
      "text/plain": [
       "<Figure size 864x432 with 1 Axes>"
      ]
     },
     "metadata": {
      "needs_background": "light"
     },
     "output_type": "display_data"
    }
   ],
   "source": [
    "pyplot.figure(figsize=(12,6))\n",
    "pyplot.plot(df_temp_plot.index.values,df_temp_plot['temp'],'g--',label='Annual Temperature Anomaly')\n",
    "pyplot.plot(df_temp_plot.index.values,df_temp_plot['emm'],'orange',label='CO2 Emissions per capita')\n",
    "pyplot.title('co2 emissions and Temperature Change (1902-2020)', fontsize=14, fontweight='bold')\n",
    "\n",
    "pyplot.xlabel('Year', fontsize=14)\n",
    "pyplot.ylabel('Annual Estimates', fontsize=14)\n",
    "pyplot.legend(loc='right')"
   ]
  },
  {
   "cell_type": "markdown",
   "id": "78fdfe15",
   "metadata": {},
   "source": [
    "From the plot we can see that the emissions trends of India are **not moving in harmony** together as the emissions rapidly increase without much change in surface temperature of India. \n",
    "\n",
    "So far with the plot we can deduce that carbon emissions increase may **not have a strong correlation** to the temperature rise.  "
   ]
  },
  {
   "cell_type": "markdown",
   "id": "7de188e3",
   "metadata": {},
   "source": [
    "### Analysis"
   ]
  },
  {
   "cell_type": "code",
   "execution_count": 38,
   "id": "943fdbed",
   "metadata": {},
   "outputs": [
    {
     "data": {
      "text/html": [
       "<div>\n",
       "<style scoped>\n",
       "    .dataframe tbody tr th:only-of-type {\n",
       "        vertical-align: middle;\n",
       "    }\n",
       "\n",
       "    .dataframe tbody tr th {\n",
       "        vertical-align: top;\n",
       "    }\n",
       "\n",
       "    .dataframe thead th {\n",
       "        text-align: right;\n",
       "    }\n",
       "</style>\n",
       "<table border=\"1\" class=\"dataframe\">\n",
       "  <thead>\n",
       "    <tr style=\"text-align: right;\">\n",
       "      <th></th>\n",
       "      <th>Avg_Anomaly_deg_C</th>\n",
       "    </tr>\n",
       "    <tr>\n",
       "      <th>year</th>\n",
       "      <th></th>\n",
       "    </tr>\n",
       "  </thead>\n",
       "  <tbody>\n",
       "    <tr>\n",
       "      <th>1902-01-01</th>\n",
       "      <td>0.26</td>\n",
       "    </tr>\n",
       "    <tr>\n",
       "      <th>1903-01-01</th>\n",
       "      <td>-0.56</td>\n",
       "    </tr>\n",
       "    <tr>\n",
       "      <th>1904-01-01</th>\n",
       "      <td>0.06</td>\n",
       "    </tr>\n",
       "    <tr>\n",
       "      <th>1905-01-01</th>\n",
       "      <td>-0.15</td>\n",
       "    </tr>\n",
       "    <tr>\n",
       "      <th>1906-01-01</th>\n",
       "      <td>0.24</td>\n",
       "    </tr>\n",
       "  </tbody>\n",
       "</table>\n",
       "</div>"
      ],
      "text/plain": [
       "            Avg_Anomaly_deg_C\n",
       "year                         \n",
       "1902-01-01               0.26\n",
       "1903-01-01              -0.56\n",
       "1904-01-01               0.06\n",
       "1905-01-01              -0.15\n",
       "1906-01-01               0.24"
      ]
     },
     "execution_count": 38,
     "metadata": {},
     "output_type": "execute_result"
    }
   ],
   "source": [
    "df_temp.head()"
   ]
  },
  {
   "cell_type": "code",
   "execution_count": 39,
   "id": "e1ce0e32",
   "metadata": {},
   "outputs": [
    {
     "data": {
      "text/html": [
       "<div>\n",
       "<style scoped>\n",
       "    .dataframe tbody tr th:only-of-type {\n",
       "        vertical-align: middle;\n",
       "    }\n",
       "\n",
       "    .dataframe tbody tr th {\n",
       "        vertical-align: top;\n",
       "    }\n",
       "\n",
       "    .dataframe thead th {\n",
       "        text-align: right;\n",
       "    }\n",
       "</style>\n",
       "<table border=\"1\" class=\"dataframe\">\n",
       "  <thead>\n",
       "    <tr style=\"text-align: right;\">\n",
       "      <th></th>\n",
       "      <th>co2_per_capita</th>\n",
       "    </tr>\n",
       "    <tr>\n",
       "      <th>year</th>\n",
       "      <th></th>\n",
       "    </tr>\n",
       "  </thead>\n",
       "  <tbody>\n",
       "    <tr>\n",
       "      <th>1909-01-01</th>\n",
       "      <td>0.078</td>\n",
       "    </tr>\n",
       "    <tr>\n",
       "      <th>1984-01-01</th>\n",
       "      <td>0.472</td>\n",
       "    </tr>\n",
       "    <tr>\n",
       "      <th>1923-01-01</th>\n",
       "      <td>0.117</td>\n",
       "    </tr>\n",
       "    <tr>\n",
       "      <th>1973-01-01</th>\n",
       "      <td>0.352</td>\n",
       "    </tr>\n",
       "    <tr>\n",
       "      <th>1939-01-01</th>\n",
       "      <td>0.126</td>\n",
       "    </tr>\n",
       "  </tbody>\n",
       "</table>\n",
       "</div>"
      ],
      "text/plain": [
       "            co2_per_capita\n",
       "year                      \n",
       "1909-01-01           0.078\n",
       "1984-01-01           0.472\n",
       "1923-01-01           0.117\n",
       "1973-01-01           0.352\n",
       "1939-01-01           0.126"
      ]
     },
     "execution_count": 39,
     "metadata": {},
     "output_type": "execute_result"
    }
   ],
   "source": [
    "e = df_em\n",
    "e.sample(5)"
   ]
  },
  {
   "cell_type": "markdown",
   "id": "47d311ff",
   "metadata": {},
   "source": [
    "**Naive Bayes**\n",
    "\n",
    "First, let us see how the predict how high can the emissions be in 2020.   \n",
    "\n",
    "For this analysis, we use the Naive Bayes algorithm. Since emission estimates are continuous values, we define the degree of emissions on the discrete scale of 1 to 3 , with 1 being low and 3 being the highest.  \n",
    "\n",
    "In our emissions timeseries, we train the model on year and CO2 emissions estimates. We have 119 years annual estimates and so we train the naive bayes model on 107 years of estimates and test on 12 years (90-10 split). \n",
    "\n"
   ]
  },
  {
   "cell_type": "code",
   "execution_count": 40,
   "id": "cb3ac664",
   "metadata": {},
   "outputs": [],
   "source": [
    "#reset index and process data for naive bayes classification\n",
    "e_naive = e.reset_index()\n",
    "e_naive['degree_of_em'] = e_naive['co2_per_capita']\n",
    "#e_naive['co2_per_capita'].max()\n",
    "#e_naive['co2_per_capita'].min()\n",
    "\n",
    "#write a function to determine the degree\n",
    "def max_min_em(df):\n",
    "    if (df['degree_of_em'] >= 0.01) & (df['degree_of_em'] < 1.0):\n",
    "        return '1'\n",
    "    elif (df['degree_of_em'] >= 1.0) & (df['degree_of_em'] < 2.0):\n",
    "        return '2'\n",
    "    else:\n",
    "        return '3'\n",
    "    return\n",
    "\n",
    "#e_navie['degree_of_em'] = max_min_em(e_naive)\n",
    "e_naive['degree_of_em'] = e_naive.apply(lambda df:max_min_em(df), axis=1)\n",
    "\n",
    "e_naive['year'] = pd.DatetimeIndex(e_naive['year']).year\n",
    "\n",
    "#e_naive.date = e_naive.date.dt.strftime('%Y-%m-%d')\n",
    "#Observe\n",
    "#e_naive.tail()\n",
    "#e_naive.info()\n",
    "\n",
    "e_train = e_naive.head(107)\n",
    "e_test = e_naive[12:]"
   ]
  },
  {
   "cell_type": "code",
   "execution_count": 41,
   "id": "b067b6f1",
   "metadata": {},
   "outputs": [
    {
     "name": "stdout",
     "output_type": "stream",
     "text": [
      "Accuracy Score of Naive Bayes: 0.8785046728971962\n"
     ]
    }
   ],
   "source": [
    "#create train-test data\n",
    "X = e_train[['year', 'co2_per_capita']] # X is features in our dataset \n",
    "y = e_train[['degree_of_em']] # Y is labels in our dataset\n",
    "\n",
    "X_test = e_test[['year', 'co2_per_capita']]\n",
    "y_test = e_test[['degree_of_em']]\n",
    "\n",
    "from sklearn.naive_bayes import ComplementNB\n",
    "\n",
    "#fitting our model\n",
    "model = ComplementNB().fit(X, y)\n",
    "\n",
    "#now predictiong our model to our test dataset\n",
    "predicted_y = model.predict(X_test)\n",
    "\n",
    "from sklearn.metrics import accuracy_score\n",
    "\n",
    "#calculating accuracy of our model in comparison with our predicted values and test values\n",
    "acc_score = accuracy_score(y_test, predicted_y)\n",
    "print(\"Accuracy Score of Naive Bayes:\", acc_score)"
   ]
  },
  {
   "cell_type": "code",
   "execution_count": 42,
   "id": "deb88e67",
   "metadata": {},
   "outputs": [
    {
     "name": "stdout",
     "output_type": "stream",
     "text": [
      "['2']\n"
     ]
    }
   ],
   "source": [
    "#lets predict for the future\n",
    "\n",
    "#create an empty dataframe that we have to predict\n",
    "em_future = pd.DataFrame()\n",
    "\n",
    "#create some feature values \n",
    "em_future['year'] = [2022]\n",
    "em_future['co2_per_capita'] = 1.9\n",
    "\n",
    "#view data\n",
    "#em_future\n",
    "\n",
    "#predict for the future feature value \n",
    "predict_y = model.predict(em_future)\n",
    "print(predict_y)"
   ]
  },
  {
   "cell_type": "markdown",
   "id": "8f61f681",
   "metadata": {},
   "source": [
    "For the year 2022 if the emission estimates is 1.9, our model rightly classifies it as degree 2 which is High. "
   ]
  },
  {
   "cell_type": "markdown",
   "id": "618da054",
   "metadata": {},
   "source": [
    "### Stationarity Test and Conversion with differencing\n",
    "\n",
    "It is important to remove trends and seasonality in others so that we remove the variance or autocovariances in data are independent of time. This is also applies to the mean of the time series dist\n",
    "\n",
    "Lets check for stationarity using ADF Test"
   ]
  },
  {
   "cell_type": "code",
   "execution_count": 43,
   "id": "4fe00e71",
   "metadata": {},
   "outputs": [
    {
     "data": {
      "text/plain": [
       "ADF Statistic              -9.213350e+00\n",
       "p-value                     1.861998e-15\n",
       "#Lags Used                  5.000000e+00\n",
       "No. of Observations Used    1.130000e+02\n",
       "dtype: float64"
      ]
     },
     "execution_count": 43,
     "metadata": {},
     "output_type": "execute_result"
    }
   ],
   "source": [
    "#Perform ADF test for temperature change\n",
    "test_result = adfuller(df_temp['Avg_Anomaly_deg_C'])\n",
    "df_result = pd.Series(test_result[0:4], index=['ADF Statistic','p-value','#Lags Used','No. of Observations Used'])\n",
    "df_result"
   ]
  },
  {
   "cell_type": "markdown",
   "id": "7050b894",
   "metadata": {},
   "source": [
    "With p-value of 1.861998e-15 ( <0.05), we can reject that null hypothesis. The data is stationary.\n",
    "\n",
    "Lets Perform ADF test on co2 emissions data"
   ]
  },
  {
   "cell_type": "code",
   "execution_count": 44,
   "id": "5292063a",
   "metadata": {},
   "outputs": [
    {
     "data": {
      "text/plain": [
       "ADF Statistic                 3.565723\n",
       "p-value                       1.000000\n",
       "#Lags Used                   13.000000\n",
       "No. of Observations Used    105.000000\n",
       "dtype: float64"
      ]
     },
     "execution_count": 44,
     "metadata": {},
     "output_type": "execute_result"
    }
   ],
   "source": [
    "#Perform ADF test for temperature change\n",
    "test_result = adfuller(df_em['co2_per_capita'])\n",
    "df_result = pd.Series(test_result[0:4], index=['ADF Statistic','p-value','#Lags Used','No. of Observations Used'])\n",
    "df_result"
   ]
  },
  {
   "cell_type": "markdown",
   "id": "21515bf8",
   "metadata": {},
   "source": [
    "With p-value of 1.0 ( >0.05), we still cannot reject that null hypothesis that this data is non-stationary. \n",
    "\n",
    "Lets difference the data and try to achieve stationarity"
   ]
  },
  {
   "cell_type": "code",
   "execution_count": 45,
   "id": "93e7222f",
   "metadata": {},
   "outputs": [
    {
     "data": {
      "text/plain": [
       "ADF Statistic                -2.967098\n",
       "p-value                       0.038083\n",
       "#Lags Used                   10.000000\n",
       "No. of Observations Used    107.000000\n",
       "dtype: float64"
      ]
     },
     "execution_count": 45,
     "metadata": {},
     "output_type": "execute_result"
    }
   ],
   "source": [
    "#Perform ADF test for temperature change\n",
    "diff_df_em = df_em.diff().dropna()\n",
    "test_result = adfuller(diff_df_em['co2_per_capita'])\n",
    "df_result = pd.Series(test_result[0:4], index=['ADF Statistic','p-value','#Lags Used','No. of Observations Used'])\n",
    "df_result"
   ]
  },
  {
   "cell_type": "markdown",
   "id": "e2191cd1",
   "metadata": {},
   "source": [
    "With p-value of 0.038083 ( <0.05), we can reject that null hypothesis. The data is stationary.\n",
    "\n",
    "We should remember that co2 emissions data has differencing order of atleast 1 to be treated as stationary data while building ARIMA, SARIMA Models"
   ]
  },
  {
   "cell_type": "markdown",
   "id": "0324a616",
   "metadata": {},
   "source": [
    "### Granger Causality Test\n",
    "\n",
    "Now that the timeseries have become stationery, let us test the correlation between the two using the Granger Causality test. \n",
    "\n",
    "It is especially useful in time series analysis where you have disparate time series and want to test dependence. In our case we will test whether the carbon emissions is a cause for rising temperature and temperature anomalies."
   ]
  },
  {
   "cell_type": "code",
   "execution_count": 46,
   "id": "d0f66f60",
   "metadata": {},
   "outputs": [
    {
     "data": {
      "text/html": [
       "<div>\n",
       "<style scoped>\n",
       "    .dataframe tbody tr th:only-of-type {\n",
       "        vertical-align: middle;\n",
       "    }\n",
       "\n",
       "    .dataframe tbody tr th {\n",
       "        vertical-align: top;\n",
       "    }\n",
       "\n",
       "    .dataframe thead th {\n",
       "        text-align: right;\n",
       "    }\n",
       "</style>\n",
       "<table border=\"1\" class=\"dataframe\">\n",
       "  <thead>\n",
       "    <tr style=\"text-align: right;\">\n",
       "      <th></th>\n",
       "      <th>year</th>\n",
       "      <th>Avg_Anomaly_deg_C</th>\n",
       "    </tr>\n",
       "  </thead>\n",
       "  <tbody>\n",
       "    <tr>\n",
       "      <th>114</th>\n",
       "      <td>2016-12-31</td>\n",
       "      <td>0.38</td>\n",
       "    </tr>\n",
       "    <tr>\n",
       "      <th>115</th>\n",
       "      <td>2017-12-31</td>\n",
       "      <td>-0.12</td>\n",
       "    </tr>\n",
       "    <tr>\n",
       "      <th>116</th>\n",
       "      <td>2018-12-31</td>\n",
       "      <td>-0.15</td>\n",
       "    </tr>\n",
       "    <tr>\n",
       "      <th>117</th>\n",
       "      <td>2019-12-31</td>\n",
       "      <td>-0.06</td>\n",
       "    </tr>\n",
       "    <tr>\n",
       "      <th>118</th>\n",
       "      <td>2020-12-31</td>\n",
       "      <td>-0.14</td>\n",
       "    </tr>\n",
       "  </tbody>\n",
       "</table>\n",
       "</div>"
      ],
      "text/plain": [
       "          year  Avg_Anomaly_deg_C\n",
       "114 2016-12-31               0.38\n",
       "115 2017-12-31              -0.12\n",
       "116 2018-12-31              -0.15\n",
       "117 2019-12-31              -0.06\n",
       "118 2020-12-31              -0.14"
      ]
     },
     "execution_count": 46,
     "metadata": {},
     "output_type": "execute_result"
    }
   ],
   "source": [
    "temp_t = df_temp.resample('A').mean()\n",
    "temp_t = temp_t.reset_index()\n",
    "temp_t.tail()"
   ]
  },
  {
   "cell_type": "code",
   "execution_count": 47,
   "id": "ddb28243",
   "metadata": {},
   "outputs": [
    {
     "data": {
      "text/html": [
       "<div>\n",
       "<style scoped>\n",
       "    .dataframe tbody tr th:only-of-type {\n",
       "        vertical-align: middle;\n",
       "    }\n",
       "\n",
       "    .dataframe tbody tr th {\n",
       "        vertical-align: top;\n",
       "    }\n",
       "\n",
       "    .dataframe thead th {\n",
       "        text-align: right;\n",
       "    }\n",
       "</style>\n",
       "<table border=\"1\" class=\"dataframe\">\n",
       "  <thead>\n",
       "    <tr style=\"text-align: right;\">\n",
       "      <th></th>\n",
       "      <th>year</th>\n",
       "      <th>co2_per_capita</th>\n",
       "    </tr>\n",
       "  </thead>\n",
       "  <tbody>\n",
       "    <tr>\n",
       "      <th>113</th>\n",
       "      <td>2016-01-01</td>\n",
       "      <td>0.067</td>\n",
       "    </tr>\n",
       "    <tr>\n",
       "      <th>114</th>\n",
       "      <td>2017-01-01</td>\n",
       "      <td>0.019</td>\n",
       "    </tr>\n",
       "    <tr>\n",
       "      <th>115</th>\n",
       "      <td>2018-01-01</td>\n",
       "      <td>0.104</td>\n",
       "    </tr>\n",
       "    <tr>\n",
       "      <th>116</th>\n",
       "      <td>2019-01-01</td>\n",
       "      <td>0.000</td>\n",
       "    </tr>\n",
       "    <tr>\n",
       "      <th>117</th>\n",
       "      <td>2020-01-01</td>\n",
       "      <td>-0.153</td>\n",
       "    </tr>\n",
       "  </tbody>\n",
       "</table>\n",
       "</div>"
      ],
      "text/plain": [
       "          year  co2_per_capita\n",
       "113 2016-01-01           0.067\n",
       "114 2017-01-01           0.019\n",
       "115 2018-01-01           0.104\n",
       "116 2019-01-01           0.000\n",
       "117 2020-01-01          -0.153"
      ]
     },
     "execution_count": 47,
     "metadata": {},
     "output_type": "execute_result"
    }
   ],
   "source": [
    "temp_e = diff_df_em\n",
    "temp_e = temp_e.reset_index()\n",
    "temp_e.tail()"
   ]
  },
  {
   "cell_type": "code",
   "execution_count": 48,
   "id": "fe60dfa6",
   "metadata": {},
   "outputs": [
    {
     "data": {
      "text/html": [
       "<div>\n",
       "<style scoped>\n",
       "    .dataframe tbody tr th:only-of-type {\n",
       "        vertical-align: middle;\n",
       "    }\n",
       "\n",
       "    .dataframe tbody tr th {\n",
       "        vertical-align: top;\n",
       "    }\n",
       "\n",
       "    .dataframe thead th {\n",
       "        text-align: right;\n",
       "    }\n",
       "</style>\n",
       "<table border=\"1\" class=\"dataframe\">\n",
       "  <thead>\n",
       "    <tr style=\"text-align: right;\">\n",
       "      <th></th>\n",
       "      <th>year</th>\n",
       "      <th>Avg_Anomaly_deg_C</th>\n",
       "    </tr>\n",
       "  </thead>\n",
       "  <tbody>\n",
       "    <tr>\n",
       "      <th>113</th>\n",
       "      <td>2015-12-31</td>\n",
       "      <td>0.12</td>\n",
       "    </tr>\n",
       "    <tr>\n",
       "      <th>114</th>\n",
       "      <td>2016-12-31</td>\n",
       "      <td>0.38</td>\n",
       "    </tr>\n",
       "    <tr>\n",
       "      <th>115</th>\n",
       "      <td>2017-12-31</td>\n",
       "      <td>-0.12</td>\n",
       "    </tr>\n",
       "    <tr>\n",
       "      <th>116</th>\n",
       "      <td>2018-12-31</td>\n",
       "      <td>-0.15</td>\n",
       "    </tr>\n",
       "    <tr>\n",
       "      <th>117</th>\n",
       "      <td>2019-12-31</td>\n",
       "      <td>-0.06</td>\n",
       "    </tr>\n",
       "  </tbody>\n",
       "</table>\n",
       "</div>"
      ],
      "text/plain": [
       "          year  Avg_Anomaly_deg_C\n",
       "113 2015-12-31               0.12\n",
       "114 2016-12-31               0.38\n",
       "115 2017-12-31              -0.12\n",
       "116 2018-12-31              -0.15\n",
       "117 2019-12-31              -0.06"
      ]
     },
     "execution_count": 48,
     "metadata": {},
     "output_type": "execute_result"
    }
   ],
   "source": [
    "start_date = '1902-01-01'\n",
    "end_date = '2020-01-01'\n",
    "\n",
    "mask = (temp_t['year'] >= start_date) & (temp_t['year'] <= end_date)\n",
    "\n",
    "df_temp_t = temp_t.loc[mask]\n",
    "df_temp_t = df_temp_t.reset_index(drop=True)\n",
    "df_temp_t.tail()"
   ]
  },
  {
   "cell_type": "code",
   "execution_count": 49,
   "id": "bf8399d6",
   "metadata": {},
   "outputs": [],
   "source": [
    "df_temp_t['co2_per_capita'] = temp_e['co2_per_capita']\n",
    "df_temp_t.dropna(inplace=True)"
   ]
  },
  {
   "cell_type": "markdown",
   "id": "4337cdb9",
   "metadata": {},
   "source": [
    "The granger causality tests using the F-test and Chi-test for different lags upto 18. \n",
    "\n",
    "We have used the maximum lag for testing the p-values. There were some fluctuations, but overall the test result indicates a strong correlation. "
   ]
  },
  {
   "cell_type": "code",
   "execution_count": 50,
   "id": "ae79c686",
   "metadata": {
    "scrolled": true
   },
   "outputs": [
    {
     "name": "stdout",
     "output_type": "stream",
     "text": [
      "\n",
      "Granger Causality\n",
      "number of lags (no zero) 1\n",
      "ssr based F test:         F=0.0042  , p=0.9487  , df_denom=114, df_num=1\n",
      "ssr based chi2 test:   chi2=0.0043  , p=0.9479  , df=1\n",
      "likelihood ratio test: chi2=0.0043  , p=0.9479  , df=1\n",
      "parameter F test:         F=0.0042  , p=0.9487  , df_denom=114, df_num=1\n",
      "\n",
      "Granger Causality\n",
      "number of lags (no zero) 2\n",
      "ssr based F test:         F=0.0695  , p=0.9329  , df_denom=111, df_num=2\n",
      "ssr based chi2 test:   chi2=0.1452  , p=0.9300  , df=2\n",
      "likelihood ratio test: chi2=0.1451  , p=0.9300  , df=2\n",
      "parameter F test:         F=0.0695  , p=0.9329  , df_denom=111, df_num=2\n",
      "\n",
      "Granger Causality\n",
      "number of lags (no zero) 3\n",
      "ssr based F test:         F=0.6797  , p=0.5663  , df_denom=108, df_num=3\n",
      "ssr based chi2 test:   chi2=2.1712  , p=0.5376  , df=3\n",
      "likelihood ratio test: chi2=2.1510  , p=0.5417  , df=3\n",
      "parameter F test:         F=0.6797  , p=0.5663  , df_denom=108, df_num=3\n",
      "\n",
      "Granger Causality\n",
      "number of lags (no zero) 4\n",
      "ssr based F test:         F=0.2379  , p=0.9164  , df_denom=105, df_num=4\n",
      "ssr based chi2 test:   chi2=1.0331  , p=0.9047  , df=4\n",
      "likelihood ratio test: chi2=1.0285  , p=0.9054  , df=4\n",
      "parameter F test:         F=0.2379  , p=0.9164  , df_denom=105, df_num=4\n",
      "\n",
      "Granger Causality\n",
      "number of lags (no zero) 5\n",
      "ssr based F test:         F=0.3252  , p=0.8968  , df_denom=102, df_num=5\n",
      "ssr based chi2 test:   chi2=1.8015  , p=0.8759  , df=5\n",
      "likelihood ratio test: chi2=1.7873  , p=0.8777  , df=5\n",
      "parameter F test:         F=0.3252  , p=0.8968  , df_denom=102, df_num=5\n",
      "\n",
      "Granger Causality\n",
      "number of lags (no zero) 6\n",
      "ssr based F test:         F=0.1772  , p=0.9825  , df_denom=99, df_num=6\n",
      "ssr based chi2 test:   chi2=1.2027  , p=0.9768  , df=6\n",
      "likelihood ratio test: chi2=1.1963  , p=0.9771  , df=6\n",
      "parameter F test:         F=0.1772  , p=0.9825  , df_denom=99, df_num=6\n",
      "\n",
      "Granger Causality\n",
      "number of lags (no zero) 7\n",
      "ssr based F test:         F=0.2147  , p=0.9813  , df_denom=96, df_num=7\n",
      "ssr based chi2 test:   chi2=1.7375  , p=0.9729  , df=7\n",
      "likelihood ratio test: chi2=1.7240  , p=0.9735  , df=7\n",
      "parameter F test:         F=0.2147  , p=0.9813  , df_denom=96, df_num=7\n",
      "\n",
      "Granger Causality\n",
      "number of lags (no zero) 8\n",
      "ssr based F test:         F=0.5300  , p=0.8312  , df_denom=93, df_num=8\n",
      "ssr based chi2 test:   chi2=5.0151  , p=0.7560  , df=8\n",
      "likelihood ratio test: chi2=4.9041  , p=0.7678  , df=8\n",
      "parameter F test:         F=0.5300  , p=0.8312  , df_denom=93, df_num=8\n",
      "\n",
      "Granger Causality\n",
      "number of lags (no zero) 9\n",
      "ssr based F test:         F=0.3623  , p=0.9500  , df_denom=90, df_num=9\n",
      "ssr based chi2 test:   chi2=3.9488  , p=0.9148  , df=9\n",
      "likelihood ratio test: chi2=3.8789  , p=0.9192  , df=9\n",
      "parameter F test:         F=0.3623  , p=0.9500  , df_denom=90, df_num=9\n",
      "\n",
      "Granger Causality\n",
      "number of lags (no zero) 10\n",
      "ssr based F test:         F=0.4185  , p=0.9342  , df_denom=87, df_num=10\n",
      "ssr based chi2 test:   chi2=5.1953  , p=0.8778  , df=10\n",
      "likelihood ratio test: chi2=5.0742  , p=0.8862  , df=10\n",
      "parameter F test:         F=0.4185  , p=0.9342  , df_denom=87, df_num=10\n",
      "\n",
      "Granger Causality\n",
      "number of lags (no zero) 11\n",
      "ssr based F test:         F=0.4236  , p=0.9416  , df_denom=84, df_num=11\n",
      "ssr based chi2 test:   chi2=5.9352  , p=0.8777  , df=11\n",
      "likelihood ratio test: chi2=5.7765  , p=0.8879  , df=11\n",
      "parameter F test:         F=0.4236  , p=0.9416  , df_denom=84, df_num=11\n",
      "\n",
      "Granger Causality\n",
      "number of lags (no zero) 12\n",
      "ssr based F test:         F=0.5101  , p=0.9025  , df_denom=81, df_num=12\n",
      "ssr based chi2 test:   chi2=8.0104  , p=0.7843  , df=12\n",
      "likelihood ratio test: chi2=7.7221  , p=0.8065  , df=12\n",
      "parameter F test:         F=0.5101  , p=0.9025  , df_denom=81, df_num=12\n",
      "\n",
      "Granger Causality\n",
      "number of lags (no zero) 13\n",
      "ssr based F test:         F=0.5128  , p=0.9103  , df_denom=78, df_num=13\n",
      "ssr based chi2 test:   chi2=8.9743  , p=0.7749  , df=13\n",
      "likelihood ratio test: chi2=8.6113  , p=0.8016  , df=13\n",
      "parameter F test:         F=0.5128  , p=0.9103  , df_denom=78, df_num=13\n",
      "\n",
      "Granger Causality\n",
      "number of lags (no zero) 14\n",
      "ssr based F test:         F=0.9936  , p=0.4685  , df_denom=75, df_num=14\n",
      "ssr based chi2 test:   chi2=19.2886 , p=0.1542  , df=14\n",
      "likelihood ratio test: chi2=17.6943 , p=0.2211  , df=14\n",
      "parameter F test:         F=0.9936  , p=0.4685  , df_denom=75, df_num=14\n",
      "\n",
      "Granger Causality\n",
      "number of lags (no zero) 15\n",
      "ssr based F test:         F=0.9083  , p=0.5585  , df_denom=72, df_num=15\n",
      "ssr based chi2 test:   chi2=19.4910 , p=0.1923  , df=15\n",
      "likelihood ratio test: chi2=17.8508 , p=0.2706  , df=15\n",
      "parameter F test:         F=0.9083  , p=0.5585  , df_denom=72, df_num=15\n",
      "\n",
      "Granger Causality\n",
      "number of lags (no zero) 16\n",
      "ssr based F test:         F=0.8175  , p=0.6617  , df_denom=69, df_num=16\n",
      "ssr based chi2 test:   chi2=19.3350 , p=0.2517  , df=16\n",
      "likelihood ratio test: chi2=17.7054 , p=0.3414  , df=16\n",
      "parameter F test:         F=0.8175  , p=0.6617  , df_denom=69, df_num=16\n",
      "\n",
      "Granger Causality\n",
      "number of lags (no zero) 17\n",
      "ssr based F test:         F=0.7476  , p=0.7431  , df_denom=66, df_num=17\n",
      "ssr based chi2 test:   chi2=19.4489 , p=0.3034  , df=17\n",
      "likelihood ratio test: chi2=17.7866 , p=0.4024  , df=17\n",
      "parameter F test:         F=0.7476  , p=0.7431  , df_denom=66, df_num=17\n",
      "\n",
      "Granger Causality\n",
      "number of lags (no zero) 18\n",
      "ssr based F test:         F=0.9638  , p=0.5104  , df_denom=63, df_num=18\n",
      "ssr based chi2 test:   chi2=27.5373 , p=0.0695  , df=18\n",
      "likelihood ratio test: chi2=24.3239 , p=0.1447  , df=18\n",
      "parameter F test:         F=0.9638  , p=0.5104  , df_denom=63, df_num=18\n",
      "{1: ({'ssr_ftest': (0.00415813425227757, 0.948698105956717, 114.0, 1), 'ssr_chi2test': (0.004267558837863822, 0.9479139993623354, 1), 'lrtest': (0.004267481010458596, 0.94791447363507, 1), 'params_ftest': (0.004158134252266541, 0.9486981059567949, 114.0, 1.0)}, [<statsmodels.regression.linear_model.RegressionResultsWrapper object at 0x7eff29bded30>, <statsmodels.regression.linear_model.RegressionResultsWrapper object at 0x7eff29bdecd0>, array([[0., 1., 0.]])]), 2: ({'ssr_ftest': (0.06948695722537239, 0.9329128470080281, 111.0, 2), 'ssr_chi2test': (0.1452340006872648, 0.9299569350139426, 2), 'lrtest': (0.14514315876618866, 0.9299991755104847, 2), 'params_ftest': (0.06948695722536756, 0.9329128470080338, 111.0, 2.0)}, [<statsmodels.regression.linear_model.RegressionResultsWrapper object at 0x7eff29bdea60>, <statsmodels.regression.linear_model.RegressionResultsWrapper object at 0x7eff29bdee50>, array([[0., 0., 1., 0., 0.],\n",
      "       [0., 0., 0., 1., 0.]])]), 3: ({'ssr_ftest': (0.6796956417758359, 0.5663316091643141, 108.0, 3), 'ssr_chi2test': (2.1712499667839205, 0.5376334087876147, 3), 'lrtest': (2.1510072921651613, 0.5416627578369466, 3), 'params_ftest': (0.6796956417758265, 0.5663316091643189, 108.0, 3.0)}, [<statsmodels.regression.linear_model.RegressionResultsWrapper object at 0x7eff29bd63a0>, <statsmodels.regression.linear_model.RegressionResultsWrapper object at 0x7eff29bd67c0>, array([[0., 0., 0., 1., 0., 0., 0.],\n",
      "       [0., 0., 0., 0., 1., 0., 0.],\n",
      "       [0., 0., 0., 0., 0., 1., 0.]])]), 4: ({'ssr_ftest': (0.23789349567944348, 0.9163542113479375, 105.0, 4), 'ssr_chi2test': (1.033137466950726, 0.9047303254642627, 4), 'lrtest': (1.0284840996151843, 0.905446548523029, 4), 'params_ftest': (0.23789349567944487, 0.9163542113479375, 105.0, 4.0)}, [<statsmodels.regression.linear_model.RegressionResultsWrapper object at 0x7eff29bd6460>, <statsmodels.regression.linear_model.RegressionResultsWrapper object at 0x7eff29bd65b0>, array([[0., 0., 0., 0., 1., 0., 0., 0., 0.],\n",
      "       [0., 0., 0., 0., 0., 1., 0., 0., 0.],\n",
      "       [0., 0., 0., 0., 0., 0., 1., 0., 0.],\n",
      "       [0., 0., 0., 0., 0., 0., 0., 1., 0.]])]), 5: ({'ssr_ftest': (0.32523537356539756, 0.8967500944928688, 102.0, 5), 'ssr_chi2test': (1.8015488829848, 0.875866115557343, 5), 'lrtest': (1.787338751641414, 0.8777180341315393, 5), 'params_ftest': (0.3252353735653949, 0.8967500944928717, 102.0, 5.0)}, [<statsmodels.regression.linear_model.RegressionResultsWrapper object at 0x7eff29bec610>, <statsmodels.regression.linear_model.RegressionResultsWrapper object at 0x7eff29bec4c0>, array([[0., 0., 0., 0., 0., 1., 0., 0., 0., 0., 0.],\n",
      "       [0., 0., 0., 0., 0., 0., 1., 0., 0., 0., 0.],\n",
      "       [0., 0., 0., 0., 0., 0., 0., 1., 0., 0., 0.],\n",
      "       [0., 0., 0., 0., 0., 0., 0., 0., 1., 0., 0.],\n",
      "       [0., 0., 0., 0., 0., 0., 0., 0., 0., 1., 0.]])]), 6: ({'ssr_ftest': (0.17718269891714217, 0.9824551107776781, 99.0, 6), 'ssr_chi2test': (1.202694683558783, 0.9767514044020339, 6), 'lrtest': (1.196283067362856, 0.9770679048021991, 6), 'params_ftest': (0.1771826989171411, 0.9824551107776786, 99.0, 6.0)}, [<statsmodels.regression.linear_model.RegressionResultsWrapper object at 0x7eff29bec820>, <statsmodels.regression.linear_model.RegressionResultsWrapper object at 0x7eff29bec460>, array([[0., 0., 0., 0., 0., 0., 1., 0., 0., 0., 0., 0., 0.],\n",
      "       [0., 0., 0., 0., 0., 0., 0., 1., 0., 0., 0., 0., 0.],\n",
      "       [0., 0., 0., 0., 0., 0., 0., 0., 1., 0., 0., 0., 0.],\n",
      "       [0., 0., 0., 0., 0., 0., 0., 0., 0., 1., 0., 0., 0.],\n",
      "       [0., 0., 0., 0., 0., 0., 0., 0., 0., 0., 1., 0., 0.],\n",
      "       [0., 0., 0., 0., 0., 0., 0., 0., 0., 0., 0., 1., 0.]])]), 7: ({'ssr_ftest': (0.2146705294041532, 0.9812694112594195, 96.0, 7), 'ssr_chi2test': (1.7374895973648645, 0.9729331070924943, 7), 'lrtest': (1.7240313436125234, 0.973526811489908, 7), 'params_ftest': (0.21467052940415426, 0.9812694112594195, 96.0, 7.0)}, [<statsmodels.regression.linear_model.RegressionResultsWrapper object at 0x7eff29bec1f0>, <statsmodels.regression.linear_model.RegressionResultsWrapper object at 0x7eff29bec7c0>, array([[0., 0., 0., 0., 0., 0., 0., 1., 0., 0., 0., 0., 0., 0., 0.],\n",
      "       [0., 0., 0., 0., 0., 0., 0., 0., 1., 0., 0., 0., 0., 0., 0.],\n",
      "       [0., 0., 0., 0., 0., 0., 0., 0., 0., 1., 0., 0., 0., 0., 0.],\n",
      "       [0., 0., 0., 0., 0., 0., 0., 0., 0., 0., 1., 0., 0., 0., 0.],\n",
      "       [0., 0., 0., 0., 0., 0., 0., 0., 0., 0., 0., 1., 0., 0., 0.],\n",
      "       [0., 0., 0., 0., 0., 0., 0., 0., 0., 0., 0., 0., 1., 0., 0.],\n",
      "       [0., 0., 0., 0., 0., 0., 0., 0., 0., 0., 0., 0., 0., 1., 0.]])]), 8: ({'ssr_ftest': (0.530004739877507, 0.8311805501738923, 93.0, 8), 'ssr_chi2test': (5.01509861389469, 0.7559611589644708, 8), 'lrtest': (4.904135087224006, 0.7677714761232769, 8), 'params_ftest': (0.5300047398775068, 0.8311805501738923, 93.0, 8.0)}, [<statsmodels.regression.linear_model.RegressionResultsWrapper object at 0x7eff29becdc0>, <statsmodels.regression.linear_model.RegressionResultsWrapper object at 0x7eff29beca00>, array([[0., 0., 0., 0., 0., 0., 0., 0., 1., 0., 0., 0., 0., 0., 0., 0.,\n",
      "        0.],\n",
      "       [0., 0., 0., 0., 0., 0., 0., 0., 0., 1., 0., 0., 0., 0., 0., 0.,\n",
      "        0.],\n",
      "       [0., 0., 0., 0., 0., 0., 0., 0., 0., 0., 1., 0., 0., 0., 0., 0.,\n",
      "        0.],\n",
      "       [0., 0., 0., 0., 0., 0., 0., 0., 0., 0., 0., 1., 0., 0., 0., 0.,\n",
      "        0.],\n",
      "       [0., 0., 0., 0., 0., 0., 0., 0., 0., 0., 0., 0., 1., 0., 0., 0.,\n",
      "        0.],\n",
      "       [0., 0., 0., 0., 0., 0., 0., 0., 0., 0., 0., 0., 0., 1., 0., 0.,\n",
      "        0.],\n",
      "       [0., 0., 0., 0., 0., 0., 0., 0., 0., 0., 0., 0., 0., 0., 1., 0.,\n",
      "        0.],\n",
      "       [0., 0., 0., 0., 0., 0., 0., 0., 0., 0., 0., 0., 0., 0., 0., 1.,\n",
      "        0.]])]), 9: ({'ssr_ftest': (0.36227133010869766, 0.9499700044055936, 90.0, 9), 'ssr_chi2test': (3.948757498184804, 0.9147526651374897, 9), 'lrtest': (3.878913258052364, 0.9191997488343313, 9), 'params_ftest': (0.3622713301086949, 0.9499700044055953, 90.0, 9.0)}, [<statsmodels.regression.linear_model.RegressionResultsWrapper object at 0x7eff29becf10>, <statsmodels.regression.linear_model.RegressionResultsWrapper object at 0x7eff29becee0>, array([[0., 0., 0., 0., 0., 0., 0., 0., 0., 1., 0., 0., 0., 0., 0., 0.,\n",
      "        0., 0., 0.],\n",
      "       [0., 0., 0., 0., 0., 0., 0., 0., 0., 0., 1., 0., 0., 0., 0., 0.,\n",
      "        0., 0., 0.],\n",
      "       [0., 0., 0., 0., 0., 0., 0., 0., 0., 0., 0., 1., 0., 0., 0., 0.,\n",
      "        0., 0., 0.],\n",
      "       [0., 0., 0., 0., 0., 0., 0., 0., 0., 0., 0., 0., 1., 0., 0., 0.,\n",
      "        0., 0., 0.],\n",
      "       [0., 0., 0., 0., 0., 0., 0., 0., 0., 0., 0., 0., 0., 1., 0., 0.,\n",
      "        0., 0., 0.],\n",
      "       [0., 0., 0., 0., 0., 0., 0., 0., 0., 0., 0., 0., 0., 0., 1., 0.,\n",
      "        0., 0., 0.],\n",
      "       [0., 0., 0., 0., 0., 0., 0., 0., 0., 0., 0., 0., 0., 0., 0., 1.,\n",
      "        0., 0., 0.],\n",
      "       [0., 0., 0., 0., 0., 0., 0., 0., 0., 0., 0., 0., 0., 0., 0., 0.,\n",
      "        1., 0., 0.],\n",
      "       [0., 0., 0., 0., 0., 0., 0., 0., 0., 0., 0., 0., 0., 0., 0., 0.,\n",
      "        0., 1., 0.]])]), 10: ({'ssr_ftest': (0.4185083166462222, 0.9342091722956989, 87.0, 10), 'ssr_chi2test': (5.195275654918619, 0.8777573391274747, 10), 'lrtest': (5.07418595389106, 0.8861675034557583, 10), 'params_ftest': (0.418508316646224, 0.9342091722956982, 87.0, 10.0)}, [<statsmodels.regression.linear_model.RegressionResultsWrapper object at 0x7eff29becb50>, <statsmodels.regression.linear_model.RegressionResultsWrapper object at 0x7eff29bfc2e0>, array([[0., 0., 0., 0., 0., 0., 0., 0., 0., 0., 1., 0., 0., 0., 0., 0.,\n",
      "        0., 0., 0., 0., 0.],\n",
      "       [0., 0., 0., 0., 0., 0., 0., 0., 0., 0., 0., 1., 0., 0., 0., 0.,\n",
      "        0., 0., 0., 0., 0.],\n",
      "       [0., 0., 0., 0., 0., 0., 0., 0., 0., 0., 0., 0., 1., 0., 0., 0.,\n",
      "        0., 0., 0., 0., 0.],\n",
      "       [0., 0., 0., 0., 0., 0., 0., 0., 0., 0., 0., 0., 0., 1., 0., 0.,\n",
      "        0., 0., 0., 0., 0.],\n",
      "       [0., 0., 0., 0., 0., 0., 0., 0., 0., 0., 0., 0., 0., 0., 1., 0.,\n",
      "        0., 0., 0., 0., 0.],\n",
      "       [0., 0., 0., 0., 0., 0., 0., 0., 0., 0., 0., 0., 0., 0., 0., 1.,\n",
      "        0., 0., 0., 0., 0.],\n",
      "       [0., 0., 0., 0., 0., 0., 0., 0., 0., 0., 0., 0., 0., 0., 0., 0.,\n",
      "        1., 0., 0., 0., 0.],\n",
      "       [0., 0., 0., 0., 0., 0., 0., 0., 0., 0., 0., 0., 0., 0., 0., 0.,\n",
      "        0., 1., 0., 0., 0.],\n",
      "       [0., 0., 0., 0., 0., 0., 0., 0., 0., 0., 0., 0., 0., 0., 0., 0.,\n",
      "        0., 0., 1., 0., 0.],\n",
      "       [0., 0., 0., 0., 0., 0., 0., 0., 0., 0., 0., 0., 0., 0., 0., 0.,\n",
      "        0., 0., 0., 1., 0.]])]), 11: ({'ssr_ftest': (0.4235853109720317, 0.9416301974274544, 84.0, 11), 'ssr_chi2test': (5.93523703588192, 0.8776502626931066, 11), 'lrtest': (5.776469512239828, 0.887854637543499, 11), 'params_ftest': (0.4235853109720315, 0.9416301974274549, 84.0, 11.0)}, [<statsmodels.regression.linear_model.RegressionResultsWrapper object at 0x7eff29bfc5e0>, <statsmodels.regression.linear_model.RegressionResultsWrapper object at 0x7eff29bfc130>, array([[0., 0., 0., 0., 0., 0., 0., 0., 0., 0., 0., 1., 0., 0., 0., 0.,\n",
      "        0., 0., 0., 0., 0., 0., 0.],\n",
      "       [0., 0., 0., 0., 0., 0., 0., 0., 0., 0., 0., 0., 1., 0., 0., 0.,\n",
      "        0., 0., 0., 0., 0., 0., 0.],\n",
      "       [0., 0., 0., 0., 0., 0., 0., 0., 0., 0., 0., 0., 0., 1., 0., 0.,\n",
      "        0., 0., 0., 0., 0., 0., 0.],\n",
      "       [0., 0., 0., 0., 0., 0., 0., 0., 0., 0., 0., 0., 0., 0., 1., 0.,\n",
      "        0., 0., 0., 0., 0., 0., 0.],\n",
      "       [0., 0., 0., 0., 0., 0., 0., 0., 0., 0., 0., 0., 0., 0., 0., 1.,\n",
      "        0., 0., 0., 0., 0., 0., 0.],\n",
      "       [0., 0., 0., 0., 0., 0., 0., 0., 0., 0., 0., 0., 0., 0., 0., 0.,\n",
      "        1., 0., 0., 0., 0., 0., 0.],\n",
      "       [0., 0., 0., 0., 0., 0., 0., 0., 0., 0., 0., 0., 0., 0., 0., 0.,\n",
      "        0., 1., 0., 0., 0., 0., 0.],\n",
      "       [0., 0., 0., 0., 0., 0., 0., 0., 0., 0., 0., 0., 0., 0., 0., 0.,\n",
      "        0., 0., 1., 0., 0., 0., 0.],\n",
      "       [0., 0., 0., 0., 0., 0., 0., 0., 0., 0., 0., 0., 0., 0., 0., 0.,\n",
      "        0., 0., 0., 1., 0., 0., 0.],\n",
      "       [0., 0., 0., 0., 0., 0., 0., 0., 0., 0., 0., 0., 0., 0., 0., 0.,\n",
      "        0., 0., 0., 0., 1., 0., 0.],\n",
      "       [0., 0., 0., 0., 0., 0., 0., 0., 0., 0., 0., 0., 0., 0., 0., 0.,\n",
      "        0., 0., 0., 0., 0., 1., 0.]])]), 12: ({'ssr_ftest': (0.5100932482967628, 0.9025240622916335, 81.0, 12), 'ssr_chi2test': (8.010353232512127, 0.7843207931790985, 12), 'lrtest': (7.722117806705967, 0.806451521704923, 12), 'params_ftest': (0.5100932482967617, 0.9025240622916341, 81.0, 12.0)}, [<statsmodels.regression.linear_model.RegressionResultsWrapper object at 0x7eff29bfc8b0>, <statsmodels.regression.linear_model.RegressionResultsWrapper object at 0x7eff29bfc820>, array([[0., 0., 0., 0., 0., 0., 0., 0., 0., 0., 0., 0., 1., 0., 0., 0.,\n",
      "        0., 0., 0., 0., 0., 0., 0., 0., 0.],\n",
      "       [0., 0., 0., 0., 0., 0., 0., 0., 0., 0., 0., 0., 0., 1., 0., 0.,\n",
      "        0., 0., 0., 0., 0., 0., 0., 0., 0.],\n",
      "       [0., 0., 0., 0., 0., 0., 0., 0., 0., 0., 0., 0., 0., 0., 1., 0.,\n",
      "        0., 0., 0., 0., 0., 0., 0., 0., 0.],\n",
      "       [0., 0., 0., 0., 0., 0., 0., 0., 0., 0., 0., 0., 0., 0., 0., 1.,\n",
      "        0., 0., 0., 0., 0., 0., 0., 0., 0.],\n",
      "       [0., 0., 0., 0., 0., 0., 0., 0., 0., 0., 0., 0., 0., 0., 0., 0.,\n",
      "        1., 0., 0., 0., 0., 0., 0., 0., 0.],\n",
      "       [0., 0., 0., 0., 0., 0., 0., 0., 0., 0., 0., 0., 0., 0., 0., 0.,\n",
      "        0., 1., 0., 0., 0., 0., 0., 0., 0.],\n",
      "       [0., 0., 0., 0., 0., 0., 0., 0., 0., 0., 0., 0., 0., 0., 0., 0.,\n",
      "        0., 0., 1., 0., 0., 0., 0., 0., 0.],\n",
      "       [0., 0., 0., 0., 0., 0., 0., 0., 0., 0., 0., 0., 0., 0., 0., 0.,\n",
      "        0., 0., 0., 1., 0., 0., 0., 0., 0.],\n",
      "       [0., 0., 0., 0., 0., 0., 0., 0., 0., 0., 0., 0., 0., 0., 0., 0.,\n",
      "        0., 0., 0., 0., 1., 0., 0., 0., 0.],\n",
      "       [0., 0., 0., 0., 0., 0., 0., 0., 0., 0., 0., 0., 0., 0., 0., 0.,\n",
      "        0., 0., 0., 0., 0., 1., 0., 0., 0.],\n",
      "       [0., 0., 0., 0., 0., 0., 0., 0., 0., 0., 0., 0., 0., 0., 0., 0.,\n",
      "        0., 0., 0., 0., 0., 0., 1., 0., 0.],\n",
      "       [0., 0., 0., 0., 0., 0., 0., 0., 0., 0., 0., 0., 0., 0., 0., 0.,\n",
      "        0., 0., 0., 0., 0., 0., 0., 1., 0.]])]), 13: ({'ssr_ftest': (0.5128150542567467, 0.9102967422320462, 78.0, 13), 'ssr_chi2test': (8.974263449493066, 0.7748845161489998, 13), 'lrtest': (8.611292921127813, 0.8016263409835026, 13), 'params_ftest': (0.512815054256746, 0.9102967422320472, 78.0, 13.0)}, [<statsmodels.regression.linear_model.RegressionResultsWrapper object at 0x7eff29bfcaf0>, <statsmodels.regression.linear_model.RegressionResultsWrapper object at 0x7eff29bfca60>, array([[0., 0., 0., 0., 0., 0., 0., 0., 0., 0., 0., 0., 0., 1., 0., 0.,\n",
      "        0., 0., 0., 0., 0., 0., 0., 0., 0., 0., 0.],\n",
      "       [0., 0., 0., 0., 0., 0., 0., 0., 0., 0., 0., 0., 0., 0., 1., 0.,\n",
      "        0., 0., 0., 0., 0., 0., 0., 0., 0., 0., 0.],\n",
      "       [0., 0., 0., 0., 0., 0., 0., 0., 0., 0., 0., 0., 0., 0., 0., 1.,\n",
      "        0., 0., 0., 0., 0., 0., 0., 0., 0., 0., 0.],\n",
      "       [0., 0., 0., 0., 0., 0., 0., 0., 0., 0., 0., 0., 0., 0., 0., 0.,\n",
      "        1., 0., 0., 0., 0., 0., 0., 0., 0., 0., 0.],\n",
      "       [0., 0., 0., 0., 0., 0., 0., 0., 0., 0., 0., 0., 0., 0., 0., 0.,\n",
      "        0., 1., 0., 0., 0., 0., 0., 0., 0., 0., 0.],\n",
      "       [0., 0., 0., 0., 0., 0., 0., 0., 0., 0., 0., 0., 0., 0., 0., 0.,\n",
      "        0., 0., 1., 0., 0., 0., 0., 0., 0., 0., 0.],\n",
      "       [0., 0., 0., 0., 0., 0., 0., 0., 0., 0., 0., 0., 0., 0., 0., 0.,\n",
      "        0., 0., 0., 1., 0., 0., 0., 0., 0., 0., 0.],\n",
      "       [0., 0., 0., 0., 0., 0., 0., 0., 0., 0., 0., 0., 0., 0., 0., 0.,\n",
      "        0., 0., 0., 0., 1., 0., 0., 0., 0., 0., 0.],\n",
      "       [0., 0., 0., 0., 0., 0., 0., 0., 0., 0., 0., 0., 0., 0., 0., 0.,\n",
      "        0., 0., 0., 0., 0., 1., 0., 0., 0., 0., 0.],\n",
      "       [0., 0., 0., 0., 0., 0., 0., 0., 0., 0., 0., 0., 0., 0., 0., 0.,\n",
      "        0., 0., 0., 0., 0., 0., 1., 0., 0., 0., 0.],\n",
      "       [0., 0., 0., 0., 0., 0., 0., 0., 0., 0., 0., 0., 0., 0., 0., 0.,\n",
      "        0., 0., 0., 0., 0., 0., 0., 1., 0., 0., 0.],\n",
      "       [0., 0., 0., 0., 0., 0., 0., 0., 0., 0., 0., 0., 0., 0., 0., 0.,\n",
      "        0., 0., 0., 0., 0., 0., 0., 0., 1., 0., 0.],\n",
      "       [0., 0., 0., 0., 0., 0., 0., 0., 0., 0., 0., 0., 0., 0., 0., 0.,\n",
      "        0., 0., 0., 0., 0., 0., 0., 0., 0., 1., 0.]])]), 14: ({'ssr_ftest': (0.9935765420231575, 0.46851097217250304, 75.0, 14), 'ssr_chi2test': (19.28863260247623, 0.1542109717668245, 14), 'lrtest': (17.69428063247841, 0.22106150895644006, 14), 'params_ftest': (0.9935765420231556, 0.46851097217250404, 75.0, 14.0)}, [<statsmodels.regression.linear_model.RegressionResultsWrapper object at 0x7eff29bfcdc0>, <statsmodels.regression.linear_model.RegressionResultsWrapper object at 0x7eff29bfc640>, array([[0., 0., 0., 0., 0., 0., 0., 0., 0., 0., 0., 0., 0., 0., 1., 0.,\n",
      "        0., 0., 0., 0., 0., 0., 0., 0., 0., 0., 0., 0., 0.],\n",
      "       [0., 0., 0., 0., 0., 0., 0., 0., 0., 0., 0., 0., 0., 0., 0., 1.,\n",
      "        0., 0., 0., 0., 0., 0., 0., 0., 0., 0., 0., 0., 0.],\n",
      "       [0., 0., 0., 0., 0., 0., 0., 0., 0., 0., 0., 0., 0., 0., 0., 0.,\n",
      "        1., 0., 0., 0., 0., 0., 0., 0., 0., 0., 0., 0., 0.],\n",
      "       [0., 0., 0., 0., 0., 0., 0., 0., 0., 0., 0., 0., 0., 0., 0., 0.,\n",
      "        0., 1., 0., 0., 0., 0., 0., 0., 0., 0., 0., 0., 0.],\n",
      "       [0., 0., 0., 0., 0., 0., 0., 0., 0., 0., 0., 0., 0., 0., 0., 0.,\n",
      "        0., 0., 1., 0., 0., 0., 0., 0., 0., 0., 0., 0., 0.],\n",
      "       [0., 0., 0., 0., 0., 0., 0., 0., 0., 0., 0., 0., 0., 0., 0., 0.,\n",
      "        0., 0., 0., 1., 0., 0., 0., 0., 0., 0., 0., 0., 0.],\n",
      "       [0., 0., 0., 0., 0., 0., 0., 0., 0., 0., 0., 0., 0., 0., 0., 0.,\n",
      "        0., 0., 0., 0., 1., 0., 0., 0., 0., 0., 0., 0., 0.],\n",
      "       [0., 0., 0., 0., 0., 0., 0., 0., 0., 0., 0., 0., 0., 0., 0., 0.,\n",
      "        0., 0., 0., 0., 0., 1., 0., 0., 0., 0., 0., 0., 0.],\n",
      "       [0., 0., 0., 0., 0., 0., 0., 0., 0., 0., 0., 0., 0., 0., 0., 0.,\n",
      "        0., 0., 0., 0., 0., 0., 1., 0., 0., 0., 0., 0., 0.],\n",
      "       [0., 0., 0., 0., 0., 0., 0., 0., 0., 0., 0., 0., 0., 0., 0., 0.,\n",
      "        0., 0., 0., 0., 0., 0., 0., 1., 0., 0., 0., 0., 0.],\n",
      "       [0., 0., 0., 0., 0., 0., 0., 0., 0., 0., 0., 0., 0., 0., 0., 0.,\n",
      "        0., 0., 0., 0., 0., 0., 0., 0., 1., 0., 0., 0., 0.],\n",
      "       [0., 0., 0., 0., 0., 0., 0., 0., 0., 0., 0., 0., 0., 0., 0., 0.,\n",
      "        0., 0., 0., 0., 0., 0., 0., 0., 0., 1., 0., 0., 0.],\n",
      "       [0., 0., 0., 0., 0., 0., 0., 0., 0., 0., 0., 0., 0., 0., 0., 0.,\n",
      "        0., 0., 0., 0., 0., 0., 0., 0., 0., 0., 1., 0., 0.],\n",
      "       [0., 0., 0., 0., 0., 0., 0., 0., 0., 0., 0., 0., 0., 0., 0., 0.,\n",
      "        0., 0., 0., 0., 0., 0., 0., 0., 0., 0., 0., 1., 0.]])]), 15: ({'ssr_ftest': (0.9083202568486075, 0.5585037184730716, 72.0, 15), 'ssr_chi2test': (19.49103884487637, 0.1923381322138461, 15), 'lrtest': (17.850815339644328, 0.2705898768415401, 15), 'params_ftest': (0.9083202568486052, 0.5585037184730748, 72.0, 15.0)}, [<statsmodels.regression.linear_model.RegressionResultsWrapper object at 0x7eff29bfcb20>, <statsmodels.regression.linear_model.RegressionResultsWrapper object at 0x7eff29bfcbb0>, array([[0., 0., 0., 0., 0., 0., 0., 0., 0., 0., 0., 0., 0., 0., 0., 1.,\n",
      "        0., 0., 0., 0., 0., 0., 0., 0., 0., 0., 0., 0., 0., 0., 0.],\n",
      "       [0., 0., 0., 0., 0., 0., 0., 0., 0., 0., 0., 0., 0., 0., 0., 0.,\n",
      "        1., 0., 0., 0., 0., 0., 0., 0., 0., 0., 0., 0., 0., 0., 0.],\n",
      "       [0., 0., 0., 0., 0., 0., 0., 0., 0., 0., 0., 0., 0., 0., 0., 0.,\n",
      "        0., 1., 0., 0., 0., 0., 0., 0., 0., 0., 0., 0., 0., 0., 0.],\n",
      "       [0., 0., 0., 0., 0., 0., 0., 0., 0., 0., 0., 0., 0., 0., 0., 0.,\n",
      "        0., 0., 1., 0., 0., 0., 0., 0., 0., 0., 0., 0., 0., 0., 0.],\n",
      "       [0., 0., 0., 0., 0., 0., 0., 0., 0., 0., 0., 0., 0., 0., 0., 0.,\n",
      "        0., 0., 0., 1., 0., 0., 0., 0., 0., 0., 0., 0., 0., 0., 0.],\n",
      "       [0., 0., 0., 0., 0., 0., 0., 0., 0., 0., 0., 0., 0., 0., 0., 0.,\n",
      "        0., 0., 0., 0., 1., 0., 0., 0., 0., 0., 0., 0., 0., 0., 0.],\n",
      "       [0., 0., 0., 0., 0., 0., 0., 0., 0., 0., 0., 0., 0., 0., 0., 0.,\n",
      "        0., 0., 0., 0., 0., 1., 0., 0., 0., 0., 0., 0., 0., 0., 0.],\n",
      "       [0., 0., 0., 0., 0., 0., 0., 0., 0., 0., 0., 0., 0., 0., 0., 0.,\n",
      "        0., 0., 0., 0., 0., 0., 1., 0., 0., 0., 0., 0., 0., 0., 0.],\n",
      "       [0., 0., 0., 0., 0., 0., 0., 0., 0., 0., 0., 0., 0., 0., 0., 0.,\n",
      "        0., 0., 0., 0., 0., 0., 0., 1., 0., 0., 0., 0., 0., 0., 0.],\n",
      "       [0., 0., 0., 0., 0., 0., 0., 0., 0., 0., 0., 0., 0., 0., 0., 0.,\n",
      "        0., 0., 0., 0., 0., 0., 0., 0., 1., 0., 0., 0., 0., 0., 0.],\n",
      "       [0., 0., 0., 0., 0., 0., 0., 0., 0., 0., 0., 0., 0., 0., 0., 0.,\n",
      "        0., 0., 0., 0., 0., 0., 0., 0., 0., 1., 0., 0., 0., 0., 0.],\n",
      "       [0., 0., 0., 0., 0., 0., 0., 0., 0., 0., 0., 0., 0., 0., 0., 0.,\n",
      "        0., 0., 0., 0., 0., 0., 0., 0., 0., 0., 1., 0., 0., 0., 0.],\n",
      "       [0., 0., 0., 0., 0., 0., 0., 0., 0., 0., 0., 0., 0., 0., 0., 0.,\n",
      "        0., 0., 0., 0., 0., 0., 0., 0., 0., 0., 0., 1., 0., 0., 0.],\n",
      "       [0., 0., 0., 0., 0., 0., 0., 0., 0., 0., 0., 0., 0., 0., 0., 0.,\n",
      "        0., 0., 0., 0., 0., 0., 0., 0., 0., 0., 0., 0., 1., 0., 0.],\n",
      "       [0., 0., 0., 0., 0., 0., 0., 0., 0., 0., 0., 0., 0., 0., 0., 0.,\n",
      "        0., 0., 0., 0., 0., 0., 0., 0., 0., 0., 0., 0., 0., 1., 0.]])]), 16: ({'ssr_ftest': (0.8174740376538131, 0.6617099517464411, 69.0, 16), 'ssr_chi2test': (19.33503810798584, 0.2516725567858306, 16), 'lrtest': (17.705447224472152, 0.3414251960911874, 16), 'params_ftest': (0.8174740376538145, 0.6617099517464395, 69.0, 16.0)}, [<statsmodels.regression.linear_model.RegressionResultsWrapper object at 0x7eff29bfce50>, <statsmodels.regression.linear_model.RegressionResultsWrapper object at 0x7eff29b893a0>, array([[0., 0., 0., 0., 0., 0., 0., 0., 0., 0., 0., 0., 0., 0., 0., 0.,\n",
      "        1., 0., 0., 0., 0., 0., 0., 0., 0., 0., 0., 0., 0., 0., 0., 0.,\n",
      "        0.],\n",
      "       [0., 0., 0., 0., 0., 0., 0., 0., 0., 0., 0., 0., 0., 0., 0., 0.,\n",
      "        0., 1., 0., 0., 0., 0., 0., 0., 0., 0., 0., 0., 0., 0., 0., 0.,\n",
      "        0.],\n",
      "       [0., 0., 0., 0., 0., 0., 0., 0., 0., 0., 0., 0., 0., 0., 0., 0.,\n",
      "        0., 0., 1., 0., 0., 0., 0., 0., 0., 0., 0., 0., 0., 0., 0., 0.,\n",
      "        0.],\n",
      "       [0., 0., 0., 0., 0., 0., 0., 0., 0., 0., 0., 0., 0., 0., 0., 0.,\n",
      "        0., 0., 0., 1., 0., 0., 0., 0., 0., 0., 0., 0., 0., 0., 0., 0.,\n",
      "        0.],\n",
      "       [0., 0., 0., 0., 0., 0., 0., 0., 0., 0., 0., 0., 0., 0., 0., 0.,\n",
      "        0., 0., 0., 0., 1., 0., 0., 0., 0., 0., 0., 0., 0., 0., 0., 0.,\n",
      "        0.],\n",
      "       [0., 0., 0., 0., 0., 0., 0., 0., 0., 0., 0., 0., 0., 0., 0., 0.,\n",
      "        0., 0., 0., 0., 0., 1., 0., 0., 0., 0., 0., 0., 0., 0., 0., 0.,\n",
      "        0.],\n",
      "       [0., 0., 0., 0., 0., 0., 0., 0., 0., 0., 0., 0., 0., 0., 0., 0.,\n",
      "        0., 0., 0., 0., 0., 0., 1., 0., 0., 0., 0., 0., 0., 0., 0., 0.,\n",
      "        0.],\n",
      "       [0., 0., 0., 0., 0., 0., 0., 0., 0., 0., 0., 0., 0., 0., 0., 0.,\n",
      "        0., 0., 0., 0., 0., 0., 0., 1., 0., 0., 0., 0., 0., 0., 0., 0.,\n",
      "        0.],\n",
      "       [0., 0., 0., 0., 0., 0., 0., 0., 0., 0., 0., 0., 0., 0., 0., 0.,\n",
      "        0., 0., 0., 0., 0., 0., 0., 0., 1., 0., 0., 0., 0., 0., 0., 0.,\n",
      "        0.],\n",
      "       [0., 0., 0., 0., 0., 0., 0., 0., 0., 0., 0., 0., 0., 0., 0., 0.,\n",
      "        0., 0., 0., 0., 0., 0., 0., 0., 0., 1., 0., 0., 0., 0., 0., 0.,\n",
      "        0.],\n",
      "       [0., 0., 0., 0., 0., 0., 0., 0., 0., 0., 0., 0., 0., 0., 0., 0.,\n",
      "        0., 0., 0., 0., 0., 0., 0., 0., 0., 0., 1., 0., 0., 0., 0., 0.,\n",
      "        0.],\n",
      "       [0., 0., 0., 0., 0., 0., 0., 0., 0., 0., 0., 0., 0., 0., 0., 0.,\n",
      "        0., 0., 0., 0., 0., 0., 0., 0., 0., 0., 0., 1., 0., 0., 0., 0.,\n",
      "        0.],\n",
      "       [0., 0., 0., 0., 0., 0., 0., 0., 0., 0., 0., 0., 0., 0., 0., 0.,\n",
      "        0., 0., 0., 0., 0., 0., 0., 0., 0., 0., 0., 0., 1., 0., 0., 0.,\n",
      "        0.],\n",
      "       [0., 0., 0., 0., 0., 0., 0., 0., 0., 0., 0., 0., 0., 0., 0., 0.,\n",
      "        0., 0., 0., 0., 0., 0., 0., 0., 0., 0., 0., 0., 0., 1., 0., 0.,\n",
      "        0.],\n",
      "       [0., 0., 0., 0., 0., 0., 0., 0., 0., 0., 0., 0., 0., 0., 0., 0.,\n",
      "        0., 0., 0., 0., 0., 0., 0., 0., 0., 0., 0., 0., 0., 0., 1., 0.,\n",
      "        0.],\n",
      "       [0., 0., 0., 0., 0., 0., 0., 0., 0., 0., 0., 0., 0., 0., 0., 0.,\n",
      "        0., 0., 0., 0., 0., 0., 0., 0., 0., 0., 0., 0., 0., 0., 0., 1.,\n",
      "        0.]])]), 17: ({'ssr_ftest': (0.7476002409347742, 0.7431310987096943, 66.0, 17), 'ssr_chi2test': (19.448933540681928, 0.3033802891339129, 17), 'lrtest': (17.786641180400295, 0.4024191512020733, 17), 'params_ftest': (0.7476002409347727, 0.7431310987096962, 66.0, 17.0)}, [<statsmodels.regression.linear_model.RegressionResultsWrapper object at 0x7eff29b89640>, <statsmodels.regression.linear_model.RegressionResultsWrapper object at 0x7eff29b89340>, array([[0., 0., 0., 0., 0., 0., 0., 0., 0., 0., 0., 0., 0., 0., 0., 0.,\n",
      "        0., 1., 0., 0., 0., 0., 0., 0., 0., 0., 0., 0., 0., 0., 0., 0.,\n",
      "        0., 0., 0.],\n",
      "       [0., 0., 0., 0., 0., 0., 0., 0., 0., 0., 0., 0., 0., 0., 0., 0.,\n",
      "        0., 0., 1., 0., 0., 0., 0., 0., 0., 0., 0., 0., 0., 0., 0., 0.,\n",
      "        0., 0., 0.],\n",
      "       [0., 0., 0., 0., 0., 0., 0., 0., 0., 0., 0., 0., 0., 0., 0., 0.,\n",
      "        0., 0., 0., 1., 0., 0., 0., 0., 0., 0., 0., 0., 0., 0., 0., 0.,\n",
      "        0., 0., 0.],\n",
      "       [0., 0., 0., 0., 0., 0., 0., 0., 0., 0., 0., 0., 0., 0., 0., 0.,\n",
      "        0., 0., 0., 0., 1., 0., 0., 0., 0., 0., 0., 0., 0., 0., 0., 0.,\n",
      "        0., 0., 0.],\n",
      "       [0., 0., 0., 0., 0., 0., 0., 0., 0., 0., 0., 0., 0., 0., 0., 0.,\n",
      "        0., 0., 0., 0., 0., 1., 0., 0., 0., 0., 0., 0., 0., 0., 0., 0.,\n",
      "        0., 0., 0.],\n",
      "       [0., 0., 0., 0., 0., 0., 0., 0., 0., 0., 0., 0., 0., 0., 0., 0.,\n",
      "        0., 0., 0., 0., 0., 0., 1., 0., 0., 0., 0., 0., 0., 0., 0., 0.,\n",
      "        0., 0., 0.],\n",
      "       [0., 0., 0., 0., 0., 0., 0., 0., 0., 0., 0., 0., 0., 0., 0., 0.,\n",
      "        0., 0., 0., 0., 0., 0., 0., 1., 0., 0., 0., 0., 0., 0., 0., 0.,\n",
      "        0., 0., 0.],\n",
      "       [0., 0., 0., 0., 0., 0., 0., 0., 0., 0., 0., 0., 0., 0., 0., 0.,\n",
      "        0., 0., 0., 0., 0., 0., 0., 0., 1., 0., 0., 0., 0., 0., 0., 0.,\n",
      "        0., 0., 0.],\n",
      "       [0., 0., 0., 0., 0., 0., 0., 0., 0., 0., 0., 0., 0., 0., 0., 0.,\n",
      "        0., 0., 0., 0., 0., 0., 0., 0., 0., 1., 0., 0., 0., 0., 0., 0.,\n",
      "        0., 0., 0.],\n",
      "       [0., 0., 0., 0., 0., 0., 0., 0., 0., 0., 0., 0., 0., 0., 0., 0.,\n",
      "        0., 0., 0., 0., 0., 0., 0., 0., 0., 0., 1., 0., 0., 0., 0., 0.,\n",
      "        0., 0., 0.],\n",
      "       [0., 0., 0., 0., 0., 0., 0., 0., 0., 0., 0., 0., 0., 0., 0., 0.,\n",
      "        0., 0., 0., 0., 0., 0., 0., 0., 0., 0., 0., 1., 0., 0., 0., 0.,\n",
      "        0., 0., 0.],\n",
      "       [0., 0., 0., 0., 0., 0., 0., 0., 0., 0., 0., 0., 0., 0., 0., 0.,\n",
      "        0., 0., 0., 0., 0., 0., 0., 0., 0., 0., 0., 0., 1., 0., 0., 0.,\n",
      "        0., 0., 0.],\n",
      "       [0., 0., 0., 0., 0., 0., 0., 0., 0., 0., 0., 0., 0., 0., 0., 0.,\n",
      "        0., 0., 0., 0., 0., 0., 0., 0., 0., 0., 0., 0., 0., 1., 0., 0.,\n",
      "        0., 0., 0.],\n",
      "       [0., 0., 0., 0., 0., 0., 0., 0., 0., 0., 0., 0., 0., 0., 0., 0.,\n",
      "        0., 0., 0., 0., 0., 0., 0., 0., 0., 0., 0., 0., 0., 0., 1., 0.,\n",
      "        0., 0., 0.],\n",
      "       [0., 0., 0., 0., 0., 0., 0., 0., 0., 0., 0., 0., 0., 0., 0., 0.,\n",
      "        0., 0., 0., 0., 0., 0., 0., 0., 0., 0., 0., 0., 0., 0., 0., 1.,\n",
      "        0., 0., 0.],\n",
      "       [0., 0., 0., 0., 0., 0., 0., 0., 0., 0., 0., 0., 0., 0., 0., 0.,\n",
      "        0., 0., 0., 0., 0., 0., 0., 0., 0., 0., 0., 0., 0., 0., 0., 0.,\n",
      "        1., 0., 0.],\n",
      "       [0., 0., 0., 0., 0., 0., 0., 0., 0., 0., 0., 0., 0., 0., 0., 0.,\n",
      "        0., 0., 0., 0., 0., 0., 0., 0., 0., 0., 0., 0., 0., 0., 0., 0.,\n",
      "        0., 1., 0.]])]), 18: ({'ssr_ftest': (0.9638065231442713, 0.5104422906149948, 63.0, 18), 'ssr_chi2test': (27.537329232693462, 0.06945408216685381, 18), 'lrtest': (24.3238914054823, 0.1447003469596321, 18), 'params_ftest': (0.9638065231442702, 0.5104422906149952, 63.0, 18.0)}, [<statsmodels.regression.linear_model.RegressionResultsWrapper object at 0x7eff29b898e0>, <statsmodels.regression.linear_model.RegressionResultsWrapper object at 0x7eff29b89400>, array([[0., 0., 0., 0., 0., 0., 0., 0., 0., 0., 0., 0., 0., 0., 0., 0.,\n",
      "        0., 0., 1., 0., 0., 0., 0., 0., 0., 0., 0., 0., 0., 0., 0., 0.,\n",
      "        0., 0., 0., 0., 0.],\n",
      "       [0., 0., 0., 0., 0., 0., 0., 0., 0., 0., 0., 0., 0., 0., 0., 0.,\n",
      "        0., 0., 0., 1., 0., 0., 0., 0., 0., 0., 0., 0., 0., 0., 0., 0.,\n",
      "        0., 0., 0., 0., 0.],\n",
      "       [0., 0., 0., 0., 0., 0., 0., 0., 0., 0., 0., 0., 0., 0., 0., 0.,\n",
      "        0., 0., 0., 0., 1., 0., 0., 0., 0., 0., 0., 0., 0., 0., 0., 0.,\n",
      "        0., 0., 0., 0., 0.],\n",
      "       [0., 0., 0., 0., 0., 0., 0., 0., 0., 0., 0., 0., 0., 0., 0., 0.,\n",
      "        0., 0., 0., 0., 0., 1., 0., 0., 0., 0., 0., 0., 0., 0., 0., 0.,\n",
      "        0., 0., 0., 0., 0.],\n",
      "       [0., 0., 0., 0., 0., 0., 0., 0., 0., 0., 0., 0., 0., 0., 0., 0.,\n",
      "        0., 0., 0., 0., 0., 0., 1., 0., 0., 0., 0., 0., 0., 0., 0., 0.,\n",
      "        0., 0., 0., 0., 0.],\n",
      "       [0., 0., 0., 0., 0., 0., 0., 0., 0., 0., 0., 0., 0., 0., 0., 0.,\n",
      "        0., 0., 0., 0., 0., 0., 0., 1., 0., 0., 0., 0., 0., 0., 0., 0.,\n",
      "        0., 0., 0., 0., 0.],\n",
      "       [0., 0., 0., 0., 0., 0., 0., 0., 0., 0., 0., 0., 0., 0., 0., 0.,\n",
      "        0., 0., 0., 0., 0., 0., 0., 0., 1., 0., 0., 0., 0., 0., 0., 0.,\n",
      "        0., 0., 0., 0., 0.],\n",
      "       [0., 0., 0., 0., 0., 0., 0., 0., 0., 0., 0., 0., 0., 0., 0., 0.,\n",
      "        0., 0., 0., 0., 0., 0., 0., 0., 0., 1., 0., 0., 0., 0., 0., 0.,\n",
      "        0., 0., 0., 0., 0.],\n",
      "       [0., 0., 0., 0., 0., 0., 0., 0., 0., 0., 0., 0., 0., 0., 0., 0.,\n",
      "        0., 0., 0., 0., 0., 0., 0., 0., 0., 0., 1., 0., 0., 0., 0., 0.,\n",
      "        0., 0., 0., 0., 0.],\n",
      "       [0., 0., 0., 0., 0., 0., 0., 0., 0., 0., 0., 0., 0., 0., 0., 0.,\n",
      "        0., 0., 0., 0., 0., 0., 0., 0., 0., 0., 0., 1., 0., 0., 0., 0.,\n",
      "        0., 0., 0., 0., 0.],\n",
      "       [0., 0., 0., 0., 0., 0., 0., 0., 0., 0., 0., 0., 0., 0., 0., 0.,\n",
      "        0., 0., 0., 0., 0., 0., 0., 0., 0., 0., 0., 0., 1., 0., 0., 0.,\n",
      "        0., 0., 0., 0., 0.],\n",
      "       [0., 0., 0., 0., 0., 0., 0., 0., 0., 0., 0., 0., 0., 0., 0., 0.,\n",
      "        0., 0., 0., 0., 0., 0., 0., 0., 0., 0., 0., 0., 0., 1., 0., 0.,\n",
      "        0., 0., 0., 0., 0.],\n",
      "       [0., 0., 0., 0., 0., 0., 0., 0., 0., 0., 0., 0., 0., 0., 0., 0.,\n",
      "        0., 0., 0., 0., 0., 0., 0., 0., 0., 0., 0., 0., 0., 0., 1., 0.,\n",
      "        0., 0., 0., 0., 0.],\n",
      "       [0., 0., 0., 0., 0., 0., 0., 0., 0., 0., 0., 0., 0., 0., 0., 0.,\n",
      "        0., 0., 0., 0., 0., 0., 0., 0., 0., 0., 0., 0., 0., 0., 0., 1.,\n",
      "        0., 0., 0., 0., 0.],\n",
      "       [0., 0., 0., 0., 0., 0., 0., 0., 0., 0., 0., 0., 0., 0., 0., 0.,\n",
      "        0., 0., 0., 0., 0., 0., 0., 0., 0., 0., 0., 0., 0., 0., 0., 0.,\n",
      "        1., 0., 0., 0., 0.],\n",
      "       [0., 0., 0., 0., 0., 0., 0., 0., 0., 0., 0., 0., 0., 0., 0., 0.,\n",
      "        0., 0., 0., 0., 0., 0., 0., 0., 0., 0., 0., 0., 0., 0., 0., 0.,\n",
      "        0., 1., 0., 0., 0.],\n",
      "       [0., 0., 0., 0., 0., 0., 0., 0., 0., 0., 0., 0., 0., 0., 0., 0.,\n",
      "        0., 0., 0., 0., 0., 0., 0., 0., 0., 0., 0., 0., 0., 0., 0., 0.,\n",
      "        0., 0., 1., 0., 0.],\n",
      "       [0., 0., 0., 0., 0., 0., 0., 0., 0., 0., 0., 0., 0., 0., 0., 0.,\n",
      "        0., 0., 0., 0., 0., 0., 0., 0., 0., 0., 0., 0., 0., 0., 0., 0.,\n",
      "        0., 0., 0., 1., 0.]])])}\n"
     ]
    }
   ],
   "source": [
    "from statsmodels.tsa.stattools import grangercausalitytests\n",
    "#perform granger Casuality Test\n",
    "gct = grangercausalitytests(df_temp_t[['Avg_Anomaly_deg_C', 'co2_per_capita']], maxlag=18, verbose=True)\n",
    "\n",
    "#observe granger casuality results\n",
    "print(gct)\n"
   ]
  },
  {
   "cell_type": "markdown",
   "id": "331fd59f",
   "metadata": {},
   "source": [
    "## Build Model"
   ]
  },
  {
   "cell_type": "markdown",
   "id": "6f1734e6",
   "metadata": {},
   "source": [
    "Before we build model we should understand if the data possess seasonal characteristics or not and choose ARIMA/SARIMA accordingly"
   ]
  },
  {
   "cell_type": "code",
   "execution_count": 51,
   "id": "d7e0241c",
   "metadata": {},
   "outputs": [
    {
     "data": {
      "image/png": "[encoded data removed]",
      "text/plain": [
       "<Figure size 432x288 with 4 Axes>"
      ]
     },
     "metadata": {
      "needs_background": "light"
     },
     "output_type": "display_data"
    }
   ],
   "source": [
    "result = seasonal_decompose(df_temp, model='additive')\n",
    "result.plot()\n",
    "pyplot.show()"
   ]
  },
  {
   "cell_type": "markdown",
   "id": "4d859e4d",
   "metadata": {},
   "source": [
    "The temperature change data is not seasonal in character, so we will build a ARIMA Model for forcasting\n"
   ]
  },
  {
   "cell_type": "markdown",
   "id": "ddab2881",
   "metadata": {},
   "source": [
    "**Re-Fit Models to Train-Test Split Data**"
   ]
  },
  {
   "cell_type": "markdown",
   "id": "149b557d",
   "metadata": {},
   "source": [
    "we triend many differenct p,d, and q parameters for an ARIMA model on our loggedm data. The below parameters yielded best results"
   ]
  },
  {
   "cell_type": "code",
   "execution_count": 52,
   "id": "ff5c7432",
   "metadata": {},
   "outputs": [],
   "source": [
    "# Train-test split\n",
    "x = df_temp.index\n",
    "y = df_temp['Avg_Anomaly_deg_C']\n",
    "\n",
    "train = df_temp.loc[:'2009-01-01']\n",
    "test = df_temp.loc['2009-01-01':]\n",
    "\n",
    "x_train, x_test = train.index, test.index\n",
    "y_train, y_test = train['Avg_Anomaly_deg_C'], test['Avg_Anomaly_deg_C']"
   ]
  },
  {
   "cell_type": "code",
   "execution_count": 53,
   "id": "2afa7ca8",
   "metadata": {
    "scrolled": false
   },
   "outputs": [
    {
     "data": {
      "text/html": [
       "<table class=\"simpletable\">\n",
       "<caption>SARIMAX Results</caption>\n",
       "<tr>\n",
       "  <th>Dep. Variable:</th>   <td>Avg_Anomaly_deg_C</td> <th>  No. Observations:  </th>   <td>106</td> \n",
       "</tr>\n",
       "<tr>\n",
       "  <th>Model:</th>            <td>ARIMA(3, 0, 5)</td>   <th>  Log Likelihood     </th>  <td>9.987</td>\n",
       "</tr>\n",
       "<tr>\n",
       "  <th>Date:</th>            <td>Thu, 21 Apr 2022</td>  <th>  AIC                </th>  <td>0.026</td>\n",
       "</tr>\n",
       "<tr>\n",
       "  <th>Time:</th>                <td>19:38:40</td>      <th>  BIC                </th> <td>26.660</td>\n",
       "</tr>\n",
       "<tr>\n",
       "  <th>Sample:</th>             <td>01-01-1904</td>     <th>  HQIC               </th> <td>10.821</td>\n",
       "</tr>\n",
       "<tr>\n",
       "  <th></th>                   <td>- 01-01-2009</td>    <th>                     </th>    <td> </td>  \n",
       "</tr>\n",
       "<tr>\n",
       "  <th>Covariance Type:</th>        <td>opg</td>        <th>                     </th>    <td> </td>  \n",
       "</tr>\n",
       "</table>\n",
       "<table class=\"simpletable\">\n",
       "<tr>\n",
       "     <td></td>       <th>coef</th>     <th>std err</th>      <th>z</th>      <th>P>|z|</th>  <th>[0.025</th>    <th>0.975]</th>  \n",
       "</tr>\n",
       "<tr>\n",
       "  <th>const</th>  <td>    0.0112</td> <td>    0.005</td> <td>    2.057</td> <td> 0.040</td> <td>    0.001</td> <td>    0.022</td>\n",
       "</tr>\n",
       "<tr>\n",
       "  <th>ar.L1</th>  <td>    0.6963</td> <td>    0.261</td> <td>    2.669</td> <td> 0.008</td> <td>    0.185</td> <td>    1.208</td>\n",
       "</tr>\n",
       "<tr>\n",
       "  <th>ar.L2</th>  <td>   -0.7837</td> <td>    0.190</td> <td>   -4.114</td> <td> 0.000</td> <td>   -1.157</td> <td>   -0.410</td>\n",
       "</tr>\n",
       "<tr>\n",
       "  <th>ar.L3</th>  <td>    0.1058</td> <td>    0.218</td> <td>    0.485</td> <td> 0.628</td> <td>   -0.322</td> <td>    0.533</td>\n",
       "</tr>\n",
       "<tr>\n",
       "  <th>ma.L1</th>  <td>   -1.4119</td> <td>    0.223</td> <td>   -6.344</td> <td> 0.000</td> <td>   -1.848</td> <td>   -0.976</td>\n",
       "</tr>\n",
       "<tr>\n",
       "  <th>ma.L2</th>  <td>    1.0214</td> <td>    0.392</td> <td>    2.605</td> <td> 0.009</td> <td>    0.253</td> <td>    1.790</td>\n",
       "</tr>\n",
       "<tr>\n",
       "  <th>ma.L3</th>  <td>   -0.2314</td> <td>    0.379</td> <td>   -0.610</td> <td> 0.542</td> <td>   -0.974</td> <td>    0.512</td>\n",
       "</tr>\n",
       "<tr>\n",
       "  <th>ma.L4</th>  <td>   -0.6377</td> <td>    0.228</td> <td>   -2.795</td> <td> 0.005</td> <td>   -1.085</td> <td>   -0.191</td>\n",
       "</tr>\n",
       "<tr>\n",
       "  <th>ma.L5</th>  <td>    0.4981</td> <td>    0.122</td> <td>    4.073</td> <td> 0.000</td> <td>    0.258</td> <td>    0.738</td>\n",
       "</tr>\n",
       "<tr>\n",
       "  <th>sigma2</th> <td>    0.0465</td> <td>    0.011</td> <td>    4.226</td> <td> 0.000</td> <td>    0.025</td> <td>    0.068</td>\n",
       "</tr>\n",
       "</table>\n",
       "<table class=\"simpletable\">\n",
       "<tr>\n",
       "  <th>Ljung-Box (L1) (Q):</th>     <td>0.01</td> <th>  Jarque-Bera (JB):  </th> <td>1.40</td>\n",
       "</tr>\n",
       "<tr>\n",
       "  <th>Prob(Q):</th>                <td>0.91</td> <th>  Prob(JB):          </th> <td>0.50</td>\n",
       "</tr>\n",
       "<tr>\n",
       "  <th>Heteroskedasticity (H):</th> <td>1.15</td> <th>  Skew:              </th> <td>0.24</td>\n",
       "</tr>\n",
       "<tr>\n",
       "  <th>Prob(H) (two-sided):</th>    <td>0.69</td> <th>  Kurtosis:          </th> <td>3.30</td>\n",
       "</tr>\n",
       "</table><br/><br/>Warnings:<br/>[1] Covariance matrix calculated using the outer product of gradients (complex-step)."
      ],
      "text/plain": [
       "<class 'statsmodels.iolib.summary.Summary'>\n",
       "\"\"\"\n",
       "                               SARIMAX Results                                \n",
       "==============================================================================\n",
       "Dep. Variable:      Avg_Anomaly_deg_C   No. Observations:                  106\n",
       "Model:                 ARIMA(3, 0, 5)   Log Likelihood                   9.987\n",
       "Date:                Thu, 21 Apr 2022   AIC                              0.026\n",
       "Time:                        19:38:40   BIC                             26.660\n",
       "Sample:                    01-01-1904   HQIC                            10.821\n",
       "                         - 01-01-2009                                         \n",
       "Covariance Type:                  opg                                         \n",
       "==============================================================================\n",
       "                 coef    std err          z      P>|z|      [0.025      0.975]\n",
       "------------------------------------------------------------------------------\n",
       "const          0.0112      0.005      2.057      0.040       0.001       0.022\n",
       "ar.L1          0.6963      0.261      2.669      0.008       0.185       1.208\n",
       "ar.L2         -0.7837      0.190     -4.114      0.000      -1.157      -0.410\n",
       "ar.L3          0.1058      0.218      0.485      0.628      -0.322       0.533\n",
       "ma.L1         -1.4119      0.223     -6.344      0.000      -1.848      -0.976\n",
       "ma.L2          1.0214      0.392      2.605      0.009       0.253       1.790\n",
       "ma.L3         -0.2314      0.379     -0.610      0.542      -0.974       0.512\n",
       "ma.L4         -0.6377      0.228     -2.795      0.005      -1.085      -0.191\n",
       "ma.L5          0.4981      0.122      4.073      0.000       0.258       0.738\n",
       "sigma2         0.0465      0.011      4.226      0.000       0.025       0.068\n",
       "===================================================================================\n",
       "Ljung-Box (L1) (Q):                   0.01   Jarque-Bera (JB):                 1.40\n",
       "Prob(Q):                              0.91   Prob(JB):                         0.50\n",
       "Heteroskedasticity (H):               1.15   Skew:                             0.24\n",
       "Prob(H) (two-sided):                  0.69   Kurtosis:                         3.30\n",
       "===================================================================================\n",
       "\n",
       "Warnings:\n",
       "[1] Covariance matrix calculated using the outer product of gradients (complex-step).\n",
       "\"\"\""
      ]
     },
     "execution_count": 53,
     "metadata": {},
     "output_type": "execute_result"
    }
   ],
   "source": [
    "#initiate Model\n",
    "model = ARIMA(y_train[2:], order=(3,0,5))\n",
    "\n",
    "#Fit Model\n",
    "model_fit = model.fit()\n",
    "\n",
    "#Observe summary statistics\n",
    "model_fit.summary()"
   ]
  },
  {
   "cell_type": "markdown",
   "id": "a2887e5d",
   "metadata": {},
   "source": [
    "**Analyse Model**"
   ]
  },
  {
   "cell_type": "code",
   "execution_count": 54,
   "id": "bb79bcd2",
   "metadata": {},
   "outputs": [
    {
     "data": {
      "image/png": "[encoded data removed]",
      "text/plain": [
       "<Figure size 720x576 with 4 Axes>"
      ]
     },
     "metadata": {
      "needs_background": "light"
     },
     "output_type": "display_data"
    }
   ],
   "source": [
    "#observe diagonstics\n",
    "model_fit.plot_diagnostics(figsize=(10,8))\n",
    "plt.show()"
   ]
  },
  {
   "cell_type": "markdown",
   "id": "a7e7f913",
   "metadata": {},
   "source": [
    "In the top right plot, thw orangered line follows closely with the N(0,1) line. Where, N(0,1) is the standard notation for a normal distribution with mean 0 and standard deviation 1. This is a good indication thath the residuals are normally distributed. The forecast errors deviate a little bit from the straight line, indicating that the normal distribution is not a perfect model for the distribution of forecast errors, but it is not unreasonable.\n",
    "\n",
    "The qq-plot on the bottom left shows that the ordered distribution of residuals (blue dots) follows the linear trend of the samples taken from a standard normal distribution. Again,this is a strong indication that the residuals are normally distributed.\n",
    "\n",
    "The residuals over time (top left plot) don't display any obvious seasonality and appear to be white noise. This is confirmed by the autocorrelation (i.e, correlation) plot on the bottom right, which shows that the time series residuals have low correlation with lagged versions of itself."
   ]
  },
  {
   "cell_type": "code",
   "execution_count": 55,
   "id": "4f2f2807",
   "metadata": {},
   "outputs": [
    {
     "data": {
      "text/plain": [
       "2009-01-01    0.318135\n",
       "2010-01-01   -0.311500\n",
       "2011-01-01   -0.249122\n",
       "2012-01-01    0.203800\n",
       "2013-01-01   -0.018417\n",
       "2014-01-01    0.006072\n",
       "2015-01-01    0.051204\n",
       "2016-01-01    0.039936\n",
       "2017-01-01   -0.000691\n",
       "2018-01-01   -0.015377\n",
       "2019-01-01    0.005045\n",
       "2020-01-01    0.026478\n",
       "Freq: AS-JAN, Name: predicted_mean, dtype: float64"
      ]
     },
     "execution_count": 55,
     "metadata": {},
     "output_type": "execute_result"
    }
   ],
   "source": [
    "#observe Predictions\n",
    "pred_ar = model_fit.predict(start='2009-01-01', end='2020-01-01', dynamic=False)\n",
    "pred_ar "
   ]
  },
  {
   "cell_type": "code",
   "execution_count": 56,
   "id": "ac6c3ca5",
   "metadata": {},
   "outputs": [
    {
     "data": {
      "text/html": [
       "<div>\n",
       "<style scoped>\n",
       "    .dataframe tbody tr th:only-of-type {\n",
       "        vertical-align: middle;\n",
       "    }\n",
       "\n",
       "    .dataframe tbody tr th {\n",
       "        vertical-align: top;\n",
       "    }\n",
       "\n",
       "    .dataframe thead th {\n",
       "        text-align: right;\n",
       "    }\n",
       "</style>\n",
       "<table border=\"1\" class=\"dataframe\">\n",
       "  <thead>\n",
       "    <tr style=\"text-align: right;\">\n",
       "      <th></th>\n",
       "      <th>lower Avg_Anomaly_deg_C</th>\n",
       "      <th>upper Avg_Anomaly_deg_C</th>\n",
       "    </tr>\n",
       "  </thead>\n",
       "  <tbody>\n",
       "    <tr>\n",
       "      <th>2011-01-01</th>\n",
       "      <td>-0.770122</td>\n",
       "      <td>0.271878</td>\n",
       "    </tr>\n",
       "    <tr>\n",
       "      <th>2012-01-01</th>\n",
       "      <td>-0.329342</td>\n",
       "      <td>0.736943</td>\n",
       "    </tr>\n",
       "    <tr>\n",
       "      <th>2013-01-01</th>\n",
       "      <td>-0.562215</td>\n",
       "      <td>0.525381</td>\n",
       "    </tr>\n",
       "    <tr>\n",
       "      <th>2014-01-01</th>\n",
       "      <td>-0.554850</td>\n",
       "      <td>0.566995</td>\n",
       "    </tr>\n",
       "    <tr>\n",
       "      <th>2015-01-01</th>\n",
       "      <td>-0.509972</td>\n",
       "      <td>0.612380</td>\n",
       "    </tr>\n",
       "    <tr>\n",
       "      <th>2016-01-01</th>\n",
       "      <td>-0.536481</td>\n",
       "      <td>0.616354</td>\n",
       "    </tr>\n",
       "    <tr>\n",
       "      <th>2017-01-01</th>\n",
       "      <td>-0.580537</td>\n",
       "      <td>0.579155</td>\n",
       "    </tr>\n",
       "    <tr>\n",
       "      <th>2018-01-01</th>\n",
       "      <td>-0.598049</td>\n",
       "      <td>0.567294</td>\n",
       "    </tr>\n",
       "    <tr>\n",
       "      <th>2019-01-01</th>\n",
       "      <td>-0.582492</td>\n",
       "      <td>0.592582</td>\n",
       "    </tr>\n",
       "    <tr>\n",
       "      <th>2020-01-01</th>\n",
       "      <td>-0.561053</td>\n",
       "      <td>0.614010</td>\n",
       "    </tr>\n",
       "  </tbody>\n",
       "</table>\n",
       "</div>"
      ],
      "text/plain": [
       "            lower Avg_Anomaly_deg_C  upper Avg_Anomaly_deg_C\n",
       "2011-01-01                -0.770122                 0.271878\n",
       "2012-01-01                -0.329342                 0.736943\n",
       "2013-01-01                -0.562215                 0.525381\n",
       "2014-01-01                -0.554850                 0.566995\n",
       "2015-01-01                -0.509972                 0.612380\n",
       "2016-01-01                -0.536481                 0.616354\n",
       "2017-01-01                -0.580537                 0.579155\n",
       "2018-01-01                -0.598049                 0.567294\n",
       "2019-01-01                -0.582492                 0.592582\n",
       "2020-01-01                -0.561053                 0.614010"
      ]
     },
     "execution_count": 56,
     "metadata": {},
     "output_type": "execute_result"
    }
   ],
   "source": [
    "#Observe Predictions\n",
    "pred_model = model_fit.get_prediction(start='1997-01-01', end='2020-01-01', dynamic=False)\n",
    "pred_ci = pred_model.conf_int()\n",
    "pred_ci.tail(10)"
   ]
  },
  {
   "cell_type": "markdown",
   "id": "ea7eeca6",
   "metadata": {},
   "source": [
    "we observe the real and forecasted values of the co2 emissions time series to assess how well the model fits."
   ]
  },
  {
   "cell_type": "code",
   "execution_count": 57,
   "id": "8686c7b1",
   "metadata": {},
   "outputs": [
    {
     "data": {
      "image/png": "[encoded data removed]",
      "text/plain": [
       "<Figure size 432x288 with 1 Axes>"
      ]
     },
     "metadata": {
      "needs_background": "light"
     },
     "output_type": "display_data"
    }
   ],
   "source": [
    "#observe real vs forecasted emissions values\n",
    "\n",
    "#plot observed values\n",
    "ax = df_temp['1970-01-01':].plot(label='observed', color='royalblue', legend=True)\n",
    "\n",
    "#plot predicted values\n",
    "pred_model.predicted_mean.plot(ax=ax, label='ARIMA', color='orangered', alpha=0.5, legend=True)\n",
    "\n",
    "#add fill between lines, set axes labels and title\n",
    "ax.fill_between(pred_ci.index,\n",
    "               pred_ci.iloc[:, 0],\n",
    "               pred_ci.iloc[:, 1],\n",
    "               color='r', alpha=0.1)\n",
    "\n",
    "ax.set_xlabel('Year', size=15)\n",
    "ax.set_ylabel('Tempearture Anamoly (°C) \\n', size=12)\n",
    "ax.set_title('Real vs Predicted Termperature Anamoly \\n', size=15)\n",
    "plt.axhline(y = 0, color = 'g', linestyle = '--', alpha=0.5)\n",
    "plt.legend()\n",
    "plt.show()"
   ]
  },
  {
   "cell_type": "markdown",
   "id": "8a06580f",
   "metadata": {},
   "source": [
    "### Forecast Temperature Anamoly\n",
    "\n",
    "Lets observe the forecast for 30 years, that is our test years"
   ]
  },
  {
   "cell_type": "code",
   "execution_count": 58,
   "id": "2ce3de2b",
   "metadata": {},
   "outputs": [
    {
     "data": {
      "text/html": [
       "<div>\n",
       "<style scoped>\n",
       "    .dataframe tbody tr th:only-of-type {\n",
       "        vertical-align: middle;\n",
       "    }\n",
       "\n",
       "    .dataframe tbody tr th {\n",
       "        vertical-align: top;\n",
       "    }\n",
       "\n",
       "    .dataframe thead th {\n",
       "        text-align: right;\n",
       "    }\n",
       "</style>\n",
       "<table border=\"1\" class=\"dataframe\">\n",
       "  <thead>\n",
       "    <tr style=\"text-align: right;\">\n",
       "      <th></th>\n",
       "      <th>lower Avg_Anomaly_deg_C</th>\n",
       "      <th>upper Avg_Anomaly_deg_C</th>\n",
       "    </tr>\n",
       "  </thead>\n",
       "  <tbody>\n",
       "    <tr>\n",
       "      <th>2016-01-01</th>\n",
       "      <td>-0.536481</td>\n",
       "      <td>0.616354</td>\n",
       "    </tr>\n",
       "    <tr>\n",
       "      <th>2017-01-01</th>\n",
       "      <td>-0.580537</td>\n",
       "      <td>0.579155</td>\n",
       "    </tr>\n",
       "    <tr>\n",
       "      <th>2018-01-01</th>\n",
       "      <td>-0.598049</td>\n",
       "      <td>0.567294</td>\n",
       "    </tr>\n",
       "    <tr>\n",
       "      <th>2019-01-01</th>\n",
       "      <td>-0.582492</td>\n",
       "      <td>0.592582</td>\n",
       "    </tr>\n",
       "    <tr>\n",
       "      <th>2020-01-01</th>\n",
       "      <td>-0.561053</td>\n",
       "      <td>0.614010</td>\n",
       "    </tr>\n",
       "  </tbody>\n",
       "</table>\n",
       "</div>"
      ],
      "text/plain": [
       "            lower Avg_Anomaly_deg_C  upper Avg_Anomaly_deg_C\n",
       "2016-01-01                -0.536481                 0.616354\n",
       "2017-01-01                -0.580537                 0.579155\n",
       "2018-01-01                -0.598049                 0.567294\n",
       "2019-01-01                -0.582492                 0.592582\n",
       "2020-01-01                -0.561053                 0.614010"
      ]
     },
     "execution_count": 58,
     "metadata": {},
     "output_type": "execute_result"
    }
   ],
   "source": [
    "#get forecasts for test years\n",
    "forecast = model_fit.get_forecast(steps=11)\n",
    "#get confidence Intervales\n",
    "forecast_ci = forecast.conf_int()\n",
    "forecast_ci.tail(5)"
   ]
  },
  {
   "cell_type": "code",
   "execution_count": 59,
   "id": "5ea50bac",
   "metadata": {},
   "outputs": [
    {
     "data": {
      "image/png": "[encoded data removed]",
      "text/plain": [
       "<Figure size 432x288 with 1 Axes>"
      ]
     },
     "metadata": {
      "needs_background": "light"
     },
     "output_type": "display_data"
    }
   ],
   "source": [
    "#plot observed values\n",
    "ax = df_temp['1990-01-01':].plot(label='observed', color='royalblue', legend=True)\n",
    "\n",
    "#plot predicted values\n",
    "forecast.predicted_mean.plot(ax=ax, label='Forecast', color='orangered', alpha=0.9, legend=True)\n",
    "\n",
    "#add fill between lines, set axes labels and title\n",
    "ax.fill_between(forecast_ci.index,\n",
    "               forecast_ci.iloc[:, 0],\n",
    "               forecast_ci.iloc[:, 1],\n",
    "               color='g', alpha=0.1)\n",
    "\n",
    "ax.set_xlabel('Year', size=15)\n",
    "ax.set_ylabel('Tempearture Anamoly (°C) \\n', size=12)\n",
    "ax.set_title('Real vs Predicted Termperature Anamoly (°C)\\n', size=15)\n",
    "plt.axhline(y = 0, color = 'r', linestyle = '--', alpha=0.5)\n",
    "plt.legend()\n",
    "plt.show()"
   ]
  },
  {
   "cell_type": "markdown",
   "id": "96d091ee",
   "metadata": {},
   "source": [
    "**Forecast Future Temperature Anamoly**\n",
    "\n",
    "Lets forecast temperature anamoly for next 10 years (till 2030)"
   ]
  },
  {
   "cell_type": "code",
   "execution_count": 60,
   "id": "5dcd8442",
   "metadata": {},
   "outputs": [
    {
     "data": {
      "text/html": [
       "<div>\n",
       "<style scoped>\n",
       "    .dataframe tbody tr th:only-of-type {\n",
       "        vertical-align: middle;\n",
       "    }\n",
       "\n",
       "    .dataframe tbody tr th {\n",
       "        vertical-align: top;\n",
       "    }\n",
       "\n",
       "    .dataframe thead th {\n",
       "        text-align: right;\n",
       "    }\n",
       "</style>\n",
       "<table border=\"1\" class=\"dataframe\">\n",
       "  <thead>\n",
       "    <tr style=\"text-align: right;\">\n",
       "      <th></th>\n",
       "      <th>lower Avg_Anomaly_deg_C</th>\n",
       "      <th>upper Avg_Anomaly_deg_C</th>\n",
       "    </tr>\n",
       "  </thead>\n",
       "  <tbody>\n",
       "    <tr>\n",
       "      <th>2026-01-01</th>\n",
       "      <td>-0.575468</td>\n",
       "      <td>0.608906</td>\n",
       "    </tr>\n",
       "    <tr>\n",
       "      <th>2027-01-01</th>\n",
       "      <td>-0.582259</td>\n",
       "      <td>0.602415</td>\n",
       "    </tr>\n",
       "    <tr>\n",
       "      <th>2028-01-01</th>\n",
       "      <td>-0.585674</td>\n",
       "      <td>0.599091</td>\n",
       "    </tr>\n",
       "    <tr>\n",
       "      <th>2029-01-01</th>\n",
       "      <td>-0.583004</td>\n",
       "      <td>0.602061</td>\n",
       "    </tr>\n",
       "    <tr>\n",
       "      <th>2030-01-01</th>\n",
       "      <td>-0.579106</td>\n",
       "      <td>0.605967</td>\n",
       "    </tr>\n",
       "  </tbody>\n",
       "</table>\n",
       "</div>"
      ],
      "text/plain": [
       "            lower Avg_Anomaly_deg_C  upper Avg_Anomaly_deg_C\n",
       "2026-01-01                -0.575468                 0.608906\n",
       "2027-01-01                -0.582259                 0.602415\n",
       "2028-01-01                -0.585674                 0.599091\n",
       "2029-01-01                -0.583004                 0.602061\n",
       "2030-01-01                -0.579106                 0.605967"
      ]
     },
     "execution_count": 60,
     "metadata": {},
     "output_type": "execute_result"
    }
   ],
   "source": [
    "#get forecast of 10 years stpes ahead in future\n",
    "forecast2030= model_fit.get_forecast(steps=21)\n",
    "#get confidence Intervals\n",
    "forecast2030_ci = forecast2030.conf_int()\n",
    "forecast2030_ci.tail(5)"
   ]
  },
  {
   "cell_type": "code",
   "execution_count": 61,
   "id": "14eafa2d",
   "metadata": {},
   "outputs": [
    {
     "data": {
      "image/png": "[encoded data removed]",
      "text/plain": [
       "<Figure size 432x288 with 1 Axes>"
      ]
     },
     "metadata": {
      "needs_background": "light"
     },
     "output_type": "display_data"
    }
   ],
   "source": [
    "#plot observed values\n",
    "ax = df_temp['1990-01-01':].plot(label='observed', color='royalblue', legend=True)\n",
    "\n",
    "#plot predicted values\n",
    "forecast2030.predicted_mean.plot(ax=ax, label='Forecast', color='orangered', alpha=0.9, legend=True)\n",
    "\n",
    "#add fill between lines, set axes labels and title\n",
    "ax.fill_between(forecast2030_ci.index,\n",
    "               forecast2030_ci.iloc[:, 0],\n",
    "               forecast2030_ci.iloc[:, 1],\n",
    "               color='g', alpha=0.1)\n",
    "\n",
    "ax.set_xlabel('Year', size=15)\n",
    "ax.set_ylabel('Tempearture Anamoly (°C) \\n', size=12)\n",
    "ax.set_title('Real vs Predicted Termperature Anamoly (by 2030) (°C)\\n', size=15)\n",
    "plt.axhline(y = 0, color = 'r', linestyle = '--', alpha=0.5)\n",
    "plt.legend()\n",
    "plt.show()"
   ]
  },
  {
   "cell_type": "code",
   "execution_count": 62,
   "id": "02d9a644",
   "metadata": {},
   "outputs": [
    {
     "data": {
      "text/plain": [
       "2021-01-01    0.023845\n",
       "2022-01-01    0.007373\n",
       "2023-01-01    0.000234\n",
       "2024-01-01    0.007894\n",
       "2025-01-01    0.017080\n",
       "2026-01-01    0.016719\n",
       "2027-01-01    0.010078\n",
       "2028-01-01    0.006709\n",
       "2029-01-01    0.009528\n",
       "2030-01-01    0.013430\n",
       "Freq: AS-JAN, Name: predicted_mean, dtype: float64"
      ]
     },
     "execution_count": 62,
     "metadata": {},
     "output_type": "execute_result"
    }
   ],
   "source": [
    "forecast2030.predicted_mean.tail(10)"
   ]
  },
  {
   "cell_type": "markdown",
   "id": "8d7ff93b",
   "metadata": {},
   "source": [
    "our model only arrives at a marginal increase in temperature less than 0.01 °C which is very negligible compared to real anamoly, with a confidence interval of -0.5 to 0.5 °C "
   ]
  },
  {
   "cell_type": "markdown",
   "id": "792f9265",
   "metadata": {},
   "source": [
    "**Evaluate Model**"
   ]
  },
  {
   "cell_type": "code",
   "execution_count": 63,
   "id": "bcf7881c",
   "metadata": {},
   "outputs": [
    {
     "name": "stdout",
     "output_type": "stream",
     "text": [
      "Mean Absolute Error for ARIMA model: 0.197\n",
      "Root Mean Sqaured Error for ARIMA Model: 0.225\n"
     ]
    }
   ],
   "source": [
    "from sklearn import metrics\n",
    "\n",
    "mae = metrics.mean_absolute_error(test.Avg_Anomaly_deg_C,pred_ar)\n",
    "mse = metrics.mean_squared_error(test.Avg_Anomaly_deg_C,pred_ar)\n",
    "rmse = np.sqrt(metrics.mean_squared_error(test.Avg_Anomaly_deg_C,pred_ar))\n",
    "\n",
    "print('Mean Absolute Error for ARIMA model:',round(mae,3))\n",
    "print('Root Mean Sqaured Error for ARIMA Model:', round(rmse,3))"
   ]
  },
  {
   "cell_type": "markdown",
   "id": "de0cb704",
   "metadata": {},
   "source": [
    "### FBProphet\n",
    "\n",
    "Facebook's prophet provides high-quality forecasts with the help of parameters that are easy to tune. The time series that can be given as an input to the prophet can be stationary or it can be seasonal, which means it can have a trend. "
   ]
  },
  {
   "cell_type": "code",
   "execution_count": 64,
   "id": "b50b05e7",
   "metadata": {},
   "outputs": [],
   "source": [
    "#train-test data split\n",
    "train = df_temp.loc[:'2009-01-01']\n",
    "test = df_temp.loc['2009-01-01':]\n",
    "\n",
    "#create dataframe\n",
    "t_prophet = pd.DataFrame()\n",
    "t_prophet['ds'] = train.index\n",
    "t_prophet['y'] = train['Avg_Anomaly_deg_C'].values"
   ]
  },
  {
   "cell_type": "code",
   "execution_count": 65,
   "id": "bc7d4a59",
   "metadata": {},
   "outputs": [
    {
     "ename": "ModuleNotFoundError",
     "evalue": "No module named 'fbprophet'",
     "output_type": "error",
     "traceback": [
      "\u001b[0;31m---------------------------------------------------------------------------\u001b[0m",
      "\u001b[0;31mModuleNotFoundError\u001b[0m                       Traceback (most recent call last)",
      "Input \u001b[0;32mIn [65]\u001b[0m, in \u001b[0;36m<cell line: 1>\u001b[0;34m()\u001b[0m\n\u001b[0;32m----> 1\u001b[0m \u001b[38;5;28;01mfrom\u001b[39;00m \u001b[38;5;21;01mfbprophet\u001b[39;00m \u001b[38;5;28;01mimport\u001b[39;00m Prophet\n\u001b[1;32m      2\u001b[0m \u001b[38;5;66;03m#fit model\u001b[39;00m\n\u001b[1;32m      3\u001b[0m m \u001b[38;5;241m=\u001b[39m Prophet()\n",
      "\u001b[0;31mModuleNotFoundError\u001b[0m: No module named 'fbprophet'"
     ]
    }
   ],
   "source": [
    "from fbprophet import Prophet\n",
    "#fit model\n",
    "m = Prophet()\n",
    "m.fit(t_prophet)"
   ]
  },
  {
   "cell_type": "code",
   "execution_count": null,
   "id": "14d3166f",
   "metadata": {},
   "outputs": [],
   "source": []
  },
  {
   "cell_type": "code",
   "execution_count": null,
   "id": "cc63541b",
   "metadata": {},
   "outputs": [],
   "source": []
  },
  {
   "cell_type": "code",
   "execution_count": null,
   "id": "59302bd9",
   "metadata": {},
   "outputs": [],
   "source": []
  },
  {
   "cell_type": "code",
   "execution_count": null,
   "id": "2b0b378f",
   "metadata": {},
   "outputs": [],
   "source": []
  },
  {
   "cell_type": "code",
   "execution_count": null,
   "id": "7c6c57c4",
   "metadata": {},
   "outputs": [],
   "source": []
  },
  {
   "cell_type": "code",
   "execution_count": null,
   "id": "99d11dfa",
   "metadata": {},
   "outputs": [],
   "source": []
  },
  {
   "cell_type": "code",
   "execution_count": null,
   "id": "2e638544",
   "metadata": {},
   "outputs": [],
   "source": []
  },
  {
   "cell_type": "markdown",
   "id": "cf8f10d5",
   "metadata": {},
   "source": [
    "Yet to Complete \n",
    "\n",
    "> - forecasts \n",
    "    - full data predictions\n",
    "    - future forecasts\n",
    "> - FB Prophet Model\n",
    "> - LSTM"
   ]
  }
 ],
 "metadata": {
  "kernelspec": {
   "display_name": "Python 3 (ipykernel)",
   "language": "python",
   "name": "python3"
  },
  "language_info": {
   "codemirror_mode": {
    "name": "ipython",
    "version": 3
   },
   "file_extension": ".py",
   "mimetype": "text/x-python",
   "name": "python",
   "nbconvert_exporter": "python",
   "pygments_lexer": "ipython3",
   "version": "3.8.10"
  }
 },
 "nbformat": 4,
 "nbformat_minor": 5
}
