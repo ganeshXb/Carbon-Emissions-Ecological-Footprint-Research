{
 "cells": [
  {
   "cell_type": "code",
   "execution_count": 26,
   "id": "5c92985c",
   "metadata": {},
   "outputs": [],
   "source": [
    "# Import necessary libraries and packages\n",
    "import pandas as pd\n",
    "import numpy as np\n",
    "from matplotlib import pyplot\n",
    "import warnings\n",
    "import matplotlib.pyplot as plt\n",
    "from math import exp\n",
    "from numpy import log\n",
    "from statsmodels.graphics.tsaplots import plot_acf\n",
    "from statsmodels.graphics.tsaplots import plot_pacf\n",
    "from statsmodels.tsa.arima.model import ARIMA\n",
    "from statsmodels.tsa.stattools import adfuller\n",
    "from statsmodels.tsa.seasonal import seasonal_decompose\n",
    "import statsmodels.api as sm\n",
    "\n",
    "import plotly.graph_objs as go\n",
    "from plotly.subplots import make_subplots\n",
    "\n",
    "# Preferred settings\n",
    "warnings.filterwarnings('ignore')\n",
    "pd.set_option('display.max_columns', 100)\n"
   ]
  },
  {
   "cell_type": "code",
   "execution_count": 2,
   "id": "3e8e39fd",
   "metadata": {},
   "outputs": [
    {
     "name": "stdout",
     "output_type": "stream",
     "text": [
      "(25204, 58)\n"
     ]
    }
   ],
   "source": [
    "#Import CO2 emissions data - OWID\n",
    "data = pd.read_csv('../Data/carbon-emissions/owid-co2-data.csv')\n",
    "\n",
    "#Observe data shape and head\n",
    "print(data.shape)"
   ]
  },
  {
   "cell_type": "code",
   "execution_count": 3,
   "id": "1f8bb53e",
   "metadata": {},
   "outputs": [
    {
     "data": {
      "text/html": [
       "<div>\n",
       "<style scoped>\n",
       "    .dataframe tbody tr th:only-of-type {\n",
       "        vertical-align: middle;\n",
       "    }\n",
       "\n",
       "    .dataframe tbody tr th {\n",
       "        vertical-align: top;\n",
       "    }\n",
       "\n",
       "    .dataframe thead th {\n",
       "        text-align: right;\n",
       "    }\n",
       "</style>\n",
       "<table border=\"1\" class=\"dataframe\">\n",
       "  <thead>\n",
       "    <tr style=\"text-align: right;\">\n",
       "      <th></th>\n",
       "      <th>year</th>\n",
       "      <th>co2</th>\n",
       "      <th>consumption_co2</th>\n",
       "      <th>co2_growth_prct</th>\n",
       "      <th>co2_growth_abs</th>\n",
       "      <th>trade_co2</th>\n",
       "      <th>co2_per_capita</th>\n",
       "      <th>consumption_co2_per_capita</th>\n",
       "      <th>share_global_co2</th>\n",
       "      <th>cumulative_co2</th>\n",
       "      <th>share_global_cumulative_co2</th>\n",
       "      <th>co2_per_gdp</th>\n",
       "      <th>consumption_co2_per_gdp</th>\n",
       "      <th>co2_per_unit_energy</th>\n",
       "      <th>coal_co2</th>\n",
       "      <th>cement_co2</th>\n",
       "      <th>flaring_co2</th>\n",
       "      <th>gas_co2</th>\n",
       "      <th>oil_co2</th>\n",
       "      <th>other_industry_co2</th>\n",
       "      <th>cement_co2_per_capita</th>\n",
       "      <th>coal_co2_per_capita</th>\n",
       "      <th>flaring_co2_per_capita</th>\n",
       "      <th>gas_co2_per_capita</th>\n",
       "      <th>oil_co2_per_capita</th>\n",
       "      <th>other_co2_per_capita</th>\n",
       "      <th>trade_co2_share</th>\n",
       "      <th>share_global_cement_co2</th>\n",
       "      <th>share_global_coal_co2</th>\n",
       "      <th>share_global_flaring_co2</th>\n",
       "      <th>share_global_gas_co2</th>\n",
       "      <th>share_global_oil_co2</th>\n",
       "      <th>share_global_other_co2</th>\n",
       "      <th>cumulative_cement_co2</th>\n",
       "      <th>cumulative_coal_co2</th>\n",
       "      <th>cumulative_flaring_co2</th>\n",
       "      <th>cumulative_gas_co2</th>\n",
       "      <th>cumulative_oil_co2</th>\n",
       "      <th>cumulative_other_co2</th>\n",
       "      <th>share_global_cumulative_cement_co2</th>\n",
       "      <th>share_global_cumulative_coal_co2</th>\n",
       "      <th>share_global_cumulative_flaring_co2</th>\n",
       "      <th>share_global_cumulative_gas_co2</th>\n",
       "      <th>share_global_cumulative_oil_co2</th>\n",
       "      <th>share_global_cumulative_other_co2</th>\n",
       "      <th>total_ghg</th>\n",
       "      <th>ghg_per_capita</th>\n",
       "      <th>methane</th>\n",
       "      <th>methane_per_capita</th>\n",
       "      <th>nitrous_oxide</th>\n",
       "      <th>nitrous_oxide_per_capita</th>\n",
       "      <th>population</th>\n",
       "      <th>gdp</th>\n",
       "      <th>primary_energy_consumption</th>\n",
       "      <th>energy_per_capita</th>\n",
       "      <th>energy_per_gdp</th>\n",
       "    </tr>\n",
       "  </thead>\n",
       "  <tbody>\n",
       "    <tr>\n",
       "      <th>count</th>\n",
       "      <td>25204.000000</td>\n",
       "      <td>23949.000000</td>\n",
       "      <td>3976.000000</td>\n",
       "      <td>24931.000000</td>\n",
       "      <td>23585.000000</td>\n",
       "      <td>3976.000000</td>\n",
       "      <td>23307.000000</td>\n",
       "      <td>3976.000000</td>\n",
       "      <td>23949.000000</td>\n",
       "      <td>2.394900e+04</td>\n",
       "      <td>23949.000000</td>\n",
       "      <td>15389.000000</td>\n",
       "      <td>3761.000000</td>\n",
       "      <td>9141.000000</td>\n",
       "      <td>17188.000000</td>\n",
       "      <td>12248.000000</td>\n",
       "      <td>4382.000000</td>\n",
       "      <td>8845.000000</td>\n",
       "      <td>20539.000000</td>\n",
       "      <td>1999.000000</td>\n",
       "      <td>12218.000000</td>\n",
       "      <td>16860.000000</td>\n",
       "      <td>4381.000000</td>\n",
       "      <td>8835.000000</td>\n",
       "      <td>20181.000000</td>\n",
       "      <td>1999.000000</td>\n",
       "      <td>3976.000000</td>\n",
       "      <td>12248.000000</td>\n",
       "      <td>17188.00000</td>\n",
       "      <td>4382.000000</td>\n",
       "      <td>8845.000000</td>\n",
       "      <td>20539.000000</td>\n",
       "      <td>1999.000000</td>\n",
       "      <td>12248.000000</td>\n",
       "      <td>17188.000000</td>\n",
       "      <td>4382.000000</td>\n",
       "      <td>8845.000000</td>\n",
       "      <td>20539.000000</td>\n",
       "      <td>1999.000000</td>\n",
       "      <td>12248.000000</td>\n",
       "      <td>17188.000000</td>\n",
       "      <td>4382.000000</td>\n",
       "      <td>8845.000000</td>\n",
       "      <td>20539.000000</td>\n",
       "      <td>1999.000000</td>\n",
       "      <td>5208.000000</td>\n",
       "      <td>5155.000000</td>\n",
       "      <td>5211.000000</td>\n",
       "      <td>5157.000000</td>\n",
       "      <td>5211.000000</td>\n",
       "      <td>5157.000000</td>\n",
       "      <td>2.287800e+04</td>\n",
       "      <td>1.353800e+04</td>\n",
       "      <td>8690.000000</td>\n",
       "      <td>8681.000000</td>\n",
       "      <td>6803.000000</td>\n",
       "    </tr>\n",
       "    <tr>\n",
       "      <th>mean</th>\n",
       "      <td>1953.225797</td>\n",
       "      <td>267.861942</td>\n",
       "      <td>916.755170</td>\n",
       "      <td>21.098600</td>\n",
       "      <td>5.146889</td>\n",
       "      <td>-2.415624</td>\n",
       "      <td>4.170811</td>\n",
       "      <td>6.567721</td>\n",
       "      <td>4.983979</td>\n",
       "      <td>1.035710e+04</td>\n",
       "      <td>5.126531</td>\n",
       "      <td>0.421795</td>\n",
       "      <td>0.370038</td>\n",
       "      <td>0.238931</td>\n",
       "      <td>175.358171</td>\n",
       "      <td>12.888607</td>\n",
       "      <td>15.000326</td>\n",
       "      <td>108.750774</td>\n",
       "      <td>106.254381</td>\n",
       "      <td>15.753891</td>\n",
       "      <td>0.113037</td>\n",
       "      <td>1.551520</td>\n",
       "      <td>0.875319</td>\n",
       "      <td>1.413336</td>\n",
       "      <td>2.635498</td>\n",
       "      <td>0.080168</td>\n",
       "      <td>22.961190</td>\n",
       "      <td>4.419452</td>\n",
       "      <td>6.98983</td>\n",
       "      <td>5.861506</td>\n",
       "      <td>5.405564</td>\n",
       "      <td>2.993497</td>\n",
       "      <td>14.295183</td>\n",
       "      <td>307.761167</td>\n",
       "      <td>8791.767180</td>\n",
       "      <td>425.698588</td>\n",
       "      <td>2587.096729</td>\n",
       "      <td>3296.584230</td>\n",
       "      <td>293.588436</td>\n",
       "      <td>4.462228</td>\n",
       "      <td>7.211834</td>\n",
       "      <td>5.621670</td>\n",
       "      <td>5.242400</td>\n",
       "      <td>3.001620</td>\n",
       "      <td>13.403622</td>\n",
       "      <td>441.481429</td>\n",
       "      <td>8.099506</td>\n",
       "      <td>82.253370</td>\n",
       "      <td>2.046923</td>\n",
       "      <td>29.308135</td>\n",
       "      <td>0.606690</td>\n",
       "      <td>7.072322e+07</td>\n",
       "      <td>2.877088e+11</td>\n",
       "      <td>1569.083895</td>\n",
       "      <td>25568.487454</td>\n",
       "      <td>1.850291</td>\n",
       "    </tr>\n",
       "    <tr>\n",
       "      <th>std</th>\n",
       "      <td>53.791369</td>\n",
       "      <td>1521.680894</td>\n",
       "      <td>3373.348275</td>\n",
       "      <td>702.565991</td>\n",
       "      <td>55.259760</td>\n",
       "      <td>182.444942</td>\n",
       "      <td>14.912201</td>\n",
       "      <td>6.927957</td>\n",
       "      <td>17.704994</td>\n",
       "      <td>6.120603e+04</td>\n",
       "      <td>18.480079</td>\n",
       "      <td>0.483864</td>\n",
       "      <td>0.265374</td>\n",
       "      <td>0.233550</td>\n",
       "      <td>786.106838</td>\n",
       "      <td>77.258563</td>\n",
       "      <td>40.471977</td>\n",
       "      <td>441.064563</td>\n",
       "      <td>602.683622</td>\n",
       "      <td>39.385589</td>\n",
       "      <td>0.148907</td>\n",
       "      <td>2.552112</td>\n",
       "      <td>5.477923</td>\n",
       "      <td>3.654290</td>\n",
       "      <td>15.129275</td>\n",
       "      <td>0.055779</td>\n",
       "      <td>45.055039</td>\n",
       "      <td>15.950613</td>\n",
       "      <td>20.76197</td>\n",
       "      <td>14.874259</td>\n",
       "      <td>18.408881</td>\n",
       "      <td>12.018682</td>\n",
       "      <td>28.570911</td>\n",
       "      <td>1706.159528</td>\n",
       "      <td>39131.720328</td>\n",
       "      <td>1320.911296</td>\n",
       "      <td>12347.690600</td>\n",
       "      <td>21645.263301</td>\n",
       "      <td>777.706862</td>\n",
       "      <td>15.685264</td>\n",
       "      <td>21.636504</td>\n",
       "      <td>15.021334</td>\n",
       "      <td>18.926934</td>\n",
       "      <td>12.134102</td>\n",
       "      <td>27.019447</td>\n",
       "      <td>3089.039496</td>\n",
       "      <td>9.387477</td>\n",
       "      <td>566.702756</td>\n",
       "      <td>3.534126</td>\n",
       "      <td>199.291118</td>\n",
       "      <td>0.844671</td>\n",
       "      <td>3.795858e+08</td>\n",
       "      <td>2.180094e+12</td>\n",
       "      <td>9066.102799</td>\n",
       "      <td>33319.956208</td>\n",
       "      <td>1.575161</td>\n",
       "    </tr>\n",
       "    <tr>\n",
       "      <th>min</th>\n",
       "      <td>1750.000000</td>\n",
       "      <td>0.000000</td>\n",
       "      <td>0.197000</td>\n",
       "      <td>-99.640000</td>\n",
       "      <td>-1895.244000</td>\n",
       "      <td>-1657.998000</td>\n",
       "      <td>0.000000</td>\n",
       "      <td>0.055000</td>\n",
       "      <td>0.000000</td>\n",
       "      <td>0.000000e+00</td>\n",
       "      <td>0.000000</td>\n",
       "      <td>0.000000</td>\n",
       "      <td>0.006000</td>\n",
       "      <td>0.005000</td>\n",
       "      <td>0.000000</td>\n",
       "      <td>0.000000</td>\n",
       "      <td>0.000000</td>\n",
       "      <td>0.000000</td>\n",
       "      <td>0.000000</td>\n",
       "      <td>0.000000</td>\n",
       "      <td>0.000000</td>\n",
       "      <td>0.000000</td>\n",
       "      <td>0.000000</td>\n",
       "      <td>0.000000</td>\n",
       "      <td>0.000000</td>\n",
       "      <td>0.000000</td>\n",
       "      <td>-96.760000</td>\n",
       "      <td>0.000000</td>\n",
       "      <td>0.00000</td>\n",
       "      <td>0.000000</td>\n",
       "      <td>0.000000</td>\n",
       "      <td>0.000000</td>\n",
       "      <td>0.000000</td>\n",
       "      <td>0.000000</td>\n",
       "      <td>0.000000</td>\n",
       "      <td>0.000000</td>\n",
       "      <td>0.000000</td>\n",
       "      <td>0.000000</td>\n",
       "      <td>0.001000</td>\n",
       "      <td>0.000000</td>\n",
       "      <td>0.000000</td>\n",
       "      <td>0.000000</td>\n",
       "      <td>0.000000</td>\n",
       "      <td>0.000000</td>\n",
       "      <td>0.000000</td>\n",
       "      <td>-85.620000</td>\n",
       "      <td>-50.487000</td>\n",
       "      <td>0.000000</td>\n",
       "      <td>0.000000</td>\n",
       "      <td>0.000000</td>\n",
       "      <td>0.000000</td>\n",
       "      <td>1.490000e+03</td>\n",
       "      <td>5.543200e+07</td>\n",
       "      <td>0.000000</td>\n",
       "      <td>0.000000</td>\n",
       "      <td>0.050000</td>\n",
       "    </tr>\n",
       "    <tr>\n",
       "      <th>25%</th>\n",
       "      <td>1925.000000</td>\n",
       "      <td>0.528000</td>\n",
       "      <td>10.319750</td>\n",
       "      <td>-0.450000</td>\n",
       "      <td>-0.011000</td>\n",
       "      <td>-0.892500</td>\n",
       "      <td>0.253000</td>\n",
       "      <td>1.240250</td>\n",
       "      <td>0.010000</td>\n",
       "      <td>6.992000e+00</td>\n",
       "      <td>0.000000</td>\n",
       "      <td>0.140000</td>\n",
       "      <td>0.216000</td>\n",
       "      <td>0.178000</td>\n",
       "      <td>0.322000</td>\n",
       "      <td>0.129000</td>\n",
       "      <td>0.253250</td>\n",
       "      <td>0.385000</td>\n",
       "      <td>0.311000</td>\n",
       "      <td>0.747500</td>\n",
       "      <td>0.020000</td>\n",
       "      <td>0.054000</td>\n",
       "      <td>0.021000</td>\n",
       "      <td>0.031000</td>\n",
       "      <td>0.121000</td>\n",
       "      <td>0.036000</td>\n",
       "      <td>-1.757500</td>\n",
       "      <td>0.050000</td>\n",
       "      <td>0.01000</td>\n",
       "      <td>0.090000</td>\n",
       "      <td>0.030000</td>\n",
       "      <td>0.010000</td>\n",
       "      <td>0.300000</td>\n",
       "      <td>1.613000</td>\n",
       "      <td>5.516250</td>\n",
       "      <td>4.071250</td>\n",
       "      <td>3.239000</td>\n",
       "      <td>3.921000</td>\n",
       "      <td>7.709000</td>\n",
       "      <td>0.040000</td>\n",
       "      <td>0.000000</td>\n",
       "      <td>0.060000</td>\n",
       "      <td>0.010000</td>\n",
       "      <td>0.010000</td>\n",
       "      <td>0.190000</td>\n",
       "      <td>8.162500</td>\n",
       "      <td>2.514000</td>\n",
       "      <td>2.150000</td>\n",
       "      <td>0.715000</td>\n",
       "      <td>0.535000</td>\n",
       "      <td>0.228000</td>\n",
       "      <td>1.291899e+06</td>\n",
       "      <td>9.828867e+09</td>\n",
       "      <td>6.997000</td>\n",
       "      <td>3270.369000</td>\n",
       "      <td>0.856000</td>\n",
       "    </tr>\n",
       "    <tr>\n",
       "      <th>50%</th>\n",
       "      <td>1967.000000</td>\n",
       "      <td>4.857000</td>\n",
       "      <td>57.091000</td>\n",
       "      <td>3.350000</td>\n",
       "      <td>0.059000</td>\n",
       "      <td>1.953000</td>\n",
       "      <td>1.250000</td>\n",
       "      <td>4.359500</td>\n",
       "      <td>0.060000</td>\n",
       "      <td>9.131800e+01</td>\n",
       "      <td>0.030000</td>\n",
       "      <td>0.276000</td>\n",
       "      <td>0.315000</td>\n",
       "      <td>0.218000</td>\n",
       "      <td>3.981000</td>\n",
       "      <td>0.557000</td>\n",
       "      <td>2.071500</td>\n",
       "      <td>4.199000</td>\n",
       "      <td>2.100000</td>\n",
       "      <td>2.861000</td>\n",
       "      <td>0.070000</td>\n",
       "      <td>0.441500</td>\n",
       "      <td>0.068000</td>\n",
       "      <td>0.282000</td>\n",
       "      <td>0.630000</td>\n",
       "      <td>0.071000</td>\n",
       "      <td>11.675000</td>\n",
       "      <td>0.200000</td>\n",
       "      <td>0.11500</td>\n",
       "      <td>0.700000</td>\n",
       "      <td>0.200000</td>\n",
       "      <td>0.080000</td>\n",
       "      <td>1.340000</td>\n",
       "      <td>10.452000</td>\n",
       "      <td>98.181500</td>\n",
       "      <td>45.608500</td>\n",
       "      <td>52.058000</td>\n",
       "      <td>39.164000</td>\n",
       "      <td>35.644000</td>\n",
       "      <td>0.200000</td>\n",
       "      <td>0.070000</td>\n",
       "      <td>0.540000</td>\n",
       "      <td>0.110000</td>\n",
       "      <td>0.070000</td>\n",
       "      <td>0.840000</td>\n",
       "      <td>37.095000</td>\n",
       "      <td>5.474000</td>\n",
       "      <td>9.030000</td>\n",
       "      <td>1.111000</td>\n",
       "      <td>3.590000</td>\n",
       "      <td>0.384000</td>\n",
       "      <td>4.880320e+06</td>\n",
       "      <td>3.037019e+10</td>\n",
       "      <td>61.404500</td>\n",
       "      <td>13701.318000</td>\n",
       "      <td>1.407000</td>\n",
       "    </tr>\n",
       "    <tr>\n",
       "      <th>75%</th>\n",
       "      <td>1995.000000</td>\n",
       "      <td>42.818000</td>\n",
       "      <td>276.378750</td>\n",
       "      <td>10.460000</td>\n",
       "      <td>1.103000</td>\n",
       "      <td>9.700500</td>\n",
       "      <td>4.657500</td>\n",
       "      <td>9.848500</td>\n",
       "      <td>0.600000</td>\n",
       "      <td>1.147514e+03</td>\n",
       "      <td>0.410000</td>\n",
       "      <td>0.534000</td>\n",
       "      <td>0.447000</td>\n",
       "      <td>0.256000</td>\n",
       "      <td>35.532750</td>\n",
       "      <td>2.896750</td>\n",
       "      <td>12.603750</td>\n",
       "      <td>30.830000</td>\n",
       "      <td>17.369000</td>\n",
       "      <td>9.902000</td>\n",
       "      <td>0.156000</td>\n",
       "      <td>2.149000</td>\n",
       "      <td>0.203000</td>\n",
       "      <td>1.435500</td>\n",
       "      <td>2.474000</td>\n",
       "      <td>0.107500</td>\n",
       "      <td>36.382500</td>\n",
       "      <td>1.000000</td>\n",
       "      <td>1.25000</td>\n",
       "      <td>4.440000</td>\n",
       "      <td>1.250000</td>\n",
       "      <td>0.550000</td>\n",
       "      <td>10.085000</td>\n",
       "      <td>66.462750</td>\n",
       "      <td>1248.784000</td>\n",
       "      <td>281.485000</td>\n",
       "      <td>457.778000</td>\n",
       "      <td>372.710000</td>\n",
       "      <td>159.188000</td>\n",
       "      <td>0.930000</td>\n",
       "      <td>0.910000</td>\n",
       "      <td>3.567500</td>\n",
       "      <td>0.820000</td>\n",
       "      <td>0.530000</td>\n",
       "      <td>7.985000</td>\n",
       "      <td>132.255000</td>\n",
       "      <td>10.299000</td>\n",
       "      <td>31.055000</td>\n",
       "      <td>1.690000</td>\n",
       "      <td>10.570000</td>\n",
       "      <td>0.607000</td>\n",
       "      <td>1.759622e+07</td>\n",
       "      <td>1.268944e+11</td>\n",
       "      <td>352.884500</td>\n",
       "      <td>35493.775000</td>\n",
       "      <td>2.351000</td>\n",
       "    </tr>\n",
       "    <tr>\n",
       "      <th>max</th>\n",
       "      <td>2020.000000</td>\n",
       "      <td>36702.503000</td>\n",
       "      <td>36702.503000</td>\n",
       "      <td>102318.510000</td>\n",
       "      <td>1736.258000</td>\n",
       "      <td>1028.487000</td>\n",
       "      <td>748.639000</td>\n",
       "      <td>57.792000</td>\n",
       "      <td>100.000000</td>\n",
       "      <td>1.696524e+06</td>\n",
       "      <td>100.000000</td>\n",
       "      <td>7.776000</td>\n",
       "      <td>3.543000</td>\n",
       "      <td>4.644000</td>\n",
       "      <td>15062.902000</td>\n",
       "      <td>1626.371000</td>\n",
       "      <td>435.034000</td>\n",
       "      <td>7553.394000</td>\n",
       "      <td>12229.642000</td>\n",
       "      <td>303.858000</td>\n",
       "      <td>2.738000</td>\n",
       "      <td>34.184000</td>\n",
       "      <td>94.711000</td>\n",
       "      <td>52.484000</td>\n",
       "      <td>748.639000</td>\n",
       "      <td>0.357000</td>\n",
       "      <td>366.150000</td>\n",
       "      <td>100.000000</td>\n",
       "      <td>100.00000</td>\n",
       "      <td>100.000000</td>\n",
       "      <td>100.000000</td>\n",
       "      <td>100.000000</td>\n",
       "      <td>100.000000</td>\n",
       "      <td>43163.190000</td>\n",
       "      <td>788362.044000</td>\n",
       "      <td>17792.749000</td>\n",
       "      <td>245231.878000</td>\n",
       "      <td>592621.162000</td>\n",
       "      <td>7725.988000</td>\n",
       "      <td>100.000000</td>\n",
       "      <td>100.000000</td>\n",
       "      <td>100.000000</td>\n",
       "      <td>100.000000</td>\n",
       "      <td>100.000000</td>\n",
       "      <td>100.000000</td>\n",
       "      <td>49854.980000</td>\n",
       "      <td>86.991000</td>\n",
       "      <td>8660.010000</td>\n",
       "      <td>39.812000</td>\n",
       "      <td>3054.000000</td>\n",
       "      <td>8.239000</td>\n",
       "      <td>7.794799e+09</td>\n",
       "      <td>1.136302e+14</td>\n",
       "      <td>162194.290000</td>\n",
       "      <td>317582.498000</td>\n",
       "      <td>13.493000</td>\n",
       "    </tr>\n",
       "  </tbody>\n",
       "</table>\n",
       "</div>"
      ],
      "text/plain": [
       "               year           co2  consumption_co2  co2_growth_prct  \\\n",
       "count  25204.000000  23949.000000      3976.000000     24931.000000   \n",
       "mean    1953.225797    267.861942       916.755170        21.098600   \n",
       "std       53.791369   1521.680894      3373.348275       702.565991   \n",
       "min     1750.000000      0.000000         0.197000       -99.640000   \n",
       "25%     1925.000000      0.528000        10.319750        -0.450000   \n",
       "50%     1967.000000      4.857000        57.091000         3.350000   \n",
       "75%     1995.000000     42.818000       276.378750        10.460000   \n",
       "max     2020.000000  36702.503000     36702.503000    102318.510000   \n",
       "\n",
       "       co2_growth_abs    trade_co2  co2_per_capita  \\\n",
       "count    23585.000000  3976.000000    23307.000000   \n",
       "mean         5.146889    -2.415624        4.170811   \n",
       "std         55.259760   182.444942       14.912201   \n",
       "min      -1895.244000 -1657.998000        0.000000   \n",
       "25%         -0.011000    -0.892500        0.253000   \n",
       "50%          0.059000     1.953000        1.250000   \n",
       "75%          1.103000     9.700500        4.657500   \n",
       "max       1736.258000  1028.487000      748.639000   \n",
       "\n",
       "       consumption_co2_per_capita  share_global_co2  cumulative_co2  \\\n",
       "count                 3976.000000      23949.000000    2.394900e+04   \n",
       "mean                     6.567721          4.983979    1.035710e+04   \n",
       "std                      6.927957         17.704994    6.120603e+04   \n",
       "min                      0.055000          0.000000    0.000000e+00   \n",
       "25%                      1.240250          0.010000    6.992000e+00   \n",
       "50%                      4.359500          0.060000    9.131800e+01   \n",
       "75%                      9.848500          0.600000    1.147514e+03   \n",
       "max                     57.792000        100.000000    1.696524e+06   \n",
       "\n",
       "       share_global_cumulative_co2   co2_per_gdp  consumption_co2_per_gdp  \\\n",
       "count                 23949.000000  15389.000000              3761.000000   \n",
       "mean                      5.126531      0.421795                 0.370038   \n",
       "std                      18.480079      0.483864                 0.265374   \n",
       "min                       0.000000      0.000000                 0.006000   \n",
       "25%                       0.000000      0.140000                 0.216000   \n",
       "50%                       0.030000      0.276000                 0.315000   \n",
       "75%                       0.410000      0.534000                 0.447000   \n",
       "max                     100.000000      7.776000                 3.543000   \n",
       "\n",
       "       co2_per_unit_energy      coal_co2    cement_co2  flaring_co2  \\\n",
       "count          9141.000000  17188.000000  12248.000000  4382.000000   \n",
       "mean              0.238931    175.358171     12.888607    15.000326   \n",
       "std               0.233550    786.106838     77.258563    40.471977   \n",
       "min               0.005000      0.000000      0.000000     0.000000   \n",
       "25%               0.178000      0.322000      0.129000     0.253250   \n",
       "50%               0.218000      3.981000      0.557000     2.071500   \n",
       "75%               0.256000     35.532750      2.896750    12.603750   \n",
       "max               4.644000  15062.902000   1626.371000   435.034000   \n",
       "\n",
       "           gas_co2       oil_co2  other_industry_co2  cement_co2_per_capita  \\\n",
       "count  8845.000000  20539.000000         1999.000000           12218.000000   \n",
       "mean    108.750774    106.254381           15.753891               0.113037   \n",
       "std     441.064563    602.683622           39.385589               0.148907   \n",
       "min       0.000000      0.000000            0.000000               0.000000   \n",
       "25%       0.385000      0.311000            0.747500               0.020000   \n",
       "50%       4.199000      2.100000            2.861000               0.070000   \n",
       "75%      30.830000     17.369000            9.902000               0.156000   \n",
       "max    7553.394000  12229.642000          303.858000               2.738000   \n",
       "\n",
       "       coal_co2_per_capita  flaring_co2_per_capita  gas_co2_per_capita  \\\n",
       "count         16860.000000             4381.000000         8835.000000   \n",
       "mean              1.551520                0.875319            1.413336   \n",
       "std               2.552112                5.477923            3.654290   \n",
       "min               0.000000                0.000000            0.000000   \n",
       "25%               0.054000                0.021000            0.031000   \n",
       "50%               0.441500                0.068000            0.282000   \n",
       "75%               2.149000                0.203000            1.435500   \n",
       "max              34.184000               94.711000           52.484000   \n",
       "\n",
       "       oil_co2_per_capita  other_co2_per_capita  trade_co2_share  \\\n",
       "count        20181.000000           1999.000000      3976.000000   \n",
       "mean             2.635498              0.080168        22.961190   \n",
       "std             15.129275              0.055779        45.055039   \n",
       "min              0.000000              0.000000       -96.760000   \n",
       "25%              0.121000              0.036000        -1.757500   \n",
       "50%              0.630000              0.071000        11.675000   \n",
       "75%              2.474000              0.107500        36.382500   \n",
       "max            748.639000              0.357000       366.150000   \n",
       "\n",
       "       share_global_cement_co2  share_global_coal_co2  \\\n",
       "count             12248.000000            17188.00000   \n",
       "mean                  4.419452                6.98983   \n",
       "std                  15.950613               20.76197   \n",
       "min                   0.000000                0.00000   \n",
       "25%                   0.050000                0.01000   \n",
       "50%                   0.200000                0.11500   \n",
       "75%                   1.000000                1.25000   \n",
       "max                 100.000000              100.00000   \n",
       "\n",
       "       share_global_flaring_co2  share_global_gas_co2  share_global_oil_co2  \\\n",
       "count               4382.000000           8845.000000          20539.000000   \n",
       "mean                   5.861506              5.405564              2.993497   \n",
       "std                   14.874259             18.408881             12.018682   \n",
       "min                    0.000000              0.000000              0.000000   \n",
       "25%                    0.090000              0.030000              0.010000   \n",
       "50%                    0.700000              0.200000              0.080000   \n",
       "75%                    4.440000              1.250000              0.550000   \n",
       "max                  100.000000            100.000000            100.000000   \n",
       "\n",
       "       share_global_other_co2  cumulative_cement_co2  cumulative_coal_co2  \\\n",
       "count             1999.000000           12248.000000         17188.000000   \n",
       "mean                14.295183             307.761167          8791.767180   \n",
       "std                 28.570911            1706.159528         39131.720328   \n",
       "min                  0.000000               0.000000             0.000000   \n",
       "25%                  0.300000               1.613000             5.516250   \n",
       "50%                  1.340000              10.452000            98.181500   \n",
       "75%                 10.085000              66.462750          1248.784000   \n",
       "max                100.000000           43163.190000        788362.044000   \n",
       "\n",
       "       cumulative_flaring_co2  cumulative_gas_co2  cumulative_oil_co2  \\\n",
       "count             4382.000000         8845.000000        20539.000000   \n",
       "mean               425.698588         2587.096729         3296.584230   \n",
       "std               1320.911296        12347.690600        21645.263301   \n",
       "min                  0.000000            0.000000            0.000000   \n",
       "25%                  4.071250            3.239000            3.921000   \n",
       "50%                 45.608500           52.058000           39.164000   \n",
       "75%                281.485000          457.778000          372.710000   \n",
       "max              17792.749000       245231.878000       592621.162000   \n",
       "\n",
       "       cumulative_other_co2  share_global_cumulative_cement_co2  \\\n",
       "count           1999.000000                        12248.000000   \n",
       "mean             293.588436                            4.462228   \n",
       "std              777.706862                           15.685264   \n",
       "min                0.001000                            0.000000   \n",
       "25%                7.709000                            0.040000   \n",
       "50%               35.644000                            0.200000   \n",
       "75%              159.188000                            0.930000   \n",
       "max             7725.988000                          100.000000   \n",
       "\n",
       "       share_global_cumulative_coal_co2  share_global_cumulative_flaring_co2  \\\n",
       "count                      17188.000000                          4382.000000   \n",
       "mean                           7.211834                             5.621670   \n",
       "std                           21.636504                            15.021334   \n",
       "min                            0.000000                             0.000000   \n",
       "25%                            0.000000                             0.060000   \n",
       "50%                            0.070000                             0.540000   \n",
       "75%                            0.910000                             3.567500   \n",
       "max                          100.000000                           100.000000   \n",
       "\n",
       "       share_global_cumulative_gas_co2  share_global_cumulative_oil_co2  \\\n",
       "count                      8845.000000                     20539.000000   \n",
       "mean                          5.242400                         3.001620   \n",
       "std                          18.926934                        12.134102   \n",
       "min                           0.000000                         0.000000   \n",
       "25%                           0.010000                         0.010000   \n",
       "50%                           0.110000                         0.070000   \n",
       "75%                           0.820000                         0.530000   \n",
       "max                         100.000000                       100.000000   \n",
       "\n",
       "       share_global_cumulative_other_co2     total_ghg  ghg_per_capita  \\\n",
       "count                        1999.000000   5208.000000     5155.000000   \n",
       "mean                           13.403622    441.481429        8.099506   \n",
       "std                            27.019447   3089.039496        9.387477   \n",
       "min                             0.000000    -85.620000      -50.487000   \n",
       "25%                             0.190000      8.162500        2.514000   \n",
       "50%                             0.840000     37.095000        5.474000   \n",
       "75%                             7.985000    132.255000       10.299000   \n",
       "max                           100.000000  49854.980000       86.991000   \n",
       "\n",
       "           methane  methane_per_capita  nitrous_oxide  \\\n",
       "count  5211.000000         5157.000000    5211.000000   \n",
       "mean     82.253370            2.046923      29.308135   \n",
       "std     566.702756            3.534126     199.291118   \n",
       "min       0.000000            0.000000       0.000000   \n",
       "25%       2.150000            0.715000       0.535000   \n",
       "50%       9.030000            1.111000       3.590000   \n",
       "75%      31.055000            1.690000      10.570000   \n",
       "max    8660.010000           39.812000    3054.000000   \n",
       "\n",
       "       nitrous_oxide_per_capita    population           gdp  \\\n",
       "count               5157.000000  2.287800e+04  1.353800e+04   \n",
       "mean                   0.606690  7.072322e+07  2.877088e+11   \n",
       "std                    0.844671  3.795858e+08  2.180094e+12   \n",
       "min                    0.000000  1.490000e+03  5.543200e+07   \n",
       "25%                    0.228000  1.291899e+06  9.828867e+09   \n",
       "50%                    0.384000  4.880320e+06  3.037019e+10   \n",
       "75%                    0.607000  1.759622e+07  1.268944e+11   \n",
       "max                    8.239000  7.794799e+09  1.136302e+14   \n",
       "\n",
       "       primary_energy_consumption  energy_per_capita  energy_per_gdp  \n",
       "count                 8690.000000        8681.000000     6803.000000  \n",
       "mean                  1569.083895       25568.487454        1.850291  \n",
       "std                   9066.102799       33319.956208        1.575161  \n",
       "min                      0.000000           0.000000        0.050000  \n",
       "25%                      6.997000        3270.369000        0.856000  \n",
       "50%                     61.404500       13701.318000        1.407000  \n",
       "75%                    352.884500       35493.775000        2.351000  \n",
       "max                 162194.290000      317582.498000       13.493000  "
      ]
     },
     "execution_count": 3,
     "metadata": {},
     "output_type": "execute_result"
    }
   ],
   "source": [
    "data.describe()"
   ]
  },
  {
   "cell_type": "markdown",
   "id": "ca8d33ca",
   "metadata": {},
   "source": [
    "# Data Cleaning and Preprocessing"
   ]
  },
  {
   "cell_type": "markdown",
   "id": "d6ed7a51",
   "metadata": {},
   "source": [
    "We focused on post-1950 data for our comparative analysis and global EDA since some countries are missing significant data before that time. Major carbon emitting countries' emission activites intensified post 1950 period, especially India. For our modelling process, however, focusing on India, the data form 1878 is continous, so we include all data for India from 1900. First, We'll be predicting the CO2 emissions for India"
   ]
  },
  {
   "cell_type": "code",
   "execution_count": 4,
   "id": "b4ade6a6",
   "metadata": {},
   "outputs": [
    {
     "name": "stdout",
     "output_type": "stream",
     "text": [
      "(121, 2)\n"
     ]
    }
   ],
   "source": [
    "#load data\n",
    "df_India = data\n",
    "\n",
    "#only include India co2 per capita data post-1900\n",
    "df_India = df_India[df_India['year'] >= 1900]\n",
    "df_India = df_India[df_India['country'] == 'India']\n",
    "df_India = df_India[['year', 'co2_per_capita']]\n",
    "\n",
    "#observe shape of reformatted df\n",
    "print(df_India.shape)"
   ]
  },
  {
   "cell_type": "code",
   "execution_count": 5,
   "id": "ab7d861e",
   "metadata": {},
   "outputs": [],
   "source": [
    "#Convert year to index\n",
    "df_India.set_index('year', inplace=True)\n",
    "\n",
    "#Convert year to DateTime object\n",
    "df_India.index = pd.to_datetime(df_India.index, format='%Y')"
   ]
  },
  {
   "cell_type": "code",
   "execution_count": 6,
   "id": "e4b0beca",
   "metadata": {},
   "outputs": [
    {
     "data": {
      "text/html": [
       "<div>\n",
       "<style scoped>\n",
       "    .dataframe tbody tr th:only-of-type {\n",
       "        vertical-align: middle;\n",
       "    }\n",
       "\n",
       "    .dataframe tbody tr th {\n",
       "        vertical-align: top;\n",
       "    }\n",
       "\n",
       "    .dataframe thead th {\n",
       "        text-align: right;\n",
       "    }\n",
       "</style>\n",
       "<table border=\"1\" class=\"dataframe\">\n",
       "  <thead>\n",
       "    <tr style=\"text-align: right;\">\n",
       "      <th></th>\n",
       "      <th>co2_per_capita</th>\n",
       "    </tr>\n",
       "    <tr>\n",
       "      <th>year</th>\n",
       "      <th></th>\n",
       "    </tr>\n",
       "  </thead>\n",
       "  <tbody>\n",
       "    <tr>\n",
       "      <th>1996-01-01</th>\n",
       "      <td>0.841</td>\n",
       "    </tr>\n",
       "    <tr>\n",
       "      <th>1966-01-01</th>\n",
       "      <td>0.313</td>\n",
       "    </tr>\n",
       "    <tr>\n",
       "      <th>1912-01-01</th>\n",
       "      <td>0.092</td>\n",
       "    </tr>\n",
       "    <tr>\n",
       "      <th>2007-01-01</th>\n",
       "      <td>1.148</td>\n",
       "    </tr>\n",
       "    <tr>\n",
       "      <th>1968-01-01</th>\n",
       "      <td>0.328</td>\n",
       "    </tr>\n",
       "  </tbody>\n",
       "</table>\n",
       "</div>"
      ],
      "text/plain": [
       "            co2_per_capita\n",
       "year                      \n",
       "1996-01-01           0.841\n",
       "1966-01-01           0.313\n",
       "1912-01-01           0.092\n",
       "2007-01-01           1.148\n",
       "1968-01-01           0.328"
      ]
     },
     "execution_count": 6,
     "metadata": {},
     "output_type": "execute_result"
    }
   ],
   "source": [
    "#observe updated df\n",
    "#df_India.head()\n",
    "df_India.sample(5)"
   ]
  },
  {
   "cell_type": "markdown",
   "id": "25e4ca45",
   "metadata": {},
   "source": [
    "# Exploratory Data Analysis"
   ]
  },
  {
   "cell_type": "markdown",
   "id": "9c46d76f",
   "metadata": {},
   "source": [
    "Before starting to analyse the stationarity of data, lets need to understand the trend, seasonality and bias of our data. "
   ]
  },
  {
   "cell_type": "code",
   "execution_count": 7,
   "id": "11f2f940",
   "metadata": {},
   "outputs": [
    {
     "data": {
      "text/plain": [
       "[<matplotlib.lines.Line2D at 0x7f0041318520>]"
      ]
     },
     "execution_count": 7,
     "metadata": {},
     "output_type": "execute_result"
    },
    {
     "data": {
      "image/png": "[encoded data removed]",
      "text/plain": [
       "<Figure size 432x288 with 1 Axes>"
      ]
     },
     "metadata": {
      "needs_background": "light"
     },
     "output_type": "display_data"
    }
   ],
   "source": [
    "#observe trend and seasonality\n",
    "decom = seasonal_decompose(df_India['co2_per_capita'], model='multiplicative')\n",
    "plt.plot(decom.trend)\n",
    "plt.plot(decom.seasonal)\n"
   ]
  },
  {
   "cell_type": "code",
   "execution_count": 8,
   "id": "4bd579ad",
   "metadata": {},
   "outputs": [
    {
     "data": {
      "text/plain": [
       "[<matplotlib.lines.Line2D at 0x7f0041192e80>]"
      ]
     },
     "execution_count": 8,
     "metadata": {},
     "output_type": "execute_result"
    },
    {
     "data": {
      "image/png": "[encoded data removed]",
      "text/plain": [
       "<Figure size 432x288 with 1 Axes>"
      ]
     },
     "metadata": {
      "needs_background": "light"
     },
     "output_type": "display_data"
    }
   ],
   "source": [
    "#observe residue\n",
    "plt.plot(decom.resid)"
   ]
  },
  {
   "cell_type": "code",
   "execution_count": 9,
   "id": "8d81d73b",
   "metadata": {},
   "outputs": [
    {
     "data": {
      "image/png": "[encoded data removed]",
      "text/plain": [
       "<Figure size 432x288 with 1 Axes>"
      ]
     },
     "metadata": {
      "needs_background": "light"
     },
     "output_type": "display_data"
    }
   ],
   "source": [
    "#Visualize India's CO2 emissions since 1900,\n",
    "#including 5-year rolling mean and rolling standard deviation\n",
    "\n",
    "roll_mean = df_India.rolling(window=5, center=False).mean()\n",
    "roll_std = df_India.rolling(window=5, center=False).std()\n",
    "\n",
    "plt.plot(df_India, color='mediumseagreen', label='Original')\n",
    "plt.plot(roll_mean, color='mediumblue', label='Rolling Mean')\n",
    "plt.plot(roll_std, color='orangered', label='Rolling Std')\n",
    "plt.legend(loc='best')\n",
    "plt.title('Rolling Mean & Standard Deviation')\n",
    "plt.xlabel('Year')\n",
    "plt.ylabel('CO2 (KT)')\n",
    "plt.show(block=False)"
   ]
  },
  {
   "cell_type": "markdown",
   "id": "eb5f7f46",
   "metadata": {},
   "source": [
    "Working with time series data we need to understand the nature of data, that is the trends and stationarity.\n",
    "\n",
    "Stationarity can be checked by performing an **Augmented Dickey-Fuller (ADF) test** \n",
    "\n",
    "null hypothesis - there is a unit root in an AR model, which implies that the data series is not stationary\n",
    "\n",
    "> - p-value > 0.05: Fail to reject the null hypothesis (H0), the data has a unit root and is non-stationary.\n",
    "> - p-value <= 0.05: Reject the null hypothesis (H0), the data does not have a unit root and is stationary"
   ]
  },
  {
   "cell_type": "markdown",
   "id": "20a743f0",
   "metadata": {},
   "source": [
    "#### Dickey-Fuller Test"
   ]
  },
  {
   "cell_type": "code",
   "execution_count": 10,
   "id": "41f9198a",
   "metadata": {},
   "outputs": [
    {
     "data": {
      "text/plain": [
       "ADF Statistic                                                        4.772611\n",
       "p-value                                                                   1.0\n",
       "#Lags Used                                                                 12\n",
       "No. of Observations Used                                                  106\n",
       "Critical Values             {'1%': -3.4936021509366793, '5%': -2.889217423...\n",
       "dtype: object"
      ]
     },
     "execution_count": 10,
     "metadata": {},
     "output_type": "execute_result"
    }
   ],
   "source": [
    "#perform Dickey-Fuller test\n",
    "test_result = adfuller(df_India['co2_per_capita'][1:-1])\n",
    "df_result = pd.Series(test_result[0:5], index=['ADF Statistic','p-value','#Lags Used','No. of Observations Used', 'Critical Values'])\n",
    "df_result"
   ]
  },
  {
   "cell_type": "markdown",
   "id": "8fb37fd8",
   "metadata": {},
   "source": [
    "With p-value of 1.0 ( >0.05), we cannot reject that null hypothesis that this is non-stationary.\n",
    "\n",
    "we also can see that our ADF statistic value (6.76) is greater than tha value -3.49 at 1%. This suggests that we cannot reject the null hypothesis with a significance of less than 1%, i.e. a low probability that the result is a statistical fluke. The process has unit root and in turn the timer series is un-stationary or does have time-dependent structure\n",
    "\n",
    "As we observe the data is non-stationary, this cannot be fit for autocorrelation analysis as ACF and PACF assumes data stationary. Lets remedy this below before fitting our model.\n",
    "    "
   ]
  },
  {
   "cell_type": "markdown",
   "id": "855ac81c",
   "metadata": {},
   "source": [
    "## Addressing Trends and Stationarity"
   ]
  },
  {
   "cell_type": "markdown",
   "id": "026b474f",
   "metadata": {},
   "source": [
    "### Log Transformation"
   ]
  },
  {
   "cell_type": "markdown",
   "id": "ba0e0282",
   "metadata": {},
   "source": [
    "In log transformation we apply logarithmic function to a point, and model the time series with the new log-transformed data. \n",
    "\n",
    "we can address lack of variance and covariance by log transformation"
   ]
  },
  {
   "cell_type": "code",
   "execution_count": 11,
   "id": "fa7a9f4f",
   "metadata": {},
   "outputs": [
    {
     "data": {
      "image/png": "[encoded data removed]",
      "text/plain": [
       "<Figure size 432x288 with 1 Axes>"
      ]
     },
     "metadata": {
      "needs_background": "light"
     },
     "output_type": "display_data"
    }
   ],
   "source": [
    "#apply log transformation\n",
    "#Create new dataframe that contains the logged values of the original one\n",
    "log_India = log(df_India)\n",
    "\n",
    "#Visualize Logged data, including 5-year rolling mean and standard deviation\n",
    "roll_mean_log = log_India.rolling(window=5, center=False).mean()\n",
    "roll_std_log = log_India.rolling(window=5, center=False).std()\n",
    "\n",
    "plt.plot(log_India, color='mediumseagreen', label='Original')\n",
    "plt.plot(roll_mean_log, color='mediumblue', label='Rolling Mean')\n",
    "plt.plot(roll_std_log, color='orangered', label='Rolling Std')\n",
    "plt.legend(loc='best')\n",
    "plt.title('Rolling Mean & Standard Deviation, Logged Data')\n",
    "plt.xlabel('Year')\n",
    "plt.ylabel('Logged CO2 (KT)')\n",
    "plt.show(block=False)"
   ]
  },
  {
   "cell_type": "markdown",
   "id": "3b7cf312",
   "metadata": {},
   "source": [
    "Lets again check the p-value by doing a ADF test\n",
    "\n",
    "**Dickey-Fuller test for log transformed data**"
   ]
  },
  {
   "cell_type": "code",
   "execution_count": 12,
   "id": "b1394390",
   "metadata": {},
   "outputs": [
    {
     "data": {
      "text/plain": [
       "ADF Statistic                                                        1.182281\n",
       "p-value                                                              0.995861\n",
       "#Lags Used                                                                 11\n",
       "No. of Observations Used                                                  107\n",
       "Critical Values             {'1%': -3.492995948509562, '5%': -2.8889546480...\n",
       "dtype: object"
      ]
     },
     "execution_count": 12,
     "metadata": {},
     "output_type": "execute_result"
    }
   ],
   "source": [
    "#perform Dickey-Fuller test for log tranformed data\n",
    "test_result = adfuller(log_India['co2_per_capita'][1:-1])\n",
    "df_log_result = pd.Series(test_result[0:5], index=['ADF Statistic','p-value','#Lags Used','No. of Observations Used', 'Critical Values'])\n",
    "df_log_result"
   ]
  },
  {
   "cell_type": "markdown",
   "id": "441f19ca",
   "metadata": {},
   "source": [
    "With p-value of 0.99 ( >0.05), we still cannot reject that null hypothesis that this data is non-stationary. \n",
    "\n",
    "Log transformation did not help achieve stationarity. So lets try another way to achieve true stationarity by subtracting rolling mean of log tranformation\n",
    "\n"
   ]
  },
  {
   "cell_type": "markdown",
   "id": "3e809246",
   "metadata": {},
   "source": [
    "#### Subtracting the Rolling Mean of the Log Transformation"
   ]
  },
  {
   "cell_type": "code",
   "execution_count": 13,
   "id": "8b277a8b",
   "metadata": {},
   "outputs": [
    {
     "data": {
      "image/png": "[encoded data removed]",
      "text/plain": [
       "<Figure size 432x288 with 1 Axes>"
      ]
     },
     "metadata": {
      "needs_background": "light"
     },
     "output_type": "display_data"
    }
   ],
   "source": [
    "#subtracting rolling mean of log transformation\n",
    "log_minus_rollmean = log_India - roll_mean_log\n",
    "\n",
    "#drop null values\n",
    "log_minus_rollmean.dropna(axis=0, inplace=True)\n",
    "\n",
    "#observe data\n",
    "plt.plot(log_minus_rollmean, color='mediumseagreen')\n",
    "plt.title('Logged Data Minus Rolling Mean')\n",
    "plt.xlabel('Year')\n",
    "plt.ylabel('Logged CO2 Rolling Mean')\n",
    "plt.show(block=False)\n"
   ]
  },
  {
   "cell_type": "markdown",
   "id": "91c5f775",
   "metadata": {},
   "source": [
    "Lets again check the p-value by doing a ADF test\n",
    "\n",
    "**Dickey-Fuller test for log-minus-roll-mean data**"
   ]
  },
  {
   "cell_type": "code",
   "execution_count": 14,
   "id": "bbbd5203",
   "metadata": {},
   "outputs": [
    {
     "data": {
      "text/plain": [
       "ADF Statistic                                                       -3.855635\n",
       "p-value                                                              0.002387\n",
       "#Lags Used                                                                 13\n",
       "No. of Observations Used                                                  101\n",
       "Critical Values             {'1%': -3.4968181663902103, '5%': -2.890610751...\n",
       "dtype: object"
      ]
     },
     "execution_count": 14,
     "metadata": {},
     "output_type": "execute_result"
    }
   ],
   "source": [
    "#perform Dickey-Fuller test for log-minus-rollmean data\n",
    "test_result = adfuller(log_minus_rollmean['co2_per_capita'][1:-1])\n",
    "df_sublog_result = pd.Series(test_result[0:5], index=['ADF Statistic','p-value','#Lags Used','No. of Observations Used', 'Critical Values'])\n",
    "df_sublog_result"
   ]
  },
  {
   "cell_type": "markdown",
   "id": "78830304",
   "metadata": {},
   "source": [
    "With p-value of 0.002 ( <0.05), we reject that null hypothesis. This data does not unit root and is stationary.\n",
    "\n",
    "we also can see that our ADF statistic value (-3.85) is less than the value -3.49 at 1%. This suggests that we can reject the null hypothesis with a significance of less than 1%.\n",
    "\n",
    "This data looks much more stationary based on its plot and its Dickey-Fuller test alos yielded similar observation as observed above with a very low p-value, indicating that we can confidently reject the null hypothesis that the data is non-stationary.\n",
    "\n"
   ]
  },
  {
   "cell_type": "markdown",
   "id": "825abe83",
   "metadata": {},
   "source": [
    "> Even though this data is stationary and would likely work well in a time series model, the results of this model would not be interpretable in the context of our business problem.  \n",
    "\n",
    "> For our predictions to be useful, we need them to be in terms of CO2 emissions in K Tonnes. Altering our data to this degree would make them uninterpretable for this purpose, and so we will not pursue a model on this data"
   ]
  },
  {
   "cell_type": "markdown",
   "id": "bd8b1fa9",
   "metadata": {},
   "source": [
    "### Differencing\n",
    "\n",
    "differencing is a very powerful technique to address non-stationary time-series data. Differencing works very well with practical time series.\n",
    "\n",
    "The original data where the ADF test arrived at p-value = 1 suggests no difference between the groupds other than due to chance\n",
    "\n",
    "\n",
    "Now that we have observed log tranformed, we will now observe differnece of our original data until we achieve stationarity so we can model on both datasets"
   ]
  },
  {
   "cell_type": "code",
   "execution_count": 15,
   "id": "2c278d59",
   "metadata": {},
   "outputs": [
    {
     "data": {
      "image/png": "[encoded data removed]",
      "text/plain": [
       "<Figure size 432x288 with 1 Axes>"
      ]
     },
     "metadata": {
      "needs_background": "light"
     },
     "output_type": "display_data"
    }
   ],
   "source": [
    "#create dataframe for differencing\n",
    "diff = df_India.diff().dropna().rename(index=str, columns={\"co2_per_capita\":\"Differenced Observations\"})\n",
    "\n",
    "#Visualize differenced data, inclusing 5-year rolling mean and standard deviation\n",
    "roll_mean_diff = diff.rolling(window=5, center=False).mean()\n",
    "roll_std_diff = diff.rolling(window=5, center=False).std()\n",
    "\n",
    "plt.plot(diff, color='mediumseagreen', label='Original')\n",
    "plt.plot(roll_mean_diff, color='mediumblue', label='Rolling Mean')\n",
    "plt.plot(roll_std_diff, color='orangered', label='Rolling Std')\n",
    "plt.legend(loc='best')\n",
    "plt.title('Rolling Mean & Standard Deviation, Differenced Data')\n",
    "plt.xlabel('Differenced Year')\n",
    "plt.ylabel('Difference CO2 (KT)')\n",
    "plt.show(block=False)\n"
   ]
  },
  {
   "cell_type": "markdown",
   "id": "4ef4dc99",
   "metadata": {},
   "source": [
    "Lets again check the p-value by doing a ADF test\n",
    "\n",
    "**Dickey-Fuller test for log-minus-roll-mean data**"
   ]
  },
  {
   "cell_type": "code",
   "execution_count": 16,
   "id": "83fa1d30",
   "metadata": {},
   "outputs": [
    {
     "data": {
      "text/plain": [
       "ADF Statistic                                                        -1.11171\n",
       "p-value                                                               0.71038\n",
       "#Lags Used                                                                  3\n",
       "No. of Observations Used                                                  114\n",
       "Critical Values             {'1%': -3.489057523907491, '5%': -2.8872463271...\n",
       "dtype: object"
      ]
     },
     "execution_count": 16,
     "metadata": {},
     "output_type": "execute_result"
    }
   ],
   "source": [
    "#perform Dickey-Fuller test for log-minus-rollmean data\n",
    "diff_result = adfuller(diff['Differenced Observations'][1:-1])\n",
    "df_diff_result = pd.Series(diff_result[0:5], index=['ADF Statistic','p-value','#Lags Used','No. of Observations Used', 'Critical Values'])\n",
    "df_diff_result"
   ]
  },
  {
   "cell_type": "markdown",
   "id": "7974e606",
   "metadata": {},
   "source": [
    "Applying 1st order differencing to the original data (p-value = 1), we observe p-value obtained performing ADF test on differenced data is 0.714 (>0.05). we cannot reject the null hypothesis.\n",
    "\n",
    "we also can see that our ADF statistic value (-1.10) is greater than the value -3.48 at 1%. This suggests that we cannot reject the null hypothesis with a significance of less than 1%."
   ]
  },
  {
   "cell_type": "code",
   "execution_count": 17,
   "id": "11f6fc31",
   "metadata": {},
   "outputs": [
    {
     "data": {
      "image/png": "[encoded data removed]",
      "text/plain": [
       "<Figure size 432x288 with 1 Axes>"
      ]
     },
     "metadata": {
      "needs_background": "light"
     },
     "output_type": "display_data"
    }
   ],
   "source": [
    "diff2 = diff.diff().rename(index=str, columns={\"Differenced Observations\":\"2nd\"})\n",
    "\n",
    "#Visualize differenced data, inclusing 5-year rolling mean and standard deviation\n",
    "roll_mean_diff = diff2.rolling(window=5, center=False).mean()\n",
    "roll_std_diff = diff2.rolling(window=5, center=False).std()\n",
    "\n",
    "plt.plot(diff2, color='mediumseagreen', label='Original')\n",
    "plt.plot(roll_mean_diff, color='mediumblue', label='Rolling Mean')\n",
    "plt.plot(roll_std_diff, color='orangered', label='Rolling Std')\n",
    "plt.legend(loc='best')\n",
    "plt.title('Rolling Mean & Standard Deviation, Differenced Data')\n",
    "plt.xlabel('Differenced Year')\n",
    "plt.ylabel('Difference CO2 (KT)')\n",
    "plt.show(block=False)\n"
   ]
  },
  {
   "cell_type": "code",
   "execution_count": 18,
   "id": "745cf873",
   "metadata": {},
   "outputs": [
    {
     "data": {
      "text/plain": [
       "ADF Statistic                                                      -10.832628\n",
       "p-value                                                                   0.0\n",
       "#Lags Used                                                                  2\n",
       "No. of Observations Used                                                  115\n",
       "Critical Values             {'1%': -3.4885349695076844, '5%': -2.887019521...\n",
       "dtype: object"
      ]
     },
     "execution_count": 18,
     "metadata": {},
     "output_type": "execute_result"
    }
   ],
   "source": [
    "#perform Dickey-Fuller test for log-minus-rollmean data\n",
    "diff2_result = adfuller(diff2['2nd'][1:-1])\n",
    "df_diff2_result = pd.Series(diff2_result[0:5], index=['ADF Statistic','p-value','#Lags Used','No. of Observations Used', 'Critical Values'])\n",
    "df_diff2_result"
   ]
  },
  {
   "cell_type": "markdown",
   "id": "3705b793",
   "metadata": {},
   "source": [
    "Statistically p-value can never be absolute zero as it means event we are already observing doesn't exist.\n",
    "\n",
    "While addressing stationarity of time series data, this observation can reject the null hypothesis (real p-value observed is in the order of 1.69e-19). \n",
    "The ADF statistic value (-10.80) is very much less than the value -3.48 at 1%. This suggests that we can comfortably reject the null hypothesis with a significance of less than 1%.\n",
    "\n",
    "Based on real p-value of 1.69e-19, twnding to zero, we have achieved stationarity by 2nd order differencing. We will keep this in count as we test d values in our ARIMA models\n"
   ]
  },
  {
   "cell_type": "markdown",
   "id": "5ecda438",
   "metadata": {},
   "source": [
    "## Modelling\n"
   ]
  },
  {
   "cell_type": "markdown",
   "id": "ae169637",
   "metadata": {},
   "source": [
    "We will create time series models on both our logged data and original data to see which yields better results."
   ]
  },
  {
   "cell_type": "markdown",
   "id": "fa54e7f9",
   "metadata": {},
   "source": [
    "### Logged Data"
   ]
  },
  {
   "cell_type": "markdown",
   "id": "d5004af1",
   "metadata": {},
   "source": [
    "**ACF for Logged Data**\n",
    "\n",
    "ACF gives correlation between time series with a lagged version of itself. The autocorrelation function starts a lag 0, which is correlation of the time series with itself and therefore results in correlation of 1.\n",
    "\n",
    "Auto correlation graphs are used to determine the order of MA model (p values) to be used in the ARIMA Model"
   ]
  },
  {
   "cell_type": "code",
   "execution_count": 119,
   "id": "34df21bd",
   "metadata": {},
   "outputs": [
    {
     "data": {
      "image/png": "[encoded data removed]",
      "text/plain": [
       "<Figure size 432x288 with 1 Axes>"
      ]
     },
     "metadata": {
      "needs_background": "light"
     },
     "output_type": "display_data"
    }
   ],
   "source": [
    "# observe ACF for logged data\n",
    "plot_acf(log_India[:-1], alpha=.05, lags=20);"
   ]
  },
  {
   "cell_type": "markdown",
   "id": "23cb127d",
   "metadata": {},
   "source": [
    "**PACF for Logged Data**\n",
    "\n",
    "PACF gives additional correaltion explained by each successive lagged term. A partial autocorrelation at lag k is the autocorrelation between 𝑋𝑡  and 𝑋𝑡−𝑘. \n",
    "\n",
    "Partial Autocorrelation are used to determine the order of AR model - q values to be used in the ARIMA Model"
   ]
  },
  {
   "cell_type": "code",
   "execution_count": 59,
   "id": "4b3fdeae",
   "metadata": {},
   "outputs": [
    {
     "data": {
      "image/png": "[encoded data removed]",
      "text/plain": [
       "<Figure size 432x288 with 1 Axes>"
      ]
     },
     "metadata": {
      "needs_background": "light"
     },
     "output_type": "display_data"
    }
   ],
   "source": [
    "# PACF for logged data\n",
    "plot_pacf(log_India[:-1], alpha=.05, lags=59);"
   ]
  },
  {
   "cell_type": "markdown",
   "id": "b745afa8",
   "metadata": {},
   "source": [
    "From the above ACF and PACF for our logged data, we can observe\n",
    "\n",
    "> - A series that has a dampened geometric decay of Autocorrelation and Significant at each lag  𝑝  / Cuts off after lag  𝑝 - AR  𝑝   model\n",
    "\n",
    "> -  Our data displayes an AR signature since ACF diminishes gradually and the PACF uctts off sharply at lag 2, showing string correlation. This tells us we would expect to have atleast one AR parameter.\n",
    "\n",
    "> -  When instantiating an ARIMA model, we expect a relatively large number of MA terms due to large number of significant ACF points and relatively smaller AR terms due to small number of significant PACF points."
   ]
  },
  {
   "cell_type": "markdown",
   "id": "f5bba82e",
   "metadata": {},
   "source": [
    "**ARIMA Model for Logged Data**"
   ]
  },
  {
   "cell_type": "code",
   "execution_count": 128,
   "id": "61e75ad7",
   "metadata": {},
   "outputs": [
    {
     "name": "stdout",
     "output_type": "stream",
     "text": [
      "                               SARIMAX Results                                \n",
      "==============================================================================\n",
      "Dep. Variable:         co2_per_capita   No. Observations:                  120\n",
      "Model:                 ARIMA(2, 0, 0)   Log Likelihood                 169.946\n",
      "Date:                Tue, 22 Mar 2022   AIC                           -331.891\n",
      "Time:                        23:25:53   BIC                           -320.741\n",
      "Sample:                    01-01-1900   HQIC                          -327.363\n",
      "                         - 01-01-2019                                         \n",
      "Covariance Type:                  opg                                         \n",
      "==============================================================================\n",
      "                 coef    std err          z      P>|z|      [0.025      0.975]\n",
      "------------------------------------------------------------------------------\n",
      "const         -1.3091    444.093     -0.003      0.998    -871.716     869.098\n",
      "ar.L1          1.3204      0.081     16.350      0.000       1.162       1.479\n",
      "ar.L2         -0.3204      0.081     -3.968      0.000      -0.479      -0.162\n",
      "sigma2         0.0031      0.000      9.755      0.000       0.003       0.004\n",
      "===================================================================================\n",
      "Ljung-Box (L1) (Q):                   7.78   Jarque-Bera (JB):               137.29\n",
      "Prob(Q):                              0.01   Prob(JB):                         0.00\n",
      "Heteroskedasticity (H):               0.22   Skew:                            -1.10\n",
      "Prob(H) (two-sided):                  0.00   Kurtosis:                         7.76\n",
      "===================================================================================\n",
      "\n",
      "Warnings:\n",
      "[1] Covariance matrix calculated using the outer product of gradients (complex-step).\n"
     ]
    }
   ],
   "source": [
    "#instantiate ARIMA model for logged data\n",
    "\n",
    "#Instantiate model\n",
    "model_log = ARIMA(log_India[:-1], order=(2,0,0))\n",
    "\n",
    "#Fit Model\n",
    "results = model_log.fit()\n",
    "\n",
    "#observe summary statistics\n",
    "print(results.summary())"
   ]
  },
  {
   "cell_type": "code",
   "execution_count": 129,
   "id": "d15bb26e",
   "metadata": {},
   "outputs": [
    {
     "data": {
      "image/png": "[encoded data removed]",
      "text/plain": [
       "<Figure size 432x288 with 1 Axes>"
      ]
     },
     "metadata": {
      "needs_background": "light"
     },
     "output_type": "display_data"
    }
   ],
   "source": [
    "from pandas import DataFrame\n",
    "residuals = DataFrame(results.resid)\n",
    "residuals.plot()\n",
    "plt.show()\n"
   ]
  },
  {
   "cell_type": "code",
   "execution_count": 125,
   "id": "7c5edef2",
   "metadata": {},
   "outputs": [
    {
     "data": {
      "text/html": [
       "<div>\n",
       "<style scoped>\n",
       "    .dataframe tbody tr th:only-of-type {\n",
       "        vertical-align: middle;\n",
       "    }\n",
       "\n",
       "    .dataframe tbody tr th {\n",
       "        vertical-align: top;\n",
       "    }\n",
       "\n",
       "    .dataframe thead th {\n",
       "        text-align: right;\n",
       "    }\n",
       "</style>\n",
       "<table border=\"1\" class=\"dataframe\">\n",
       "  <thead>\n",
       "    <tr style=\"text-align: right;\">\n",
       "      <th></th>\n",
       "      <th>0</th>\n",
       "    </tr>\n",
       "  </thead>\n",
       "  <tbody>\n",
       "    <tr>\n",
       "      <th>count</th>\n",
       "      <td>120.000000</td>\n",
       "    </tr>\n",
       "    <tr>\n",
       "      <th>mean</th>\n",
       "      <td>0.006081</td>\n",
       "    </tr>\n",
       "    <tr>\n",
       "      <th>std</th>\n",
       "      <td>0.181660</td>\n",
       "    </tr>\n",
       "    <tr>\n",
       "      <th>min</th>\n",
       "      <td>-1.885122</td>\n",
       "    </tr>\n",
       "    <tr>\n",
       "      <th>25%</th>\n",
       "      <td>-0.004703</td>\n",
       "    </tr>\n",
       "    <tr>\n",
       "      <th>50%</th>\n",
       "      <td>0.026785</td>\n",
       "    </tr>\n",
       "    <tr>\n",
       "      <th>75%</th>\n",
       "      <td>0.052546</td>\n",
       "    </tr>\n",
       "    <tr>\n",
       "      <th>max</th>\n",
       "      <td>0.149017</td>\n",
       "    </tr>\n",
       "  </tbody>\n",
       "</table>\n",
       "</div>"
      ],
      "text/plain": [
       "                0\n",
       "count  120.000000\n",
       "mean     0.006081\n",
       "std      0.181660\n",
       "min     -1.885122\n",
       "25%     -0.004703\n",
       "50%      0.026785\n",
       "75%      0.052546\n",
       "max      0.149017"
      ]
     },
     "execution_count": 125,
     "metadata": {},
     "output_type": "execute_result"
    }
   ],
   "source": [
    "residuals.describe()"
   ]
  },
  {
   "cell_type": "code",
   "execution_count": 126,
   "id": "90e5ed5d",
   "metadata": {},
   "outputs": [
    {
     "data": {
      "image/png": "[encoded data removed]",
      "text/plain": [
       "<Figure size 432x288 with 1 Axes>"
      ]
     },
     "metadata": {
      "needs_background": "light"
     },
     "output_type": "display_data"
    }
   ],
   "source": [
    "residuals.plot(kind='kde')\n",
    "plt.show()"
   ]
  },
  {
   "cell_type": "code",
   "execution_count": 130,
   "id": "a4fb3e2a",
   "metadata": {},
   "outputs": [
    {
     "data": {
      "text/plain": [
       "<function matplotlib.pyplot.show(close=None, block=None)>"
      ]
     },
     "execution_count": 130,
     "metadata": {},
     "output_type": "execute_result"
    },
    {
     "data": {
      "image/png": "[encoded data removed]",
      "text/plain": [
       "<Figure size 720x576 with 4 Axes>"
      ]
     },
     "metadata": {
      "needs_background": "light"
     },
     "output_type": "display_data"
    }
   ],
   "source": [
    "results.plot_diagnostics(figsize=(10,8))\n",
    "plt.show"
   ]
  },
  {
   "cell_type": "code",
   "execution_count": 136,
   "id": "5746ad0f",
   "metadata": {
    "scrolled": false
   },
   "outputs": [
    {
     "data": {
      "text/html": [
       "<div>\n",
       "<style scoped>\n",
       "    .dataframe tbody tr th:only-of-type {\n",
       "        vertical-align: middle;\n",
       "    }\n",
       "\n",
       "    .dataframe tbody tr th {\n",
       "        vertical-align: top;\n",
       "    }\n",
       "\n",
       "    .dataframe thead th {\n",
       "        text-align: right;\n",
       "    }\n",
       "</style>\n",
       "<table border=\"1\" class=\"dataframe\">\n",
       "  <thead>\n",
       "    <tr style=\"text-align: right;\">\n",
       "      <th></th>\n",
       "      <th>lower co2_per_capita</th>\n",
       "      <th>upper co2_per_capita</th>\n",
       "    </tr>\n",
       "  </thead>\n",
       "  <tbody>\n",
       "    <tr>\n",
       "      <th>2017-01-01</th>\n",
       "      <td>0.489521</td>\n",
       "      <td>0.709214</td>\n",
       "    </tr>\n",
       "    <tr>\n",
       "      <th>2007-01-01</th>\n",
       "      <td>-0.017426</td>\n",
       "      <td>0.202268</td>\n",
       "    </tr>\n",
       "    <tr>\n",
       "      <th>2011-01-01</th>\n",
       "      <td>0.205242</td>\n",
       "      <td>0.424935</td>\n",
       "    </tr>\n",
       "    <tr>\n",
       "      <th>2006-01-01</th>\n",
       "      <td>-0.065710</td>\n",
       "      <td>0.153983</td>\n",
       "    </tr>\n",
       "    <tr>\n",
       "      <th>2008-01-01</th>\n",
       "      <td>0.047423</td>\n",
       "      <td>0.267116</td>\n",
       "    </tr>\n",
       "  </tbody>\n",
       "</table>\n",
       "</div>"
      ],
      "text/plain": [
       "            lower co2_per_capita  upper co2_per_capita\n",
       "2017-01-01              0.489521              0.709214\n",
       "2007-01-01             -0.017426              0.202268\n",
       "2011-01-01              0.205242              0.424935\n",
       "2006-01-01             -0.065710              0.153983\n",
       "2008-01-01              0.047423              0.267116"
      ]
     },
     "execution_count": 136,
     "metadata": {},
     "output_type": "execute_result"
    }
   ],
   "source": [
    "pred = results.get_prediction(start=100, end=120, dynamic=False)\n",
    "pred_ci = pred.conf_int()\n",
    "pred_ci.sample(5)"
   ]
  },
  {
   "cell_type": "code",
   "execution_count": null,
   "id": "48a49483",
   "metadata": {},
   "outputs": [],
   "source": []
  },
  {
   "cell_type": "markdown",
   "id": "687f9e7a",
   "metadata": {},
   "source": [
    "***Tasks***\n",
    "\n",
    "- _Adressing Trends and Stationarity - Differncing_\n",
    "- Modelling          (ongoing)\n",
    "    - ACF and PACF\n",
    "    - AR, MA\n",
    "    - ARIMA\n",
    "    - SARIMA\n",
    "    - GRU\n",
    "    - LSTM\n",
    "- Performance\n",
    "    - RMSE\n",
    "    - AIC\n",
    "- Analyse Final Model"
   ]
  },
  {
   "cell_type": "code",
   "execution_count": null,
   "id": "50504147",
   "metadata": {},
   "outputs": [],
   "source": []
  }
 ],
 "metadata": {
  "kernelspec": {
   "display_name": "Python 3 (ipykernel)",
   "language": "python",
   "name": "python3"
  },
  "language_info": {
   "codemirror_mode": {
    "name": "ipython",
    "version": 3
   },
   "file_extension": ".py",
   "mimetype": "text/x-python",
   "name": "python",
   "nbconvert_exporter": "python",
   "pygments_lexer": "ipython3",
   "version": "3.8.10"
  }
 },
 "nbformat": 4,
 "nbformat_minor": 5
}
