{
 "cells": [
  {
   "cell_type": "code",
   "execution_count": 1,
   "id": "0bf1b327",
   "metadata": {},
   "outputs": [],
   "source": [
    "# Import necessary libraries and packages\n",
    "import pandas as pd\n",
    "from pandas import DataFrame\n",
    "import numpy as np\n",
    "from matplotlib import pyplot\n",
    "import matplotlib.pyplot as plt\n",
    "from matplotlib.pylab import rcParams\n",
    "import warnings\n",
    "from math import exp\n",
    "from numpy import log\n",
    "\n",
    "from statsmodels.graphics.tsaplots import plot_acf\n",
    "from statsmodels.graphics.tsaplots import plot_pacf\n",
    "from statsmodels.tsa.arima.model import ARIMA\n",
    "from statsmodels.tsa.statespace.sarimax import SARIMAX\n",
    "from statsmodels.tsa.stattools import adfuller\n",
    "from statsmodels.tsa.seasonal import seasonal_decompose\n",
    "from statsmodels.tsa.holtwinters import ExponentialSmoothing\n",
    "import statsmodels.api as sm\n",
    "from scipy import stats\n",
    "\n",
    "import plotly.graph_objs as go\n",
    "from plotly.subplots import make_subplots\n",
    "import seaborn as sns\n",
    "# Preferred settings\n",
    "warnings.filterwarnings('ignore')\n",
    "pd.set_option('display.max_columns', 100)\n"
   ]
  },
  {
   "cell_type": "code",
   "execution_count": 2,
   "id": "fa9c1ae9",
   "metadata": {},
   "outputs": [
    {
     "name": "stdout",
     "output_type": "stream",
     "text": [
      "(120, 46)\n"
     ]
    }
   ],
   "source": [
    "#import temperature dataset\n",
    "data = pd.read_csv('../Data/Indicators/tas_timeseries_annual_cru_1901-2020_IND.csv')\n",
    "\n",
    "#Observe data shape\n",
    "print(data.shape)"
   ]
  },
  {
   "cell_type": "markdown",
   "id": "13128bba",
   "metadata": {},
   "source": [
    "## Data Cleaning and Preprocessing"
   ]
  },
  {
   "cell_type": "code",
   "execution_count": 3,
   "id": "d70a2119",
   "metadata": {},
   "outputs": [
    {
     "data": {
      "text/html": [
       "<div>\n",
       "<style scoped>\n",
       "    .dataframe tbody tr th:only-of-type {\n",
       "        vertical-align: middle;\n",
       "    }\n",
       "\n",
       "    .dataframe tbody tr th {\n",
       "        vertical-align: top;\n",
       "    }\n",
       "\n",
       "    .dataframe thead th {\n",
       "        text-align: right;\n",
       "    }\n",
       "</style>\n",
       "<table border=\"1\" class=\"dataframe\">\n",
       "  <thead>\n",
       "    <tr style=\"text-align: right;\">\n",
       "      <th></th>\n",
       "      <th>year</th>\n",
       "      <th>India</th>\n",
       "    </tr>\n",
       "  </thead>\n",
       "  <tbody>\n",
       "    <tr>\n",
       "      <th>0</th>\n",
       "      <td>1901</td>\n",
       "      <td>24.26</td>\n",
       "    </tr>\n",
       "    <tr>\n",
       "      <th>1</th>\n",
       "      <td>1902</td>\n",
       "      <td>24.52</td>\n",
       "    </tr>\n",
       "    <tr>\n",
       "      <th>2</th>\n",
       "      <td>1903</td>\n",
       "      <td>23.96</td>\n",
       "    </tr>\n",
       "    <tr>\n",
       "      <th>3</th>\n",
       "      <td>1904</td>\n",
       "      <td>24.02</td>\n",
       "    </tr>\n",
       "    <tr>\n",
       "      <th>4</th>\n",
       "      <td>1905</td>\n",
       "      <td>23.87</td>\n",
       "    </tr>\n",
       "    <tr>\n",
       "      <th>...</th>\n",
       "      <td>...</td>\n",
       "      <td>...</td>\n",
       "    </tr>\n",
       "    <tr>\n",
       "      <th>115</th>\n",
       "      <td>2016</td>\n",
       "      <td>25.27</td>\n",
       "    </tr>\n",
       "    <tr>\n",
       "      <th>116</th>\n",
       "      <td>2017</td>\n",
       "      <td>25.15</td>\n",
       "    </tr>\n",
       "    <tr>\n",
       "      <th>117</th>\n",
       "      <td>2018</td>\n",
       "      <td>25.00</td>\n",
       "    </tr>\n",
       "    <tr>\n",
       "      <th>118</th>\n",
       "      <td>2019</td>\n",
       "      <td>24.94</td>\n",
       "    </tr>\n",
       "    <tr>\n",
       "      <th>119</th>\n",
       "      <td>2020</td>\n",
       "      <td>24.80</td>\n",
       "    </tr>\n",
       "  </tbody>\n",
       "</table>\n",
       "<p>120 rows × 2 columns</p>\n",
       "</div>"
      ],
      "text/plain": [
       "     year  India\n",
       "0    1901  24.26\n",
       "1    1902  24.52\n",
       "2    1903  23.96\n",
       "3    1904  24.02\n",
       "4    1905  23.87\n",
       "..    ...    ...\n",
       "115  2016  25.27\n",
       "116  2017  25.15\n",
       "117  2018  25.00\n",
       "118  2019  24.94\n",
       "119  2020  24.80\n",
       "\n",
       "[120 rows x 2 columns]"
      ]
     },
     "execution_count": 3,
     "metadata": {},
     "output_type": "execute_result"
    }
   ],
   "source": [
    "#load data\n",
    "df_India = data\n",
    "\n",
    "#only include India's temperature data \n",
    "df_India = df_India[['year', 'India']]\n",
    "df_India"
   ]
  },
  {
   "cell_type": "markdown",
   "id": "10415050",
   "metadata": {},
   "source": [
    "We convert both into a indexed dataframe to concatenate the dataframes later for multivariate forecasting"
   ]
  },
  {
   "cell_type": "code",
   "execution_count": 4,
   "id": "09be1af2",
   "metadata": {},
   "outputs": [],
   "source": [
    "#Convert year to index\n",
    "df_India.set_index('year', inplace=True)\n",
    "\n",
    "#Convert year to DateTime object\n",
    "df_India.index = pd.to_datetime(df_India.index, format='%Y')\n"
   ]
  },
  {
   "cell_type": "code",
   "execution_count": 5,
   "id": "19e39ecf",
   "metadata": {},
   "outputs": [
    {
     "data": {
      "text/html": [
       "<div>\n",
       "<style scoped>\n",
       "    .dataframe tbody tr th:only-of-type {\n",
       "        vertical-align: middle;\n",
       "    }\n",
       "\n",
       "    .dataframe tbody tr th {\n",
       "        vertical-align: top;\n",
       "    }\n",
       "\n",
       "    .dataframe thead th {\n",
       "        text-align: right;\n",
       "    }\n",
       "</style>\n",
       "<table border=\"1\" class=\"dataframe\">\n",
       "  <thead>\n",
       "    <tr style=\"text-align: right;\">\n",
       "      <th></th>\n",
       "      <th>India</th>\n",
       "    </tr>\n",
       "    <tr>\n",
       "      <th>year</th>\n",
       "      <th></th>\n",
       "    </tr>\n",
       "  </thead>\n",
       "  <tbody>\n",
       "    <tr>\n",
       "      <th>1901-01-01</th>\n",
       "      <td>24.26</td>\n",
       "    </tr>\n",
       "    <tr>\n",
       "      <th>1902-01-01</th>\n",
       "      <td>24.52</td>\n",
       "    </tr>\n",
       "    <tr>\n",
       "      <th>1903-01-01</th>\n",
       "      <td>23.96</td>\n",
       "    </tr>\n",
       "    <tr>\n",
       "      <th>1904-01-01</th>\n",
       "      <td>24.02</td>\n",
       "    </tr>\n",
       "    <tr>\n",
       "      <th>1905-01-01</th>\n",
       "      <td>23.87</td>\n",
       "    </tr>\n",
       "  </tbody>\n",
       "</table>\n",
       "</div>"
      ],
      "text/plain": [
       "            India\n",
       "year             \n",
       "1901-01-01  24.26\n",
       "1902-01-01  24.52\n",
       "1903-01-01  23.96\n",
       "1904-01-01  24.02\n",
       "1905-01-01  23.87"
      ]
     },
     "execution_count": 5,
     "metadata": {},
     "output_type": "execute_result"
    }
   ],
   "source": [
    "#observe updated df\n",
    "df_India.head(5)"
   ]
  },
  {
   "cell_type": "markdown",
   "id": "f3783ee1",
   "metadata": {},
   "source": [
    "Since we only try to forecast the change in temperature with respect to changing emission patterns, we obtain difference the data to make it a dataset of change in temperature"
   ]
  },
  {
   "cell_type": "code",
   "execution_count": 6,
   "id": "06e0dce3",
   "metadata": {},
   "outputs": [
    {
     "data": {
      "text/html": [
       "<div>\n",
       "<style scoped>\n",
       "    .dataframe tbody tr th:only-of-type {\n",
       "        vertical-align: middle;\n",
       "    }\n",
       "\n",
       "    .dataframe tbody tr th {\n",
       "        vertical-align: top;\n",
       "    }\n",
       "\n",
       "    .dataframe thead th {\n",
       "        text-align: right;\n",
       "    }\n",
       "</style>\n",
       "<table border=\"1\" class=\"dataframe\">\n",
       "  <thead>\n",
       "    <tr style=\"text-align: right;\">\n",
       "      <th></th>\n",
       "      <th>temperature</th>\n",
       "    </tr>\n",
       "    <tr>\n",
       "      <th>year</th>\n",
       "      <th></th>\n",
       "    </tr>\n",
       "  </thead>\n",
       "  <tbody>\n",
       "    <tr>\n",
       "      <th>1901-01-01</th>\n",
       "      <td>24.26</td>\n",
       "    </tr>\n",
       "    <tr>\n",
       "      <th>1902-01-01</th>\n",
       "      <td>24.52</td>\n",
       "    </tr>\n",
       "    <tr>\n",
       "      <th>1903-01-01</th>\n",
       "      <td>23.96</td>\n",
       "    </tr>\n",
       "    <tr>\n",
       "      <th>1904-01-01</th>\n",
       "      <td>24.02</td>\n",
       "    </tr>\n",
       "    <tr>\n",
       "      <th>1905-01-01</th>\n",
       "      <td>23.87</td>\n",
       "    </tr>\n",
       "    <tr>\n",
       "      <th>...</th>\n",
       "      <td>...</td>\n",
       "    </tr>\n",
       "    <tr>\n",
       "      <th>2016-01-01</th>\n",
       "      <td>25.27</td>\n",
       "    </tr>\n",
       "    <tr>\n",
       "      <th>2017-01-01</th>\n",
       "      <td>25.15</td>\n",
       "    </tr>\n",
       "    <tr>\n",
       "      <th>2018-01-01</th>\n",
       "      <td>25.00</td>\n",
       "    </tr>\n",
       "    <tr>\n",
       "      <th>2019-01-01</th>\n",
       "      <td>24.94</td>\n",
       "    </tr>\n",
       "    <tr>\n",
       "      <th>2020-01-01</th>\n",
       "      <td>24.80</td>\n",
       "    </tr>\n",
       "  </tbody>\n",
       "</table>\n",
       "<p>120 rows × 1 columns</p>\n",
       "</div>"
      ],
      "text/plain": [
       "            temperature\n",
       "year                   \n",
       "1901-01-01        24.26\n",
       "1902-01-01        24.52\n",
       "1903-01-01        23.96\n",
       "1904-01-01        24.02\n",
       "1905-01-01        23.87\n",
       "...                 ...\n",
       "2016-01-01        25.27\n",
       "2017-01-01        25.15\n",
       "2018-01-01        25.00\n",
       "2019-01-01        24.94\n",
       "2020-01-01        24.80\n",
       "\n",
       "[120 rows x 1 columns]"
      ]
     },
     "execution_count": 6,
     "metadata": {},
     "output_type": "execute_result"
    }
   ],
   "source": [
    "df_India.rename(columns = {'India':'temperature'}, inplace=True)\n",
    "df_India"
   ]
  },
  {
   "cell_type": "code",
   "execution_count": 7,
   "id": "e8e651b3",
   "metadata": {},
   "outputs": [
    {
     "data": {
      "text/plain": [
       "temperature    float64\n",
       "dtype: object"
      ]
     },
     "execution_count": 7,
     "metadata": {},
     "output_type": "execute_result"
    }
   ],
   "source": [
    "#check dtypes\n",
    "df_India.dtypes"
   ]
  },
  {
   "cell_type": "code",
   "execution_count": 8,
   "id": "235a2d1d",
   "metadata": {},
   "outputs": [
    {
     "data": {
      "text/plain": [
       "temperature    0\n",
       "dtype: int64"
      ]
     },
     "execution_count": 8,
     "metadata": {},
     "output_type": "execute_result"
    }
   ],
   "source": [
    "#check null values\n",
    "df_India.isnull().sum()"
   ]
  },
  {
   "cell_type": "code",
   "execution_count": 9,
   "id": "ef432345",
   "metadata": {},
   "outputs": [
    {
     "name": "stdout",
     "output_type": "stream",
     "text": [
      "<class 'pandas.core.frame.DataFrame'>\n",
      "DatetimeIndex: 120 entries, 1901-01-01 to 2020-01-01\n",
      "Data columns (total 1 columns):\n",
      " #   Column       Non-Null Count  Dtype  \n",
      "---  ------       --------------  -----  \n",
      " 0   temperature  120 non-null    float64\n",
      "dtypes: float64(1)\n",
      "memory usage: 1.9 KB\n"
     ]
    }
   ],
   "source": [
    "df_India.info()"
   ]
  },
  {
   "cell_type": "code",
   "execution_count": 10,
   "id": "aaff2040",
   "metadata": {},
   "outputs": [
    {
     "data": {
      "text/html": [
       "<div>\n",
       "<style scoped>\n",
       "    .dataframe tbody tr th:only-of-type {\n",
       "        vertical-align: middle;\n",
       "    }\n",
       "\n",
       "    .dataframe tbody tr th {\n",
       "        vertical-align: top;\n",
       "    }\n",
       "\n",
       "    .dataframe thead th {\n",
       "        text-align: right;\n",
       "    }\n",
       "</style>\n",
       "<table border=\"1\" class=\"dataframe\">\n",
       "  <thead>\n",
       "    <tr style=\"text-align: right;\">\n",
       "      <th></th>\n",
       "      <th>temperature</th>\n",
       "    </tr>\n",
       "  </thead>\n",
       "  <tbody>\n",
       "    <tr>\n",
       "      <th>count</th>\n",
       "      <td>120.000000</td>\n",
       "    </tr>\n",
       "    <tr>\n",
       "      <th>mean</th>\n",
       "      <td>24.393750</td>\n",
       "    </tr>\n",
       "    <tr>\n",
       "      <th>std</th>\n",
       "      <td>0.368723</td>\n",
       "    </tr>\n",
       "    <tr>\n",
       "      <th>min</th>\n",
       "      <td>23.470000</td>\n",
       "    </tr>\n",
       "    <tr>\n",
       "      <th>25%</th>\n",
       "      <td>24.117500</td>\n",
       "    </tr>\n",
       "    <tr>\n",
       "      <th>50%</th>\n",
       "      <td>24.340000</td>\n",
       "    </tr>\n",
       "    <tr>\n",
       "      <th>75%</th>\n",
       "      <td>24.652500</td>\n",
       "    </tr>\n",
       "    <tr>\n",
       "      <th>max</th>\n",
       "      <td>25.470000</td>\n",
       "    </tr>\n",
       "  </tbody>\n",
       "</table>\n",
       "</div>"
      ],
      "text/plain": [
       "       temperature\n",
       "count   120.000000\n",
       "mean     24.393750\n",
       "std       0.368723\n",
       "min      23.470000\n",
       "25%      24.117500\n",
       "50%      24.340000\n",
       "75%      24.652500\n",
       "max      25.470000"
      ]
     },
     "execution_count": 10,
     "metadata": {},
     "output_type": "execute_result"
    }
   ],
   "source": [
    "df_India.describe()"
   ]
  },
  {
   "cell_type": "markdown",
   "id": "b665cf75",
   "metadata": {},
   "source": [
    "## Visualisation"
   ]
  },
  {
   "cell_type": "code",
   "execution_count": 11,
   "id": "289a2f77",
   "metadata": {},
   "outputs": [
    {
     "data": {
      "text/plain": [
       "<AxesSubplot:xlabel='year'>"
      ]
     },
     "execution_count": 11,
     "metadata": {},
     "output_type": "execute_result"
    },
    {
     "data": {
      "image/png": "[encoded data removed]",
      "text/plain": [
       "<Figure size 432x288 with 1 Axes>"
      ]
     },
     "metadata": {
      "needs_background": "light"
     },
     "output_type": "display_data"
    }
   ],
   "source": [
    "#observe co2 emissions\n",
    "df_India['temperature'].plot(legend = True)"
   ]
  },
  {
   "cell_type": "markdown",
   "id": "0f75d1c9",
   "metadata": {},
   "source": [
    "## Exploratory Data Analysis "
   ]
  },
  {
   "cell_type": "markdown",
   "id": "1fcfafbe",
   "metadata": {},
   "source": [
    "**Reviewing plots of the density of observations can provide further insight into the structure of the data**"
   ]
  },
  {
   "cell_type": "code",
   "execution_count": 12,
   "id": "d7719882",
   "metadata": {},
   "outputs": [
    {
     "data": {
      "image/png": "[encoded data removed]",
      "text/plain": [
       "<Figure size 432x288 with 2 Axes>"
      ]
     },
     "metadata": {
      "needs_background": "light"
     },
     "output_type": "display_data"
    }
   ],
   "source": [
    "#observe density of per capita emissions\n",
    "pyplot.figure(1)\n",
    "pyplot.subplot(211)\n",
    "df_India.temperature.hist()\n",
    "pyplot.subplot(212)\n",
    "df_India.temperature.plot(kind='kde')\n",
    "pyplot.show()"
   ]
  },
  {
   "cell_type": "markdown",
   "id": "e42eb5bd",
   "metadata": {},
   "source": [
    "From the above graphs we can observe, \n",
    "- The distribution is not perfectly Gausian (normal distribution)\n",
    "- The temperature distribution is partially skewed to right\n",
    "- Transformations might be useful prior to modelling"
   ]
  },
  {
   "cell_type": "markdown",
   "id": "cfa26d55",
   "metadata": {},
   "source": [
    "**Reviewing Box plot of emissions over decades provides insight into the trend and seasonality of the data**"
   ]
  },
  {
   "cell_type": "code",
   "execution_count": 13,
   "id": "93c50cec",
   "metadata": {},
   "outputs": [
    {
     "data": {
      "text/plain": [
       "<AxesSubplot:xlabel='year', ylabel='temperature'>"
      ]
     },
     "execution_count": 13,
     "metadata": {},
     "output_type": "execute_result"
    },
    {
     "data": {
      "image/png": "[encoded data removed]",
      "text/plain": [
       "<Figure size 1080x432 with 1 Axes>"
      ]
     },
     "metadata": {
      "needs_background": "light"
     },
     "output_type": "display_data"
    }
   ],
   "source": [
    "#observe box plots of temperature change\n",
    "fig, ax = plt.subplots(figsize=(15,6))\n",
    "sns.boxplot(df_India.temperature.index.year // 10 * 10, df_India.temperature, ax=ax)"
   ]
  },
  {
   "cell_type": "markdown",
   "id": "d973b8ab",
   "metadata": {},
   "source": [
    "From the above plot we can observe,\n",
    "- Median values across decade shows irregular rise and fall in temperature\n",
    "- Disproportionate change in temperature"
   ]
  },
  {
   "cell_type": "markdown",
   "id": "fd5ecd1f",
   "metadata": {},
   "source": [
    "**Distribution and Normality Test**"
   ]
  },
  {
   "cell_type": "code",
   "execution_count": 14,
   "id": "b5e0042a",
   "metadata": {},
   "outputs": [
    {
     "name": "stdout",
     "output_type": "stream",
     "text": [
      "Kurtosis of normal distribution 0.006866456551592126\n",
      "Skewness of normal distribution 0.5245352319069865\n"
     ]
    },
    {
     "data": {
      "image/png": "[encoded data removed]",
      "text/plain": [
       "<Figure size 432x288 with 1 Axes>"
      ]
     },
     "metadata": {
      "needs_background": "light"
     },
     "output_type": "display_data"
    }
   ],
   "source": [
    "#observe distribution and normality of emissions of temperature change\n",
    "sns.distplot(df_India.temperature);\n",
    "stats.normaltest(df_India.temperature)\n",
    "print('Kurtosis of normal distribution {}'.format(stats.kurtosis(df_India.temperature)))\n",
    "print( 'Skewness of normal distribution {}'.format(stats.skew(df_India.temperature)))"
   ]
  },
  {
   "cell_type": "markdown",
   "id": "020c9a22",
   "metadata": {},
   "source": [
    "> - **Kurtosis** describes heaviness of the tails of distribution -  A neagtive value mean that data has ligh tails\n",
    "> - **Skewness** - distribution is approximately similar"
   ]
  },
  {
   "cell_type": "markdown",
   "id": "cb879421",
   "metadata": {},
   "source": [
    "Lets observe the temperature distribution before hand"
   ]
  },
  {
   "cell_type": "markdown",
   "id": "8e212b3f",
   "metadata": {},
   "source": [
    "Normal probability plot shows that dataset has almost regular distribution, with trends"
   ]
  },
  {
   "cell_type": "code",
   "execution_count": 15,
   "id": "dc3b7644",
   "metadata": {},
   "outputs": [
    {
     "data": {
      "text/html": [
       "<div>\n",
       "<style scoped>\n",
       "    .dataframe tbody tr th:only-of-type {\n",
       "        vertical-align: middle;\n",
       "    }\n",
       "\n",
       "    .dataframe tbody tr th {\n",
       "        vertical-align: top;\n",
       "    }\n",
       "\n",
       "    .dataframe thead th {\n",
       "        text-align: right;\n",
       "    }\n",
       "</style>\n",
       "<table border=\"1\" class=\"dataframe\">\n",
       "  <thead>\n",
       "    <tr style=\"text-align: right;\">\n",
       "      <th></th>\n",
       "      <th>count</th>\n",
       "      <th>mean</th>\n",
       "      <th>std</th>\n",
       "      <th>min</th>\n",
       "      <th>25%</th>\n",
       "      <th>50%</th>\n",
       "      <th>75%</th>\n",
       "      <th>max</th>\n",
       "    </tr>\n",
       "  </thead>\n",
       "  <tbody>\n",
       "    <tr>\n",
       "      <th>temperature</th>\n",
       "      <td>120.0</td>\n",
       "      <td>24.39375</td>\n",
       "      <td>0.368723</td>\n",
       "      <td>23.47</td>\n",
       "      <td>24.1175</td>\n",
       "      <td>24.34</td>\n",
       "      <td>24.6525</td>\n",
       "      <td>25.47</td>\n",
       "    </tr>\n",
       "  </tbody>\n",
       "</table>\n",
       "</div>"
      ],
      "text/plain": [
       "             count      mean       std    min      25%    50%      75%    max\n",
       "temperature  120.0  24.39375  0.368723  23.47  24.1175  24.34  24.6525  25.47"
      ]
     },
     "execution_count": 15,
     "metadata": {},
     "output_type": "execute_result"
    },
    {
     "data": {
      "image/png": "[encoded data removed]",
      "text/plain": [
       "<Figure size 1008x432 with 2 Axes>"
      ]
     },
     "metadata": {
      "needs_background": "light"
     },
     "output_type": "display_data"
    }
   ],
   "source": [
    "#observe distribution\n",
    "plt.figure(figsize=(14,6))\n",
    "plt.subplot(1,2,1)\n",
    "df_India.temperature.hist(bins=50,edgecolor='black', grid=False)\n",
    "plt.title('Temperature Change Distribution')\n",
    "\n",
    "plt.subplot(1,2,2)\n",
    "stats.probplot(df_India.temperature, plot=plt);\n",
    "#print(\"Skewness: %f\" % df['Consumption'].skew())\n",
    "#print(\"Kurtosis: %f\" % df['Consumption'].kurt())\n",
    "df_India.describe().transpose()"
   ]
  },
  {
   "cell_type": "markdown",
   "id": "9f4ebe95",
   "metadata": {},
   "source": [
    "**Before starting to analyse the stationarity of data, lets need to understand the trend, seasonality and bias of our data by Decomposing** "
   ]
  },
  {
   "cell_type": "code",
   "execution_count": 16,
   "id": "2606e50f",
   "metadata": {},
   "outputs": [
    {
     "data": {
      "image/png": "[encoded data removed]",
      "text/plain": [
       "<Figure size 432x288 with 4 Axes>"
      ]
     },
     "metadata": {
      "needs_background": "light"
     },
     "output_type": "display_data"
    }
   ],
   "source": [
    "#observe trend and seasonality of temperature\n",
    "from pylab import rcParams\n",
    "decomposition = sm.tsa.seasonal_decompose(df_India.temperature, model='additive')\n",
    "trend = decomposition.trend\n",
    "seasonal = decomposition.seasonal\n",
    "residual = decomposition.resid\n",
    "\n",
    "plt.subplot(411)\n",
    "plt.plot(df_India.temperature, label='Original')\n",
    "plt.legend(loc='best')\n",
    "plt.subplot(412)\n",
    "plt.plot(trend, label='Trend')\n",
    "plt.legend(loc='best')\n",
    "plt.subplot(413)\n",
    "plt.plot(seasonal,label='Seasonality')\n",
    "plt.legend(loc='best')\n",
    "plt.subplot(414)\n",
    "plt.plot(residual, label='Residuals')\n",
    "plt.legend(loc='best')\n",
    "plt.tight_layout()"
   ]
  },
  {
   "cell_type": "markdown",
   "id": "d1958300",
   "metadata": {},
   "source": [
    "With Observations from decomposing we observe,\n",
    "- No seasonal characteristics of Data\n",
    "- Constant residual\n",
    "- wave form - irregular trend"
   ]
  },
  {
   "cell_type": "markdown",
   "id": "618da054",
   "metadata": {},
   "source": [
    "**Check Stationarity**\n",
    "\n",
    "Lets observe stationarity of temperature and emissions data separately"
   ]
  },
  {
   "cell_type": "code",
   "execution_count": 61,
   "id": "4fe00e71",
   "metadata": {},
   "outputs": [
    {
     "data": {
      "text/plain": [
       "ADF Statistic                -0.333217\n",
       "p-value                       0.920666\n",
       "#Lags Used                    6.000000\n",
       "No. of Observations Used    113.000000\n",
       "dtype: float64"
      ]
     },
     "execution_count": 61,
     "metadata": {},
     "output_type": "execute_result"
    }
   ],
   "source": [
    "#Perform ADF test for temperature change\n",
    "test_result = adfuller(df_India['temperature'])\n",
    "df_result = pd.Series(test_result[0:4], index=['ADF Statistic','p-value','#Lags Used','No. of Observations Used'])\n",
    "df_result"
   ]
  },
  {
   "cell_type": "markdown",
   "id": "7050b894",
   "metadata": {},
   "source": [
    "With p-value of 0.92 ( <0.05), we cannot reject that null hypothesis that this data is stationary.\n",
    "\n",
    "There is a presence of unit root in our data"
   ]
  },
  {
   "cell_type": "markdown",
   "id": "331fd59f",
   "metadata": {},
   "source": [
    "## Build Model"
   ]
  },
  {
   "cell_type": "markdown",
   "id": "4d859e4d",
   "metadata": {},
   "source": [
    "we triend many differenct p,d, and q parameters for an ARIMA model on our loggedm data. The below parameters yielded best results"
   ]
  },
  {
   "cell_type": "code",
   "execution_count": 62,
   "id": "19429e89",
   "metadata": {},
   "outputs": [
    {
     "name": "stdout",
     "output_type": "stream",
     "text": [
      "Performing stepwise search to minimize aic\n",
      " ARIMA(2,1,2)(0,0,0)[0] intercept   : AIC=8.677, Time=0.23 sec\n",
      " ARIMA(0,1,0)(0,0,0)[0] intercept   : AIC=55.150, Time=0.04 sec\n",
      " ARIMA(1,1,0)(0,0,0)[0] intercept   : AIC=47.615, Time=0.06 sec\n",
      " ARIMA(0,1,1)(0,0,0)[0] intercept   : AIC=15.309, Time=0.06 sec\n",
      " ARIMA(0,1,0)(0,0,0)[0]             : AIC=53.177, Time=0.02 sec\n",
      " ARIMA(1,1,2)(0,0,0)[0] intercept   : AIC=6.851, Time=0.19 sec\n",
      " ARIMA(0,1,2)(0,0,0)[0] intercept   : AIC=8.852, Time=0.12 sec\n",
      " ARIMA(1,1,1)(0,0,0)[0] intercept   : AIC=12.013, Time=0.11 sec\n",
      " ARIMA(1,1,3)(0,0,0)[0] intercept   : AIC=inf, Time=0.35 sec\n",
      " ARIMA(0,1,3)(0,0,0)[0] intercept   : AIC=12.214, Time=0.21 sec\n",
      " ARIMA(2,1,1)(0,0,0)[0] intercept   : AIC=9.190, Time=0.15 sec\n",
      " ARIMA(2,1,3)(0,0,0)[0] intercept   : AIC=10.695, Time=0.30 sec\n",
      " ARIMA(1,1,2)(0,0,0)[0]             : AIC=9.804, Time=0.06 sec\n",
      "\n",
      "Best model:  ARIMA(1,1,2)(0,0,0)[0] intercept\n",
      "Total fit time: 1.903 seconds\n"
     ]
    },
    {
     "data": {
      "text/plain": [
       "ARIMA(order=(1, 1, 2), scoring_args={}, suppress_warnings=True)"
      ]
     },
     "execution_count": 62,
     "metadata": {},
     "output_type": "execute_result"
    }
   ],
   "source": [
    "#building the auto-arima model to compare our observed ordered\n",
    "from pmdarima.arima import auto_arima\n",
    "model = auto_arima(df_India,\n",
    "                   trace=True,\n",
    "                   error_action='ignore',\n",
    "                   suppress_warnings=True)\n",
    "model.fit(df_India)"
   ]
  },
  {
   "cell_type": "markdown",
   "id": "ddab2881",
   "metadata": {},
   "source": [
    "**Re-Fit Models to Train-Test Split Data**"
   ]
  },
  {
   "cell_type": "code",
   "execution_count": 19,
   "id": "ff5c7432",
   "metadata": {},
   "outputs": [],
   "source": [
    "# Train-test split\n",
    "x = df_India.index\n",
    "y = df_India['temperature']\n",
    "\n",
    "train = df_India.loc[:'1991-01-01']\n",
    "test = df_India.loc['1991-01-01':]\n",
    "\n",
    "x_train, x_test = train.index, test.index\n",
    "y_train, y_test = train['temperature'], test['temperature']"
   ]
  },
  {
   "cell_type": "code",
   "execution_count": 56,
   "id": "2afa7ca8",
   "metadata": {},
   "outputs": [
    {
     "data": {
      "text/html": [
       "<table class=\"simpletable\">\n",
       "<caption>SARIMAX Results</caption>\n",
       "<tr>\n",
       "  <th>Dep. Variable:</th>      <td>temperature</td>   <th>  No. Observations:  </th>   <td>89</td>   \n",
       "</tr>\n",
       "<tr>\n",
       "  <th>Model:</th>            <td>ARIMA(0, 2, 1)</td>  <th>  Log Likelihood     </th> <td>-21.549</td>\n",
       "</tr>\n",
       "<tr>\n",
       "  <th>Date:</th>            <td>Thu, 14 Apr 2022</td> <th>  AIC                </th> <td>47.097</td> \n",
       "</tr>\n",
       "<tr>\n",
       "  <th>Time:</th>                <td>00:10:11</td>     <th>  BIC                </th> <td>52.029</td> \n",
       "</tr>\n",
       "<tr>\n",
       "  <th>Sample:</th>             <td>01-01-1903</td>    <th>  HQIC               </th> <td>49.083</td> \n",
       "</tr>\n",
       "<tr>\n",
       "  <th></th>                   <td>- 01-01-1991</td>   <th>                     </th>    <td> </td>   \n",
       "</tr>\n",
       "<tr>\n",
       "  <th>Covariance Type:</th>        <td>opg</td>       <th>                     </th>    <td> </td>   \n",
       "</tr>\n",
       "</table>\n",
       "<table class=\"simpletable\">\n",
       "<tr>\n",
       "     <td></td>       <th>coef</th>     <th>std err</th>      <th>z</th>      <th>P>|z|</th>  <th>[0.025</th>    <th>0.975]</th>  \n",
       "</tr>\n",
       "<tr>\n",
       "  <th>ma.L1</th>  <td>   -0.9996</td> <td>    9.058</td> <td>   -0.110</td> <td> 0.912</td> <td>  -18.752</td> <td>   16.753</td>\n",
       "</tr>\n",
       "<tr>\n",
       "  <th>sigma2</th> <td>    0.0913</td> <td>    0.827</td> <td>    0.110</td> <td> 0.912</td> <td>   -1.530</td> <td>    1.712</td>\n",
       "</tr>\n",
       "</table>\n",
       "<table class=\"simpletable\">\n",
       "<tr>\n",
       "  <th>Ljung-Box (L1) (Q):</th>     <td>5.57</td> <th>  Jarque-Bera (JB):  </th> <td>1.10</td>\n",
       "</tr>\n",
       "<tr>\n",
       "  <th>Prob(Q):</th>                <td>0.02</td> <th>  Prob(JB):          </th> <td>0.58</td>\n",
       "</tr>\n",
       "<tr>\n",
       "  <th>Heteroskedasticity (H):</th> <td>1.09</td> <th>  Skew:              </th> <td>0.18</td>\n",
       "</tr>\n",
       "<tr>\n",
       "  <th>Prob(H) (two-sided):</th>    <td>0.82</td> <th>  Kurtosis:          </th> <td>2.59</td>\n",
       "</tr>\n",
       "</table><br/><br/>Warnings:<br/>[1] Covariance matrix calculated using the outer product of gradients (complex-step)."
      ],
      "text/plain": [
       "<class 'statsmodels.iolib.summary.Summary'>\n",
       "\"\"\"\n",
       "                               SARIMAX Results                                \n",
       "==============================================================================\n",
       "Dep. Variable:            temperature   No. Observations:                   89\n",
       "Model:                 ARIMA(0, 2, 1)   Log Likelihood                 -21.549\n",
       "Date:                Thu, 14 Apr 2022   AIC                             47.097\n",
       "Time:                        00:10:11   BIC                             52.029\n",
       "Sample:                    01-01-1903   HQIC                            49.083\n",
       "                         - 01-01-1991                                         \n",
       "Covariance Type:                  opg                                         \n",
       "==============================================================================\n",
       "                 coef    std err          z      P>|z|      [0.025      0.975]\n",
       "------------------------------------------------------------------------------\n",
       "ma.L1         -0.9996      9.058     -0.110      0.912     -18.752      16.753\n",
       "sigma2         0.0913      0.827      0.110      0.912      -1.530       1.712\n",
       "===================================================================================\n",
       "Ljung-Box (L1) (Q):                   5.57   Jarque-Bera (JB):                 1.10\n",
       "Prob(Q):                              0.02   Prob(JB):                         0.58\n",
       "Heteroskedasticity (H):               1.09   Skew:                             0.18\n",
       "Prob(H) (two-sided):                  0.82   Kurtosis:                         2.59\n",
       "===================================================================================\n",
       "\n",
       "Warnings:\n",
       "[1] Covariance matrix calculated using the outer product of gradients (complex-step).\n",
       "\"\"\""
      ]
     },
     "execution_count": 56,
     "metadata": {},
     "output_type": "execute_result"
    }
   ],
   "source": [
    "#initiate Model\n",
    "ar_mod = ARIMA (y_train[2:], order=(0,2,1))\n",
    "\n",
    "#Fit Model\n",
    "mod_fit = ar_mod.fit()\n",
    "\n",
    "#Observe summary statistics\n",
    "mod_fit.summary()"
   ]
  },
  {
   "cell_type": "code",
   "execution_count": 57,
   "id": "4f2f2807",
   "metadata": {},
   "outputs": [
    {
     "data": {
      "text/plain": [
       "1991-01-01    24.374712\n",
       "1992-01-01    24.465682\n",
       "1993-01-01    24.471363\n",
       "1994-01-01    24.477045\n",
       "1995-01-01    24.482726\n",
       "1996-01-01    24.488408\n",
       "1997-01-01    24.494090\n",
       "1998-01-01    24.499771\n",
       "1999-01-01    24.505453\n",
       "2000-01-01    24.511135\n",
       "2001-01-01    24.516816\n",
       "2002-01-01    24.522498\n",
       "2003-01-01    24.528179\n",
       "2004-01-01    24.533861\n",
       "2005-01-01    24.539543\n",
       "2006-01-01    24.545224\n",
       "2007-01-01    24.550906\n",
       "2008-01-01    24.556588\n",
       "2009-01-01    24.562269\n",
       "2010-01-01    24.567951\n",
       "2011-01-01    24.573632\n",
       "2012-01-01    24.579314\n",
       "2013-01-01    24.584996\n",
       "2014-01-01    24.590677\n",
       "2015-01-01    24.596359\n",
       "2016-01-01    24.602041\n",
       "2017-01-01    24.607722\n",
       "2018-01-01    24.613404\n",
       "2019-01-01    24.619085\n",
       "2020-01-01    24.624767\n",
       "Freq: AS-JAN, Name: predicted_mean, dtype: float64"
      ]
     },
     "execution_count": 57,
     "metadata": {},
     "output_type": "execute_result"
    }
   ],
   "source": [
    "#Get Predictions\n",
    "pred_ar = mod_fit.predict(start='1991-01-01', end='2020-01-01', dynamic=False)\n",
    "pred_ar"
   ]
  },
  {
   "cell_type": "code",
   "execution_count": 58,
   "id": "ac6c3ca5",
   "metadata": {},
   "outputs": [
    {
     "data": {
      "text/html": [
       "<div>\n",
       "<style scoped>\n",
       "    .dataframe tbody tr th:only-of-type {\n",
       "        vertical-align: middle;\n",
       "    }\n",
       "\n",
       "    .dataframe tbody tr th {\n",
       "        vertical-align: top;\n",
       "    }\n",
       "\n",
       "    .dataframe thead th {\n",
       "        text-align: right;\n",
       "    }\n",
       "</style>\n",
       "<table border=\"1\" class=\"dataframe\">\n",
       "  <thead>\n",
       "    <tr style=\"text-align: right;\">\n",
       "      <th></th>\n",
       "      <th>lower temperature</th>\n",
       "      <th>upper temperature</th>\n",
       "    </tr>\n",
       "  </thead>\n",
       "  <tbody>\n",
       "    <tr>\n",
       "      <th>2011-01-01</th>\n",
       "      <td>21.640179</td>\n",
       "      <td>27.507086</td>\n",
       "    </tr>\n",
       "    <tr>\n",
       "      <th>2012-01-01</th>\n",
       "      <td>21.559527</td>\n",
       "      <td>27.599102</td>\n",
       "    </tr>\n",
       "    <tr>\n",
       "      <th>2013-01-01</th>\n",
       "      <td>21.479990</td>\n",
       "      <td>27.690001</td>\n",
       "    </tr>\n",
       "    <tr>\n",
       "      <th>2014-01-01</th>\n",
       "      <td>21.401481</td>\n",
       "      <td>27.779874</td>\n",
       "    </tr>\n",
       "    <tr>\n",
       "      <th>2015-01-01</th>\n",
       "      <td>21.323919</td>\n",
       "      <td>27.868799</td>\n",
       "    </tr>\n",
       "    <tr>\n",
       "      <th>2016-01-01</th>\n",
       "      <td>21.247234</td>\n",
       "      <td>27.956847</td>\n",
       "    </tr>\n",
       "    <tr>\n",
       "      <th>2017-01-01</th>\n",
       "      <td>21.171363</td>\n",
       "      <td>28.044082</td>\n",
       "    </tr>\n",
       "    <tr>\n",
       "      <th>2018-01-01</th>\n",
       "      <td>21.096249</td>\n",
       "      <td>28.130559</td>\n",
       "    </tr>\n",
       "    <tr>\n",
       "      <th>2019-01-01</th>\n",
       "      <td>21.021841</td>\n",
       "      <td>28.216329</td>\n",
       "    </tr>\n",
       "    <tr>\n",
       "      <th>2020-01-01</th>\n",
       "      <td>20.948094</td>\n",
       "      <td>28.301440</td>\n",
       "    </tr>\n",
       "  </tbody>\n",
       "</table>\n",
       "</div>"
      ],
      "text/plain": [
       "            lower temperature  upper temperature\n",
       "2011-01-01          21.640179          27.507086\n",
       "2012-01-01          21.559527          27.599102\n",
       "2013-01-01          21.479990          27.690001\n",
       "2014-01-01          21.401481          27.779874\n",
       "2015-01-01          21.323919          27.868799\n",
       "2016-01-01          21.247234          27.956847\n",
       "2017-01-01          21.171363          28.044082\n",
       "2018-01-01          21.096249          28.130559\n",
       "2019-01-01          21.021841          28.216329\n",
       "2020-01-01          20.948094          28.301440"
      ]
     },
     "execution_count": 58,
     "metadata": {},
     "output_type": "execute_result"
    }
   ],
   "source": [
    "#Observe Predictions\n",
    "pred_mod = mod_fit.get_prediction(start='1991-01-01', end='2020-01-01', dynamic=False)\n",
    "pred_ci = pred_mod.conf_int()\n",
    "pred_ci.tail(10)"
   ]
  },
  {
   "cell_type": "markdown",
   "id": "ea7eeca6",
   "metadata": {},
   "source": [
    "we observe the real and forecasted values of the co2 emissions time series to assess how well the model fits."
   ]
  },
  {
   "cell_type": "code",
   "execution_count": 59,
   "id": "8686c7b1",
   "metadata": {},
   "outputs": [
    {
     "data": {
      "image/png": "[encoded data removed]",
      "text/plain": [
       "<Figure size 432x288 with 1 Axes>"
      ]
     },
     "metadata": {
      "needs_background": "light"
     },
     "output_type": "display_data"
    }
   ],
   "source": [
    "#observe real vs forecasted emissions values\n",
    "\n",
    "#plot observed values\n",
    "ax = df_India['1901-01-01':].plot(label='observed', color='royalblue', legend=True)\n",
    "\n",
    "#plot predicted values\n",
    "pred_mod.predicted_mean.plot(ax=ax, label='ARIMA', color='orangered', alpha=0.5, legend=True)\n",
    "\n",
    "#add fill between lines, set axes labels and title\n",
    "ax.fill_between(pred_ci.index,\n",
    "               pred_ci.iloc[:, 0],\n",
    "               pred_ci.iloc[:, 1],\n",
    "               color='r', alpha=0.2)\n",
    "\n",
    "ax.set_xlabel('Year', size=15)\n",
    "ax.set_ylabel('Tempearture Change \\n', size=12)\n",
    "ax.set_title('Real vs Predicted Termperature Change \\n', size=15)\n",
    "\n",
    "plt.legend()\n",
    "plt.show()"
   ]
  },
  {
   "cell_type": "code",
   "execution_count": null,
   "id": "c72652a2",
   "metadata": {},
   "outputs": [],
   "source": []
  }
 ],
 "metadata": {
  "kernelspec": {
   "display_name": "Python 3 (ipykernel)",
   "language": "python",
   "name": "python3"
  },
  "language_info": {
   "codemirror_mode": {
    "name": "ipython",
    "version": 3
   },
   "file_extension": ".py",
   "mimetype": "text/x-python",
   "name": "python",
   "nbconvert_exporter": "python",
   "pygments_lexer": "ipython3",
   "version": "3.8.10"
  }
 },
 "nbformat": 4,
 "nbformat_minor": 5
}
